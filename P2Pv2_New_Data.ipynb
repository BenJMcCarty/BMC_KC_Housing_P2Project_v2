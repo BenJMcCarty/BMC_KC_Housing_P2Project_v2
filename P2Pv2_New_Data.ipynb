{
 "cells": [
  {
   "cell_type": "markdown",
   "metadata": {
    "id": "cj2TboyMuoQe"
   },
   "source": [
    "# 📊 Phase 2 Project - DSC 060721 📊 "
   ]
  },
  {
   "cell_type": "markdown",
   "metadata": {},
   "source": [
    "* Student name: Benjamin McCarty\n",
    "* Student pace: full time\n",
    "* Scheduled project review date/time: \n",
    "* Instructor name: David Elliott\n",
    "* Blog post URL:"
   ]
  },
  {
   "cell_type": "markdown",
   "metadata": {
    "toc": true
   },
   "source": [
    "<h1>Table of Contents<span class=\"tocSkip\"></span></h1>\n",
    "<div class=\"toc\"><ul class=\"toc-item\"><li><span><a href=\"#📊-Phase-2-Project---DSC-060721-📊\" data-toc-modified-id=\"📊-Phase-2-Project---DSC-060721-📊-1\"><span class=\"toc-item-num\">1&nbsp;&nbsp;</span>📊 Phase 2 Project - DSC 060721 📊</a></span></li><li><span><a href=\"#🏡-(Re)Selling-Seattle:-Determining-House-Sell-Prices-🏡-\" data-toc-modified-id=\"🏡-(Re)Selling-Seattle:-Determining-House-Sell-Prices-🏡--2\"><span class=\"toc-item-num\">2&nbsp;&nbsp;</span>🏡 <strong>(Re)Selling Seattle: Determining House Sell Prices</strong> 🏡 <a name=\"title\"></a></a></span></li><li><span><a href=\"#❌-BEN---FIX-THIS!-❌\" data-toc-modified-id=\"❌-BEN---FIX-THIS!-❌-3\"><span class=\"toc-item-num\">3&nbsp;&nbsp;</span>❌ BEN - FIX THIS! ❌</a></span></li><li><span><a href=\"#📂-Setting-Up-the-Tools-and-Data\" data-toc-modified-id=\"📂-Setting-Up-the-Tools-and-Data-4\"><span class=\"toc-item-num\">4&nbsp;&nbsp;</span>📂 <strong>Setting Up the Tools and Data</strong></a></span><ul class=\"toc-item\"><li><span><a href=\"#Imports\" data-toc-modified-id=\"Imports-4.1\"><span class=\"toc-item-num\">4.1&nbsp;&nbsp;</span>Imports</a></span></li><li><span><a href=\"#Importing-Personal-Functions\" data-toc-modified-id=\"Importing-Personal-Functions-4.2\"><span class=\"toc-item-num\">4.2&nbsp;&nbsp;</span>Importing Personal Functions</a></span></li><li><span><a href=\"#Reading-Data\" data-toc-modified-id=\"Reading-Data-4.3\"><span class=\"toc-item-num\">4.3&nbsp;&nbsp;</span>Reading Data</a></span></li></ul></li><li><span><a href=\"#🔬-Exploring-Fresh-Data\" data-toc-modified-id=\"🔬-Exploring-Fresh-Data-5\"><span class=\"toc-item-num\">5&nbsp;&nbsp;</span>🔬 <strong>Exploring Fresh Data</strong></a></span><ul class=\"toc-item\"><li><span><a href=\"#Basic-Overviews\" data-toc-modified-id=\"Basic-Overviews-5.1\"><span class=\"toc-item-num\">5.1&nbsp;&nbsp;</span>Basic Overviews</a></span></li><li><span><a href=\"#Data-Cleaning-and-Processing\" data-toc-modified-id=\"Data-Cleaning-and-Processing-5.2\"><span class=\"toc-item-num\">5.2&nbsp;&nbsp;</span>Data Cleaning and Processing</a></span><ul class=\"toc-item\"><li><span><a href=\"#Overview-Summary\" data-toc-modified-id=\"Overview-Summary-5.2.1\"><span class=\"toc-item-num\">5.2.1&nbsp;&nbsp;</span>Overview Summary</a></span></li></ul></li><li><span><a href=\"#Exploring-Features\" data-toc-modified-id=\"Exploring-Features-5.3\"><span class=\"toc-item-num\">5.3&nbsp;&nbsp;</span>Exploring Features<a name=\"features\"></a></a></span></li></ul></li><li><span><a href=\"#🛠-Feature-Engineering\" data-toc-modified-id=\"🛠-Feature-Engineering-6\"><span class=\"toc-item-num\">6&nbsp;&nbsp;</span>🛠 <strong>Feature Engineering</strong></a></span><ul class=\"toc-item\"><li><span><a href=\"#'yrs_old_sold'\" data-toc-modified-id=\"'yrs_old_sold'-6.1\"><span class=\"toc-item-num\">6.1&nbsp;&nbsp;</span><code>'yrs_old_sold'</code></a></span><ul class=\"toc-item\"><li><span><a href=\"#Determine-'year_sold'\" data-toc-modified-id=\"Determine-'year_sold'-6.1.1\"><span class=\"toc-item-num\">6.1.1&nbsp;&nbsp;</span>Determine <code>'year_sold'</code></a></span></li><li><span><a href=\"#Calculate-'y_old_sold'\" data-toc-modified-id=\"Calculate-'y_old_sold'-6.1.2\"><span class=\"toc-item-num\">6.1.2&nbsp;&nbsp;</span>Calculate <code>'y_old_sold'</code></a></span></li></ul></li><li><span><a href=\"#'was_renovated'\" data-toc-modified-id=\"'was_renovated'-6.2\"><span class=\"toc-item-num\">6.2&nbsp;&nbsp;</span><code>'was_renovated'</code></a></span></li><li><span><a href=\"#&quot;yrs_since_reno&quot;\" data-toc-modified-id=\"&quot;yrs_since_reno&quot;-6.3\"><span class=\"toc-item-num\">6.3&nbsp;&nbsp;</span><code>\"yrs_since_reno\"</code></a></span></li><li><span><a href=\"#&quot;has_bsmnt&quot;\" data-toc-modified-id=\"&quot;has_bsmnt&quot;-6.4\"><span class=\"toc-item-num\">6.4&nbsp;&nbsp;</span>\"<code>has_bsmnt</code>\"</a></span></li></ul></li><li><span><a href=\"#🔗-Correlations\" data-toc-modified-id=\"🔗-Correlations-7\"><span class=\"toc-item-num\">7&nbsp;&nbsp;</span>🔗 <strong>Correlations</strong></a></span><ul class=\"toc-item\"><li><span><a href=\"#Determining-Correlations-with-Price\" data-toc-modified-id=\"Determining-Correlations-with-Price-7.1\"><span class=\"toc-item-num\">7.1&nbsp;&nbsp;</span>Determining Correlations with Price</a></span></li><li><span><a href=\"#Determining-Multicollinearity\" data-toc-modified-id=\"Determining-Multicollinearity-7.2\"><span class=\"toc-item-num\">7.2&nbsp;&nbsp;</span>Determining Multicollinearity</a></span></li></ul></li><li><span><a href=\"#🪓-Performing-Train/Test-Split\" data-toc-modified-id=\"🪓-Performing-Train/Test-Split-8\"><span class=\"toc-item-num\">8&nbsp;&nbsp;</span>🪓 <strong>Performing Train/Test Split</strong></a></span></li><li><span><a href=\"#📊-Creating-Baseline-Model\" data-toc-modified-id=\"📊-Creating-Baseline-Model-9\"><span class=\"toc-item-num\">9&nbsp;&nbsp;</span>📊 <strong>Creating Baseline Model</strong></a></span></li><li><span><a href=\"#🚿-Developing-Data-Preprocessor\" data-toc-modified-id=\"🚿-Developing-Data-Preprocessor-10\"><span class=\"toc-item-num\">10&nbsp;&nbsp;</span>🚿 <strong>Developing Data Preprocessor</strong></a></span><ul class=\"toc-item\"><li><span><a href=\"#Preprocessing-Pipeline-via-ColumnTransformer\" data-toc-modified-id=\"Preprocessing-Pipeline-via-ColumnTransformer-10.1\"><span class=\"toc-item-num\">10.1&nbsp;&nbsp;</span>Preprocessing Pipeline via ColumnTransformer</a></span></li></ul></li><li><span><a href=\"#📊-Statsmodels-Non-Formula-OLS-Model\" data-toc-modified-id=\"📊-Statsmodels-Non-Formula-OLS-Model-11\"><span class=\"toc-item-num\">11&nbsp;&nbsp;</span>📊 <strong>Statsmodels Non-Formula OLS Model</strong></a></span><ul class=\"toc-item\"><li><ul class=\"toc-item\"><li><span><a href=\"#Interpretation\" data-toc-modified-id=\"Interpretation-11.0.1\"><span class=\"toc-item-num\">11.0.1&nbsp;&nbsp;</span>Interpretation</a></span></li></ul></li><li><span><a href=\"#Visualizing-zipcode-coefficients\" data-toc-modified-id=\"Visualizing-zipcode-coefficients-11.1\"><span class=\"toc-item-num\">11.1&nbsp;&nbsp;</span>Visualizing zipcode coefficients</a></span></li><li><span><a href=\"#Visualizing-all-parameters-besides-zipcodes\" data-toc-modified-id=\"Visualizing-all-parameters-besides-zipcodes-11.2\"><span class=\"toc-item-num\">11.2&nbsp;&nbsp;</span>Visualizing all parameters besides zipcodes</a></span></li><li><span><a href=\"#Interpretation\" data-toc-modified-id=\"Interpretation-11.3\"><span class=\"toc-item-num\">11.3&nbsp;&nbsp;</span>Interpretation</a></span></li></ul></li><li><span><a href=\"#🚿-Instantiating-Pipeline\" data-toc-modified-id=\"🚿-Instantiating-Pipeline-12\"><span class=\"toc-item-num\">12&nbsp;&nbsp;</span>🚿 <strong>Instantiating Pipeline</strong></a></span><ul class=\"toc-item\"><li><span><a href=\"#Non-Scaled-Pipeline\" data-toc-modified-id=\"Non-Scaled-Pipeline-12.1\"><span class=\"toc-item-num\">12.1&nbsp;&nbsp;</span>Non-Scaled Pipeline</a></span><ul class=\"toc-item\"><li><span><a href=\"#Interpretation\" data-toc-modified-id=\"Interpretation-12.1.1\"><span class=\"toc-item-num\">12.1.1&nbsp;&nbsp;</span>Interpretation</a></span></li><li><span><a href=\"#Verifying-Linear-Regression-Assumptions\" data-toc-modified-id=\"Verifying-Linear-Regression-Assumptions-12.1.2\"><span class=\"toc-item-num\">12.1.2&nbsp;&nbsp;</span>Verifying Linear Regression Assumptions</a></span></li><li><span><a href=\"#Interpretation\" data-toc-modified-id=\"Interpretation-12.1.3\"><span class=\"toc-item-num\">12.1.3&nbsp;&nbsp;</span>Interpretation</a></span></li></ul></li><li><span><a href=\"#💡-Coefficients-for-Recommendations\" data-toc-modified-id=\"💡-Coefficients-for-Recommendations-12.2\"><span class=\"toc-item-num\">12.2&nbsp;&nbsp;</span>💡 Coefficients for Recommendations</a></span></li><li><span><a href=\"#Scaled-Pipeline\" data-toc-modified-id=\"Scaled-Pipeline-12.3\"><span class=\"toc-item-num\">12.3&nbsp;&nbsp;</span>Scaled Pipeline</a></span><ul class=\"toc-item\"><li><span><a href=\"#Verifying-Linear-Regression-Assumptions\" data-toc-modified-id=\"Verifying-Linear-Regression-Assumptions-12.3.1\"><span class=\"toc-item-num\">12.3.1&nbsp;&nbsp;</span>Verifying Linear Regression Assumptions</a></span></li><li><span><a href=\"#Visualizing-Scaled-Results\" data-toc-modified-id=\"Visualizing-Scaled-Results-12.3.2\"><span class=\"toc-item-num\">12.3.2&nbsp;&nbsp;</span>Visualizing Scaled Results</a></span></li></ul></li><li><span><a href=\"#❌-💡-Recommendations-Based-on-Modeling\" data-toc-modified-id=\"❌-💡-Recommendations-Based-on-Modeling-12.4\"><span class=\"toc-item-num\">12.4&nbsp;&nbsp;</span>❌ 💡 Recommendations Based on Modeling</a></span></li></ul></li><li><span><a href=\"#🔮-Creating-Predictions-on-Holdout-Data\" data-toc-modified-id=\"🔮-Creating-Predictions-on-Holdout-Data-13\"><span class=\"toc-item-num\">13&nbsp;&nbsp;</span>🔮 Creating Predictions on Holdout Data</a></span></li><li><span><a href=\"#🛠-Feature-Engineering\" data-toc-modified-id=\"🛠-Feature-Engineering-14\"><span class=\"toc-item-num\">14&nbsp;&nbsp;</span>🛠 <strong>Feature Engineering</strong></a></span><ul class=\"toc-item\"><li><span><a href=\"#'yrs_old_sold'\" data-toc-modified-id=\"'yrs_old_sold'-14.1\"><span class=\"toc-item-num\">14.1&nbsp;&nbsp;</span><code>'yrs_old_sold'</code></a></span><ul class=\"toc-item\"><li><span><a href=\"#Determine-'year_sold'\" data-toc-modified-id=\"Determine-'year_sold'-14.1.1\"><span class=\"toc-item-num\">14.1.1&nbsp;&nbsp;</span>Determine <code>'year_sold'</code></a></span></li><li><span><a href=\"#Calculate-'y_old_sold'\" data-toc-modified-id=\"Calculate-'y_old_sold'-14.1.2\"><span class=\"toc-item-num\">14.1.2&nbsp;&nbsp;</span>Calculate <code>'y_old_sold'</code></a></span></li></ul></li><li><span><a href=\"#'was_renovated'\" data-toc-modified-id=\"'was_renovated'-14.2\"><span class=\"toc-item-num\">14.2&nbsp;&nbsp;</span><code>'was_renovated'</code></a></span></li><li><span><a href=\"#&quot;yrs_since_reno&quot;\" data-toc-modified-id=\"&quot;yrs_since_reno&quot;-14.3\"><span class=\"toc-item-num\">14.3&nbsp;&nbsp;</span><code>\"yrs_since_reno\"</code></a></span></li><li><span><a href=\"#&quot;has_bsmnt&quot;\" data-toc-modified-id=\"&quot;has_bsmnt&quot;-14.4\"><span class=\"toc-item-num\">14.4&nbsp;&nbsp;</span>\"<code>has_bsmnt</code>\"</a></span></li><li><span><a href=\"#Dropping-for-Multicollinearity\" data-toc-modified-id=\"Dropping-for-Multicollinearity-14.5\"><span class=\"toc-item-num\">14.5&nbsp;&nbsp;</span>Dropping for Multicollinearity</a></span></li></ul></li><li><span><a href=\"#🔮-Generating-Predictions\" data-toc-modified-id=\"🔮-Generating-Predictions-15\"><span class=\"toc-item-num\">15&nbsp;&nbsp;</span>🔮 Generating Predictions</a></span></li></ul></div>"
   ]
  },
  {
   "cell_type": "markdown",
   "metadata": {
    "id": "9zh5kWAlsq1k"
   },
   "source": [
    "# 🏡 **(Re)Selling Seattle: Determining House Sell Prices** 🏡 <a name=\"title\"></a>"
   ]
  },
  {
   "cell_type": "markdown",
   "metadata": {
    "id": "76jtLj8Gsq1n"
   },
   "source": [
    "<a name='bizund'></a>\n",
    "\n",
    "**<p style=\"text-align: center;\">If you are considering selling your house, one of the highest priorities is getting the best price for it.</p>**\n",
    "\n",
    "You want to make sure that the hedges are trimmed; that the basement isn't leaking; and that new coat of paint is covering up all of the \"art\" covering the walls from your kids.\n",
    "\n",
    "*But what else can do you?* Would that extra bathroom under the stairs be a worthwhile addition? What about that addition you always talked about building?\n",
    "\n",
    "---\n",
    "**<p style=\"text-align: center;\">When you are exploring the option of selling, you may ask such questions as:</p>**\n",
    "\n",
    ">* How do the different aspects of your house impact the price?\n",
    ">\n",
    ">\n",
    ">* What can you do to improve the house's value?\n",
    "\n",
    "\n",
    "---\n",
    "You may have some ideas already (and if you don't, watch a few episodes of \"This Old House\" and you will have *plenty* of inspiration).\n",
    "\n",
    "But how do you *really* know what features are best? How can you be sure that your intuition or expectations are based on fact and not assumptions? **Turn to the data for answers!**\n",
    "\n",
    "---\n",
    "**<p style=\"text-align: center;\">Revisiting King County</p>**\n",
    "\n",
    "My [prior exploration](https://github.com/BenJMcCarty/Phase_2_Project_Final) of the King County House Sales dataset yielded some recommendations, but I wanted to see if I can improve them. I am revisiting the data with new techniques and approaches to see how much I can improve the results.\n",
    "\n",
    "---"
   ]
  },
  {
   "cell_type": "markdown",
   "metadata": {},
   "source": [
    "# ❌ BEN - FIX THIS! ❌"
   ]
  },
  {
   "cell_type": "markdown",
   "metadata": {
    "id": "76jtLj8Gsq1n"
   },
   "source": [
    "**WHAT QUESTIONS ARE IMPORTANT FROM THE BUSINESS PERSPECTIVE? WHAT QUESTIONS DID I USE TO GUIDE MY EXPLORATION?** \n",
    "\n",
    "My project used data from house sales in King County, WA. to determine some of the top features determining the sell price of a home.\n",
    "\n",
    "* **First, I explored the data using the Pandas package to review the data itself.** I reviewed the different features included in my dataset and their respective values; the descriptive statistics for the numerical data; and the overall size and shape of the data (how many rows and columns).\n",
    "\n",
    "* **Then, I used Seaborn to plot the data and a fitted linear regression model for each feature against the sell price.** These visualizations helped differentiate which features to treat as *categorical* variables (e.g. features that would be one of a select number of options) versus *continuous* variables (which would have less of a rigid range of values).\n",
    "\n",
    "* **In order to give more depth to my data, I engineered four new features based on the original features and data.** I determined the age of each house at sale; whether or not a home was renovated; how many years since a renovation; and whether or not a house had a basement.\n",
    "\n",
    "* **I wanted to make sure all of the features and their data were relevant to apply to my future model.** I performed correlational comparisons to determine which features were too closely related (indicating multicollinearity), which would affect my modeling process later on.\n",
    "\n",
    "* **To test my assumptions that certain features would have a statistically significant impact on the price, I performed a few statistical tests.** I performed an ANOVA test on our \"condition\" feature (comparing each ranking of condition against the others) and I ran a two-sample t-test on the \"waterfront\" and \"was_renovated\" features as well.\n",
    "\n",
    "* **LReg for Inferences**"
   ]
  },
  {
   "cell_type": "markdown",
   "metadata": {
    "id": "AQQLR7ANsq1o"
   },
   "source": [
    "# 📂 **Setting Up the Tools and Data**"
   ]
  },
  {
   "cell_type": "markdown",
   "metadata": {
    "id": "bl8Y9RaXsq1o"
   },
   "source": [
    "## Imports"
   ]
  },
  {
   "cell_type": "code",
   "execution_count": null,
   "metadata": {
    "ExecuteTime": {
     "end_time": "2021-07-16T02:58:20.053782Z",
     "start_time": "2021-07-16T02:58:19.940782Z"
    },
    "id": "fwxtrzBMsq1p"
   },
   "outputs": [],
   "source": [
    "# Data Handling\n",
    "import pandas as pd\n",
    "import numpy as np\n",
    "from scipy import stats\n",
    "\n",
    "# Visualizations\n",
    "import matplotlib.pyplot as plt\n",
    "import seaborn as sns\n",
    "import matplotlib as mpl\n",
    "\n",
    "# Modeling - Statsmodels\n",
    "import statsmodels.api as sms\n",
    "\n",
    "# Modeling - SKLearn\n",
    "from sklearn import metrics\n",
    "from sklearn.linear_model import LinearRegression\n",
    "from sklearn.metrics import mean_squared_error\n",
    "from sklearn.preprocessing import StandardScaler, OneHotEncoder, FunctionTransformer\n",
    "from sklearn.model_selection import train_test_split, cross_validate\n",
    "from sklearn.impute import SimpleImputer\n",
    "from sklearn.compose import ColumnTransformer\n",
    "from sklearn.pipeline import Pipeline\n",
    "from sklearn.dummy import DummyRegressor\n",
    "from sklearn import set_config\n",
    "\n",
    "# Settings\n",
    "%matplotlib inline\n",
    "plt.style.use('seaborn-talk')\n",
    "pd.set_option('display.max_columns', None)\n",
    "pd.set_option('display.float_format', lambda x: f'{x:,.2f}')\n",
    "set_config(display='diagram')"
   ]
  },
  {
   "cell_type": "markdown",
   "metadata": {},
   "source": [
    "## Importing Personal Functions"
   ]
  },
  {
   "cell_type": "markdown",
   "metadata": {},
   "source": [
    "I created several functions specific to this project and saved them in an external file. The file is available from the main directory."
   ]
  },
  {
   "cell_type": "code",
   "execution_count": null,
   "metadata": {
    "ExecuteTime": {
     "end_time": "2021-07-16T02:58:20.178797Z",
     "start_time": "2021-07-16T02:58:20.055781Z"
    }
   },
   "outputs": [],
   "source": [
    "%load_ext autoreload\n",
    "%autoreload 2\n",
    "\n",
    "from p2pr_functions.functions import *\n",
    "import p2pr_functions.functions as pf"
   ]
  },
  {
   "cell_type": "code",
   "execution_count": null,
   "metadata": {
    "ExecuteTime": {
     "end_time": "2021-07-16T02:58:20.286814Z",
     "start_time": "2021-07-16T02:58:20.181796Z"
    },
    "scrolled": false
   },
   "outputs": [],
   "source": [
    "## Uncomment cell to review contents of module\n",
    "# help(pf)"
   ]
  },
  {
   "cell_type": "markdown",
   "metadata": {
    "id": "z6WjRioGsq12"
   },
   "source": [
    "## Reading Data"
   ]
  },
  {
   "cell_type": "code",
   "execution_count": null,
   "metadata": {
    "ExecuteTime": {
     "end_time": "2021-07-16T02:58:20.443785Z",
     "start_time": "2021-07-16T02:58:20.289785Z"
    },
    "id": "O0NN2C4ysq12"
   },
   "outputs": [],
   "source": [
    "## Reading in data as DataFrame\n",
    "xtrain = 'bakeoff_data/Xtrain.csv'\n",
    "ytrain = 'bakeoff_data/ytrain.csv'\n",
    "\n",
    "df_xtrain = pd.read_csv(xtrain)\n",
    "df_ytrain = pd.read_csv(ytrain)"
   ]
  },
  {
   "cell_type": "markdown",
   "metadata": {
    "id": "Nd8bcFoVsq12"
   },
   "source": [
    "# 🔬 **Exploring Fresh Data**"
   ]
  },
  {
   "cell_type": "markdown",
   "metadata": {
    "id": "ABcBsWZusq12"
   },
   "source": [
    "## Basic Overviews"
   ]
  },
  {
   "cell_type": "markdown",
   "metadata": {
    "id": "KViKvrsBsq12"
   },
   "source": [
    "The goal for this section is to get a broad idea of the data before I start any cleaning or feature engineering."
   ]
  },
  {
   "cell_type": "code",
   "execution_count": null,
   "metadata": {
    "ExecuteTime": {
     "end_time": "2021-07-16T02:58:20.583782Z",
     "start_time": "2021-07-16T02:58:20.445783Z"
    }
   },
   "outputs": [],
   "source": [
    "df_xtrain"
   ]
  },
  {
   "cell_type": "code",
   "execution_count": null,
   "metadata": {
    "ExecuteTime": {
     "end_time": "2021-07-16T02:58:20.708784Z",
     "start_time": "2021-07-16T02:58:20.585781Z"
    },
    "scrolled": false
   },
   "outputs": [],
   "source": [
    "df_ytrain"
   ]
  },
  {
   "cell_type": "code",
   "execution_count": null,
   "metadata": {
    "ExecuteTime": {
     "end_time": "2021-07-16T02:58:20.847782Z",
     "start_time": "2021-07-16T02:58:20.710783Z"
    }
   },
   "outputs": [],
   "source": [
    "df = pd.concat([df_xtrain, df_ytrain], axis=1)"
   ]
  },
  {
   "cell_type": "code",
   "execution_count": null,
   "metadata": {
    "ExecuteTime": {
     "end_time": "2021-07-16T02:58:20.988781Z",
     "start_time": "2021-07-16T02:58:20.850783Z"
    }
   },
   "outputs": [],
   "source": [
    "df"
   ]
  },
  {
   "cell_type": "code",
   "execution_count": null,
   "metadata": {
    "ExecuteTime": {
     "end_time": "2021-07-16T02:58:21.177815Z",
     "start_time": "2021-07-16T02:58:20.990783Z"
    },
    "colab": {
     "background_save": true
    },
    "id": "9KY_8DSasq13",
    "outputId": "c14f735d-e743-4955-f104-ae82bd334268",
    "scrolled": false
   },
   "outputs": [],
   "source": [
    "## Review summary of dataframe details\n",
    "report_df(df)"
   ]
  },
  {
   "cell_type": "markdown",
   "metadata": {
    "id": "wOmmqD7koDQi"
   },
   "source": [
    "## Data Cleaning and Processing"
   ]
  },
  {
   "cell_type": "code",
   "execution_count": null,
   "metadata": {
    "ExecuteTime": {
     "end_time": "2021-07-16T02:58:21.331782Z",
     "start_time": "2021-07-16T02:58:21.180785Z"
    },
    "colab": {
     "base_uri": "https://localhost:8080/"
    },
    "id": "NK_VFrBh6-Q1",
    "outputId": "5cfa8293-6e19-435c-ddf8-84aa3ca622d7"
   },
   "outputs": [],
   "source": [
    "## Converting 'date' column to datetime\n",
    "\n",
    "df['date'] = pd.to_datetime(df['date'])\n",
    "df['date']"
   ]
  },
  {
   "cell_type": "code",
   "execution_count": null,
   "metadata": {
    "ExecuteTime": {
     "end_time": "2021-07-16T02:58:21.456812Z",
     "start_time": "2021-07-16T02:58:21.334782Z"
    },
    "colab": {
     "base_uri": "https://localhost:8080/"
    },
    "id": "dBgOkFsVChMH",
    "outputId": "966e713c-4e28-44ee-bbab-129181812a3d"
   },
   "outputs": [],
   "source": [
    "## Converting 'sqft_basement' to numeric and filling any null values with zero\n",
    "\n",
    "df['sqft_basement'] = pd.to_numeric(df['sqft_basement'], errors='coerce')\n",
    "df['sqft_basement']"
   ]
  },
  {
   "cell_type": "code",
   "execution_count": null,
   "metadata": {
    "ExecuteTime": {
     "end_time": "2021-07-16T02:58:21.581782Z",
     "start_time": "2021-07-16T02:58:21.458783Z"
    },
    "scrolled": false
   },
   "outputs": [],
   "source": [
    "df.isna().sum()"
   ]
  },
  {
   "cell_type": "code",
   "execution_count": null,
   "metadata": {
    "ExecuteTime": {
     "end_time": "2021-07-16T02:58:21.707781Z",
     "start_time": "2021-07-16T02:58:21.583783Z"
    },
    "colab": {
     "base_uri": "https://localhost:8080/"
    },
    "id": "nRe-PxjkAlUj",
    "outputId": "436d4e4e-f2b3-44db-a970-0d9b9fd2a986"
   },
   "outputs": [],
   "source": [
    "##Filling null values with the most frequent value\n",
    "\n",
    "for col in df:\n",
    "    if df[col].isna().sum() > 0:\n",
    "        df[col].fillna(0, inplace=True)"
   ]
  },
  {
   "cell_type": "code",
   "execution_count": null,
   "metadata": {
    "ExecuteTime": {
     "end_time": "2021-07-16T02:58:21.894781Z",
     "start_time": "2021-07-16T02:58:21.708782Z"
    },
    "colab": {
     "base_uri": "https://localhost:8080/"
    },
    "id": "Alb_l0T3Bhha",
    "outputId": "39f6a342-034b-4756-835a-bb262c119940"
   },
   "outputs": [],
   "source": [
    "## Reviewing dataframe post-fill\n",
    "\n",
    "report_df(df)"
   ]
  },
  {
   "cell_type": "markdown",
   "metadata": {
    "id": "jxVD4Vyosq14"
   },
   "source": [
    "### Overview Summary"
   ]
  },
  {
   "cell_type": "markdown",
   "metadata": {
    "id": "xFgxYi-Ysq14"
   },
   "source": [
    "The dataset contains 20 columns of data, most of which seem useful for evaluations and modeling.\n",
    "\n",
    "I manually fixed null values at this stage - I will start the pipeline later on.\n",
    "\n",
    "After processing, I do not have any null values and all of the datatypes are correct (I can convert some columns into the \"category\" datatype for analysis later, if needed)."
   ]
  },
  {
   "cell_type": "markdown",
   "metadata": {
    "id": "yr_BhpeHsq14"
   },
   "source": [
    "## Exploring Features<a name='features'></a>"
   ]
  },
  {
   "cell_type": "markdown",
   "metadata": {
    "id": "LMn26MgRsq14"
   },
   "source": [
    "Now I will be comparing each individual feature against \"price\" to determine if a feature is continuous or categorical.\n",
    "\n",
    "I will check the regressions and histograms for each feature; if a regression plot shows a flatter regression line or if the histogram is not a normal distribution, I will treat that feature as a categorical feature.\n",
    "\n",
    "As part of the function to create the plots, I include my function to ignore any outliers for the purpose of the visualizations. I will *not* change the data itself, though.\n",
    "\n",
    "***Tip:*** *Links are included below for quick navigation to the different features.*"
   ]
  },
  {
   "cell_type": "markdown",
   "metadata": {},
   "source": [
    "<a name='features'></a>\n",
    "\n",
    "| Feature Names | Feature Names  |\n",
    "| ------------ | ------------- |\n",
    "| [Bedrooms](#bedrooms)     | [Sqft_above](#above)    |\n",
    "| [Bathrooms](#bathrooms)    | [Sqft_basement](#base) |\n",
    "| [Sqft_living](#living)  | [Yr_built](#built)      |\n",
    "| [Sqft_lot](#lot)     | [Yr_renovated](#reno)  |\n",
    "| [Floors](#floors)       | [Zipcode](#zip)       |\n",
    "| [Waterfront](#wf)   | [Lat](#lat)           |\n",
    "| [View](#view)         | [Long](#long)          |\n",
    "| [Condition](#cond)    | [Sqft_living15](#living15)    |\n",
    "| [Grade](#grade)        | [Sqft_lot15](#lot15)    |"
   ]
  },
  {
   "cell_type": "markdown",
   "metadata": {
    "id": "esH0MiIUsq14"
   },
   "source": [
    "**Bedrooms** <a name=\"bedrooms\"></a> [🔝](#features)"
   ]
  },
  {
   "cell_type": "code",
   "execution_count": null,
   "metadata": {
    "ExecuteTime": {
     "end_time": "2021-07-16T02:58:39.160376Z",
     "start_time": "2021-07-16T02:58:37.329378Z"
    },
    "id": "71XLgj2isq15",
    "outputId": "935aaf0c-4523-4be1-e154-f9af9653bf40"
   },
   "outputs": [],
   "source": [
    "show_cleaned_vis(data=df,x='bedrooms', categorical=True, kde = False)"
   ]
  },
  {
   "cell_type": "markdown",
   "metadata": {
    "id": "EIKLDVvVsq15"
   },
   "source": [
    "***\n",
    "**Observations**\n",
    ">* There is a slight linear regression between the number of bedrooms and the sell price, indicated by the positive slope of the regression line.\n",
    ">\n",
    ">\n",
    ">* The histogram slightly resembles a normal distribution, although the first and last bins are lower than I would expect for a normal distribution.\n",
    "\n",
    "***\n",
    "**TO-DO**\n",
    ">* Use `'bedrooms'` as a categorical variable.\n",
    "***"
   ]
  },
  {
   "cell_type": "markdown",
   "metadata": {
    "id": "2PoQcwoMsq15"
   },
   "source": [
    "**Bathrooms** <a name=\"bathrooms\"></a> [🔝](#features)"
   ]
  },
  {
   "cell_type": "code",
   "execution_count": null,
   "metadata": {
    "ExecuteTime": {
     "end_time": "2021-07-16T02:58:42.281376Z",
     "start_time": "2021-07-16T02:58:40.363376Z"
    },
    "id": "uTpdKmEQsq15",
    "outputId": "929c2b48-248b-4065-9153-364279aa73ac",
    "scrolled": false
   },
   "outputs": [],
   "source": [
    "show_cleaned_vis(df,\"bathrooms\", categorical=True, kde=False)"
   ]
  },
  {
   "cell_type": "markdown",
   "metadata": {
    "id": "JqSGJlJXsq15"
   },
   "source": [
    "***\n",
    "**Observations**\n",
    ">* There is a clear linear relationship between bathrooms and price.\n",
    ">\n",
    ">\n",
    ">* The histogram/normal distribution isn't the strongest, particularly for the larger number of bathrooms.\n",
    "\n",
    "***\n",
    "**TO-DO**\n",
    ">\n",
    ">* Similar to bedrooms, the values for number of bathrooms are discrete and fall into specific values. This indicates that the feature is categorical.\n",
    "*** "
   ]
  },
  {
   "cell_type": "markdown",
   "metadata": {
    "id": "yhXyxOvesq15"
   },
   "source": [
    "**Sqft_living** <a name=\"living\"></a> [🔝](#features)"
   ]
  },
  {
   "cell_type": "code",
   "execution_count": null,
   "metadata": {
    "ExecuteTime": {
     "end_time": "2021-07-16T02:58:44.386379Z",
     "start_time": "2021-07-16T02:58:42.284378Z"
    },
    "id": "_2Cv_c8gsq16",
    "outputId": "ae5b0f3d-632a-46de-c90d-9bafc61a53e9"
   },
   "outputs": [],
   "source": [
    "show_cleaned_vis(df,\"sqft_living\")"
   ]
  },
  {
   "cell_type": "markdown",
   "metadata": {
    "id": "rCamjs1Csq17"
   },
   "source": [
    "***\n",
    "**Observations**\n",
    "\n",
    ">* There is a clear linear relationship, although the distribution is slightly skewed to the right, indicating it's not a perfect normal distribution.\n",
    ">\n",
    ">\n",
    ">* As the values are spread across the whole range, this feature is clearly a continuous variable.\n",
    "\n",
    "***\n",
    "\n",
    "**To-Do**\n",
    "\n",
    ">* Use as continuous variable\n",
    "***\n"
   ]
  },
  {
   "cell_type": "markdown",
   "metadata": {
    "id": "zSq414W9sq17"
   },
   "source": [
    "**Sqft_lot** <a name=\"lot\"></a>"
   ]
  },
  {
   "cell_type": "code",
   "execution_count": null,
   "metadata": {
    "ExecuteTime": {
     "end_time": "2021-07-16T02:58:46.066382Z",
     "start_time": "2021-07-16T02:58:44.389383Z"
    },
    "id": "mt-YYo6Gsq17",
    "outputId": "c1ebdfcd-0cb6-452b-f3f2-3741dc4883d0"
   },
   "outputs": [],
   "source": [
    "show_cleaned_vis(df,\"sqft_lot\")"
   ]
  },
  {
   "cell_type": "markdown",
   "metadata": {
    "id": "Ckn113g_sq17"
   },
   "source": [
    "***\n",
    "**Observations**\n",
    "\n",
    ">* Weak linear relationship with price; distribution skewed right.\n",
    "***\n",
    "\n",
    "**To-Do**\n",
    "\n",
    ">* Treat as continuous variable as the values are spread out across the whole range.\n",
    "\n",
    "***"
   ]
  },
  {
   "cell_type": "markdown",
   "metadata": {
    "id": "KJN32UMQsq18"
   },
   "source": [
    "**Floors** <a name=\"floors\"></a> [🔝](#features)"
   ]
  },
  {
   "cell_type": "code",
   "execution_count": null,
   "metadata": {
    "ExecuteTime": {
     "end_time": "2021-07-16T02:58:47.812383Z",
     "start_time": "2021-07-16T02:58:46.069381Z"
    },
    "id": "SX_3n2SHsq18",
    "outputId": "016730e9-f040-44df-b385-27583b677b6b"
   },
   "outputs": [],
   "source": [
    "show_cleaned_vis(df,\"floors\", kde=False)"
   ]
  },
  {
   "cell_type": "markdown",
   "metadata": {
    "id": "1uS1Lb5tsq18"
   },
   "source": [
    "***\n",
    "**Observations**\n",
    "\n",
    ">* Linear relationship, but clearly categorical as the values fall into specific categories ranging from 1-3.5\n",
    ">\n",
    ">* Most homes had one or two floors.\n",
    "\n",
    "***\n",
    "**To-Do**\n",
    "\n",
    ">* Treat as categorical variable.\n",
    " \n",
    "***"
   ]
  },
  {
   "cell_type": "markdown",
   "metadata": {
    "id": "uKYMc5wOsq19"
   },
   "source": [
    "**Waterfront** <a name=\"wf\"></a> [🔝](#features)"
   ]
  },
  {
   "cell_type": "code",
   "execution_count": null,
   "metadata": {
    "ExecuteTime": {
     "end_time": "2021-07-16T02:58:49.476412Z",
     "start_time": "2021-07-16T02:58:47.814383Z"
    },
    "id": "YcdNRh3Csq19",
    "outputId": "58a2e2e3-e332-4e6c-b49e-39ccedd63c4e",
    "scrolled": false
   },
   "outputs": [],
   "source": [
    "feature_vis(df,\"waterfront\", categorical=True, kde=False)"
   ]
  },
  {
   "cell_type": "markdown",
   "metadata": {
    "id": "WEdL6h4nsq19"
   },
   "source": [
    "***\n",
    "**Observations**\n",
    "\n",
    ">* Graphs are misleading - clearly binary variable with a slight linear relationship.\n",
    ">\n",
    ">\n",
    ">* Most properties are non-waterfront.\n",
    ">\n",
    ">\n",
    ">* Clear linear relationship, but not normally distributed\n",
    "\n",
    "***\n",
    "**To-Do**\n",
    "\n",
    ">* Treat as categorical - only two options (0 or 1).\n",
    " \n",
    "***"
   ]
  },
  {
   "cell_type": "markdown",
   "metadata": {
    "id": "qCVzAq8esq19"
   },
   "source": [
    "**View** <a name=\"view\"></a> [🔝](#features)"
   ]
  },
  {
   "cell_type": "code",
   "execution_count": null,
   "metadata": {
    "ExecuteTime": {
     "end_time": "2021-07-16T02:58:51.186383Z",
     "start_time": "2021-07-16T02:58:49.479385Z"
    },
    "id": "8iQdM8agsq19",
    "outputId": "ca94d504-1046-4a59-ce71-90fded2be326",
    "scrolled": false
   },
   "outputs": [],
   "source": [
    "feature_vis(df,\"view\", categorical=True, kde=False)"
   ]
  },
  {
   "cell_type": "markdown",
   "metadata": {
    "id": "Dz1VgSkvsq1-"
   },
   "source": [
    "***\n",
    "**Observations**\n",
    "\n",
    ">* Slight linear relationship - higher \"view\" rating, higher price\n",
    ">\n",
    ">\n",
    ">* Most homes have '0' view\n",
    ">\n",
    ">\n",
    ">* A few extreme outliers in pricing (for values 2, 3, and 4s)\n",
    "\n",
    "***\n",
    "**To-Do**\n",
    "\n",
    ">* Treat as categorical\n",
    " \n",
    "***"
   ]
  },
  {
   "cell_type": "markdown",
   "metadata": {
    "id": "OFK6Oe3Nsq1-"
   },
   "source": [
    "**Condition** <a name=\"cond\"></a> [🔝](#features)"
   ]
  },
  {
   "cell_type": "code",
   "execution_count": null,
   "metadata": {
    "ExecuteTime": {
     "end_time": "2021-07-16T02:58:52.795386Z",
     "start_time": "2021-07-16T02:58:51.188385Z"
    },
    "id": "MfMn5q0esq1-",
    "outputId": "4f558c05-ac1f-4ee1-eaa9-739d6242757a",
    "scrolled": false
   },
   "outputs": [],
   "source": [
    "show_cleaned_vis(df,\"condition\", categorical=True, kde= False)"
   ]
  },
  {
   "cell_type": "markdown",
   "metadata": {
    "id": "qgI1_0Umsq1-"
   },
   "source": [
    "***\n",
    "**Observations**\n",
    "\n",
    ">* Largest number of homes sold were in condition 3, followed by condition 4.\n",
    ">\n",
    ">\n",
    ">* Very few homes sold with conditions of 1s or 2s.\n",
    ">\n",
    ">\n",
    ">* Price outliers in 4.0 area, some slight outliers in 2 and 3\n",
    ">\n",
    ">\n",
    ">* No linear relationship, not normal distribution.\n",
    "\n",
    "***\n",
    "**TO-DO**\n",
    "\n",
    ">* Treat as categorical\n",
    " \n",
    "***"
   ]
  },
  {
   "cell_type": "markdown",
   "metadata": {
    "id": "ShUVl0iisq1_"
   },
   "source": [
    "**Grade** <a name=\"grade\"></a> [🔝](#features)"
   ]
  },
  {
   "cell_type": "code",
   "execution_count": null,
   "metadata": {
    "ExecuteTime": {
     "end_time": "2021-07-16T02:58:54.477386Z",
     "start_time": "2021-07-16T02:58:52.799389Z"
    },
    "id": "RfuwzUUfsq1_",
    "outputId": "e71c43ff-9fc2-4dad-9ae3-ccd7e3c4ad34",
    "scrolled": false
   },
   "outputs": [],
   "source": [
    "show_cleaned_vis(df,\"grade\", kde=False)"
   ]
  },
  {
   "cell_type": "markdown",
   "metadata": {
    "id": "LA6v2PInsq1_"
   },
   "source": [
    "**Observations**\n",
    "\n",
    ">* Clear linear trend - as grade increases, so does price\n",
    ">\n",
    ">\n",
    ">* Grades range from 6-9\n",
    ">\n",
    ">\n",
    ">* Price outliers for grades 7 and 8\n",
    "\n",
    "---\n",
    "**To-Do**\n",
    "\n",
    ">* Treat as categorical variable\n"
   ]
  },
  {
   "cell_type": "markdown",
   "metadata": {
    "id": "RR77jhqZsq2A"
   },
   "source": [
    "**Sqft_above** <a name=\"above\"></a> [🔝](#features)"
   ]
  },
  {
   "cell_type": "code",
   "execution_count": null,
   "metadata": {
    "ExecuteTime": {
     "end_time": "2021-07-16T02:58:56.048427Z",
     "start_time": "2021-07-16T02:58:54.479384Z"
    },
    "id": "DHsYgwg8sq2A",
    "outputId": "795cfa4e-6c86-44a2-e12e-24b373d1d9de",
    "scrolled": false
   },
   "outputs": [],
   "source": [
    "show_cleaned_vis(df,\"sqft_above\")"
   ]
  },
  {
   "cell_type": "markdown",
   "metadata": {
    "id": "Ceio_9Hxsq2A"
   },
   "source": [
    "---\n",
    "\n",
    "**Observations**\n",
    "\n",
    ">* Outliers impacting accuracy of linear regression, but still seems relatively linear.\n",
    ">\n",
    ">\n",
    ">* Distribution skewed right, but otherwise normal\n",
    "---\n",
    "**TO-DO**\n",
    "\n",
    ">* Treat as continuous\n",
    "---"
   ]
  },
  {
   "cell_type": "markdown",
   "metadata": {
    "id": "mV_Ai-awsq2B"
   },
   "source": [
    "**Sqft_basement** <a name=\"base\"></a>[🔝](#features)"
   ]
  },
  {
   "cell_type": "code",
   "execution_count": null,
   "metadata": {
    "ExecuteTime": {
     "end_time": "2021-07-16T02:58:57.262385Z",
     "start_time": "2021-07-16T02:58:56.050389Z"
    },
    "id": "AdhxJs8Dsq2B",
    "outputId": "65dc3e4a-deec-46e9-e0f8-63d9a5eb2a0b",
    "scrolled": false
   },
   "outputs": [],
   "source": [
    "show_cleaned_vis(df,\"sqft_basement\")"
   ]
  },
  {
   "cell_type": "markdown",
   "metadata": {
    "id": "RtQWfKTNsq2B"
   },
   "source": [
    "---\n",
    "**Observations**\n",
    "\n",
    ">* There is a very large number of 0 ft$^2$ basements, indicating that these homes do not have a basement\n",
    ">\n",
    ">\n",
    ">* There are scattered outliers in pricing\n",
    ">\n",
    ">\n",
    ">* The regression is poor due to the large number of 0 values\n",
    "\n",
    "---\n",
    "**To-Do**\n",
    "\n",
    ">* Treat as a continuous variable\n",
    ">\n",
    ">\n",
    ">* Can create new categorical, binary variable to indicate whether or not a house has a basement to measure the impact on price.\n",
    "---"
   ]
  },
  {
   "cell_type": "markdown",
   "metadata": {
    "id": "9rFbdTozsq2B"
   },
   "source": [
    "**Yr_built** <a name=\"built\"></a> [🔝](#features)"
   ]
  },
  {
   "cell_type": "code",
   "execution_count": null,
   "metadata": {
    "ExecuteTime": {
     "end_time": "2021-07-16T02:58:58.475387Z",
     "start_time": "2021-07-16T02:58:57.264397Z"
    },
    "id": "gM1k8hcKsq2C",
    "outputId": "8760fecc-dc75-4bf1-ff0c-33232173dbd7",
    "scrolled": false
   },
   "outputs": [],
   "source": [
    "show_cleaned_vis(df,\"yr_built\")"
   ]
  },
  {
   "cell_type": "markdown",
   "metadata": {
    "id": "2dMEm9GJsq2C"
   },
   "source": [
    "---\n",
    "**Observations**\n",
    "\n",
    ">* No linear trend from this regression plot\n",
    ">\n",
    ">* Seems like may houses built between 1940 - 1970, then major boom in early 2000s.\n",
    ">\n",
    ">* Some significant outliers in price, but not enough to  impact the regression\n",
    "---\n",
    "\n",
    "**To-Do**\n",
    "\n",
    ">* Compare year built to year sold - how old was the house at sale?\n",
    ">\n",
    ">\n",
    ">* Potentially discretize for analysis.\n",
    "---"
   ]
  },
  {
   "cell_type": "markdown",
   "metadata": {
    "id": "ZSfdRI4Fsq2C"
   },
   "source": [
    "**Yr_renovated** <a name=\"reno\"></a> [🔝](#features)"
   ]
  },
  {
   "cell_type": "code",
   "execution_count": null,
   "metadata": {
    "ExecuteTime": {
     "end_time": "2021-07-16T02:58:59.612389Z",
     "start_time": "2021-07-16T02:58:58.477386Z"
    },
    "id": "bzlSV8vTsq2C",
    "outputId": "45c0cf96-4296-45e9-a3ac-3764ec924fd3",
    "scrolled": false
   },
   "outputs": [],
   "source": [
    "feature_vis(df,'yr_renovated', kde=False)"
   ]
  },
  {
   "cell_type": "markdown",
   "metadata": {
    "id": "1oGuuSiZsq2C"
   },
   "source": [
    "---\n",
    "**Observations**\n",
    "\n",
    ">* Number of houses not renovated significantly outweighs the number renovated\n",
    ">\n",
    ">\n",
    ">* Graphs indicate that an engineered feature for whether or not the house was renovated would be worthwhile.\n",
    "\n",
    "---\n",
    "**To-Do**\n",
    "\n",
    ">* Create new categorical feature - renovated or not\n",
    "---"
   ]
  },
  {
   "cell_type": "markdown",
   "metadata": {
    "id": "x8HlMm5zsq2C"
   },
   "source": [
    "**Zipcode** <a name=\"zip\"></a> [🔝](#features)"
   ]
  },
  {
   "cell_type": "code",
   "execution_count": null,
   "metadata": {
    "ExecuteTime": {
     "end_time": "2021-07-16T02:59:01.206425Z",
     "start_time": "2021-07-16T02:58:59.615389Z"
    },
    "id": "QE6O2kLnsq2C",
    "outputId": "3ec0d472-458f-445e-a323-333a62154e85",
    "scrolled": false
   },
   "outputs": [],
   "source": [
    "show_cleaned_vis(df,\"zipcode\", categorical=True, kde=False)"
   ]
  },
  {
   "cell_type": "markdown",
   "metadata": {
    "id": "6-P7OXcasq2D"
   },
   "source": [
    "---\n",
    "**Observations**\n",
    "\n",
    ">* No linear relationship; not normally distributed\n",
    "---\n",
    "**TO-DO**\n",
    "\n",
    ">* Treat as categorical variable\n",
    ">\n",
    ">* Perform OneHotEncoding to create new features for modeling.\n",
    "---"
   ]
  },
  {
   "cell_type": "markdown",
   "metadata": {
    "id": "wpeCeCCasq2D"
   },
   "source": [
    "**Lat** <a name=\"lat\"></a> [🔝](#features)"
   ]
  },
  {
   "cell_type": "code",
   "execution_count": null,
   "metadata": {
    "ExecuteTime": {
     "end_time": "2021-07-16T02:59:02.416389Z",
     "start_time": "2021-07-16T02:59:01.208388Z"
    },
    "id": "Kc4AN0Rrsq2D",
    "outputId": "1fba4c7c-6084-406f-8f1e-5ba58313e1b4",
    "scrolled": false
   },
   "outputs": [],
   "source": [
    "show_cleaned_vis(df,\"lat\")"
   ]
  },
  {
   "cell_type": "markdown",
   "metadata": {
    "id": "zFLAb-cQsq2D"
   },
   "source": [
    "---\n",
    "**Observations**\n",
    "\n",
    ">* Very weak linear relationship and not normally distributed.\n",
    ">\n",
    ">\n",
    ">* Outliers just slightly past 47.6 degrees latitude\n",
    "\n",
    "---\n",
    "**To-Do**\n",
    "\n",
    ">* Treat as categorical for modeling.\n",
    "---"
   ]
  },
  {
   "cell_type": "markdown",
   "metadata": {
    "id": "kKBhksmKsq2D"
   },
   "source": [
    "**Long** <a name=\"long\"></a> [🔝](#features)"
   ]
  },
  {
   "cell_type": "code",
   "execution_count": null,
   "metadata": {
    "ExecuteTime": {
     "end_time": "2021-07-16T02:59:03.647420Z",
     "start_time": "2021-07-16T02:59:02.418390Z"
    },
    "id": "bE3EPDPMsq2D",
    "outputId": "d707bf01-73d7-4fb7-f531-ddaa8d272aa5",
    "scrolled": false
   },
   "outputs": [],
   "source": [
    "show_cleaned_vis(df,\"long\")"
   ]
  },
  {
   "cell_type": "markdown",
   "metadata": {
    "id": "_kj7xgYRsq2E"
   },
   "source": [
    "---\n",
    "**Observations**\n",
    "\n",
    ">* No linear relationship and not normally distributed.\n",
    ">\n",
    ">\n",
    ">* Outliers around -122.32ish and -122.25-ish degrees\n",
    "\n",
    "---\n",
    "**To-Do**\n",
    "\n",
    ">* Treat as continuous if used for modeling.\n",
    "---"
   ]
  },
  {
   "cell_type": "markdown",
   "metadata": {
    "id": "WDv_3hS5sq2E"
   },
   "source": [
    "**Sqft_living15** <a name=\"living15\"></a> [🔝](#features)"
   ]
  },
  {
   "cell_type": "code",
   "execution_count": null,
   "metadata": {
    "ExecuteTime": {
     "end_time": "2021-07-16T02:59:04.842391Z",
     "start_time": "2021-07-16T02:59:03.649393Z"
    },
    "id": "luLGHfCKsq2E",
    "outputId": "fb3be1d6-fd85-4530-94ed-86960a88b312",
    "scrolled": false
   },
   "outputs": [],
   "source": [
    "show_cleaned_vis(df,\"sqft_living15\")"
   ]
  },
  {
   "cell_type": "markdown",
   "metadata": {
    "id": "QtVJ3AkLsq2E"
   },
   "source": [
    "---\n",
    "**Observations**\n",
    "\n",
    ">* Most properties sold between 1500/2000 ft$^2$ living space\n",
    ">\n",
    ">\n",
    ">* Price follows linear trend and is normally distributed, although skewed right.\n",
    ">\n",
    ">* Outliers between 2500-3500 ft$^2$ \n",
    "---\n",
    "**TO-DO**\n",
    "\n",
    ">* Treat as continuous variable\n",
    "---"
   ]
  },
  {
   "cell_type": "markdown",
   "metadata": {
    "id": "MjQYCqAasq2E"
   },
   "source": [
    "**Sqft_lot15** <a name=\"lot15\"></a> [🔝](#features)"
   ]
  },
  {
   "cell_type": "code",
   "execution_count": null,
   "metadata": {
    "ExecuteTime": {
     "end_time": "2021-07-16T02:59:06.053425Z",
     "start_time": "2021-07-16T02:59:04.844394Z"
    },
    "id": "2Wv8CQbrsq2F",
    "outputId": "5dd25e0c-e026-430d-e8c1-7090c01a67a5",
    "scrolled": false
   },
   "outputs": [],
   "source": [
    "show_cleaned_vis(df,\"sqft_lot15\")"
   ]
  },
  {
   "cell_type": "markdown",
   "metadata": {
    "id": "eF1dX4Opsq2F"
   },
   "source": [
    "---\n",
    "**Observations**\n",
    "\n",
    ">* No clear linear trend\n",
    ">* Significant outlier at approx. 9000 ft$^2$\n",
    "\n",
    "---\n",
    "**TO-DO**\n",
    ">* Treat as continuous variable\n",
    "---"
   ]
  },
  {
   "cell_type": "markdown",
   "metadata": {
    "id": "0RzFYbgcsq2F"
   },
   "source": [
    "# 🛠 **Feature Engineering**"
   ]
  },
  {
   "cell_type": "markdown",
   "metadata": {
    "id": "8mpimDh2sq2F"
   },
   "source": [
    "## `'yrs_old_sold'`"
   ]
  },
  {
   "cell_type": "markdown",
   "metadata": {
    "id": "HmU0Rwyjsq2F"
   },
   "source": [
    "I create this feature to differentiate between houses that were built recently versus older houses.\n",
    "\n",
    "In order to determine this feature, I need to determine the year the house was sold first."
   ]
  },
  {
   "cell_type": "markdown",
   "metadata": {
    "id": "lgTdOjJnsq2F"
   },
   "source": [
    "### Determine `'year_sold'`"
   ]
  },
  {
   "cell_type": "code",
   "execution_count": null,
   "metadata": {
    "ExecuteTime": {
     "end_time": "2021-07-16T02:59:06.162391Z",
     "start_time": "2021-07-16T02:59:06.056397Z"
    },
    "id": "ltoQKbEFsq2G",
    "scrolled": false
   },
   "outputs": [],
   "source": [
    "## Pull the year from the \"date\" column\n",
    "df['year_sold'] = pd.DatetimeIndex(df['date']).year\n",
    "\n",
    "## Review the values to ensure data integrity\n",
    "df['year_sold'].value_counts()"
   ]
  },
  {
   "cell_type": "markdown",
   "metadata": {
    "id": "M9dY6ryUsq2G"
   },
   "source": [
    "### Calculate `'y_old_sold'`"
   ]
  },
  {
   "cell_type": "code",
   "execution_count": null,
   "metadata": {
    "ExecuteTime": {
     "end_time": "2021-07-16T02:59:06.288392Z",
     "start_time": "2021-07-16T02:59:06.164391Z"
    },
    "id": "EjI_PHB0sq2G",
    "outputId": "f8199020-11ed-4252-80af-ee86afb89a78",
    "scrolled": false
   },
   "outputs": [],
   "source": [
    "## Calculating the age of the house at the time of sale\n",
    "df['y_old_sold'] = df['year_sold'] - df['yr_built']\n",
    "\n",
    "## Minimum age is -1 due to a house being sold before it was finished being built\n",
    "display(df['y_old_sold'].value_counts().sort_index(), df['y_old_sold'].describe())"
   ]
  },
  {
   "cell_type": "markdown",
   "metadata": {},
   "source": [
    ">**Results:** Half of the homes sold fall between the ages of 18 and 63 years old, with the average age of 43 years. Our min and max ages indicate a house was sold before it was built, while another house was 115 years old."
   ]
  },
  {
   "cell_type": "markdown",
   "metadata": {
    "id": "Gzl5f2Ktsq2H"
   },
   "source": [
    "## `'was_renovated'`"
   ]
  },
  {
   "cell_type": "markdown",
   "metadata": {
    "id": "vL3j33BYsq2H"
   },
   "source": [
    "What impact would a renovation have on the price?"
   ]
  },
  {
   "cell_type": "code",
   "execution_count": null,
   "metadata": {
    "ExecuteTime": {
     "end_time": "2021-07-16T02:59:06.427393Z",
     "start_time": "2021-07-16T02:59:06.291406Z"
    },
    "id": "X7QoQoBLsq2I"
   },
   "outputs": [],
   "source": [
    "## Using the year that the home was renovated to deterine whether or not the home was renovated\n",
    "reno_y_n = np.where(df['yr_renovated']>0, 1, 0 )\n",
    "df = df.assign(was_renovated = reno_y_n)\n",
    "df.head(5)"
   ]
  },
  {
   "cell_type": "code",
   "execution_count": null,
   "metadata": {
    "ExecuteTime": {
     "end_time": "2021-07-16T02:59:06.536425Z",
     "start_time": "2021-07-16T02:59:06.430395Z"
    },
    "id": "kltnwNfIsq2I",
    "outputId": "caaada13-58e0-4c08-cf62-7b8fbeedf911"
   },
   "outputs": [],
   "source": [
    "## Checking values\n",
    "df['was_renovated'].value_counts()"
   ]
  },
  {
   "cell_type": "markdown",
   "metadata": {},
   "source": [
    ">**Results:** Most of the houses were not renovated at the time of sale. This feature may not have a significant impact on determining the sale price due to the small number of renovated houses."
   ]
  },
  {
   "cell_type": "markdown",
   "metadata": {
    "id": "fb2ISg5Xsq2I"
   },
   "source": [
    "## `\"yrs_since_reno\"`"
   ]
  },
  {
   "cell_type": "markdown",
   "metadata": {
    "id": "lFYYV9xCsq2I"
   },
   "source": [
    "If a house was renovated, how long ago was the renovation? Would more newly-renovated houses increase price?"
   ]
  },
  {
   "cell_type": "code",
   "execution_count": null,
   "metadata": {
    "ExecuteTime": {
     "end_time": "2021-07-16T02:59:06.664424Z",
     "start_time": "2021-07-16T02:59:06.538393Z"
    }
   },
   "outputs": [],
   "source": [
    "## Ensuring there are no null values in the new feature and replacing any with zeroes\n",
    "\n",
    "df['yrs_since_reno'] = np.where((df['was_renovated']==1),\n",
    "                                (df['year_sold'] - df['yr_renovated']), 0)\n",
    "\n",
    "display(df['yrs_since_reno'].describe(),df['yrs_since_reno'].value_counts(ascending=False))"
   ]
  },
  {
   "cell_type": "code",
   "execution_count": null,
   "metadata": {
    "ExecuteTime": {
     "end_time": "2021-07-16T02:59:06.866421Z",
     "start_time": "2021-07-16T02:59:06.670394Z"
    },
    "scrolled": true
   },
   "outputs": [],
   "source": [
    "## Checking for which properties show a renovation year post-sale\n",
    "\n",
    "df[df['year_sold'] < df['yr_renovated']]"
   ]
  },
  {
   "cell_type": "code",
   "execution_count": null,
   "metadata": {
    "ExecuteTime": {
     "end_time": "2021-07-16T02:59:06.995393Z",
     "start_time": "2021-07-16T02:59:06.871394Z"
    }
   },
   "outputs": [],
   "source": [
    "## Reviewing stats for those houses that were renovated\n",
    "\n",
    "yrs_and_reno = df[df['yrs_since_reno'] > 0]\n",
    "yrs_and_reno['yrs_since_reno'].describe()"
   ]
  },
  {
   "cell_type": "markdown",
   "metadata": {},
   "source": [
    ">**Results:** As expected, most of the houses were not renovated (indicated by the number of years being zero). \n",
    ">\n",
    ">\n",
    ">Of those renovated, half of the homes had between 9 and 28 years between the years sold and renovated, with an average ages of roughly 20 years old.\n",
    ">\n",
    ">\n",
    ">Interestingly, this dataset also shows *six records for which the renovation is shown to be post-sale.* While this may be an error, I am leaving it in the dataset since I cannot confidently rule it out. \n",
    ">\n",
    ">\n",
    ">If this feature does not show statistical significance, I may drops these values and reevaluate the significance."
   ]
  },
  {
   "cell_type": "markdown",
   "metadata": {
    "id": "G6TwLd00sq2J"
   },
   "source": [
    "## \"`has_bsmnt`\""
   ]
  },
  {
   "cell_type": "markdown",
   "metadata": {
    "id": "fl4Yn656sq2J"
   },
   "source": [
    "I noticed that there were fewer houses with a value for \"sqft_basement\" during my data exploration. I am curious if the presence or absence of a basement would have any impact."
   ]
  },
  {
   "cell_type": "code",
   "execution_count": null,
   "metadata": {
    "ExecuteTime": {
     "end_time": "2021-07-16T02:59:07.131393Z",
     "start_time": "2021-07-16T02:59:07.013393Z"
    },
    "id": "lWHPc64-sq2J",
    "outputId": "1b48b91d-ebaf-4cdb-be5d-811fa8334a21",
    "scrolled": false
   },
   "outputs": [],
   "source": [
    "## Determining whether or not a house has a basement based on the square footage\n",
    "df['has_bsmnt'] = np.where(df['sqft_basement'] > 0, 1, 0)\n",
    "\n",
    "# Reviewing the results\n",
    "display(df['has_bsmnt'].describe(), df['has_bsmnt'].value_counts())"
   ]
  },
  {
   "cell_type": "code",
   "execution_count": null,
   "metadata": {
    "ExecuteTime": {
     "end_time": "2021-07-16T02:59:07.238392Z",
     "start_time": "2021-07-16T02:59:07.133392Z"
    }
   },
   "outputs": [],
   "source": [
    "6271/16197"
   ]
  },
  {
   "cell_type": "markdown",
   "metadata": {},
   "source": [
    ">**Results:** Surprisingly, it seems that 38% of homes have basements, which is  "
   ]
  },
  {
   "cell_type": "markdown",
   "metadata": {
    "id": "puQqlrLFsq2K"
   },
   "source": [
    "# 🔗 **Correlations**"
   ]
  },
  {
   "cell_type": "markdown",
   "metadata": {
    "id": "Wf4tEuN1sq2K"
   },
   "source": [
    "## Determining Correlations with Price"
   ]
  },
  {
   "cell_type": "code",
   "execution_count": null,
   "metadata": {
    "ExecuteTime": {
     "end_time": "2021-07-16T02:59:07.362392Z",
     "start_time": "2021-07-16T02:59:07.240393Z"
    },
    "id": "sOw4_jhVsq2K",
    "outputId": "90b78d09-3d7d-4737-c9ca-65c6967ccf66"
   },
   "outputs": [],
   "source": [
    "## Determining top five features most strongly correlated with price\n",
    "## (Considering absolute values for magnitude, not direction)\n",
    "\n",
    "df_corr = np.abs(df.drop(['price', 'lat','long', 'yr_renovated'], axis=1).corrwith(df['price']).sort_values(ascending=False))\n",
    "display(df_corr[0:5])"
   ]
  },
  {
   "cell_type": "markdown",
   "metadata": {
    "id": "Co8mLW6Zsq2K"
   },
   "source": [
    "## Determining Multicollinearity"
   ]
  },
  {
   "cell_type": "code",
   "execution_count": null,
   "metadata": {
    "ExecuteTime": {
     "end_time": "2021-07-16T02:59:10.317408Z",
     "start_time": "2021-07-16T02:59:07.364393Z"
    },
    "id": "6LjFop6Psq2L",
    "outputId": "bf3ad586-7fec-4f97-98a0-cfec0ca1ae72"
   },
   "outputs": [],
   "source": [
    "## Creating correlation matrix w/ heatmap for intensity of values\n",
    "corr_val(df.drop(['price'],axis=1), figsize=(20,20));"
   ]
  },
  {
   "cell_type": "code",
   "execution_count": null,
   "metadata": {
    "ExecuteTime": {
     "end_time": "2021-07-16T02:59:10.456427Z",
     "start_time": "2021-07-16T02:59:10.319394Z"
    },
    "id": "FZyJieM6sq2L"
   },
   "outputs": [],
   "source": [
    "## Correlation results ignoring duplicate values \n",
    "## Except for \"was_renovated\", which shows a perfect relationship to itself\n",
    "\n",
    "df_corr_results = np.abs(df.drop(['price','yr_renovated'],axis=1).corr().unstack().sort_values(ascending=False).drop_duplicates())\n",
    "\n",
    "## Show strongest correlations\n",
    "df_corr_results[1:11]"
   ]
  },
  {
   "cell_type": "markdown",
   "metadata": {
    "ExecuteTime": {
     "end_time": "2021-07-14T17:49:34.296191Z",
     "start_time": "2021-07-14T17:49:34.176157Z"
    }
   },
   "source": [
    "**Results:** From the correlation matrix, I see that we have seven pairs of features that show a correlation over .75.\n",
    "\n",
    "I will drop 'sqft_living', 'was_renovated', and 'has_basement' due to their high correlations."
   ]
  },
  {
   "cell_type": "code",
   "execution_count": null,
   "metadata": {
    "ExecuteTime": {
     "end_time": "2021-07-16T02:59:10.565440Z",
     "start_time": "2021-07-16T02:59:10.458396Z"
    },
    "id": "NX0PsIQmsq2L"
   },
   "outputs": [],
   "source": [
    "# Dropping columns to address multicollinearity (over .75)\n",
    "drop_feats = ['was_renovated', 'sqft_living','has_bsmnt']\n",
    "df_dropped = df.drop(drop_feats, axis=1)\n",
    "# df_dropped"
   ]
  },
  {
   "cell_type": "code",
   "execution_count": null,
   "metadata": {
    "ExecuteTime": {
     "end_time": "2021-07-16T02:59:12.778431Z",
     "start_time": "2021-07-16T02:59:10.568396Z"
    },
    "id": "NfHwiihhsq2L",
    "outputId": "ba07fadc-541d-4a1b-f4ab-a0d279166b54"
   },
   "outputs": [],
   "source": [
    "# Rerunning model\n",
    "corr_val(df_dropped.drop('price',axis=1), figsize=(20,20));"
   ]
  },
  {
   "cell_type": "code",
   "execution_count": null,
   "metadata": {
    "ExecuteTime": {
     "end_time": "2021-07-16T02:59:12.918395Z",
     "start_time": "2021-07-16T02:59:12.780426Z"
    },
    "id": "lz6NhZtDsq2M",
    "outputId": "9ceda911-5bc3-478a-ff30-4653b676a0b5",
    "scrolled": false
   },
   "outputs": [],
   "source": [
    "# Correlation results ignoring (most) duplicate values\n",
    "df_corr_results = df_dropped.drop('price',axis=1).corr().unstack().sort_values(ascending=False).drop_duplicates()\n",
    "\n",
    "## Show strongest correlations\n",
    "print(df_corr_results[1:11],'\\n\\n',df_corr_results[-11:-1])"
   ]
  },
  {
   "cell_type": "markdown",
   "metadata": {},
   "source": [
    ">**Results:** After dropping the highly-correlated features, all of my feature correlations are below .8, helping to address any multicollinearity."
   ]
  },
  {
   "cell_type": "markdown",
   "metadata": {},
   "source": [
    "# 🪓 **Performing Train/Test Split**"
   ]
  },
  {
   "cell_type": "markdown",
   "metadata": {
    "id": "mwP6qaTEsq2m"
   },
   "source": [
    "Now I will split the data into the train/test groups. Then, I will run the first linear regression on the \"train\" data, then another regression on the \"test\" data."
   ]
  },
  {
   "cell_type": "code",
   "execution_count": null,
   "metadata": {
    "ExecuteTime": {
     "end_time": "2021-07-16T02:59:13.028408Z",
     "start_time": "2021-07-16T02:59:12.920404Z"
    },
    "id": "OU4PKAM1sq2l"
   },
   "outputs": [],
   "source": [
    "## Creating features matrix minus target variable\n",
    "X = df_dropped.drop('price', axis = 1).copy()#"
   ]
  },
  {
   "cell_type": "code",
   "execution_count": null,
   "metadata": {
    "ExecuteTime": {
     "end_time": "2021-07-16T02:59:13.136395Z",
     "start_time": "2021-07-16T02:59:13.030426Z"
    },
    "id": "me9QULf1sq2l"
   },
   "outputs": [],
   "source": [
    "## Creating the y values by setting them equal to the 'price' values from the dataframe\n",
    "y = df_dropped['price'].copy()"
   ]
  },
  {
   "cell_type": "code",
   "execution_count": null,
   "metadata": {
    "ExecuteTime": {
     "end_time": "2021-07-16T02:59:13.248425Z",
     "start_time": "2021-07-16T02:59:13.138403Z"
    },
    "id": "gdxlPa7fsq2l",
    "outputId": "94e25dd6-f2e6-455e-9e64-0b38ccc9ab09"
   },
   "outputs": [],
   "source": [
    "## Verifying the two groups are of equal length\n",
    "X.shape[0] == y.shape[0]"
   ]
  },
  {
   "cell_type": "code",
   "execution_count": null,
   "metadata": {
    "ExecuteTime": {
     "end_time": "2021-07-16T02:59:13.373396Z",
     "start_time": "2021-07-16T02:59:13.250400Z"
    },
    "id": "VfB9_nl0sq2m"
   },
   "outputs": [],
   "source": [
    "## Establishing the train and test sets for modeling\n",
    "\n",
    "X_train, X_test, y_train, y_test = train_test_split(X, y, test_size=0.25,\n",
    "                                                    random_state=505)"
   ]
  },
  {
   "cell_type": "markdown",
   "metadata": {},
   "source": [
    "# 📊 **Creating Baseline Model**"
   ]
  },
  {
   "cell_type": "code",
   "execution_count": null,
   "metadata": {
    "ExecuteTime": {
     "end_time": "2021-07-16T02:59:13.497400Z",
     "start_time": "2021-07-16T02:59:13.375408Z"
    }
   },
   "outputs": [],
   "source": [
    "baseline = DummyRegressor()\n",
    "\n",
    "baseline.fit(X_train, y_train)\n",
    "print(f'The baseline r^2 score is: {baseline.score(X_train, y_train):.2f}\\n\\n')\n",
    "eval_perf_total(baseline, X_train, y_train, X_test, y_test)"
   ]
  },
  {
   "cell_type": "markdown",
   "metadata": {},
   "source": [
    ">**Analysis:** The baseline RMSE for the training data shows an error of over 365,000, a substantial amount of error. On the testing data, it seems the model did slightly worse than the training.\n",
    ">\n",
    ">\n",
    ">* My goal is to build a model that performs better than this baseline model in terms of both RMSE and r$^2$"
   ]
  },
  {
   "cell_type": "markdown",
   "metadata": {},
   "source": [
    "<!-- Do not delete this cell! It has anchors for other links -->\n",
    "\n",
    "<a name=\"eod\"></a>\n",
    "<a name=\"pipeline_2\"></a>"
   ]
  },
  {
   "cell_type": "markdown",
   "metadata": {},
   "source": [
    "# 🚿 **Developing Data Preprocessor**"
   ]
  },
  {
   "cell_type": "markdown",
   "metadata": {},
   "source": [
    "## Preprocessing Pipeline via ColumnTransformer"
   ]
  },
  {
   "cell_type": "markdown",
   "metadata": {},
   "source": [
    "> This combination of transformers is designed to handle any missing values by imputing either a '0' or the mean value for the feature. Additionally, this transformer will perform one-hot encoding for my categorical variables."
   ]
  },
  {
   "cell_type": "code",
   "execution_count": null,
   "metadata": {
    "ExecuteTime": {
     "end_time": "2021-07-16T02:59:13.622429Z",
     "start_time": "2021-07-16T02:59:13.499408Z"
    }
   },
   "outputs": [],
   "source": [
    "## Specifying features for each transformer (below)\n",
    "\n",
    "imp_zero_cols = ['sqft_basement']\n",
    "imp_mode_cols = ['view','waterfront','yr_renovated']\n",
    "ohe_cols = ['condition','grade', 'zipcode']\n",
    "\n",
    "xf_cols = [*imp_zero_cols, *imp_mode_cols, *ohe_cols]\n",
    "\n",
    "remaining_cols = [i for i in X.drop('date', axis=1).columns if i not in xf_cols]\n",
    "\n",
    "imp_zero_cols.extend(remaining_cols)"
   ]
  },
  {
   "cell_type": "code",
   "execution_count": null,
   "metadata": {
    "ExecuteTime": {
     "end_time": "2021-07-16T02:59:13.746409Z",
     "start_time": "2021-07-16T02:59:13.624397Z"
    },
    "scrolled": false
   },
   "outputs": [],
   "source": [
    "## Creating ColumnTransformer and sub-transformers for imputation and encoding\n",
    "\n",
    "# Adding zeroes for missing values in sqft_basement\n",
    "zero_transformer = SimpleImputer(strategy='constant', fill_value=0)\n",
    "\n",
    "## Adding the mode value to view, waterfront, and yr_renovated missing values \n",
    "mode_transformer = SimpleImputer(strategy='mean')\n",
    "\n",
    "## Encoding categoricals - handling errors to prevent issues w/ test set\n",
    "categorical_transformer = OneHotEncoder(handle_unknown='ignore', sparse=False)\n",
    "\n",
    "## Instantiating the ColumnTransformer and including all transformers\n",
    "preprocessor = ColumnTransformer(\n",
    "    transformers=[('zero', zero_transformer, imp_zero_cols),\n",
    "                  ('mode', mode_transformer, imp_mode_cols),\n",
    "                  ('cats', categorical_transformer, ohe_cols)])\n",
    "\n",
    "preprocessor"
   ]
  },
  {
   "cell_type": "markdown",
   "metadata": {},
   "source": [
    "# 📊 **Statsmodels Non-Formula OLS Model**"
   ]
  },
  {
   "cell_type": "markdown",
   "metadata": {},
   "source": [
    ">I create a Statsmodels version of the regression model to compare against my later SKLearn models. I use this comparison to ensure that the SKLearn pipeline below creates the same predictions for the same transformed data"
   ]
  },
  {
   "cell_type": "code",
   "execution_count": null,
   "metadata": {
    "ExecuteTime": {
     "end_time": "2021-07-16T02:59:14.054396Z",
     "start_time": "2021-07-16T02:59:13.749399Z"
    },
    "scrolled": false
   },
   "outputs": [],
   "source": [
    "preprocessor.fit(X_train)\n",
    "\n",
    "## Getting feature names from OHE\n",
    "ohe_cat_names = preprocessor.named_transformers_['cats'].get_feature_names(ohe_cols)\n",
    "\n",
    "## Generating list for column index\n",
    "final_cols = [*imp_zero_cols, *imp_mode_cols, *ohe_cat_names]\n",
    "\n",
    "## Fit and transform the data via the ColumnTransformer\n",
    "X_train_tf = preprocessor.transform(X_train)\n",
    "X_train_tf_df = pd.DataFrame(X_train_tf, columns=final_cols, index=X_train.index)\n",
    "\n",
    "## Transforming the test set and saving\n",
    "X_test_tf = preprocessor.transform(X_test)\n",
    "X_test_tf_df = pd.DataFrame(X_test_tf, columns=final_cols, index=X_test.index)\n",
    "\n",
    "display(X_train_tf_df.head(5),X_test_tf_df.head(5))"
   ]
  },
  {
   "cell_type": "code",
   "execution_count": null,
   "metadata": {
    "ExecuteTime": {
     "end_time": "2021-07-16T02:59:14.365398Z",
     "start_time": "2021-07-16T02:59:14.056397Z"
    },
    "scrolled": false
   },
   "outputs": [],
   "source": [
    "## Running a Statsmodels OLS model for verification\n",
    "sm_reg = sms.OLS(y_train, X_train_tf_df).fit()#sms.add_constant()\n",
    "\n",
    "sm_reg.summary()"
   ]
  },
  {
   "cell_type": "code",
   "execution_count": null,
   "metadata": {
    "ExecuteTime": {
     "end_time": "2021-07-16T02:59:14.504396Z",
     "start_time": "2021-07-16T02:59:14.367398Z"
    }
   },
   "outputs": [],
   "source": [
    "## Pulling SM-OLS coefficients\n",
    "model_params = sm_reg.params\n",
    "model_params.sort_values(ascending=False)"
   ]
  },
  {
   "cell_type": "markdown",
   "metadata": {},
   "source": [
    "### Interpretation"
   ]
  },
  {
   "cell_type": "markdown",
   "metadata": {},
   "source": [
    ">The r$^2$-score of .84 is good and almost all of my features are statistically-significant (with a p-value of .05, all but 2 exceed the threshold).\n",
    ">\n",
    "> Despite the strong scores, the coefficients are extremely high, raising questions about the quality of the data. As this model is only for comparison purposes, I will move on without digging into the results.\n",
    ">\n",
    "> **Now I will visualize the results to demonstrate the intensity of the results**"
   ]
  },
  {
   "cell_type": "markdown",
   "metadata": {
    "ExecuteTime": {
     "end_time": "2021-07-15T01:37:36.972554Z",
     "start_time": "2021-07-15T01:37:34.387537Z"
    }
   },
   "source": [
    "## Visualizing zipcode coefficients"
   ]
  },
  {
   "cell_type": "code",
   "execution_count": null,
   "metadata": {
    "ExecuteTime": {
     "end_time": "2021-07-16T02:59:14.616398Z",
     "start_time": "2021-07-16T02:59:14.506399Z"
    },
    "scrolled": true
   },
   "outputs": [],
   "source": [
    "## Generating lists of coefficient names for filtering\n",
    "\n",
    "zipcode_cols = [x for x in model_params.index if x.startswith('zipcode')]\n",
    "\n",
    "only_zips = model_params[zipcode_cols]\n",
    "no_zips = model_params.drop(zipcode_cols)"
   ]
  },
  {
   "cell_type": "code",
   "execution_count": null,
   "metadata": {
    "ExecuteTime": {
     "end_time": "2021-07-16T02:59:14.740397Z",
     "start_time": "2021-07-16T02:59:14.619400Z"
    }
   },
   "outputs": [],
   "source": [
    "## Generating list of index names for slicing\n",
    "\n",
    "zips_idx = only_zips.index\n",
    "no_zips_idx = no_zips.index"
   ]
  },
  {
   "cell_type": "code",
   "execution_count": null,
   "metadata": {
    "ExecuteTime": {
     "end_time": "2021-07-16T02:59:14.865398Z",
     "start_time": "2021-07-16T02:59:14.743398Z"
    }
   },
   "outputs": [],
   "source": [
    "## Formatting labels for visualizations\n",
    "\n",
    "no_zips.index = [i.title().replace('_',' ').replace('Sqft','Square Footage of')\\\n",
    "               .replace('Yr', 'Year').replace('Lat', 'Latitude')\\\n",
    "               .replace('Long','Longitude') for i in no_zips.index]\n",
    "\n",
    "only_zips.index = [i.replace('zipcode_', ' ') for i in only_zips.index]"
   ]
  },
  {
   "cell_type": "code",
   "execution_count": null,
   "metadata": {
    "ExecuteTime": {
     "end_time": "2021-07-16T02:59:16.952428Z",
     "start_time": "2021-07-16T02:59:14.867397Z"
    },
    "scrolled": false
   },
   "outputs": [],
   "source": [
    "## Plotting zipcodes visualization\n",
    "\n",
    "plot_coefs(data = only_zips, kind = \"barh\", figsize=(10,30),\n",
    "           x_label = 'Zipcodes', y_label = 'Price ($)',\n",
    "           title= 'Zip Code Effect on Price');"
   ]
  },
  {
   "cell_type": "markdown",
   "metadata": {
    "ExecuteTime": {
     "end_time": "2021-07-15T02:24:10.864645Z",
     "start_time": "2021-07-15T02:24:10.391507Z"
    }
   },
   "source": [
    "## Visualizing all parameters besides zipcodes"
   ]
  },
  {
   "cell_type": "code",
   "execution_count": null,
   "metadata": {
    "ExecuteTime": {
     "end_time": "2021-07-16T02:59:17.560408Z",
     "start_time": "2021-07-16T02:59:16.954403Z"
    },
    "scrolled": false
   },
   "outputs": [],
   "source": [
    "## Plotting all features besides zip codes\n",
    "plot_coefs(data = no_zips, kind = \"bar\", x_label = 'Features Other Than Zip Code',\n",
    "           y_label = 'Price ($)', title= 'House Feature Effect on Price',\n",
    "          figsize = (15,5));"
   ]
  },
  {
   "cell_type": "markdown",
   "metadata": {},
   "source": [
    "## Interpretation"
   ]
  },
  {
   "cell_type": "markdown",
   "metadata": {},
   "source": [
    ">As expected, the models demonstrate a very strong negative effect on price for most of the coefficients. The magnitude of the negative effects minimizes the visualization of the few positive coefficients\n"
   ]
  },
  {
   "cell_type": "markdown",
   "metadata": {},
   "source": [
    "# 🚿 **Instantiating Pipeline**"
   ]
  },
  {
   "cell_type": "markdown",
   "metadata": {},
   "source": [
    "> I create two different pipelines for my actual modeling process, one that does not include a scaler and another that does.\n",
    ">\n",
    "> The purpose behind the two pipelines is to visualize the impact of scaling data."
   ]
  },
  {
   "cell_type": "markdown",
   "metadata": {},
   "source": [
    "## Non-Scaled Pipeline"
   ]
  },
  {
   "cell_type": "code",
   "execution_count": null,
   "metadata": {
    "ExecuteTime": {
     "end_time": "2021-07-16T02:59:17.683397Z",
     "start_time": "2021-07-16T02:59:17.563400Z"
    }
   },
   "outputs": [],
   "source": [
    "## Instantiating full pipeline with ColumnTransformer and LinearRegression\n",
    "reg_pipe = Pipeline(steps=[('preprocessor', preprocessor),\n",
    "                      ('regressor', LinearRegression())])"
   ]
  },
  {
   "cell_type": "code",
   "execution_count": null,
   "metadata": {
    "ExecuteTime": {
     "end_time": "2021-07-16T02:59:18.010400Z",
     "start_time": "2021-07-16T02:59:17.685412Z"
    },
    "scrolled": false
   },
   "outputs": [],
   "source": [
    "## Fitting pipeline to the training data\n",
    "reg_pipe.fit(X_train, y_train)\n",
    "\n",
    "## Evaluating model performance\n",
    "eval_perf_total(reg_pipe, X_train, y_train, X_test, y_test)"
   ]
  },
  {
   "cell_type": "markdown",
   "metadata": {},
   "source": [
    "### Interpretation"
   ]
  },
  {
   "cell_type": "markdown",
   "metadata": {},
   "source": [
    "> The model performs very well on both the training and test data with $r^2$ scores pf .84 and .82, respectively. The increase in RMSE and decrease in $r^2$ for the second model indicates some overfitting of the model, however. \n",
    "\n",
    ">These results indicate the model explains 82% of the data."
   ]
  },
  {
   "cell_type": "markdown",
   "metadata": {
    "id": "HnP7OWpnsq2i"
   },
   "source": [
    "### Verifying Linear Regression Assumptions"
   ]
  },
  {
   "cell_type": "code",
   "execution_count": null,
   "metadata": {
    "ExecuteTime": {
     "end_time": "2021-07-16T02:59:18.180401Z",
     "start_time": "2021-07-16T02:59:18.012401Z"
    }
   },
   "outputs": [],
   "source": [
    "## Generating predictions for the unscaled pipeline\n",
    "y_test_pred = reg_pipe.predict(X_test)"
   ]
  },
  {
   "cell_type": "code",
   "execution_count": null,
   "metadata": {
    "ExecuteTime": {
     "end_time": "2021-07-16T02:59:19.020399Z",
     "start_time": "2021-07-16T02:59:18.182399Z"
    },
    "id": "OFnElN0Rsq2i",
    "outputId": "ee26d375-8ed7-43ab-cabe-c1b9b3e9315b"
   },
   "outputs": [],
   "source": [
    "## Determining residuals\n",
    "residuals = (y_test - y_test_pred)\n",
    "\n",
    "## Plotting to test for normality\n",
    "sns.histplot(data=residuals);"
   ]
  },
  {
   "cell_type": "code",
   "execution_count": null,
   "metadata": {
    "ExecuteTime": {
     "end_time": "2021-07-16T02:59:20.513401Z",
     "start_time": "2021-07-16T02:59:19.022400Z"
    },
    "id": "-XvKdUZ8sq2i",
    "outputId": "a5d0fd55-9b9b-416d-9c9a-a9cf108cade0",
    "scrolled": false
   },
   "outputs": [],
   "source": [
    "## Checking the homoscedasticity of the new model\n",
    "sns.residplot(x=y_test, y=residuals, lowess=True, color=\"g\");"
   ]
  },
  {
   "cell_type": "code",
   "execution_count": null,
   "metadata": {
    "ExecuteTime": {
     "end_time": "2021-07-16T02:59:20.778399Z",
     "start_time": "2021-07-16T02:59:20.515400Z"
    }
   },
   "outputs": [],
   "source": [
    "sms.graphics.qqplot(data=residuals, fit=True, line = \"45\");"
   ]
  },
  {
   "cell_type": "markdown",
   "metadata": {},
   "source": [
    "### Interpretation"
   ]
  },
  {
   "cell_type": "markdown",
   "metadata": {},
   "source": [
    "> The graphs above indicate that the model is normally distributed, but skewed to the right due to outliers in price."
   ]
  },
  {
   "cell_type": "markdown",
   "metadata": {},
   "source": [
    "## 💡 Coefficients for Recommendations"
   ]
  },
  {
   "cell_type": "code",
   "execution_count": null,
   "metadata": {
    "ExecuteTime": {
     "end_time": "2021-07-16T02:59:20.902428Z",
     "start_time": "2021-07-16T02:59:20.780402Z"
    }
   },
   "outputs": [],
   "source": [
    "reg_coefs = get_model_coefs(reg_pipe, final_cols)"
   ]
  },
  {
   "cell_type": "code",
   "execution_count": null,
   "metadata": {
    "ExecuteTime": {
     "end_time": "2021-07-16T02:59:21.026401Z",
     "start_time": "2021-07-16T02:59:20.904403Z"
    }
   },
   "outputs": [],
   "source": [
    "reg_coefs[no_zips_idx].sort_values(ascending=False)"
   ]
  },
  {
   "cell_type": "markdown",
   "metadata": {},
   "source": [
    "+\n",
    "* bathrooms\n",
    "* sqft_above/below\n",
    "\n",
    "-\n",
    "* floors\n",
    "* bedrooms"
   ]
  },
  {
   "cell_type": "code",
   "execution_count": null,
   "metadata": {
    "ExecuteTime": {
     "end_time": "2021-07-16T02:59:23.706401Z",
     "start_time": "2021-07-16T02:59:21.028417Z"
    },
    "scrolled": false
   },
   "outputs": [],
   "source": [
    "plot_coefs(data = reg_coefs[zips_idx], kind = \"barh\", figsize=(15,20), x_label = 'Zip Codes',\n",
    "           y_label = 'Coefficient ($)', title= 'Effects of Zip Codes on Price')\n",
    "\n",
    "plt.show()\n",
    "\n",
    "plot_coefs(data = reg_coefs[no_zips_idx], kind = \"barh\", figsize=(15,15), x_label = 'Features Other Than Zip Code',\n",
    "           y_label = 'Coefficient ($)', title= 'Effects of House Features on Price');"
   ]
  },
  {
   "cell_type": "markdown",
   "metadata": {},
   "source": [
    "## Scaled Pipeline"
   ]
  },
  {
   "cell_type": "code",
   "execution_count": null,
   "metadata": {
    "ExecuteTime": {
     "end_time": "2021-07-16T02:59:23.816401Z",
     "start_time": "2021-07-16T02:59:23.708404Z"
    }
   },
   "outputs": [],
   "source": [
    "## Creating full pipeline with ColumnTransformer, StandardScaler and LinearRegression\n",
    "reg_pipe_scaled = Pipeline(steps=[('preprocessor', preprocessor),\n",
    "                           ('scaler', StandardScaler()),\n",
    "                      ('regressor', LinearRegression())])"
   ]
  },
  {
   "cell_type": "code",
   "execution_count": null,
   "metadata": {
    "ExecuteTime": {
     "end_time": "2021-07-16T02:59:24.174404Z",
     "start_time": "2021-07-16T02:59:23.818404Z"
    },
    "scrolled": true
   },
   "outputs": [],
   "source": [
    "## Fittng pipeline to the training data\n",
    "reg_pipe_scaled.fit(X_train, y_train)\n",
    "\n",
    "## Ensuring same results as prior pipeline\n",
    "eval_perf_total(reg_pipe_scaled, X_train, y_train, X_test, y_test)"
   ]
  },
  {
   "cell_type": "markdown",
   "metadata": {
    "id": "HnP7OWpnsq2i"
   },
   "source": [
    "###  Verifying Linear Regression Assumptions"
   ]
  },
  {
   "cell_type": "code",
   "execution_count": null,
   "metadata": {
    "ExecuteTime": {
     "end_time": "2021-07-16T02:59:24.345404Z",
     "start_time": "2021-07-16T02:59:24.177404Z"
    }
   },
   "outputs": [],
   "source": [
    "y_test_pred = reg_pipe_scaled.predict(X_test)"
   ]
  },
  {
   "cell_type": "code",
   "execution_count": null,
   "metadata": {
    "ExecuteTime": {
     "end_time": "2021-07-16T02:59:24.486406Z",
     "start_time": "2021-07-16T02:59:24.348405Z"
    },
    "id": "OFnElN0Rsq2i",
    "outputId": "ee26d375-8ed7-43ab-cabe-c1b9b3e9315b"
   },
   "outputs": [],
   "source": [
    "## Determining residuals\n",
    "residuals = (y_test - y_test_pred)\n",
    "residuals"
   ]
  },
  {
   "cell_type": "code",
   "execution_count": null,
   "metadata": {
    "ExecuteTime": {
     "end_time": "2021-07-16T02:59:25.296402Z",
     "start_time": "2021-07-16T02:59:24.489409Z"
    },
    "id": "DTQ2Xg_6sq2i",
    "outputId": "077a363d-27d8-462a-9bf5-718857b37f96"
   },
   "outputs": [],
   "source": [
    "## Plotting to test for normality\n",
    "sns.histplot(data=residuals);"
   ]
  },
  {
   "cell_type": "code",
   "execution_count": null,
   "metadata": {
    "ExecuteTime": {
     "end_time": "2021-07-16T02:59:26.849405Z",
     "start_time": "2021-07-16T02:59:25.298403Z"
    },
    "id": "-XvKdUZ8sq2i",
    "outputId": "a5d0fd55-9b9b-416d-9c9a-a9cf108cade0",
    "scrolled": false
   },
   "outputs": [],
   "source": [
    "## Checking the homoscedasticity of the new model\n",
    "sns.residplot(x=y_test, y=residuals, lowess=True, color=\"g\");"
   ]
  },
  {
   "cell_type": "markdown",
   "metadata": {},
   "source": [
    "### Visualizing Scaled Results"
   ]
  },
  {
   "cell_type": "code",
   "execution_count": null,
   "metadata": {
    "ExecuteTime": {
     "end_time": "2021-07-16T02:59:26.973406Z",
     "start_time": "2021-07-16T02:59:26.851419Z"
    }
   },
   "outputs": [],
   "source": [
    "## Pulling model coefficients for visualizations\n",
    "\n",
    "reg_pipe_scaled_coefs = get_model_coefs(reg_pipe_scaled, final_cols)\n",
    "\n",
    "reg_scaled_zips = reg_pipe_scaled_coefs[zipcode_cols]\n",
    "\n",
    "reg_scaled_no_zips = reg_pipe_scaled_coefs.drop(zipcode_cols)\n",
    "# reg_scaled_no_zips = reg_scaled_no_zips.drop('intercept')"
   ]
  },
  {
   "cell_type": "code",
   "execution_count": null,
   "metadata": {
    "ExecuteTime": {
     "end_time": "2021-07-16T02:59:27.177407Z",
     "start_time": "2021-07-16T02:59:26.976406Z"
    }
   },
   "outputs": [],
   "source": [
    "reg_scaled_no_zips"
   ]
  },
  {
   "cell_type": "code",
   "execution_count": null,
   "metadata": {
    "ExecuteTime": {
     "end_time": "2021-07-16T02:59:29.727437Z",
     "start_time": "2021-07-16T02:59:27.180407Z"
    },
    "scrolled": false
   },
   "outputs": [],
   "source": [
    "## Plotting coefficients\n",
    "\n",
    "plot_coefs(data = reg_scaled_zips, kind = \"barh\", figsize=(20,25), x_label = 'Zip Codes',\n",
    "           y_label = 'Zip Codes', title= 'Zip Code Effect on Price ($)')\n",
    "\n",
    "plt.show()\n",
    "\n",
    "plot_coefs(data = reg_scaled_no_zips, kind = \"barh\", figsize=(20,20), x_label = 'Features Other Than Zip Code',\n",
    "           y_label = 'Features', title= 'Effects of House Features on Price ($)');"
   ]
  },
  {
   "cell_type": "markdown",
   "metadata": {
    "id": "6oXGAE6Wsq2Y"
   },
   "source": [
    "## ❌ 💡 Recommendations Based on Modeling"
   ]
  },
  {
   "cell_type": "markdown",
   "metadata": {
    "id": "8bdHGFCCsq2Y"
   },
   "source": [
    "If a homeowner is interested in renovating their house, I would recommend the following improvements based on the high coefficients from my model.\n",
    "\n",
    "* Add bathrooms\n",
    "* Also consider adding bedrooms\n",
    "* Use high-quality materials in renovations\n",
    "\n",
    "While it is outside of the homeowner's ability to change, the zip code for a house's location also has a large impact on the price. A prospective buyer should keep the zip code of the area in mind to help determine the prices of the homes there."
   ]
  },
  {
   "cell_type": "markdown",
   "metadata": {},
   "source": [
    "# 🔮 Creating Predictions on Holdout Data"
   ]
  },
  {
   "cell_type": "markdown",
   "metadata": {},
   "source": [
    "> Now that I finished my model, I will read in the new test data and generate my final predictions."
   ]
  },
  {
   "cell_type": "code",
   "execution_count": null,
   "metadata": {
    "ExecuteTime": {
     "end_time": "2021-07-16T02:59:29.868439Z",
     "start_time": "2021-07-16T02:59:29.729406Z"
    }
   },
   "outputs": [],
   "source": [
    "df_xtest = pd.read_csv('bakeoff_data/Xtest.csv')\n",
    "df_xtest"
   ]
  },
  {
   "cell_type": "code",
   "execution_count": null,
   "metadata": {
    "ExecuteTime": {
     "end_time": "2021-07-16T02:59:30.038406Z",
     "start_time": "2021-07-16T02:59:29.870406Z"
    }
   },
   "outputs": [],
   "source": [
    "report_df(df_xtest)"
   ]
  },
  {
   "cell_type": "markdown",
   "metadata": {
    "id": "0RzFYbgcsq2F"
   },
   "source": [
    "# 🛠 **Feature Engineering**"
   ]
  },
  {
   "cell_type": "code",
   "execution_count": null,
   "metadata": {
    "ExecuteTime": {
     "end_time": "2021-07-16T02:59:30.164407Z",
     "start_time": "2021-07-16T02:59:30.044434Z"
    }
   },
   "outputs": [],
   "source": [
    "df_xtest['sqft_basement'] = pd.to_numeric(df_xtest['sqft_basement'], errors='coerce')\n",
    "df_xtest['sqft_basement']"
   ]
  },
  {
   "cell_type": "markdown",
   "metadata": {
    "id": "8mpimDh2sq2F"
   },
   "source": [
    "## `'yrs_old_sold'`"
   ]
  },
  {
   "cell_type": "markdown",
   "metadata": {
    "id": "lgTdOjJnsq2F"
   },
   "source": [
    "### Determine `'year_sold'`"
   ]
  },
  {
   "cell_type": "code",
   "execution_count": null,
   "metadata": {
    "ExecuteTime": {
     "end_time": "2021-07-16T02:59:30.615437Z",
     "start_time": "2021-07-16T02:59:30.167407Z"
    },
    "id": "ltoQKbEFsq2G",
    "scrolled": false
   },
   "outputs": [],
   "source": [
    "## Pull the year from the \"date\" column\n",
    "df_xtest['year_sold'] = pd.DatetimeIndex(df_xtest['date']).year\n",
    "\n",
    "## Review the values to ensure data integrity\n",
    "df_xtest['year_sold'].value_counts()"
   ]
  },
  {
   "cell_type": "markdown",
   "metadata": {
    "id": "M9dY6ryUsq2G"
   },
   "source": [
    "### Calculate `'y_old_sold'`"
   ]
  },
  {
   "cell_type": "code",
   "execution_count": null,
   "metadata": {
    "ExecuteTime": {
     "end_time": "2021-07-16T02:59:30.724436Z",
     "start_time": "2021-07-16T02:59:30.618409Z"
    },
    "id": "EjI_PHB0sq2G",
    "outputId": "f8199020-11ed-4252-80af-ee86afb89a78",
    "scrolled": false
   },
   "outputs": [],
   "source": [
    "## Calculating the age of the house at the time of sale\n",
    "df_xtest['y_old_sold'] = df_xtest['year_sold'] - df_xtest['yr_built']\n",
    "\n",
    "## Minimum age is -1 due to a house being sold before it was finished being built\n",
    "display(df_xtest['y_old_sold'].value_counts().sort_index(), df_xtest['y_old_sold'].describe())"
   ]
  },
  {
   "cell_type": "markdown",
   "metadata": {
    "id": "Gzl5f2Ktsq2H"
   },
   "source": [
    "## `'was_renovated'`"
   ]
  },
  {
   "cell_type": "code",
   "execution_count": null,
   "metadata": {
    "ExecuteTime": {
     "end_time": "2021-07-16T02:59:30.848439Z",
     "start_time": "2021-07-16T02:59:30.727408Z"
    },
    "id": "X7QoQoBLsq2I"
   },
   "outputs": [],
   "source": [
    "## Using the year that the home was renovated to deterine whether or not the home was renovated\n",
    "reno_y_n = np.where(df_xtest['yr_renovated']>0, 1, 0 )\n",
    "df_xtest = df_xtest.assign(was_renovated = reno_y_n)\n",
    "df_xtest.head(5)"
   ]
  },
  {
   "cell_type": "code",
   "execution_count": null,
   "metadata": {
    "ExecuteTime": {
     "end_time": "2021-07-16T02:59:30.957407Z",
     "start_time": "2021-07-16T02:59:30.850406Z"
    },
    "id": "kltnwNfIsq2I",
    "outputId": "caaada13-58e0-4c08-cf62-7b8fbeedf911"
   },
   "outputs": [],
   "source": [
    "## Checking values\n",
    "df_xtest['was_renovated'].value_counts()"
   ]
  },
  {
   "cell_type": "markdown",
   "metadata": {
    "id": "fb2ISg5Xsq2I"
   },
   "source": [
    "## `\"yrs_since_reno\"`"
   ]
  },
  {
   "cell_type": "code",
   "execution_count": null,
   "metadata": {
    "ExecuteTime": {
     "end_time": "2021-07-16T02:59:31.064482Z",
     "start_time": "2021-07-16T02:59:30.958456Z"
    }
   },
   "outputs": [],
   "source": [
    "## Ensuring there are no null values in the new feature and replacing any with zeroes\n",
    "\n",
    "df_xtest['yrs_since_reno'] = np.where((df_xtest['was_renovated']==1),\n",
    "                                (df_xtest['year_sold'] - df_xtest['yr_renovated']), 0)\n",
    "\n",
    "# display(df_xtest['yrs_since_reno'].describe(),df_xtest['yrs_since_reno'].value_counts(ascending=False))"
   ]
  },
  {
   "cell_type": "code",
   "execution_count": null,
   "metadata": {
    "ExecuteTime": {
     "end_time": "2021-07-16T02:59:31.188406Z",
     "start_time": "2021-07-16T02:59:31.066408Z"
    }
   },
   "outputs": [],
   "source": [
    "## Reviewing stats for those houses that were renovated\n",
    "\n",
    "yrs_and_reno = df_xtest[df_xtest['yrs_since_reno'] > 0]\n",
    "yrs_and_reno['yrs_since_reno'].describe()"
   ]
  },
  {
   "cell_type": "markdown",
   "metadata": {
    "id": "G6TwLd00sq2J"
   },
   "source": [
    "## \"`has_bsmnt`\""
   ]
  },
  {
   "cell_type": "code",
   "execution_count": null,
   "metadata": {
    "ExecuteTime": {
     "end_time": "2021-07-16T02:59:31.313409Z",
     "start_time": "2021-07-16T02:59:31.191410Z"
    },
    "id": "lWHPc64-sq2J",
    "outputId": "1b48b91d-ebaf-4cdb-be5d-811fa8334a21",
    "scrolled": false
   },
   "outputs": [],
   "source": [
    "## Determining whether or not a house has a basement based on the square footage\n",
    "df_xtest['has_bsmnt'] = np.where(df_xtest['sqft_basement'] > 0, 1, 0)\n",
    "\n",
    "# Reviewing the results\n",
    "display(df_xtest['has_bsmnt'].describe(), df_xtest['has_bsmnt'].value_counts())"
   ]
  },
  {
   "cell_type": "markdown",
   "metadata": {},
   "source": [
    "## Dropping for Multicollinearity"
   ]
  },
  {
   "cell_type": "code",
   "execution_count": null,
   "metadata": {
    "ExecuteTime": {
     "end_time": "2021-07-16T02:59:31.422437Z",
     "start_time": "2021-07-16T02:59:31.315407Z"
    }
   },
   "outputs": [],
   "source": [
    "df_xtest.drop(['was_renovated', 'sqft_living','has_bsmnt'], axis=1, inplace=True)"
   ]
  },
  {
   "cell_type": "markdown",
   "metadata": {},
   "source": [
    "# 🔮 Generating Predictions"
   ]
  },
  {
   "cell_type": "code",
   "execution_count": null,
   "metadata": {
    "ExecuteTime": {
     "end_time": "2021-07-16T02:59:31.530407Z",
     "start_time": "2021-07-16T02:59:31.424407Z"
    }
   },
   "outputs": [],
   "source": [
    "X_test.columns"
   ]
  },
  {
   "cell_type": "code",
   "execution_count": null,
   "metadata": {
    "ExecuteTime": {
     "end_time": "2021-07-16T02:59:31.657436Z",
     "start_time": "2021-07-16T02:59:31.532431Z"
    }
   },
   "outputs": [],
   "source": [
    "df_xtest = df_xtest[X_test.columns]"
   ]
  },
  {
   "cell_type": "code",
   "execution_count": null,
   "metadata": {
    "ExecuteTime": {
     "end_time": "2021-07-16T02:59:31.797410Z",
     "start_time": "2021-07-16T02:59:31.660407Z"
    },
    "scrolled": true
   },
   "outputs": [],
   "source": [
    "final_predictions = reg_pipe.predict(df_xtest)\n",
    "final_predictions = pd.Series(final_predictions)"
   ]
  },
  {
   "cell_type": "code",
   "execution_count": null,
   "metadata": {
    "ExecuteTime": {
     "end_time": "2021-07-16T02:59:31.939409Z",
     "start_time": "2021-07-16T02:59:31.799408Z"
    }
   },
   "outputs": [],
   "source": [
    "# final_predictions.to_csv('mccartyb_phase2_predict.csv')"
   ]
  },
  {
   "cell_type": "code",
   "execution_count": null,
   "metadata": {},
   "outputs": [],
   "source": []
  }
 ],
 "metadata": {
  "colab": {
   "collapsed_sections": [],
   "name": "P2Pv2_wb.ipynb",
   "provenance": [],
   "toc_visible": true
  },
  "kernelspec": {
   "display_name": "Python (learn-env-bmc)",
   "language": "python",
   "name": "learn-env-bmc"
  },
  "language_info": {
   "codemirror_mode": {
    "name": "ipython",
    "version": 3
   },
   "file_extension": ".py",
   "mimetype": "text/x-python",
   "name": "python",
   "nbconvert_exporter": "python",
   "pygments_lexer": "ipython3",
   "version": "3.8.5"
  },
  "toc": {
   "base_numbering": 1,
   "nav_menu": {},
   "number_sections": true,
   "sideBar": true,
   "skip_h1_title": false,
   "title_cell": "Table of Contents",
   "title_sidebar": "Contents",
   "toc_cell": true,
   "toc_position": {
    "height": "757px",
    "left": "35px",
    "top": "110px",
    "width": "331px"
   },
   "toc_section_display": true,
   "toc_window_display": true
  }
 },
 "nbformat": 4,
 "nbformat_minor": 1
}
