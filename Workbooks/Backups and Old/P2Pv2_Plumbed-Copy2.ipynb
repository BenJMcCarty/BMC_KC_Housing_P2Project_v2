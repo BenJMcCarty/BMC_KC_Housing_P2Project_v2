{
 "cells": [
  {
   "cell_type": "markdown",
   "metadata": {},
   "source": [
    "## Final Project Submission\n",
    "\n",
    "Please fill out:\n",
    "* Student name: Benjamin McCarty\n",
    "* Student pace: full time\n",
    "* Scheduled project review date/time: \n",
    "* Instructor name: David Elliott\n",
    "* Blog post URL:"
   ]
  },
  {
   "cell_type": "markdown",
   "metadata": {},
   "source": [
    "---\n",
    "> **[Return to Workflow](#return)**\n",
    "\n",
    "---"
   ]
  },
  {
   "cell_type": "markdown",
   "metadata": {},
   "source": [
    "# 📋 **To-Do's** 📋"
   ]
  },
  {
   "cell_type": "markdown",
   "metadata": {},
   "source": [
    "---\n",
    "**Priority**\n",
    "\n",
    "- [ ] [WIP - Keep or delete](#wip) (will raise error!)\n",
    "---\n",
    "**Pending**\n",
    "- [ ] Fix [guiding questions](#td-questions)\n",
    "- [ ] Add links to each section addressing the rubric\n",
    "\n",
    "\n"
   ]
  },
  {
   "cell_type": "markdown",
   "metadata": {
    "id": "cj2TboyMuoQe"
   },
   "source": [
    "# 📊 Phase 2 Project - DSC 060721 📊 "
   ]
  },
  {
   "cell_type": "markdown",
   "metadata": {},
   "source": [
    "Author: Ben McCarty\n",
    "\n",
    "Date: 7/12/21\n",
    "\n",
    "Contact: bmccarty505@gmail.com"
   ]
  },
  {
   "cell_type": "markdown",
   "metadata": {
    "toc": true
   },
   "source": [
    "<h1>Table of Contents<span class=\"tocSkip\"></span></h1>\n",
    "<div class=\"toc\"><ul class=\"toc-item\"><li><ul class=\"toc-item\"><li><span><a href=\"#Final-Project-Submission\" data-toc-modified-id=\"Final-Project-Submission-0.1\"><span class=\"toc-item-num\">0.1&nbsp;&nbsp;</span>Final Project Submission</a></span></li></ul></li><li><span><a href=\"#📋-To-Do's-📋\" data-toc-modified-id=\"📋-To-Do's-📋-1\"><span class=\"toc-item-num\">1&nbsp;&nbsp;</span>📋 <strong>To-Do's</strong> 📋</a></span></li><li><span><a href=\"#📊-Phase-2-Project---DSC-060721-📊\" data-toc-modified-id=\"📊-Phase-2-Project---DSC-060721-📊-2\"><span class=\"toc-item-num\">2&nbsp;&nbsp;</span>📊 Phase 2 Project - DSC 060721 📊</a></span></li><li><span><a href=\"#📃-Rubric-\" data-toc-modified-id=\"📃-Rubric--3\"><span class=\"toc-item-num\">3&nbsp;&nbsp;</span>📃 Rubric <a name=\"rubric\"></a></a></span></li><li><span><a href=\"#🏡-(Re)Selling-Seattle:-Determining-House-Sell-Prices-🏡-\" data-toc-modified-id=\"🏡-(Re)Selling-Seattle:-Determining-House-Sell-Prices-🏡--4\"><span class=\"toc-item-num\">4&nbsp;&nbsp;</span>🏡 <strong>(Re)Selling Seattle: Determining House Sell Prices</strong> 🏡 <a name=\"title\"></a></a></span></li><li><span><a href=\"#❌-BEN---FIX-THIS!-❌\" data-toc-modified-id=\"❌-BEN---FIX-THIS!-❌-5\"><span class=\"toc-item-num\">5&nbsp;&nbsp;</span>❌ BEN - FIX THIS! ❌</a></span></li><li><span><a href=\"#📂-Setting-Up-the-Tools-and-Data\" data-toc-modified-id=\"📂-Setting-Up-the-Tools-and-Data-6\"><span class=\"toc-item-num\">6&nbsp;&nbsp;</span>📂 <strong>Setting Up the Tools and Data</strong></a></span><ul class=\"toc-item\"><li><span><a href=\"#Imports\" data-toc-modified-id=\"Imports-6.1\"><span class=\"toc-item-num\">6.1&nbsp;&nbsp;</span>Imports</a></span></li><li><span><a href=\"#Importing-Personal-Functions\" data-toc-modified-id=\"Importing-Personal-Functions-6.2\"><span class=\"toc-item-num\">6.2&nbsp;&nbsp;</span>Importing Personal Functions</a></span></li><li><span><a href=\"#Reading-Data\" data-toc-modified-id=\"Reading-Data-6.3\"><span class=\"toc-item-num\">6.3&nbsp;&nbsp;</span>Reading Data</a></span></li></ul></li><li><span><a href=\"#🔮-Exploring-Fresh-Data\" data-toc-modified-id=\"🔮-Exploring-Fresh-Data-7\"><span class=\"toc-item-num\">7&nbsp;&nbsp;</span>🔮 <strong>Exploring Fresh Data</strong></a></span><ul class=\"toc-item\"><li><span><a href=\"#Basic-Overviews\" data-toc-modified-id=\"Basic-Overviews-7.1\"><span class=\"toc-item-num\">7.1&nbsp;&nbsp;</span>Basic Overviews</a></span></li><li><span><a href=\"#Data-Cleaning-and-Processing\" data-toc-modified-id=\"Data-Cleaning-and-Processing-7.2\"><span class=\"toc-item-num\">7.2&nbsp;&nbsp;</span>Data Cleaning and Processing</a></span><ul class=\"toc-item\"><li><span><a href=\"#Overview-Summary\" data-toc-modified-id=\"Overview-Summary-7.2.1\"><span class=\"toc-item-num\">7.2.1&nbsp;&nbsp;</span>Overview Summary</a></span></li></ul></li><li><span><a href=\"#Exploring-Features\" data-toc-modified-id=\"Exploring-Features-7.3\"><span class=\"toc-item-num\">7.3&nbsp;&nbsp;</span>Exploring Features<a name=\"features\"></a></a></span></li></ul></li><li><span><a href=\"#🛠-Feature-Engineering\" data-toc-modified-id=\"🛠-Feature-Engineering-8\"><span class=\"toc-item-num\">8&nbsp;&nbsp;</span>🛠 <strong>Feature Engineering</strong></a></span><ul class=\"toc-item\"><li><span><a href=\"#'yrs_old_sold'\" data-toc-modified-id=\"'yrs_old_sold'-8.1\"><span class=\"toc-item-num\">8.1&nbsp;&nbsp;</span><code>'yrs_old_sold'</code></a></span><ul class=\"toc-item\"><li><span><a href=\"#Determine-'year_sold'\" data-toc-modified-id=\"Determine-'year_sold'-8.1.1\"><span class=\"toc-item-num\">8.1.1&nbsp;&nbsp;</span>Determine <code>'year_sold'</code></a></span></li><li><span><a href=\"#Calculate-'y_old_sold'\" data-toc-modified-id=\"Calculate-'y_old_sold'-8.1.2\"><span class=\"toc-item-num\">8.1.2&nbsp;&nbsp;</span>Calculate <code>'y_old_sold'</code></a></span></li></ul></li><li><span><a href=\"#'was_renovated'\" data-toc-modified-id=\"'was_renovated'-8.2\"><span class=\"toc-item-num\">8.2&nbsp;&nbsp;</span><code>'was_renovated'</code></a></span></li><li><span><a href=\"#&quot;yrs_since_reno&quot;\" data-toc-modified-id=\"&quot;yrs_since_reno&quot;-8.3\"><span class=\"toc-item-num\">8.3&nbsp;&nbsp;</span><code>\"yrs_since_reno\"</code></a></span></li><li><span><a href=\"#&quot;has_bsmnt&quot;\" data-toc-modified-id=\"&quot;has_bsmnt&quot;-8.4\"><span class=\"toc-item-num\">8.4&nbsp;&nbsp;</span>\"<code>has_bsmnt</code>\"</a></span></li></ul></li><li><span><a href=\"#🔗-Correlations\" data-toc-modified-id=\"🔗-Correlations-9\"><span class=\"toc-item-num\">9&nbsp;&nbsp;</span>🔗 <strong>Correlations</strong></a></span><ul class=\"toc-item\"><li><span><a href=\"#Determining-Correlations-with-Price\" data-toc-modified-id=\"Determining-Correlations-with-Price-9.1\"><span class=\"toc-item-num\">9.1&nbsp;&nbsp;</span>Determining Correlations with Price</a></span></li><li><span><a href=\"#Determining-Multicollinearity\" data-toc-modified-id=\"Determining-Multicollinearity-9.2\"><span class=\"toc-item-num\">9.2&nbsp;&nbsp;</span>Determining Multicollinearity</a></span></li></ul></li><li><span><a href=\"#🪓-Performing-Train/Test-Split\" data-toc-modified-id=\"🪓-Performing-Train/Test-Split-10\"><span class=\"toc-item-num\">10&nbsp;&nbsp;</span>🪓 <strong>Performing Train/Test Split</strong></a></span><ul class=\"toc-item\"><li><span><a href=\"#Create-Train/Test-Split\" data-toc-modified-id=\"Create-Train/Test-Split-10.1\"><span class=\"toc-item-num\">10.1&nbsp;&nbsp;</span>Create Train/Test Split</a></span></li></ul></li><li><span><a href=\"#📊-Creating-Baseline-Model\" data-toc-modified-id=\"📊-Creating-Baseline-Model-11\"><span class=\"toc-item-num\">11&nbsp;&nbsp;</span>📊 <strong>Creating Baseline Model</strong></a></span></li><li><span><a href=\"#🚿-Creating-Pipeline-for-Modeling\" data-toc-modified-id=\"🚿-Creating-Pipeline-for-Modeling-12\"><span class=\"toc-item-num\">12&nbsp;&nbsp;</span>🚿 <strong>Creating Pipeline for Modeling</strong></a></span><ul class=\"toc-item\"><li><span><a href=\"#Preprocessing-Data-Via-ColumnTransformer\" data-toc-modified-id=\"Preprocessing-Data-Via-ColumnTransformer-12.1\"><span class=\"toc-item-num\">12.1&nbsp;&nbsp;</span>Preprocessing Data Via ColumnTransformer</a></span></li></ul></li><li><span><a href=\"#📊-Statsmodels-Non-Formula-OLS-Model\" data-toc-modified-id=\"📊-Statsmodels-Non-Formula-OLS-Model-13\"><span class=\"toc-item-num\">13&nbsp;&nbsp;</span>📊 <strong>Statsmodels Non-Formula OLS Model</strong></a></span><ul class=\"toc-item\"><li><span><a href=\"#Visualizing-zipcode-coefficients\" data-toc-modified-id=\"Visualizing-zipcode-coefficients-13.1\"><span class=\"toc-item-num\">13.1&nbsp;&nbsp;</span>Visualizing zipcode coefficients</a></span></li><li><span><a href=\"#Visualizing-all-parameters-besides-zipcodes\" data-toc-modified-id=\"Visualizing-all-parameters-besides-zipcodes-13.2\"><span class=\"toc-item-num\">13.2&nbsp;&nbsp;</span>Visualizing all parameters besides zipcodes</a></span></li></ul></li><li><span><a href=\"#🚿-Instantiating-Pipeline\" data-toc-modified-id=\"🚿-Instantiating-Pipeline-14\"><span class=\"toc-item-num\">14&nbsp;&nbsp;</span>🚿 <strong>Instantiating Pipeline</strong></a></span><ul class=\"toc-item\"><li><span><a href=\"#Non-Scaled-Pipeline\" data-toc-modified-id=\"Non-Scaled-Pipeline-14.1\"><span class=\"toc-item-num\">14.1&nbsp;&nbsp;</span>Non-Scaled Pipeline</a></span></li></ul></li><li><span><a href=\"#✨-✅-Verifying-Lin-Reg-Assumptions-✨\" data-toc-modified-id=\"✨-✅-Verifying-Lin-Reg-Assumptions-✨-15\"><span class=\"toc-item-num\">15&nbsp;&nbsp;</span>✨ ✅ Verifying Lin Reg Assumptions ✨</a></span><ul class=\"toc-item\"><li><ul class=\"toc-item\"><li><span><a href=\"#Visualizing--Non-Scaled-Results\" data-toc-modified-id=\"Visualizing--Non-Scaled-Results-15.0.1\"><span class=\"toc-item-num\">15.0.1&nbsp;&nbsp;</span>Visualizing  Non-Scaled Results</a></span></li></ul></li><li><span><a href=\"#Scaled-Pipeline\" data-toc-modified-id=\"Scaled-Pipeline-15.1\"><span class=\"toc-item-num\">15.1&nbsp;&nbsp;</span>Scaled Pipeline</a></span></li></ul></li><li><span><a href=\"#✨-✅-Verifying-Lin-Reg-Assumptions-✨\" data-toc-modified-id=\"✨-✅-Verifying-Lin-Reg-Assumptions-✨-16\"><span class=\"toc-item-num\">16&nbsp;&nbsp;</span>✨ ✅ Verifying Lin Reg Assumptions ✨</a></span><ul class=\"toc-item\"><li><ul class=\"toc-item\"><li><span><a href=\"#Visualizing-Scaled-Results\" data-toc-modified-id=\"Visualizing-Scaled-Results-16.0.1\"><span class=\"toc-item-num\">16.0.1&nbsp;&nbsp;</span>Visualizing Scaled Results</a></span></li></ul></li><li><span><a href=\"#Recommendations-Based-on-Modeling\" data-toc-modified-id=\"Recommendations-Based-on-Modeling-16.1\"><span class=\"toc-item-num\">16.1&nbsp;&nbsp;</span>Recommendations Based on Modeling</a></span></li></ul></li><li><span><a href=\"#❌-RAISE-EXCEPTION-❌\" data-toc-modified-id=\"❌-RAISE-EXCEPTION-❌-17\"><span class=\"toc-item-num\">17&nbsp;&nbsp;</span>❌ <strong>RAISE EXCEPTION</strong> ❌</a></span><ul class=\"toc-item\"><li><ul class=\"toc-item\"><li><span><a href=\"#Interpretation-of-Model-Results\" data-toc-modified-id=\"Interpretation-of-Model-Results-17.0.1\"><span class=\"toc-item-num\">17.0.1&nbsp;&nbsp;</span>Interpretation of Model Results</a></span></li></ul></li></ul></li><li><span><a href=\"#🥒-Pickling-the-Model-for-Reuse\" data-toc-modified-id=\"🥒-Pickling-the-Model-for-Reuse-18\"><span class=\"toc-item-num\">18&nbsp;&nbsp;</span>🥒 <strong>Pickling the Model for Reuse</strong></a></span></li></ul></div>"
   ]
  },
  {
   "cell_type": "markdown",
   "metadata": {},
   "source": [
    "# 📃 Rubric <a name=\"rubric\"></a>"
   ]
  },
  {
   "cell_type": "markdown",
   "metadata": {},
   "source": [
    "---\n",
    "**Business Understanding:** [Business Understanding](#bizund)\n",
    "\n",
    "- [ ] Notebook clearly explains the project's value for helping a specific stakeholder solve a real-world problem.\n",
    "\n",
    "\n",
    "- [ ] Introduction explains the real-world problem the project aims to solve\n",
    "\n",
    "\n",
    "- [ ] Introduction identifies stakeholders who could use the project and how they would use it\n",
    "\n",
    "\n",
    "- [ ] Conclusion summarizes implications of the project for the real-world problem and stakeholders\n",
    "\n",
    "---\n",
    "**Data Understanding:**\n",
    "- [ ] Notebook clearly describes the source and properties of the data to show how useful the data are for solving the problem of interest.\n",
    "\n",
    "\n",
    "- [ ] Describe the data sources and explain why the data are suitable for the project\n",
    "\n",
    "\n",
    "- [ ] Present the size of the dataset and descriptive statistics for all features used in the analysis\n",
    "\n",
    "\n",
    "- [ ] Justify the inclusion of features based on their properties and relevance for the project\n",
    "\n",
    "\n",
    "- [ ] Identify any limitations of the data that have implications for the project\n",
    "\n",
    "---\n",
    "**Data Preparation:** \n",
    "- [ ] Notebook shows how you prepare your data and explains why by including…\n",
    "\n",
    "\n",
    "- [ ] Instructions or code needed to get and prepare the raw data for analysis\n",
    "\n",
    "\n",
    "- [ ] Code comments and text to explain what your data preparation code does\n",
    "\n",
    "\n",
    "- [ ] Valid justifications for why the steps you took are appropriate for the problem you are solving\n",
    "\n",
    "---\n",
    "**Modeling:**\n",
    "- [ ] Notebook demonstrates an iterative approach to model building.\n",
    "\n",
    "\n",
    "- [ ] Runs and interprets a simple, baseline model for comparison\n",
    "\n",
    "\n",
    "- [ ] Introduces new models that improve on prior models and interprets their results\n",
    "\n",
    "\n",
    "- [ ] Explicitly justifies model changes based on the results of prior models and the problem context\n",
    "\n",
    "\n",
    "- [ ] Explicitly describes any improvements found from running new models\n",
    "\n",
    "---\n",
    "**Regression Results:**\n",
    "- [ ] Notebook clearly presents two features with strong relationships to sale prices\n",
    "\n",
    "\n",
    "- [ ] Explicitly identify the features and interpret their coefficients in plain language\n",
    "\n",
    "\n",
    "- [ ] Explain the implications of results for the real-world problem the project aims to address\n",
    "\n",
    "\n",
    "- [ ] Identify specific actions that stakeholders should take to leverage these results\n",
    "\n",
    "---\n",
    "**Visualization:**\n",
    "- [ ] Notebook includes three relevant and polished visualizations of findings that…\n",
    "\n",
    "\n",
    "- [ ] Help the project stakeholder understand the value or success of the project\n",
    "\n",
    "\n",
    "- [ ] Have text and marks to aid reader interpretation, such as graph and axis titles, axis ticks and labels, or legend (varies by visualization type)\n",
    "\n",
    "\n",
    "- [ ] Use color, size, and/or location to appropriately facilitate comparisons\n",
    "\n",
    "\n",
    "- [ ] Are not cluttered, dense, or illegible\n",
    "\n",
    "---\n",
    "**Code Quality:**\n",
    "- [ ] Code in notebook and related files meets professional standards (e.g. PEP 8)\n",
    "\n",
    "\n",
    "- [ ] Code is easy to read, using comments, spacing, variable names, and function docstrings\n",
    "\n",
    "\n",
    "- [ ] All code runs and no code or comments are included that are not needed for the project\n",
    "\n",
    "\n",
    "- [ ] Code minimizes repetition, using loops, functions, and classes\n",
    "\n",
    "\n",
    "- [ ] Code adapted from others is properly cited with author names and location of the cited material\n",
    "---"
   ]
  },
  {
   "cell_type": "markdown",
   "metadata": {
    "id": "9zh5kWAlsq1k"
   },
   "source": [
    "# 🏡 **(Re)Selling Seattle: Determining House Sell Prices** 🏡 <a name=\"title\"></a>"
   ]
  },
  {
   "cell_type": "markdown",
   "metadata": {
    "id": "76jtLj8Gsq1n"
   },
   "source": [
    "<a name='bizund'></a>\n",
    "\n",
    "**<p style=\"text-align: center;\">If you are considering selling your house, one of the highest priorities is getting the best price for it.</p>**\n",
    "\n",
    "You want to make sure that the hedges are trimmed; that the basement isn't leaking; and that new coat of paint is covering up all of the \"art\" covering the walls from your kids.\n",
    "\n",
    "*But what else can do you?* Would that extra bathroom under the stairs be a worthwhile addition? What about that addition you always talked about building?\n",
    "\n",
    "---\n",
    "**<p style=\"text-align: center;\">When you are exploring the option of selling, you may ask such questions as:</p>**\n",
    "\n",
    ">* How do the different aspects of your house impact the price?\n",
    ">\n",
    ">\n",
    ">* What can you do to improve the house's value?\n",
    "\n",
    "\n",
    "---\n",
    "You may have some ideas already (and if you don't, watch a few episodes of \"This Old House\" and you will have *plenty* of inspiration).\n",
    "\n",
    "But how do you *really* know what features are best? How can you be sure that your intuition or expectations are based on fact and not assumptions? **Turn to the data for answers!**\n",
    "\n",
    "---\n",
    "**<p style=\"text-align: center;\">Revisiting King County</p>**\n",
    "\n",
    "My [prior exploration](https://github.com/BenJMcCarty/Phase_2_Project_Final) of the King County House Sales dataset yielded some recommendations, but I wanted to see if I can improve them. I am revisiting the data with new techniques and approaches to see how much I can improve the results.\n",
    "\n",
    "---"
   ]
  },
  {
   "cell_type": "markdown",
   "metadata": {},
   "source": [
    "# ❌ BEN - FIX THIS! ❌"
   ]
  },
  {
   "cell_type": "markdown",
   "metadata": {
    "id": "76jtLj8Gsq1n"
   },
   "source": [
    "**WHAT QUESTIONS ARE IMPORTANT FROM THE BUSINESS PERSPECTIVE? WHAT QUESTIONS DID I USE TO GUIDE MY EXPLORATION?** \n",
    "\n",
    "My project used data from house sales in King County, WA. to determine some of the top features determining the sell price of a home.\n",
    "\n",
    "* **First, I explored the data using the Pandas package to review the data itself.** I reviewed the different features included in my dataset and their respective values; the descriptive statistics for the numerical data; and the overall size and shape of the data (how many rows and columns).\n",
    "\n",
    "* **Then, I used Seaborn to plot the data and a fitted linear regression model for each feature against the sell price.** These visualizations helped differentiate which features to treat as *categorical* variables (e.g. features that would be one of a select number of options) versus *continuous* variables (which would have less of a rigid range of values).\n",
    "\n",
    "* **In order to give more depth to my data, I engineered four new features based on the original features and data.** I determined the age of each house at sale; whether or not a home was renovated; how many years since a renovation; and whether or not a house had a basement.\n",
    "\n",
    "* **I wanted to make sure all of the features and their data were relevant to apply to my future model.** I performed correlational comparisons to determine which features were too closely related (indicating multicollinearity), which would affect my modeling process later on.\n",
    "\n",
    "* **To test my assumptions that certain features would have a statistically significant impact on the price, I performed a few statistical tests.** I performed an ANOVA test on our \"condition\" feature (comparing each ranking of condition against the others) and I ran a two-sample t-test on the \"waterfront\" and \"was_renovated\" features as well.\n",
    "\n",
    "* **LReg for Inferences**"
   ]
  },
  {
   "cell_type": "markdown",
   "metadata": {
    "id": "AQQLR7ANsq1o"
   },
   "source": [
    "# 📂 **Setting Up the Tools and Data**"
   ]
  },
  {
   "cell_type": "markdown",
   "metadata": {
    "id": "bl8Y9RaXsq1o"
   },
   "source": [
    "## Imports"
   ]
  },
  {
   "cell_type": "code",
   "execution_count": 75,
   "metadata": {
    "ExecuteTime": {
     "end_time": "2021-07-15T21:41:35.739955Z",
     "start_time": "2021-07-15T21:41:35.622925Z"
    },
    "id": "fwxtrzBMsq1p"
   },
   "outputs": [],
   "source": [
    "# Data Handling\n",
    "import pandas as pd\n",
    "import numpy as np\n",
    "from scipy import stats\n",
    "\n",
    "# Visualizations\n",
    "import matplotlib.pyplot as plt\n",
    "import seaborn as sns\n",
    "import matplotlib as mpl\n",
    "\n",
    "# Modeling - Statsmodels\n",
    "import statsmodels.formula.api as smf\n",
    "import statsmodels.api as sms\n",
    "\n",
    "# Modeling - SKLearn\n",
    "from sklearn import metrics\n",
    "from sklearn.linear_model import LinearRegression\n",
    "from sklearn.metrics import mean_squared_error\n",
    "from sklearn.preprocessing import StandardScaler, OneHotEncoder\n",
    "from sklearn.model_selection import train_test_split, cross_validate\n",
    "from sklearn.feature_selection import RFECV\n",
    "from sklearn.impute import SimpleImputer\n",
    "from sklearn.compose import ColumnTransformer\n",
    "from sklearn.pipeline import Pipeline\n",
    "from sklearn.dummy import DummyRegressor\n",
    "from sklearn import set_config\n",
    "\n",
    "# Settings\n",
    "%matplotlib inline\n",
    "plt.style.use('seaborn-talk')\n",
    "pd.set_option('display.max_columns', None)\n",
    "pd.set_option('display.float_format', lambda x: f'{x:,.2f}')\n",
    "set_config(display='diagram')"
   ]
  },
  {
   "cell_type": "markdown",
   "metadata": {},
   "source": [
    "## Importing Personal Functions"
   ]
  },
  {
   "cell_type": "markdown",
   "metadata": {},
   "source": [
    "I created several functions specific to this project and saved them in an external file. The file is available from the main directory."
   ]
  },
  {
   "cell_type": "code",
   "execution_count": 76,
   "metadata": {
    "ExecuteTime": {
     "end_time": "2021-07-15T21:41:35.895925Z",
     "start_time": "2021-07-15T21:41:35.742926Z"
    }
   },
   "outputs": [
    {
     "name": "stdout",
     "output_type": "stream",
     "text": [
      "The autoreload extension is already loaded. To reload it, use:\n",
      "  %reload_ext autoreload\n"
     ]
    }
   ],
   "source": [
    "%load_ext autoreload\n",
    "%autoreload 2\n",
    "\n",
    "from p2pr_functions.functions import *\n",
    "import p2pr_functions.functions as pf"
   ]
  },
  {
   "cell_type": "code",
   "execution_count": 77,
   "metadata": {
    "ExecuteTime": {
     "end_time": "2021-07-15T21:41:36.019929Z",
     "start_time": "2021-07-15T21:41:35.897925Z"
    },
    "scrolled": false
   },
   "outputs": [],
   "source": [
    "## Uncomment cell to review contents of module\n",
    "# help(pf)"
   ]
  },
  {
   "cell_type": "markdown",
   "metadata": {
    "id": "z6WjRioGsq12"
   },
   "source": [
    "## Reading Data"
   ]
  },
  {
   "cell_type": "code",
   "execution_count": 78,
   "metadata": {
    "ExecuteTime": {
     "end_time": "2021-07-15T21:41:36.176925Z",
     "start_time": "2021-07-15T21:41:36.023926Z"
    },
    "id": "O0NN2C4ysq12"
   },
   "outputs": [],
   "source": [
    "## Reading in data as DataFrame\n",
    "local_data = 'bakeoff_data/Xtrain.csv'\n",
    "\n",
    "df = pd.read_csv(local_data, index_col=0)"
   ]
  },
  {
   "cell_type": "markdown",
   "metadata": {
    "id": "Nd8bcFoVsq12"
   },
   "source": [
    "# 🔮 **Exploring Fresh Data**"
   ]
  },
  {
   "cell_type": "markdown",
   "metadata": {
    "id": "ABcBsWZusq12"
   },
   "source": [
    "## Basic Overviews"
   ]
  },
  {
   "cell_type": "markdown",
   "metadata": {
    "id": "KViKvrsBsq12"
   },
   "source": [
    "The goal for this section is to get a broad idea of the data before I start any cleaning or feature engineering."
   ]
  },
  {
   "cell_type": "code",
   "execution_count": 79,
   "metadata": {
    "ExecuteTime": {
     "end_time": "2021-07-15T21:41:36.315923Z",
     "start_time": "2021-07-15T21:41:36.178923Z"
    },
    "colab": {
     "base_uri": "https://localhost:8080/",
     "height": 255
    },
    "id": "Ftg2a7Ivsq13",
    "outputId": "881da1ae-4997-4de2-87b8-42dc402f41a7",
    "scrolled": true
   },
   "outputs": [
    {
     "data": {
      "text/html": [
       "<div>\n",
       "<style scoped>\n",
       "    .dataframe tbody tr th:only-of-type {\n",
       "        vertical-align: middle;\n",
       "    }\n",
       "\n",
       "    .dataframe tbody tr th {\n",
       "        vertical-align: top;\n",
       "    }\n",
       "\n",
       "    .dataframe thead th {\n",
       "        text-align: right;\n",
       "    }\n",
       "</style>\n",
       "<table border=\"1\" class=\"dataframe\">\n",
       "  <thead>\n",
       "    <tr style=\"text-align: right;\">\n",
       "      <th></th>\n",
       "      <th>bedrooms</th>\n",
       "      <th>bathrooms</th>\n",
       "      <th>sqft_living</th>\n",
       "      <th>sqft_lot</th>\n",
       "      <th>floors</th>\n",
       "      <th>waterfront</th>\n",
       "      <th>view</th>\n",
       "      <th>condition</th>\n",
       "      <th>grade</th>\n",
       "      <th>sqft_above</th>\n",
       "      <th>sqft_basement</th>\n",
       "      <th>yr_built</th>\n",
       "      <th>yr_renovated</th>\n",
       "      <th>zipcode</th>\n",
       "      <th>lat</th>\n",
       "      <th>long</th>\n",
       "      <th>sqft_living15</th>\n",
       "      <th>sqft_lot15</th>\n",
       "    </tr>\n",
       "    <tr>\n",
       "      <th>date</th>\n",
       "      <th></th>\n",
       "      <th></th>\n",
       "      <th></th>\n",
       "      <th></th>\n",
       "      <th></th>\n",
       "      <th></th>\n",
       "      <th></th>\n",
       "      <th></th>\n",
       "      <th></th>\n",
       "      <th></th>\n",
       "      <th></th>\n",
       "      <th></th>\n",
       "      <th></th>\n",
       "      <th></th>\n",
       "      <th></th>\n",
       "      <th></th>\n",
       "      <th></th>\n",
       "      <th></th>\n",
       "    </tr>\n",
       "  </thead>\n",
       "  <tbody>\n",
       "    <tr>\n",
       "      <th>3/4/2015</th>\n",
       "      <td>3</td>\n",
       "      <td>2.50</td>\n",
       "      <td>1880</td>\n",
       "      <td>4499</td>\n",
       "      <td>2.00</td>\n",
       "      <td>0.00</td>\n",
       "      <td>0.00</td>\n",
       "      <td>3</td>\n",
       "      <td>8</td>\n",
       "      <td>1880</td>\n",
       "      <td>0.0</td>\n",
       "      <td>1993</td>\n",
       "      <td>0.00</td>\n",
       "      <td>98029</td>\n",
       "      <td>47.57</td>\n",
       "      <td>-122.00</td>\n",
       "      <td>2130</td>\n",
       "      <td>5114</td>\n",
       "    </tr>\n",
       "    <tr>\n",
       "      <th>10/7/2014</th>\n",
       "      <td>3</td>\n",
       "      <td>2.50</td>\n",
       "      <td>2020</td>\n",
       "      <td>6564</td>\n",
       "      <td>1.00</td>\n",
       "      <td>0.00</td>\n",
       "      <td>0.00</td>\n",
       "      <td>3</td>\n",
       "      <td>7</td>\n",
       "      <td>1310</td>\n",
       "      <td>710.0</td>\n",
       "      <td>1994</td>\n",
       "      <td>0.00</td>\n",
       "      <td>98042</td>\n",
       "      <td>47.35</td>\n",
       "      <td>-122.16</td>\n",
       "      <td>1710</td>\n",
       "      <td>5151</td>\n",
       "    </tr>\n",
       "    <tr>\n",
       "      <th>1/16/2015</th>\n",
       "      <td>5</td>\n",
       "      <td>4.00</td>\n",
       "      <td>4720</td>\n",
       "      <td>493534</td>\n",
       "      <td>2.00</td>\n",
       "      <td>0.00</td>\n",
       "      <td>0.00</td>\n",
       "      <td>5</td>\n",
       "      <td>9</td>\n",
       "      <td>3960</td>\n",
       "      <td>760.0</td>\n",
       "      <td>1975</td>\n",
       "      <td>0.00</td>\n",
       "      <td>98027</td>\n",
       "      <td>47.45</td>\n",
       "      <td>-122.01</td>\n",
       "      <td>2160</td>\n",
       "      <td>219542</td>\n",
       "    </tr>\n",
       "    <tr>\n",
       "      <th>3/30/2015</th>\n",
       "      <td>2</td>\n",
       "      <td>2.00</td>\n",
       "      <td>1430</td>\n",
       "      <td>3880</td>\n",
       "      <td>1.00</td>\n",
       "      <td>0.00</td>\n",
       "      <td>0.00</td>\n",
       "      <td>4</td>\n",
       "      <td>7</td>\n",
       "      <td>1430</td>\n",
       "      <td>0.0</td>\n",
       "      <td>1949</td>\n",
       "      <td>0.00</td>\n",
       "      <td>98117</td>\n",
       "      <td>47.68</td>\n",
       "      <td>-122.39</td>\n",
       "      <td>1430</td>\n",
       "      <td>3880</td>\n",
       "    </tr>\n",
       "    <tr>\n",
       "      <th>10/14/2014</th>\n",
       "      <td>3</td>\n",
       "      <td>2.25</td>\n",
       "      <td>2270</td>\n",
       "      <td>32112</td>\n",
       "      <td>1.00</td>\n",
       "      <td>0.00</td>\n",
       "      <td>0.00</td>\n",
       "      <td>4</td>\n",
       "      <td>8</td>\n",
       "      <td>1740</td>\n",
       "      <td>530.0</td>\n",
       "      <td>1980</td>\n",
       "      <td>0.00</td>\n",
       "      <td>98042</td>\n",
       "      <td>47.35</td>\n",
       "      <td>-122.09</td>\n",
       "      <td>2310</td>\n",
       "      <td>41606</td>\n",
       "    </tr>\n",
       "  </tbody>\n",
       "</table>\n",
       "</div>"
      ],
      "text/plain": [
       "            bedrooms  bathrooms  sqft_living  sqft_lot  floors  waterfront  \\\n",
       "date                                                                         \n",
       "3/4/2015           3       2.50         1880      4499    2.00        0.00   \n",
       "10/7/2014          3       2.50         2020      6564    1.00        0.00   \n",
       "1/16/2015          5       4.00         4720    493534    2.00        0.00   \n",
       "3/30/2015          2       2.00         1430      3880    1.00        0.00   \n",
       "10/14/2014         3       2.25         2270     32112    1.00        0.00   \n",
       "\n",
       "            view  condition  grade  sqft_above sqft_basement  yr_built  \\\n",
       "date                                                                     \n",
       "3/4/2015    0.00          3      8        1880           0.0      1993   \n",
       "10/7/2014   0.00          3      7        1310         710.0      1994   \n",
       "1/16/2015   0.00          5      9        3960         760.0      1975   \n",
       "3/30/2015   0.00          4      7        1430           0.0      1949   \n",
       "10/14/2014  0.00          4      8        1740         530.0      1980   \n",
       "\n",
       "            yr_renovated  zipcode   lat    long  sqft_living15  sqft_lot15  \n",
       "date                                                                        \n",
       "3/4/2015            0.00    98029 47.57 -122.00           2130        5114  \n",
       "10/7/2014           0.00    98042 47.35 -122.16           1710        5151  \n",
       "1/16/2015           0.00    98027 47.45 -122.01           2160      219542  \n",
       "3/30/2015           0.00    98117 47.68 -122.39           1430        3880  \n",
       "10/14/2014          0.00    98042 47.35 -122.09           2310       41606  "
      ]
     },
     "execution_count": 79,
     "metadata": {},
     "output_type": "execute_result"
    }
   ],
   "source": [
    "df.head()"
   ]
  },
  {
   "cell_type": "code",
   "execution_count": null,
   "metadata": {},
   "outputs": [],
   "source": []
  },
  {
   "cell_type": "code",
   "execution_count": 80,
   "metadata": {
    "ExecuteTime": {
     "end_time": "2021-07-15T21:41:36.505927Z",
     "start_time": "2021-07-15T21:41:36.318928Z"
    },
    "colab": {
     "background_save": true
    },
    "id": "9KY_8DSasq13",
    "outputId": "c14f735d-e743-4955-f104-ae82bd334268"
   },
   "outputs": [
    {
     "name": "stdout",
     "output_type": "stream",
     "text": [
      "(16197, 18)\n"
     ]
    },
    {
     "data": {
      "text/html": [
       "<div>\n",
       "<style scoped>\n",
       "    .dataframe tbody tr th:only-of-type {\n",
       "        vertical-align: middle;\n",
       "    }\n",
       "\n",
       "    .dataframe tbody tr th {\n",
       "        vertical-align: top;\n",
       "    }\n",
       "\n",
       "    .dataframe thead th {\n",
       "        text-align: right;\n",
       "    }\n",
       "</style>\n",
       "<table border=\"1\" class=\"dataframe\">\n",
       "  <thead>\n",
       "    <tr style=\"text-align: right;\">\n",
       "      <th></th>\n",
       "      <th>datatypes</th>\n",
       "      <th>num_unique</th>\n",
       "      <th>null_sum</th>\n",
       "      <th>null_pct</th>\n",
       "      <th>count</th>\n",
       "      <th>mean</th>\n",
       "      <th>std</th>\n",
       "      <th>min</th>\n",
       "      <th>25%</th>\n",
       "      <th>50%</th>\n",
       "      <th>75%</th>\n",
       "      <th>max</th>\n",
       "    </tr>\n",
       "  </thead>\n",
       "  <tbody>\n",
       "    <tr>\n",
       "      <th>bedrooms</th>\n",
       "      <td>int64</td>\n",
       "      <td>11</td>\n",
       "      <td>0</td>\n",
       "      <td>0.00</td>\n",
       "      <td>16,197.00</td>\n",
       "      <td>3.37</td>\n",
       "      <td>0.91</td>\n",
       "      <td>1.00</td>\n",
       "      <td>3.00</td>\n",
       "      <td>3.00</td>\n",
       "      <td>4.00</td>\n",
       "      <td>11.00</td>\n",
       "    </tr>\n",
       "    <tr>\n",
       "      <th>bathrooms</th>\n",
       "      <td>float64</td>\n",
       "      <td>26</td>\n",
       "      <td>0</td>\n",
       "      <td>0.00</td>\n",
       "      <td>16,197.00</td>\n",
       "      <td>2.12</td>\n",
       "      <td>0.77</td>\n",
       "      <td>0.50</td>\n",
       "      <td>1.75</td>\n",
       "      <td>2.25</td>\n",
       "      <td>2.50</td>\n",
       "      <td>8.00</td>\n",
       "    </tr>\n",
       "    <tr>\n",
       "      <th>sqft_living</th>\n",
       "      <td>int64</td>\n",
       "      <td>896</td>\n",
       "      <td>0</td>\n",
       "      <td>0.00</td>\n",
       "      <td>16,197.00</td>\n",
       "      <td>2,083.69</td>\n",
       "      <td>918.21</td>\n",
       "      <td>370.00</td>\n",
       "      <td>1,430.00</td>\n",
       "      <td>1,912.00</td>\n",
       "      <td>2,560.00</td>\n",
       "      <td>13,540.00</td>\n",
       "    </tr>\n",
       "    <tr>\n",
       "      <th>sqft_lot</th>\n",
       "      <td>int64</td>\n",
       "      <td>8015</td>\n",
       "      <td>0</td>\n",
       "      <td>0.00</td>\n",
       "      <td>16,197.00</td>\n",
       "      <td>15,071.89</td>\n",
       "      <td>40,775.85</td>\n",
       "      <td>520.00</td>\n",
       "      <td>5,058.00</td>\n",
       "      <td>7,620.00</td>\n",
       "      <td>10,720.00</td>\n",
       "      <td>1,651,359.00</td>\n",
       "    </tr>\n",
       "    <tr>\n",
       "      <th>floors</th>\n",
       "      <td>float64</td>\n",
       "      <td>6</td>\n",
       "      <td>0</td>\n",
       "      <td>0.00</td>\n",
       "      <td>16,197.00</td>\n",
       "      <td>1.49</td>\n",
       "      <td>0.54</td>\n",
       "      <td>1.00</td>\n",
       "      <td>1.00</td>\n",
       "      <td>1.50</td>\n",
       "      <td>2.00</td>\n",
       "      <td>3.50</td>\n",
       "    </tr>\n",
       "    <tr>\n",
       "      <th>waterfront</th>\n",
       "      <td>float64</td>\n",
       "      <td>2</td>\n",
       "      <td>1756</td>\n",
       "      <td>0.11</td>\n",
       "      <td>14,441.00</td>\n",
       "      <td>0.01</td>\n",
       "      <td>0.09</td>\n",
       "      <td>0.00</td>\n",
       "      <td>0.00</td>\n",
       "      <td>0.00</td>\n",
       "      <td>0.00</td>\n",
       "      <td>1.00</td>\n",
       "    </tr>\n",
       "    <tr>\n",
       "      <th>view</th>\n",
       "      <td>float64</td>\n",
       "      <td>5</td>\n",
       "      <td>49</td>\n",
       "      <td>0.00</td>\n",
       "      <td>16,148.00</td>\n",
       "      <td>0.23</td>\n",
       "      <td>0.77</td>\n",
       "      <td>0.00</td>\n",
       "      <td>0.00</td>\n",
       "      <td>0.00</td>\n",
       "      <td>0.00</td>\n",
       "      <td>4.00</td>\n",
       "    </tr>\n",
       "    <tr>\n",
       "      <th>condition</th>\n",
       "      <td>int64</td>\n",
       "      <td>5</td>\n",
       "      <td>0</td>\n",
       "      <td>0.00</td>\n",
       "      <td>16,197.00</td>\n",
       "      <td>3.41</td>\n",
       "      <td>0.65</td>\n",
       "      <td>1.00</td>\n",
       "      <td>3.00</td>\n",
       "      <td>3.00</td>\n",
       "      <td>4.00</td>\n",
       "      <td>5.00</td>\n",
       "    </tr>\n",
       "    <tr>\n",
       "      <th>grade</th>\n",
       "      <td>int64</td>\n",
       "      <td>11</td>\n",
       "      <td>0</td>\n",
       "      <td>0.00</td>\n",
       "      <td>16,197.00</td>\n",
       "      <td>7.66</td>\n",
       "      <td>1.17</td>\n",
       "      <td>3.00</td>\n",
       "      <td>7.00</td>\n",
       "      <td>7.00</td>\n",
       "      <td>8.00</td>\n",
       "      <td>13.00</td>\n",
       "    </tr>\n",
       "    <tr>\n",
       "      <th>sqft_above</th>\n",
       "      <td>int64</td>\n",
       "      <td>814</td>\n",
       "      <td>0</td>\n",
       "      <td>0.00</td>\n",
       "      <td>16,197.00</td>\n",
       "      <td>1,790.47</td>\n",
       "      <td>827.60</td>\n",
       "      <td>370.00</td>\n",
       "      <td>1,200.00</td>\n",
       "      <td>1,560.00</td>\n",
       "      <td>2,220.00</td>\n",
       "      <td>9,410.00</td>\n",
       "    </tr>\n",
       "    <tr>\n",
       "      <th>sqft_basement</th>\n",
       "      <td>object</td>\n",
       "      <td>280</td>\n",
       "      <td>0</td>\n",
       "      <td>0.00</td>\n",
       "      <td>nan</td>\n",
       "      <td>nan</td>\n",
       "      <td>nan</td>\n",
       "      <td>nan</td>\n",
       "      <td>nan</td>\n",
       "      <td>nan</td>\n",
       "      <td>nan</td>\n",
       "      <td>nan</td>\n",
       "    </tr>\n",
       "    <tr>\n",
       "      <th>yr_built</th>\n",
       "      <td>int64</td>\n",
       "      <td>116</td>\n",
       "      <td>0</td>\n",
       "      <td>0.00</td>\n",
       "      <td>16,197.00</td>\n",
       "      <td>1,971.02</td>\n",
       "      <td>29.33</td>\n",
       "      <td>1,900.00</td>\n",
       "      <td>1,952.00</td>\n",
       "      <td>1,975.00</td>\n",
       "      <td>1,997.00</td>\n",
       "      <td>2,015.00</td>\n",
       "    </tr>\n",
       "    <tr>\n",
       "      <th>yr_renovated</th>\n",
       "      <td>float64</td>\n",
       "      <td>66</td>\n",
       "      <td>2879</td>\n",
       "      <td>0.18</td>\n",
       "      <td>13,318.00</td>\n",
       "      <td>81.99</td>\n",
       "      <td>396.21</td>\n",
       "      <td>0.00</td>\n",
       "      <td>0.00</td>\n",
       "      <td>0.00</td>\n",
       "      <td>0.00</td>\n",
       "      <td>2,015.00</td>\n",
       "    </tr>\n",
       "    <tr>\n",
       "      <th>zipcode</th>\n",
       "      <td>int64</td>\n",
       "      <td>70</td>\n",
       "      <td>0</td>\n",
       "      <td>0.00</td>\n",
       "      <td>16,197.00</td>\n",
       "      <td>98,078.10</td>\n",
       "      <td>53.49</td>\n",
       "      <td>98,001.00</td>\n",
       "      <td>98,033.00</td>\n",
       "      <td>98,065.00</td>\n",
       "      <td>98,117.00</td>\n",
       "      <td>98,199.00</td>\n",
       "    </tr>\n",
       "    <tr>\n",
       "      <th>lat</th>\n",
       "      <td>float64</td>\n",
       "      <td>4783</td>\n",
       "      <td>0</td>\n",
       "      <td>0.00</td>\n",
       "      <td>16,197.00</td>\n",
       "      <td>47.56</td>\n",
       "      <td>0.14</td>\n",
       "      <td>47.16</td>\n",
       "      <td>47.47</td>\n",
       "      <td>47.57</td>\n",
       "      <td>47.68</td>\n",
       "      <td>47.78</td>\n",
       "    </tr>\n",
       "    <tr>\n",
       "      <th>long</th>\n",
       "      <td>float64</td>\n",
       "      <td>720</td>\n",
       "      <td>0</td>\n",
       "      <td>0.00</td>\n",
       "      <td>16,197.00</td>\n",
       "      <td>-122.21</td>\n",
       "      <td>0.14</td>\n",
       "      <td>-122.52</td>\n",
       "      <td>-122.33</td>\n",
       "      <td>-122.23</td>\n",
       "      <td>-122.12</td>\n",
       "      <td>-121.31</td>\n",
       "    </tr>\n",
       "    <tr>\n",
       "      <th>sqft_living15</th>\n",
       "      <td>int64</td>\n",
       "      <td>691</td>\n",
       "      <td>0</td>\n",
       "      <td>0.00</td>\n",
       "      <td>16,197.00</td>\n",
       "      <td>1,987.81</td>\n",
       "      <td>685.19</td>\n",
       "      <td>399.00</td>\n",
       "      <td>1,490.00</td>\n",
       "      <td>1,840.00</td>\n",
       "      <td>2,360.00</td>\n",
       "      <td>6,210.00</td>\n",
       "    </tr>\n",
       "    <tr>\n",
       "      <th>sqft_lot15</th>\n",
       "      <td>int64</td>\n",
       "      <td>7230</td>\n",
       "      <td>0</td>\n",
       "      <td>0.00</td>\n",
       "      <td>16,197.00</td>\n",
       "      <td>12,784.07</td>\n",
       "      <td>26,833.38</td>\n",
       "      <td>651.00</td>\n",
       "      <td>5,100.00</td>\n",
       "      <td>7,620.00</td>\n",
       "      <td>10,086.00</td>\n",
       "      <td>871,200.00</td>\n",
       "    </tr>\n",
       "  </tbody>\n",
       "</table>\n",
       "</div>"
      ],
      "text/plain": [
       "              datatypes  num_unique  null_sum  null_pct     count      mean  \\\n",
       "bedrooms          int64          11         0      0.00 16,197.00      3.37   \n",
       "bathrooms       float64          26         0      0.00 16,197.00      2.12   \n",
       "sqft_living       int64         896         0      0.00 16,197.00  2,083.69   \n",
       "sqft_lot          int64        8015         0      0.00 16,197.00 15,071.89   \n",
       "floors          float64           6         0      0.00 16,197.00      1.49   \n",
       "waterfront      float64           2      1756      0.11 14,441.00      0.01   \n",
       "view            float64           5        49      0.00 16,148.00      0.23   \n",
       "condition         int64           5         0      0.00 16,197.00      3.41   \n",
       "grade             int64          11         0      0.00 16,197.00      7.66   \n",
       "sqft_above        int64         814         0      0.00 16,197.00  1,790.47   \n",
       "sqft_basement    object         280         0      0.00       nan       nan   \n",
       "yr_built          int64         116         0      0.00 16,197.00  1,971.02   \n",
       "yr_renovated    float64          66      2879      0.18 13,318.00     81.99   \n",
       "zipcode           int64          70         0      0.00 16,197.00 98,078.10   \n",
       "lat             float64        4783         0      0.00 16,197.00     47.56   \n",
       "long            float64         720         0      0.00 16,197.00   -122.21   \n",
       "sqft_living15     int64         691         0      0.00 16,197.00  1,987.81   \n",
       "sqft_lot15        int64        7230         0      0.00 16,197.00 12,784.07   \n",
       "\n",
       "                    std       min       25%       50%       75%          max  \n",
       "bedrooms           0.91      1.00      3.00      3.00      4.00        11.00  \n",
       "bathrooms          0.77      0.50      1.75      2.25      2.50         8.00  \n",
       "sqft_living      918.21    370.00  1,430.00  1,912.00  2,560.00    13,540.00  \n",
       "sqft_lot      40,775.85    520.00  5,058.00  7,620.00 10,720.00 1,651,359.00  \n",
       "floors             0.54      1.00      1.00      1.50      2.00         3.50  \n",
       "waterfront         0.09      0.00      0.00      0.00      0.00         1.00  \n",
       "view               0.77      0.00      0.00      0.00      0.00         4.00  \n",
       "condition          0.65      1.00      3.00      3.00      4.00         5.00  \n",
       "grade              1.17      3.00      7.00      7.00      8.00        13.00  \n",
       "sqft_above       827.60    370.00  1,200.00  1,560.00  2,220.00     9,410.00  \n",
       "sqft_basement       nan       nan       nan       nan       nan          nan  \n",
       "yr_built          29.33  1,900.00  1,952.00  1,975.00  1,997.00     2,015.00  \n",
       "yr_renovated     396.21      0.00      0.00      0.00      0.00     2,015.00  \n",
       "zipcode           53.49 98,001.00 98,033.00 98,065.00 98,117.00    98,199.00  \n",
       "lat                0.14     47.16     47.47     47.57     47.68        47.78  \n",
       "long               0.14   -122.52   -122.33   -122.23   -122.12      -121.31  \n",
       "sqft_living15    685.19    399.00  1,490.00  1,840.00  2,360.00     6,210.00  \n",
       "sqft_lot15    26,833.38    651.00  5,100.00  7,620.00 10,086.00   871,200.00  "
      ]
     },
     "execution_count": 80,
     "metadata": {},
     "output_type": "execute_result"
    }
   ],
   "source": [
    "## Review summary of dataframe details\n",
    "report_df(df)"
   ]
  },
  {
   "cell_type": "markdown",
   "metadata": {
    "id": "wOmmqD7koDQi"
   },
   "source": [
    "## Data Cleaning and Processing"
   ]
  },
  {
   "cell_type": "markdown",
   "metadata": {
    "id": "81U2WYpRsq14"
   },
   "source": [
    "---\n",
    "**DF Columns to Convert**\n",
    "\n",
    "* 'date' to datetime; continuous variable\n",
    "\n",
    "\n",
    "Potential Changes:\n",
    "\n",
    ">* 'waterfront' to category; nominal/binary variable\n",
    ">* 'view' to category; ordinal\n",
    ">* 'condition' to category; ordinal variable\n",
    ">* 'grade' to category; ordinal variable\n",
    ">* 'zipcode' to category; nominal variable\n",
    "\n",
    "\n",
    "---\n",
    "**Null Values to Process**\n",
    "\n",
    "Columns with null values:\n",
    "* 'yr_renovated'\n",
    "* 'waterfront\n",
    "* 'view'\n",
    "\n",
    "Options:\n",
    ">* Fill with mean/median/mode\n",
    ">* Fill with zeroes\n",
    ">\n",
    ">\n",
    ">* **PIPELINES!!!**\n",
    ">    * SimpleImputer\n",
    ">    * IterativeImputer *(Experimental)*\n",
    ">    * GridSearchCV for hyperparameter tuning\n",
    "\n",
    "---"
   ]
  },
  {
   "cell_type": "code",
   "execution_count": 81,
   "metadata": {
    "ExecuteTime": {
     "end_time": "2021-07-15T21:41:36.674927Z",
     "start_time": "2021-07-15T21:41:36.507925Z"
    },
    "colab": {
     "base_uri": "https://localhost:8080/"
    },
    "id": "NK_VFrBh6-Q1",
    "outputId": "5cfa8293-6e19-435c-ddf8-84aa3ca622d7"
   },
   "outputs": [
    {
     "ename": "KeyError",
     "evalue": "'date'",
     "output_type": "error",
     "traceback": [
      "\u001b[1;31m---------------------------------------------------------------------------\u001b[0m",
      "\u001b[1;31mKeyError\u001b[0m                                  Traceback (most recent call last)",
      "\u001b[1;32m~\\anaconda3\\envs\\learn-env-bmc\\lib\\site-packages\\pandas\\core\\indexes\\base.py\u001b[0m in \u001b[0;36mget_loc\u001b[1;34m(self, key, method, tolerance)\u001b[0m\n\u001b[0;32m   2894\u001b[0m             \u001b[1;32mtry\u001b[0m\u001b[1;33m:\u001b[0m\u001b[1;33m\u001b[0m\u001b[1;33m\u001b[0m\u001b[0m\n\u001b[1;32m-> 2895\u001b[1;33m                 \u001b[1;32mreturn\u001b[0m \u001b[0mself\u001b[0m\u001b[1;33m.\u001b[0m\u001b[0m_engine\u001b[0m\u001b[1;33m.\u001b[0m\u001b[0mget_loc\u001b[0m\u001b[1;33m(\u001b[0m\u001b[0mcasted_key\u001b[0m\u001b[1;33m)\u001b[0m\u001b[1;33m\u001b[0m\u001b[1;33m\u001b[0m\u001b[0m\n\u001b[0m\u001b[0;32m   2896\u001b[0m             \u001b[1;32mexcept\u001b[0m \u001b[0mKeyError\u001b[0m \u001b[1;32mas\u001b[0m \u001b[0merr\u001b[0m\u001b[1;33m:\u001b[0m\u001b[1;33m\u001b[0m\u001b[1;33m\u001b[0m\u001b[0m\n",
      "\u001b[1;32mpandas\\_libs\\index.pyx\u001b[0m in \u001b[0;36mpandas._libs.index.IndexEngine.get_loc\u001b[1;34m()\u001b[0m\n",
      "\u001b[1;32mpandas\\_libs\\index.pyx\u001b[0m in \u001b[0;36mpandas._libs.index.IndexEngine.get_loc\u001b[1;34m()\u001b[0m\n",
      "\u001b[1;32mpandas\\_libs\\hashtable_class_helper.pxi\u001b[0m in \u001b[0;36mpandas._libs.hashtable.PyObjectHashTable.get_item\u001b[1;34m()\u001b[0m\n",
      "\u001b[1;32mpandas\\_libs\\hashtable_class_helper.pxi\u001b[0m in \u001b[0;36mpandas._libs.hashtable.PyObjectHashTable.get_item\u001b[1;34m()\u001b[0m\n",
      "\u001b[1;31mKeyError\u001b[0m: 'date'",
      "\nThe above exception was the direct cause of the following exception:\n",
      "\u001b[1;31mKeyError\u001b[0m                                  Traceback (most recent call last)",
      "\u001b[1;32m<ipython-input-81-51ad5b1d2206>\u001b[0m in \u001b[0;36m<module>\u001b[1;34m\u001b[0m\n\u001b[0;32m      1\u001b[0m \u001b[1;31m## Converting 'date' column to datetime\u001b[0m\u001b[1;33m\u001b[0m\u001b[1;33m\u001b[0m\u001b[1;33m\u001b[0m\u001b[0m\n\u001b[0;32m      2\u001b[0m \u001b[1;33m\u001b[0m\u001b[0m\n\u001b[1;32m----> 3\u001b[1;33m \u001b[0mdf\u001b[0m\u001b[1;33m[\u001b[0m\u001b[1;34m'date'\u001b[0m\u001b[1;33m]\u001b[0m \u001b[1;33m=\u001b[0m \u001b[0mpd\u001b[0m\u001b[1;33m.\u001b[0m\u001b[0mto_datetime\u001b[0m\u001b[1;33m(\u001b[0m\u001b[0mdf\u001b[0m\u001b[1;33m[\u001b[0m\u001b[1;34m'date'\u001b[0m\u001b[1;33m]\u001b[0m\u001b[1;33m)\u001b[0m\u001b[1;33m\u001b[0m\u001b[1;33m\u001b[0m\u001b[0m\n\u001b[0m\u001b[0;32m      4\u001b[0m \u001b[0mdf\u001b[0m\u001b[1;33m[\u001b[0m\u001b[1;34m'date'\u001b[0m\u001b[1;33m]\u001b[0m\u001b[1;33m\u001b[0m\u001b[1;33m\u001b[0m\u001b[0m\n",
      "\u001b[1;32m~\\anaconda3\\envs\\learn-env-bmc\\lib\\site-packages\\pandas\\core\\frame.py\u001b[0m in \u001b[0;36m__getitem__\u001b[1;34m(self, key)\u001b[0m\n\u001b[0;32m   2900\u001b[0m             \u001b[1;32mif\u001b[0m \u001b[0mself\u001b[0m\u001b[1;33m.\u001b[0m\u001b[0mcolumns\u001b[0m\u001b[1;33m.\u001b[0m\u001b[0mnlevels\u001b[0m \u001b[1;33m>\u001b[0m \u001b[1;36m1\u001b[0m\u001b[1;33m:\u001b[0m\u001b[1;33m\u001b[0m\u001b[1;33m\u001b[0m\u001b[0m\n\u001b[0;32m   2901\u001b[0m                 \u001b[1;32mreturn\u001b[0m \u001b[0mself\u001b[0m\u001b[1;33m.\u001b[0m\u001b[0m_getitem_multilevel\u001b[0m\u001b[1;33m(\u001b[0m\u001b[0mkey\u001b[0m\u001b[1;33m)\u001b[0m\u001b[1;33m\u001b[0m\u001b[1;33m\u001b[0m\u001b[0m\n\u001b[1;32m-> 2902\u001b[1;33m             \u001b[0mindexer\u001b[0m \u001b[1;33m=\u001b[0m \u001b[0mself\u001b[0m\u001b[1;33m.\u001b[0m\u001b[0mcolumns\u001b[0m\u001b[1;33m.\u001b[0m\u001b[0mget_loc\u001b[0m\u001b[1;33m(\u001b[0m\u001b[0mkey\u001b[0m\u001b[1;33m)\u001b[0m\u001b[1;33m\u001b[0m\u001b[1;33m\u001b[0m\u001b[0m\n\u001b[0m\u001b[0;32m   2903\u001b[0m             \u001b[1;32mif\u001b[0m \u001b[0mis_integer\u001b[0m\u001b[1;33m(\u001b[0m\u001b[0mindexer\u001b[0m\u001b[1;33m)\u001b[0m\u001b[1;33m:\u001b[0m\u001b[1;33m\u001b[0m\u001b[1;33m\u001b[0m\u001b[0m\n\u001b[0;32m   2904\u001b[0m                 \u001b[0mindexer\u001b[0m \u001b[1;33m=\u001b[0m \u001b[1;33m[\u001b[0m\u001b[0mindexer\u001b[0m\u001b[1;33m]\u001b[0m\u001b[1;33m\u001b[0m\u001b[1;33m\u001b[0m\u001b[0m\n",
      "\u001b[1;32m~\\anaconda3\\envs\\learn-env-bmc\\lib\\site-packages\\pandas\\core\\indexes\\base.py\u001b[0m in \u001b[0;36mget_loc\u001b[1;34m(self, key, method, tolerance)\u001b[0m\n\u001b[0;32m   2895\u001b[0m                 \u001b[1;32mreturn\u001b[0m \u001b[0mself\u001b[0m\u001b[1;33m.\u001b[0m\u001b[0m_engine\u001b[0m\u001b[1;33m.\u001b[0m\u001b[0mget_loc\u001b[0m\u001b[1;33m(\u001b[0m\u001b[0mcasted_key\u001b[0m\u001b[1;33m)\u001b[0m\u001b[1;33m\u001b[0m\u001b[1;33m\u001b[0m\u001b[0m\n\u001b[0;32m   2896\u001b[0m             \u001b[1;32mexcept\u001b[0m \u001b[0mKeyError\u001b[0m \u001b[1;32mas\u001b[0m \u001b[0merr\u001b[0m\u001b[1;33m:\u001b[0m\u001b[1;33m\u001b[0m\u001b[1;33m\u001b[0m\u001b[0m\n\u001b[1;32m-> 2897\u001b[1;33m                 \u001b[1;32mraise\u001b[0m \u001b[0mKeyError\u001b[0m\u001b[1;33m(\u001b[0m\u001b[0mkey\u001b[0m\u001b[1;33m)\u001b[0m \u001b[1;32mfrom\u001b[0m \u001b[0merr\u001b[0m\u001b[1;33m\u001b[0m\u001b[1;33m\u001b[0m\u001b[0m\n\u001b[0m\u001b[0;32m   2898\u001b[0m \u001b[1;33m\u001b[0m\u001b[0m\n\u001b[0;32m   2899\u001b[0m         \u001b[1;32mif\u001b[0m \u001b[0mtolerance\u001b[0m \u001b[1;32mis\u001b[0m \u001b[1;32mnot\u001b[0m \u001b[1;32mNone\u001b[0m\u001b[1;33m:\u001b[0m\u001b[1;33m\u001b[0m\u001b[1;33m\u001b[0m\u001b[0m\n",
      "\u001b[1;31mKeyError\u001b[0m: 'date'"
     ]
    }
   ],
   "source": [
    "## Converting 'date' column to datetime\n",
    "\n",
    "df['date'] = pd.to_datetime(df['date'])\n",
    "df['date']"
   ]
  },
  {
   "cell_type": "code",
   "execution_count": null,
   "metadata": {
    "ExecuteTime": {
     "end_time": "2021-07-15T21:41:36.679927Z",
     "start_time": "2021-07-15T21:41:35.654Z"
    },
    "colab": {
     "base_uri": "https://localhost:8080/"
    },
    "id": "dBgOkFsVChMH",
    "outputId": "966e713c-4e28-44ee-bbab-129181812a3d"
   },
   "outputs": [],
   "source": [
    "## Converting 'sqft_basement' to numeric and filling any null values with zero\n",
    "\n",
    "df['sqft_basement'] = pd.to_numeric(df['sqft_basement'], errors='coerce')\n",
    "df['sqft_basement']"
   ]
  },
  {
   "cell_type": "code",
   "execution_count": null,
   "metadata": {
    "ExecuteTime": {
     "end_time": "2021-07-15T21:41:36.680928Z",
     "start_time": "2021-07-15T21:41:35.657Z"
    },
    "colab": {
     "base_uri": "https://localhost:8080/"
    },
    "id": "nRe-PxjkAlUj",
    "outputId": "436d4e4e-f2b3-44db-a970-0d9b9fd2a986"
   },
   "outputs": [],
   "source": [
    "##Filling null values with the most frequent value\n",
    "\n",
    "for col in df:\n",
    "    if df[col].isna().sum() > 0:\n",
    "        df[col].fillna(df[col].mode()[0], inplace=True)"
   ]
  },
  {
   "cell_type": "code",
   "execution_count": null,
   "metadata": {
    "ExecuteTime": {
     "end_time": "2021-07-15T21:41:36.681923Z",
     "start_time": "2021-07-15T21:41:35.662Z"
    },
    "colab": {
     "base_uri": "https://localhost:8080/"
    },
    "id": "Alb_l0T3Bhha",
    "outputId": "39f6a342-034b-4756-835a-bb262c119940"
   },
   "outputs": [],
   "source": [
    "## Reviewing dataframe post-fill\n",
    "\n",
    "report_df(df)"
   ]
  },
  {
   "cell_type": "markdown",
   "metadata": {
    "id": "jxVD4Vyosq14"
   },
   "source": [
    "### Overview Summary"
   ]
  },
  {
   "cell_type": "markdown",
   "metadata": {
    "id": "xFgxYi-Ysq14"
   },
   "source": [
    "The dataset contains 20 columns of data, most of which seem useful for evaluations and modeling.\n",
    "\n",
    "I manually fixed null values at this stage - I will start the pipeline later on.\n",
    "\n",
    "After processing, I do not have any null values and all of the datatypes are correct (I can convert some columns into the \"category\" datatype for analysis later, if needed)."
   ]
  },
  {
   "cell_type": "markdown",
   "metadata": {
    "id": "yr_BhpeHsq14"
   },
   "source": [
    "## Exploring Features<a name='features'></a>"
   ]
  },
  {
   "cell_type": "markdown",
   "metadata": {
    "id": "LMn26MgRsq14"
   },
   "source": [
    "Now I will be comparing each individual feature against \"price\" to determine if a feature is continuous or categorical.\n",
    "\n",
    "I will check the regressions and histograms for each feature; if a regression plot shows a flatter regression line or if the histogram is not a normal distribution, I will treat that feature as a categorical feature.\n",
    "\n",
    "As part of the function to create the plots, I include my function to ignore any outliers for the purpose of the visualizations. I will *not* change the data itself, though.\n",
    "\n",
    "***Tip:*** *Links are included below for quick navigation to the different features.*"
   ]
  },
  {
   "cell_type": "markdown",
   "metadata": {},
   "source": [
    "<a name='features'></a>\n",
    "\n",
    "| Feature Names | Feature Names  |\n",
    "| ------------ | ------------- |\n",
    "| [Bedrooms](#bedrooms)     | [Sqft_above](#above)    |\n",
    "| [Bathrooms](#bathrooms)    | [Sqft_basement](#base) |\n",
    "| [Sqft_living](#living)  | [Yr_built](#built)      |\n",
    "| [Sqft_lot](#lot)     | [Yr_renovated](#reno)  |\n",
    "| [Floors](#floors)       | [Zipcode](#zip)       |\n",
    "| [Waterfront](#wf)   | [Lat](#lat)           |\n",
    "| [View](#view)         | [Long](#long)          |\n",
    "| [Condition](#cond)    | [Sqft_living15](#living15)    |\n",
    "| [Grade](#grade)        | [Sqft_lot15](#lot15)    |"
   ]
  },
  {
   "cell_type": "markdown",
   "metadata": {
    "id": "esH0MiIUsq14"
   },
   "source": [
    "**Bedrooms** <a name=\"bedrooms\"></a> [🔝](#features)"
   ]
  },
  {
   "cell_type": "code",
   "execution_count": null,
   "metadata": {
    "ExecuteTime": {
     "end_time": "2021-07-15T21:41:36.682927Z",
     "start_time": "2021-07-15T21:41:35.671Z"
    },
    "id": "71XLgj2isq15",
    "outputId": "935aaf0c-4523-4be1-e154-f9af9653bf40"
   },
   "outputs": [],
   "source": [
    "show_cleaned_vis(data=df,x='bedrooms', categorical=True, kde = False)"
   ]
  },
  {
   "cell_type": "markdown",
   "metadata": {
    "id": "EIKLDVvVsq15"
   },
   "source": [
    "***\n",
    "**Observations**\n",
    ">* There is a slight linear regression between the number of bedrooms and the sell price, indicated by the positive slope of the regression line.\n",
    ">\n",
    ">\n",
    ">* The histogram slightly resembles a normal distribution, although the first and last bins are lower than I would expect for a normal distribution.\n",
    "\n",
    "***\n",
    "**TO-DO**\n",
    ">* Use `'bedrooms'` as a categorical variable.\n",
    "***"
   ]
  },
  {
   "cell_type": "markdown",
   "metadata": {
    "id": "2PoQcwoMsq15"
   },
   "source": [
    "**Bathrooms** <a name=\"bathrooms\"></a> [🔝](#features)"
   ]
  },
  {
   "cell_type": "code",
   "execution_count": null,
   "metadata": {
    "ExecuteTime": {
     "end_time": "2021-07-15T21:41:36.683927Z",
     "start_time": "2021-07-15T21:41:35.676Z"
    },
    "id": "uTpdKmEQsq15",
    "outputId": "929c2b48-248b-4065-9153-364279aa73ac",
    "scrolled": false
   },
   "outputs": [],
   "source": [
    "show_cleaned_vis(df,\"bathrooms\", categorical=True, kde=False)"
   ]
  },
  {
   "cell_type": "markdown",
   "metadata": {
    "id": "JqSGJlJXsq15"
   },
   "source": [
    "***\n",
    "**Observations**\n",
    ">* There is a clear linear relationship between bathrooms and price.\n",
    ">\n",
    ">\n",
    ">* The histogram/normal distribution isn't the strongest, particularly for the larger number of bathrooms.\n",
    "\n",
    "***\n",
    "**TO-DO**\n",
    ">\n",
    ">* Similar to bedrooms, the values for number of bathrooms are discrete and fall into specific values. This indicates that the feature is categorical.\n",
    "*** "
   ]
  },
  {
   "cell_type": "markdown",
   "metadata": {
    "id": "yhXyxOvesq15"
   },
   "source": [
    "**Sqft_living** <a name=\"living\"></a> [🔝](#features)"
   ]
  },
  {
   "cell_type": "code",
   "execution_count": null,
   "metadata": {
    "ExecuteTime": {
     "end_time": "2021-07-15T21:41:36.684927Z",
     "start_time": "2021-07-15T21:41:35.684Z"
    },
    "id": "_2Cv_c8gsq16",
    "outputId": "ae5b0f3d-632a-46de-c90d-9bafc61a53e9"
   },
   "outputs": [],
   "source": [
    "show_cleaned_vis(df,\"sqft_living\")"
   ]
  },
  {
   "cell_type": "markdown",
   "metadata": {
    "id": "rCamjs1Csq17"
   },
   "source": [
    "***\n",
    "**Observations**\n",
    "\n",
    ">* There is a clear linear relationship, although the distribution is slightly skewed to the right, indicating it's not a perfect normal distribution.\n",
    ">\n",
    ">\n",
    ">* As the values are spread across the whole range, this feature is clearly a continuous variable.\n",
    "\n",
    "***\n",
    "\n",
    "**To-Do**\n",
    "\n",
    ">* Use as continuous variable\n",
    "***\n"
   ]
  },
  {
   "cell_type": "markdown",
   "metadata": {
    "id": "zSq414W9sq17"
   },
   "source": [
    "**Sqft_lot** <a name=\"lot\"></a>"
   ]
  },
  {
   "cell_type": "code",
   "execution_count": null,
   "metadata": {
    "ExecuteTime": {
     "end_time": "2021-07-15T21:41:36.685927Z",
     "start_time": "2021-07-15T21:41:35.689Z"
    },
    "id": "mt-YYo6Gsq17",
    "outputId": "c1ebdfcd-0cb6-452b-f3f2-3741dc4883d0"
   },
   "outputs": [],
   "source": [
    "show_cleaned_vis(df,\"sqft_lot\")"
   ]
  },
  {
   "cell_type": "markdown",
   "metadata": {
    "id": "Ckn113g_sq17"
   },
   "source": [
    "***\n",
    "**Observations**\n",
    "\n",
    ">* Weak linear relationship with price; distribution skewed right.\n",
    "***\n",
    "\n",
    "**To-Do**\n",
    "\n",
    ">* Treat as continuous variable as the values are spread out across the whole range.\n",
    "\n",
    "***"
   ]
  },
  {
   "cell_type": "markdown",
   "metadata": {
    "id": "KJN32UMQsq18"
   },
   "source": [
    "**Floors** <a name=\"floors\"></a> [🔝](#features)"
   ]
  },
  {
   "cell_type": "code",
   "execution_count": null,
   "metadata": {
    "ExecuteTime": {
     "end_time": "2021-07-15T21:41:36.686924Z",
     "start_time": "2021-07-15T21:41:35.695Z"
    },
    "id": "SX_3n2SHsq18",
    "outputId": "016730e9-f040-44df-b385-27583b677b6b"
   },
   "outputs": [],
   "source": [
    "show_cleaned_vis(df,\"floors\", kde=False)"
   ]
  },
  {
   "cell_type": "markdown",
   "metadata": {
    "id": "1uS1Lb5tsq18"
   },
   "source": [
    "***\n",
    "**Observations**\n",
    "\n",
    ">* Linear relationship, but clearly categorical as the values fall into specific categories ranging from 1-3.5\n",
    ">\n",
    ">* Most homes had one or two floors.\n",
    "\n",
    "***\n",
    "**To-Do**\n",
    "\n",
    ">* Treat as categorical variable.\n",
    " \n",
    "***"
   ]
  },
  {
   "cell_type": "markdown",
   "metadata": {
    "id": "uKYMc5wOsq19"
   },
   "source": [
    "**Waterfront** <a name=\"wf\"></a> [🔝](#features)"
   ]
  },
  {
   "cell_type": "code",
   "execution_count": null,
   "metadata": {
    "ExecuteTime": {
     "end_time": "2021-07-15T21:41:36.687927Z",
     "start_time": "2021-07-15T21:41:35.700Z"
    },
    "id": "YcdNRh3Csq19",
    "outputId": "58a2e2e3-e332-4e6c-b49e-39ccedd63c4e",
    "scrolled": false
   },
   "outputs": [],
   "source": [
    "feature_vis(df,\"waterfront\", categorical=True, kde=False)"
   ]
  },
  {
   "cell_type": "markdown",
   "metadata": {
    "id": "WEdL6h4nsq19"
   },
   "source": [
    "***\n",
    "**Observations**\n",
    "\n",
    ">* Graphs are misleading - clearly binary variable with a slight linear relationship.\n",
    ">\n",
    ">\n",
    ">* Most properties are non-waterfront.\n",
    ">\n",
    ">\n",
    ">* Clear linear relationship, but not normally distributed\n",
    "\n",
    "***\n",
    "**To-Do**\n",
    "\n",
    ">* Treat as categorical - only two options (0 or 1).\n",
    " \n",
    "***"
   ]
  },
  {
   "cell_type": "markdown",
   "metadata": {
    "id": "qCVzAq8esq19"
   },
   "source": [
    "**View** <a name=\"view\"></a> [🔝](#features)"
   ]
  },
  {
   "cell_type": "code",
   "execution_count": null,
   "metadata": {
    "ExecuteTime": {
     "end_time": "2021-07-15T21:41:36.688927Z",
     "start_time": "2021-07-15T21:41:35.705Z"
    },
    "id": "8iQdM8agsq19",
    "outputId": "ca94d504-1046-4a59-ce71-90fded2be326",
    "scrolled": false
   },
   "outputs": [],
   "source": [
    "feature_vis(df,\"view\", categorical=True, kde=False)"
   ]
  },
  {
   "cell_type": "markdown",
   "metadata": {
    "id": "Dz1VgSkvsq1-"
   },
   "source": [
    "***\n",
    "**Observations**\n",
    "\n",
    ">* Slight linear relationship - higher \"view\" rating, higher price\n",
    ">\n",
    ">\n",
    ">* Most homes have '0' view\n",
    ">\n",
    ">\n",
    ">* A few extreme outliers in pricing (for values 2, 3, and 4s)\n",
    "\n",
    "***\n",
    "**To-Do**\n",
    "\n",
    ">* Treat as categorical\n",
    " \n",
    "***"
   ]
  },
  {
   "cell_type": "markdown",
   "metadata": {
    "id": "OFK6Oe3Nsq1-"
   },
   "source": [
    "**Condition** <a name=\"cond\"></a> [🔝](#features)"
   ]
  },
  {
   "cell_type": "code",
   "execution_count": null,
   "metadata": {
    "ExecuteTime": {
     "end_time": "2021-07-15T21:41:36.690929Z",
     "start_time": "2021-07-15T21:41:35.712Z"
    },
    "id": "MfMn5q0esq1-",
    "outputId": "4f558c05-ac1f-4ee1-eaa9-739d6242757a",
    "scrolled": false
   },
   "outputs": [],
   "source": [
    "show_cleaned_vis(df,\"condition\", categorical=True, kde= False)"
   ]
  },
  {
   "cell_type": "markdown",
   "metadata": {
    "id": "qgI1_0Umsq1-"
   },
   "source": [
    "***\n",
    "**Observations**\n",
    "\n",
    ">* Largest number of homes sold were in condition 3, followed by condition 4.\n",
    ">\n",
    ">\n",
    ">* Very few homes sold with conditions of 1s or 2s.\n",
    ">\n",
    ">\n",
    ">* Price outliers in 4.0 area, some slight outliers in 2 and 3\n",
    ">\n",
    ">\n",
    ">* No linear relationship, not normal distribution.\n",
    "\n",
    "***\n",
    "**TO-DO**\n",
    "\n",
    ">* Treat as categorical\n",
    " \n",
    "***"
   ]
  },
  {
   "cell_type": "markdown",
   "metadata": {
    "id": "ShUVl0iisq1_"
   },
   "source": [
    "**Grade** <a name=\"grade\"></a> [🔝](#features)"
   ]
  },
  {
   "cell_type": "code",
   "execution_count": null,
   "metadata": {
    "ExecuteTime": {
     "end_time": "2021-07-15T21:41:36.691929Z",
     "start_time": "2021-07-15T21:41:35.720Z"
    },
    "id": "RfuwzUUfsq1_",
    "outputId": "e71c43ff-9fc2-4dad-9ae3-ccd7e3c4ad34",
    "scrolled": false
   },
   "outputs": [],
   "source": [
    "show_cleaned_vis(df,\"grade\", kde=False)"
   ]
  },
  {
   "cell_type": "markdown",
   "metadata": {
    "id": "LA6v2PInsq1_"
   },
   "source": [
    "**Observations**\n",
    "\n",
    ">* Clear linear trend - as grade increases, so does price\n",
    ">\n",
    ">\n",
    ">* Grades range from 6-9\n",
    ">\n",
    ">\n",
    ">* Price outliers for grades 7 and 8\n",
    "\n",
    "---\n",
    "**To-Do**\n",
    "\n",
    ">* Treat as categorical variable\n"
   ]
  },
  {
   "cell_type": "markdown",
   "metadata": {
    "id": "RR77jhqZsq2A"
   },
   "source": [
    "**Sqft_above** <a name=\"above\"></a> [🔝](#features)"
   ]
  },
  {
   "cell_type": "code",
   "execution_count": null,
   "metadata": {
    "ExecuteTime": {
     "end_time": "2021-07-15T21:41:36.692927Z",
     "start_time": "2021-07-15T21:41:35.725Z"
    },
    "id": "DHsYgwg8sq2A",
    "outputId": "795cfa4e-6c86-44a2-e12e-24b373d1d9de",
    "scrolled": false
   },
   "outputs": [],
   "source": [
    "show_cleaned_vis(df,\"sqft_above\")"
   ]
  },
  {
   "cell_type": "markdown",
   "metadata": {
    "id": "Ceio_9Hxsq2A"
   },
   "source": [
    "---\n",
    "\n",
    "**Observations**\n",
    "\n",
    ">* Outliers impacting accuracy of linear regression, but still seems relatively linear.\n",
    ">\n",
    ">\n",
    ">* Distribution skewed right, but otherwise normal\n",
    "---\n",
    "**TO-DO**\n",
    "\n",
    ">* Treat as continuous\n",
    "---"
   ]
  },
  {
   "cell_type": "markdown",
   "metadata": {
    "id": "mV_Ai-awsq2B"
   },
   "source": [
    "**Sqft_basement** <a name=\"base\"></a>[🔝](#features)"
   ]
  },
  {
   "cell_type": "code",
   "execution_count": null,
   "metadata": {
    "ExecuteTime": {
     "end_time": "2021-07-15T21:41:36.693927Z",
     "start_time": "2021-07-15T21:41:35.732Z"
    },
    "id": "AdhxJs8Dsq2B",
    "outputId": "65dc3e4a-deec-46e9-e0f8-63d9a5eb2a0b",
    "scrolled": false
   },
   "outputs": [],
   "source": [
    "show_cleaned_vis(df,\"sqft_basement\")"
   ]
  },
  {
   "cell_type": "markdown",
   "metadata": {
    "id": "RtQWfKTNsq2B"
   },
   "source": [
    "---\n",
    "**Observations**\n",
    "\n",
    ">* There is a very large number of 0 ft$^2$ basements, indicating that these homes do not have a basement\n",
    ">\n",
    ">\n",
    ">* There are scattered outliers in pricing\n",
    ">\n",
    ">\n",
    ">* The regression is poor due to the large number of 0 values\n",
    "\n",
    "---\n",
    "**To-Do**\n",
    "\n",
    ">* Treat as a continuous variable\n",
    ">\n",
    ">\n",
    ">* Can create new categorical, binary variable to indicate whether or not a house has a basement to measure the impact on price.\n",
    "---"
   ]
  },
  {
   "cell_type": "markdown",
   "metadata": {
    "id": "9rFbdTozsq2B"
   },
   "source": [
    "**Yr_built** <a name=\"built\"></a> [🔝](#features)"
   ]
  },
  {
   "cell_type": "code",
   "execution_count": null,
   "metadata": {
    "ExecuteTime": {
     "end_time": "2021-07-15T21:41:36.695927Z",
     "start_time": "2021-07-15T21:41:35.737Z"
    },
    "id": "gM1k8hcKsq2C",
    "outputId": "8760fecc-dc75-4bf1-ff0c-33232173dbd7",
    "scrolled": false
   },
   "outputs": [],
   "source": [
    "show_cleaned_vis(df,\"yr_built\")"
   ]
  },
  {
   "cell_type": "markdown",
   "metadata": {
    "id": "2dMEm9GJsq2C"
   },
   "source": [
    "---\n",
    "**Observations**\n",
    "\n",
    ">* No linear trend from this regression plot\n",
    ">\n",
    ">* Seems like may houses built between 1940 - 1970, then major boom in early 2000s.\n",
    ">\n",
    ">* Some significant outliers in price, but not enough to  impact the regression\n",
    "---\n",
    "\n",
    "**To-Do**\n",
    "\n",
    ">* Compare year built to year sold - how old was the house at sale?\n",
    ">\n",
    ">\n",
    ">* Potentially discretize for analysis.\n",
    "---"
   ]
  },
  {
   "cell_type": "markdown",
   "metadata": {
    "id": "ZSfdRI4Fsq2C"
   },
   "source": [
    "**Yr_renovated** <a name=\"reno\"></a> [🔝](#features)"
   ]
  },
  {
   "cell_type": "code",
   "execution_count": null,
   "metadata": {
    "ExecuteTime": {
     "end_time": "2021-07-15T21:41:36.696926Z",
     "start_time": "2021-07-15T21:41:35.743Z"
    },
    "id": "bzlSV8vTsq2C",
    "outputId": "45c0cf96-4296-45e9-a3ac-3764ec924fd3",
    "scrolled": false
   },
   "outputs": [],
   "source": [
    "feature_vis(df,'yr_renovated', kde=False)"
   ]
  },
  {
   "cell_type": "markdown",
   "metadata": {
    "id": "1oGuuSiZsq2C"
   },
   "source": [
    "---\n",
    "**Observations**\n",
    "\n",
    ">* Number of houses not renovated significantly outweighs the number renovated\n",
    ">\n",
    ">\n",
    ">* Graphs indicate that an engineered feature for whether or not the house was renovated would be worthwhile.\n",
    "\n",
    "---\n",
    "**To-Do**\n",
    "\n",
    ">* Create new categorical feature - renovated or not\n",
    "---"
   ]
  },
  {
   "cell_type": "markdown",
   "metadata": {
    "id": "x8HlMm5zsq2C"
   },
   "source": [
    "**Zipcode** <a name=\"zip\"></a> [🔝](#features)"
   ]
  },
  {
   "cell_type": "code",
   "execution_count": null,
   "metadata": {
    "ExecuteTime": {
     "end_time": "2021-07-15T21:41:36.697927Z",
     "start_time": "2021-07-15T21:41:35.754Z"
    },
    "id": "QE6O2kLnsq2C",
    "outputId": "3ec0d472-458f-445e-a323-333a62154e85",
    "scrolled": false
   },
   "outputs": [],
   "source": [
    "show_cleaned_vis(df,\"zipcode\", categorical=True, kde=False)"
   ]
  },
  {
   "cell_type": "markdown",
   "metadata": {
    "id": "6-P7OXcasq2D"
   },
   "source": [
    "---\n",
    "**Observations**\n",
    "\n",
    ">* No linear relationship; not normally distributed\n",
    "---\n",
    "**TO-DO**\n",
    "\n",
    ">* Treat as categorical variable\n",
    ">\n",
    ">* Perform OneHotEncoding to create new features for modeling.\n",
    "---"
   ]
  },
  {
   "cell_type": "markdown",
   "metadata": {
    "id": "wpeCeCCasq2D"
   },
   "source": [
    "**Lat** <a name=\"lat\"></a> [🔝](#features)"
   ]
  },
  {
   "cell_type": "code",
   "execution_count": null,
   "metadata": {
    "ExecuteTime": {
     "end_time": "2021-07-15T21:41:36.698928Z",
     "start_time": "2021-07-15T21:41:35.767Z"
    },
    "id": "Kc4AN0Rrsq2D",
    "outputId": "1fba4c7c-6084-406f-8f1e-5ba58313e1b4",
    "scrolled": false
   },
   "outputs": [],
   "source": [
    "show_cleaned_vis(df,\"lat\")"
   ]
  },
  {
   "cell_type": "markdown",
   "metadata": {
    "id": "zFLAb-cQsq2D"
   },
   "source": [
    "---\n",
    "**Observations**\n",
    "\n",
    ">* Very weak linear relationship and not normally distributed.\n",
    ">\n",
    ">\n",
    ">* Outliers just slightly past 47.6 degrees latitude\n",
    "\n",
    "---\n",
    "**To-Do**\n",
    "\n",
    ">* Treat as categorical for modeling.\n",
    "---"
   ]
  },
  {
   "cell_type": "markdown",
   "metadata": {
    "id": "kKBhksmKsq2D"
   },
   "source": [
    "**Long** <a name=\"long\"></a> [🔝](#features)"
   ]
  },
  {
   "cell_type": "code",
   "execution_count": null,
   "metadata": {
    "ExecuteTime": {
     "end_time": "2021-07-15T21:41:36.698928Z",
     "start_time": "2021-07-15T21:41:35.777Z"
    },
    "id": "bE3EPDPMsq2D",
    "outputId": "d707bf01-73d7-4fb7-f531-ddaa8d272aa5",
    "scrolled": false
   },
   "outputs": [],
   "source": [
    "show_cleaned_vis(df,\"long\")"
   ]
  },
  {
   "cell_type": "markdown",
   "metadata": {
    "id": "_kj7xgYRsq2E"
   },
   "source": [
    "---\n",
    "**Observations**\n",
    "\n",
    ">* No linear relationship and not normally distributed.\n",
    ">\n",
    ">\n",
    ">* Outliers around -122.32ish and -122.25-ish degrees\n",
    "\n",
    "---\n",
    "**To-Do**\n",
    "\n",
    ">* Treat as continuous if used for modeling.\n",
    "---"
   ]
  },
  {
   "cell_type": "markdown",
   "metadata": {
    "id": "WDv_3hS5sq2E"
   },
   "source": [
    "**Sqft_living15** <a name=\"living15\"></a> [🔝](#features)"
   ]
  },
  {
   "cell_type": "code",
   "execution_count": null,
   "metadata": {
    "ExecuteTime": {
     "end_time": "2021-07-15T21:41:36.699940Z",
     "start_time": "2021-07-15T21:41:35.785Z"
    },
    "id": "luLGHfCKsq2E",
    "outputId": "fb3be1d6-fd85-4530-94ed-86960a88b312",
    "scrolled": false
   },
   "outputs": [],
   "source": [
    "show_cleaned_vis(df,\"sqft_living15\")"
   ]
  },
  {
   "cell_type": "markdown",
   "metadata": {
    "id": "QtVJ3AkLsq2E"
   },
   "source": [
    "---\n",
    "**Observations**\n",
    "\n",
    ">* Most properties sold between 1500/2000 ft$^2$ living space\n",
    ">\n",
    ">\n",
    ">* Price follows linear trend and is normally distributed, although skewed right.\n",
    ">\n",
    ">* Outliers between 2500-3500 ft$^2$ \n",
    "---\n",
    "**TO-DO**\n",
    "\n",
    ">* Treat as continuous variable\n",
    "---"
   ]
  },
  {
   "cell_type": "markdown",
   "metadata": {
    "id": "MjQYCqAasq2E"
   },
   "source": [
    "**Sqft_lot15** <a name=\"lot15\"></a> [🔝](#features)"
   ]
  },
  {
   "cell_type": "code",
   "execution_count": null,
   "metadata": {
    "ExecuteTime": {
     "end_time": "2021-07-15T21:41:36.700928Z",
     "start_time": "2021-07-15T21:41:35.800Z"
    },
    "id": "2Wv8CQbrsq2F",
    "outputId": "5dd25e0c-e026-430d-e8c1-7090c01a67a5",
    "scrolled": false
   },
   "outputs": [],
   "source": [
    "show_cleaned_vis(df,\"sqft_lot15\")"
   ]
  },
  {
   "cell_type": "markdown",
   "metadata": {
    "id": "eF1dX4Opsq2F"
   },
   "source": [
    "---\n",
    "**Observations**\n",
    "\n",
    ">* No clear linear trend\n",
    ">* Significant outlier at approx. 9000 ft$^2$\n",
    "\n",
    "---\n",
    "**TO-DO**\n",
    ">* Treat as continuous variable\n",
    "---"
   ]
  },
  {
   "cell_type": "markdown",
   "metadata": {
    "id": "0RzFYbgcsq2F"
   },
   "source": [
    "# 🛠 **Feature Engineering**"
   ]
  },
  {
   "cell_type": "markdown",
   "metadata": {
    "id": "8mpimDh2sq2F"
   },
   "source": [
    "## `'yrs_old_sold'`"
   ]
  },
  {
   "cell_type": "markdown",
   "metadata": {
    "id": "HmU0Rwyjsq2F"
   },
   "source": [
    "I create this feature to differentiate between houses that were built recently versus older houses.\n",
    "\n",
    "In order to determine this feature, I need to determine the year the house was sold first."
   ]
  },
  {
   "cell_type": "markdown",
   "metadata": {
    "id": "lgTdOjJnsq2F"
   },
   "source": [
    "### Determine `'year_sold'`"
   ]
  },
  {
   "cell_type": "code",
   "execution_count": null,
   "metadata": {
    "ExecuteTime": {
     "end_time": "2021-07-15T21:41:36.701927Z",
     "start_time": "2021-07-15T21:41:35.814Z"
    },
    "id": "ltoQKbEFsq2G",
    "scrolled": false
   },
   "outputs": [],
   "source": [
    "## Pull the year from the \"date\" column\n",
    "df['year_sold'] = pd.DatetimeIndex(df['date']).year\n",
    "\n",
    "## Review the values to ensure data integrity\n",
    "df['year_sold'].value_counts()"
   ]
  },
  {
   "cell_type": "markdown",
   "metadata": {
    "id": "M9dY6ryUsq2G"
   },
   "source": [
    "### Calculate `'y_old_sold'`"
   ]
  },
  {
   "cell_type": "code",
   "execution_count": null,
   "metadata": {
    "ExecuteTime": {
     "end_time": "2021-07-15T21:41:36.702928Z",
     "start_time": "2021-07-15T21:41:35.821Z"
    },
    "id": "EjI_PHB0sq2G",
    "outputId": "f8199020-11ed-4252-80af-ee86afb89a78",
    "scrolled": false
   },
   "outputs": [],
   "source": [
    "## Calculating the age of the house at the time of sale\n",
    "df['y_old_sold'] = df['year_sold'] - df['yr_built']\n",
    "\n",
    "## Minimum age is -1 due to a house being sold before it was finished being built\n",
    "display(df['y_old_sold'].value_counts().sort_index(), df['y_old_sold'].describe())"
   ]
  },
  {
   "cell_type": "markdown",
   "metadata": {},
   "source": [
    ">**Results:** Half of the homes sold fall between the ages of 18 and 63 years old, with the average age of 43 years. Our min and max ages indicate a house was sold before it was built, while another house was 115 years old."
   ]
  },
  {
   "cell_type": "markdown",
   "metadata": {
    "id": "Gzl5f2Ktsq2H"
   },
   "source": [
    "## `'was_renovated'`"
   ]
  },
  {
   "cell_type": "markdown",
   "metadata": {
    "id": "vL3j33BYsq2H"
   },
   "source": [
    "What impact would a renovation have on the price?"
   ]
  },
  {
   "cell_type": "code",
   "execution_count": null,
   "metadata": {
    "ExecuteTime": {
     "end_time": "2021-07-15T21:41:36.703927Z",
     "start_time": "2021-07-15T21:41:35.830Z"
    },
    "id": "X7QoQoBLsq2I"
   },
   "outputs": [],
   "source": [
    "## Using the year that the home was renovated to deterine whether or not the home was renovated\n",
    "reno_y_n = np.where(df['yr_renovated']>0, 1, 0 )\n",
    "df = df.assign(was_renovated = reno_y_n)\n",
    "df.head(5)"
   ]
  },
  {
   "cell_type": "code",
   "execution_count": null,
   "metadata": {
    "ExecuteTime": {
     "end_time": "2021-07-15T21:41:36.704947Z",
     "start_time": "2021-07-15T21:41:35.834Z"
    },
    "id": "kltnwNfIsq2I",
    "outputId": "caaada13-58e0-4c08-cf62-7b8fbeedf911"
   },
   "outputs": [],
   "source": [
    "## Checking values\n",
    "df['was_renovated'].value_counts()"
   ]
  },
  {
   "cell_type": "markdown",
   "metadata": {},
   "source": [
    ">**Results:** Most of the houses were not renovated at the time of sale. This feature may not have a significant impact on determining the sale price due to the small number of renovated houses."
   ]
  },
  {
   "cell_type": "markdown",
   "metadata": {
    "id": "fb2ISg5Xsq2I"
   },
   "source": [
    "## `\"yrs_since_reno\"`"
   ]
  },
  {
   "cell_type": "markdown",
   "metadata": {
    "id": "lFYYV9xCsq2I"
   },
   "source": [
    "If a house was renovated, how long ago was the renovation? Would more newly-renovated houses increase price?"
   ]
  },
  {
   "cell_type": "code",
   "execution_count": null,
   "metadata": {
    "ExecuteTime": {
     "end_time": "2021-07-15T21:41:36.705928Z",
     "start_time": "2021-07-15T21:41:35.840Z"
    }
   },
   "outputs": [],
   "source": [
    "## Ensuring there are no null values in the new feature and replacing any with zeroes\n",
    "\n",
    "df['yrs_since_reno'] = np.where((df['was_renovated']==1),\n",
    "                                (df['year_sold'] - df['yr_renovated']), 0)\n",
    "\n",
    "display(df['yrs_since_reno'].describe(),df['yrs_since_reno'].value_counts(ascending=False))"
   ]
  },
  {
   "cell_type": "code",
   "execution_count": null,
   "metadata": {
    "ExecuteTime": {
     "end_time": "2021-07-15T21:41:36.706932Z",
     "start_time": "2021-07-15T21:41:35.845Z"
    },
    "scrolled": true
   },
   "outputs": [],
   "source": [
    "## Checking for which properties show a renovation year post-sale\n",
    "\n",
    "df[df['year_sold'] < df['yr_renovated']]"
   ]
  },
  {
   "cell_type": "code",
   "execution_count": null,
   "metadata": {
    "ExecuteTime": {
     "end_time": "2021-07-15T21:41:36.707939Z",
     "start_time": "2021-07-15T21:41:35.850Z"
    }
   },
   "outputs": [],
   "source": [
    "## Reviewing stats for those houses that were renovated\n",
    "\n",
    "yrs_and_reno = df[df['yrs_since_reno'] > 0]\n",
    "yrs_and_reno['yrs_since_reno'].describe()"
   ]
  },
  {
   "cell_type": "markdown",
   "metadata": {},
   "source": [
    ">**Results:** As expected, most of the houses were not renovated (indicated by the number of years being zero). \n",
    ">\n",
    ">\n",
    ">Of those renovated, half of the homes had between 9 and 28 years between the years sold and renovated, with an average ages of roughly 20 years old.\n",
    ">\n",
    ">\n",
    ">Interestingly, this dataset also shows *six records for which the renovation is shown to be post-sale.* While this may be an error, I am leaving it in the dataset since I cannot confidently rule it out. \n",
    ">\n",
    ">\n",
    ">If this feature does not show statistical significance, I may drops these values and reevaluate the significance."
   ]
  },
  {
   "cell_type": "markdown",
   "metadata": {
    "id": "G6TwLd00sq2J"
   },
   "source": [
    "## \"`has_bsmnt`\""
   ]
  },
  {
   "cell_type": "markdown",
   "metadata": {
    "id": "fl4Yn656sq2J"
   },
   "source": [
    "I noticed that there were fewer houses with a value for \"sqft_basement\" during my data exploration. I am curious if the presence or absence of a basement would have any impact."
   ]
  },
  {
   "cell_type": "code",
   "execution_count": null,
   "metadata": {
    "ExecuteTime": {
     "end_time": "2021-07-15T21:41:36.708926Z",
     "start_time": "2021-07-15T21:41:35.860Z"
    },
    "id": "lWHPc64-sq2J",
    "outputId": "1b48b91d-ebaf-4cdb-be5d-811fa8334a21"
   },
   "outputs": [],
   "source": [
    "## Determining whether or not a house has a basement based on the square footage\n",
    "df['has_bsmnt'] = np.where(df['sqft_basement'] > 0, 1, 0)\n",
    "\n",
    "# Reviewing the results\n",
    "display(df['has_bsmnt'].describe(), df['has_bsmnt'].value_counts())"
   ]
  },
  {
   "cell_type": "markdown",
   "metadata": {
    "id": "puQqlrLFsq2K"
   },
   "source": [
    "# 🔗 **Correlations**"
   ]
  },
  {
   "cell_type": "markdown",
   "metadata": {
    "id": "Wf4tEuN1sq2K"
   },
   "source": [
    "## Determining Correlations with Price"
   ]
  },
  {
   "cell_type": "code",
   "execution_count": null,
   "metadata": {
    "ExecuteTime": {
     "end_time": "2021-07-15T21:41:36.709927Z",
     "start_time": "2021-07-15T21:41:35.868Z"
    },
    "id": "sOw4_jhVsq2K",
    "outputId": "90b78d09-3d7d-4737-c9ca-65c6967ccf66"
   },
   "outputs": [],
   "source": [
    "## Determining top five features most strongly correlated with price\n",
    "## (Considering absolute values for magnitude, not direction)\n",
    "\n",
    "df_corr = np.abs(df.drop(['price', 'lat','long', 'yr_renovated'], axis=1).corrwith(df['price']).sort_values(ascending=False))\n",
    "display(df_corr[0:5])"
   ]
  },
  {
   "cell_type": "markdown",
   "metadata": {
    "id": "Co8mLW6Zsq2K"
   },
   "source": [
    "## Determining Multicollinearity"
   ]
  },
  {
   "cell_type": "code",
   "execution_count": null,
   "metadata": {
    "ExecuteTime": {
     "end_time": "2021-07-15T21:41:36.710939Z",
     "start_time": "2021-07-15T21:41:35.872Z"
    },
    "id": "6LjFop6Psq2L",
    "outputId": "bf3ad586-7fec-4f97-98a0-cfec0ca1ae72"
   },
   "outputs": [],
   "source": [
    "## Creating correlation matrix w/ heatmap for intensity of values\n",
    "corr_val(df.drop(['price'],axis=1), figsize=(20,20));"
   ]
  },
  {
   "cell_type": "code",
   "execution_count": null,
   "metadata": {
    "ExecuteTime": {
     "end_time": "2021-07-15T21:41:36.711927Z",
     "start_time": "2021-07-15T21:41:35.876Z"
    },
    "id": "FZyJieM6sq2L"
   },
   "outputs": [],
   "source": [
    "## Correlation results ignoring duplicate values \n",
    "## Except for \"was_renovated\", which shows a perfect relationship to itself\n",
    "\n",
    "df_corr_results = np.abs(df.drop(['price','yr_renovated'],axis=1).corr().unstack().sort_values(ascending=False).drop_duplicates())\n",
    "\n",
    "## Show strongest correlations\n",
    "df_corr_results[1:11]"
   ]
  },
  {
   "cell_type": "markdown",
   "metadata": {
    "ExecuteTime": {
     "end_time": "2021-07-14T17:49:34.296191Z",
     "start_time": "2021-07-14T17:49:34.176157Z"
    }
   },
   "source": [
    "**Results:** From the correlation matrix, I see that we have seven pairs of features that show a correlation over .75.\n",
    "\n",
    "I will drop 'sqft_living', 'was_renovated', and 'has_basement' due to their high correlations."
   ]
  },
  {
   "cell_type": "code",
   "execution_count": null,
   "metadata": {
    "ExecuteTime": {
     "end_time": "2021-07-15T21:41:36.712928Z",
     "start_time": "2021-07-15T21:41:35.880Z"
    },
    "id": "NX0PsIQmsq2L"
   },
   "outputs": [],
   "source": [
    "# Dropping columns to address multicollinearity (over .75)\n",
    "df_dropped = df.drop(['was_renovated', 'sqft_living','has_bsmnt'], axis=1)\n",
    "# df_dropped"
   ]
  },
  {
   "cell_type": "code",
   "execution_count": null,
   "metadata": {
    "ExecuteTime": {
     "end_time": "2021-07-15T21:41:36.713927Z",
     "start_time": "2021-07-15T21:41:35.887Z"
    },
    "id": "NfHwiihhsq2L",
    "outputId": "ba07fadc-541d-4a1b-f4ab-a0d279166b54"
   },
   "outputs": [],
   "source": [
    "# Rerunning model\n",
    "corr_val(df_dropped.drop('price',axis=1), figsize=(20,20));"
   ]
  },
  {
   "cell_type": "code",
   "execution_count": null,
   "metadata": {
    "ExecuteTime": {
     "end_time": "2021-07-15T21:41:36.714927Z",
     "start_time": "2021-07-15T21:41:35.891Z"
    },
    "id": "lz6NhZtDsq2M",
    "outputId": "9ceda911-5bc3-478a-ff30-4653b676a0b5",
    "scrolled": false
   },
   "outputs": [],
   "source": [
    "# Correlation results ignoring (most) duplicate values\n",
    "df_corr_results = df_dropped.drop('price',axis=1).corr().unstack().sort_values(ascending=False).drop_duplicates()\n",
    "\n",
    "## Show strongest correlations\n",
    "print(df_corr_results[1:11],'\\n\\n',df_corr_results[-11:-1])"
   ]
  },
  {
   "cell_type": "markdown",
   "metadata": {},
   "source": [
    "# 🪓 **Performing Train/Test Split**"
   ]
  },
  {
   "cell_type": "code",
   "execution_count": null,
   "metadata": {
    "ExecuteTime": {
     "end_time": "2021-07-15T21:41:36.715927Z",
     "start_time": "2021-07-15T21:41:35.895Z"
    },
    "id": "OU4PKAM1sq2l"
   },
   "outputs": [],
   "source": [
    "## Creating features matrix minus target variable\n",
    "X = df.drop('price', axis = 1).copy()"
   ]
  },
  {
   "cell_type": "code",
   "execution_count": null,
   "metadata": {
    "ExecuteTime": {
     "end_time": "2021-07-15T21:41:36.716926Z",
     "start_time": "2021-07-15T21:41:35.899Z"
    },
    "id": "me9QULf1sq2l"
   },
   "outputs": [],
   "source": [
    "## Creating the y values by setting them equal to the 'price' values from the dataframe\n",
    "y = df['price'].copy()"
   ]
  },
  {
   "cell_type": "code",
   "execution_count": null,
   "metadata": {
    "ExecuteTime": {
     "end_time": "2021-07-15T21:41:36.717927Z",
     "start_time": "2021-07-15T21:41:35.903Z"
    },
    "id": "gdxlPa7fsq2l",
    "outputId": "94e25dd6-f2e6-455e-9e64-0b38ccc9ab09"
   },
   "outputs": [],
   "source": [
    "## Verifying the two groups are of equal length\n",
    "X.shape[0] == y.shape[0]"
   ]
  },
  {
   "cell_type": "markdown",
   "metadata": {
    "id": "8uXAq1o9sq2m"
   },
   "source": [
    "## Create Train/Test Split"
   ]
  },
  {
   "cell_type": "markdown",
   "metadata": {
    "id": "mwP6qaTEsq2m"
   },
   "source": [
    "Now I will split the data into the train/test groups. Then, I will run the first linear regression on the \"train\" data, then another regression on the \"test\" data."
   ]
  },
  {
   "cell_type": "code",
   "execution_count": null,
   "metadata": {
    "ExecuteTime": {
     "end_time": "2021-07-15T21:41:36.718928Z",
     "start_time": "2021-07-15T21:41:35.908Z"
    },
    "id": "VfB9_nl0sq2m"
   },
   "outputs": [],
   "source": [
    "## Establishing the train and test data before doing anything else\n",
    "\n",
    "X_train, X_test, y_train, y_test = train_test_split(X, y, test_size=0.25,\n",
    "                                                    random_state=505)"
   ]
  },
  {
   "cell_type": "markdown",
   "metadata": {},
   "source": [
    "# 📊 **Creating Baseline Model**"
   ]
  },
  {
   "cell_type": "code",
   "execution_count": null,
   "metadata": {
    "ExecuteTime": {
     "end_time": "2021-07-15T21:41:36.719927Z",
     "start_time": "2021-07-15T21:41:35.913Z"
    }
   },
   "outputs": [],
   "source": [
    "baseline = DummyRegressor()\n",
    "\n",
    "baseline.fit(X, y)\n",
    "print(f'The baseline r^2 score is: {baseline.score(X, y):.2f}')"
   ]
  },
  {
   "cell_type": "markdown",
   "metadata": {},
   "source": [
    "<!-- Do not delete this cell! It has anchors for other links -->\n",
    "\n",
    "<a name=\"eod\"></a>\n",
    "<a name=\"pipeline_2\"></a>"
   ]
  },
  {
   "cell_type": "markdown",
   "metadata": {},
   "source": [
    "# 🚿 **Creating Pipeline for Modeling**"
   ]
  },
  {
   "cell_type": "markdown",
   "metadata": {},
   "source": [
    "**For original code:** [Click here](#pipeline_1)"
   ]
  },
  {
   "cell_type": "markdown",
   "metadata": {},
   "source": [
    "## Preprocessing Data Via ColumnTransformer"
   ]
  },
  {
   "cell_type": "code",
   "execution_count": null,
   "metadata": {
    "ExecuteTime": {
     "end_time": "2021-07-15T21:41:36.720927Z",
     "start_time": "2021-07-15T21:41:35.919Z"
    }
   },
   "outputs": [],
   "source": [
    "## Specifying features for each transformer (below)\n",
    "\n",
    "imp_zero_cols = ['sqft_basement']\n",
    "imp_mode_cols = ['view','waterfront','yr_renovated']\n",
    "ohe_cols = ['condition','grade', 'zipcode']\n",
    "\n",
    "xf_cols = [*imp_zero_cols, *imp_mode_cols, *ohe_cols]\n",
    "\n",
    "remaining_cols = [i for i in X.drop('date', axis=1).columns if i not in xf_cols]\n",
    "\n",
    "imp_zero_cols.extend(remaining_cols)"
   ]
  },
  {
   "cell_type": "code",
   "execution_count": null,
   "metadata": {
    "ExecuteTime": {
     "end_time": "2021-07-15T21:41:36.721923Z",
     "start_time": "2021-07-15T21:41:35.923Z"
    },
    "scrolled": true
   },
   "outputs": [],
   "source": [
    "## Creating ColumnTransformer and sub-transformers\n",
    "\n",
    "#----------------------------------------------------------------------------#\n",
    "\n",
    "# ## Removed this code due to errors encountered b/t train, test categoricals\n",
    "# ohe_cols = ['condition','grade', 'zipcode']\n",
    "# categorical_transformer = OneHotEncoder(drop='first', sparse=False)\n",
    "\n",
    "# ## A backup transformer to future-proof against null values in unseen data\n",
    "# ## Removed - throwing errors when fitting\n",
    "# remaining_transformer = SimpleImputer(strategy='most_frequent')\n",
    "# ,('remaining', remaining_transformer, remaining_cols)\n",
    "\n",
    "#----------------------------------------------------------------------------#\n",
    "\n",
    "# Adding zeroes for missing values in sqft_basement\n",
    "zero_transformer = SimpleImputer(strategy='constant', fill_value=0)\n",
    "\n",
    "## Adding the mode value to view, waterfront, and yr_renovated missing values \n",
    "mode_transformer = SimpleImputer(strategy='most_frequent')\n",
    "\n",
    "## Encoding categoricals - handling errors to prevent issues w/ test set\n",
    "categorical_transformer = OneHotEncoder(handle_unknown='ignore', sparse=False)\n",
    "\n",
    "## Instantiating the ColumnTransformer and including all transformers\n",
    "preprocessor = ColumnTransformer(\n",
    "    transformers=[\n",
    "        ('zero', zero_transformer, imp_zero_cols),\n",
    "        ('mode', mode_transformer, imp_mode_cols),\n",
    "        ('cats', categorical_transformer, ohe_cols)],)\n",
    "\n",
    "preprocessor"
   ]
  },
  {
   "cell_type": "code",
   "execution_count": null,
   "metadata": {
    "ExecuteTime": {
     "end_time": "2021-07-15T21:41:36.722940Z",
     "start_time": "2021-07-15T21:41:35.927Z"
    }
   },
   "outputs": [],
   "source": [
    "## Fit and transform the data via the ColumnTransformer\n",
    "X_train_tf = preprocessor.fit_transform(X_train)"
   ]
  },
  {
   "cell_type": "markdown",
   "metadata": {},
   "source": [
    "# 📊 **Statsmodels Non-Formula OLS Model**"
   ]
  },
  {
   "cell_type": "markdown",
   "metadata": {},
   "source": [
    ">I create a Statsmodels version of the regression model to compare against my later SKLearn models. I use this comparison to ensure that the SKLearn pipeline below creates the same predictions for the same transformed data"
   ]
  },
  {
   "cell_type": "code",
   "execution_count": null,
   "metadata": {
    "ExecuteTime": {
     "end_time": "2021-07-15T21:41:36.723933Z",
     "start_time": "2021-07-15T21:41:35.938Z"
    },
    "scrolled": true
   },
   "outputs": [],
   "source": [
    "## Getting feature names from OHE\n",
    "ohe_cat_names = preprocessor.named_transformers_['cats'].get_feature_names(ohe_cols)\n",
    "\n",
    "## Generating list for column index\n",
    "final_cols = [*imp_zero_cols, *imp_mode_cols, *ohe_cat_names]\n",
    "\n",
    "## Instantiating a DF storing the resulting transformed training data\n",
    "X_train_tf_df = pd.DataFrame(X_train_tf, columns=final_cols, index=X_train.index)\n",
    "\n",
    "## Transforming the test set\n",
    "X_test_tf = preprocessor.transform(X_test)\n",
    "\n",
    "## Creating DF for test data\n",
    "X_test_tf_df = pd.DataFrame(X_test_tf, columns=final_cols, index=X_test.index)\n",
    "\n",
    "display(X_train_tf_df.head(5),X_test_tf_df.head(5))"
   ]
  },
  {
   "cell_type": "code",
   "execution_count": null,
   "metadata": {
    "ExecuteTime": {
     "end_time": "2021-07-15T21:41:36.724933Z",
     "start_time": "2021-07-15T21:41:35.945Z"
    }
   },
   "outputs": [],
   "source": [
    "## Running a Statsmodels OLS model for verification\n",
    "sm_reg = sms.OLS(y_train, sms.add_constant(X_train_tf_df)).fit()\n",
    "\n",
    "diagnose_model(sm_reg)"
   ]
  },
  {
   "cell_type": "code",
   "execution_count": null,
   "metadata": {
    "ExecuteTime": {
     "end_time": "2021-07-15T21:41:36.725925Z",
     "start_time": "2021-07-15T21:41:35.949Z"
    }
   },
   "outputs": [],
   "source": [
    "## Pulling SM-OLS coefficients\n",
    "model_params = sm_reg.params\n",
    "model_params"
   ]
  },
  {
   "cell_type": "markdown",
   "metadata": {
    "ExecuteTime": {
     "end_time": "2021-07-15T01:37:36.972554Z",
     "start_time": "2021-07-15T01:37:34.387537Z"
    }
   },
   "source": [
    "## Visualizing zipcode coefficients"
   ]
  },
  {
   "cell_type": "code",
   "execution_count": null,
   "metadata": {
    "ExecuteTime": {
     "end_time": "2021-07-15T21:41:36.726925Z",
     "start_time": "2021-07-15T21:41:35.954Z"
    },
    "scrolled": true
   },
   "outputs": [],
   "source": [
    "## Creating list of zipcode parameters for filtering\n",
    "zipcode_cols = [x for x in model_params.index if x.startswith('zipcode')]"
   ]
  },
  {
   "cell_type": "code",
   "execution_count": null,
   "metadata": {
    "ExecuteTime": {
     "end_time": "2021-07-15T21:41:36.727928Z",
     "start_time": "2021-07-15T21:41:35.957Z"
    }
   },
   "outputs": [],
   "source": [
    "## Creating visualization for zipcodes\n",
    "only_zips = model_params[zipcode_cols]\n",
    "\n",
    "plot_coefs(data = only_zips, kind = \"bar\", figsize=(25,10), x_label = 'Zipcodes',\n",
    "           y_label = 'Coefficient ($)', title= 'Zip Code Effect on Price');"
   ]
  },
  {
   "cell_type": "markdown",
   "metadata": {
    "ExecuteTime": {
     "end_time": "2021-07-15T02:24:10.864645Z",
     "start_time": "2021-07-15T02:24:10.391507Z"
    }
   },
   "source": [
    "## Visualizing all parameters besides zipcodes"
   ]
  },
  {
   "cell_type": "code",
   "execution_count": null,
   "metadata": {
    "ExecuteTime": {
     "end_time": "2021-07-15T21:41:36.728927Z",
     "start_time": "2021-07-15T21:41:35.964Z"
    }
   },
   "outputs": [],
   "source": [
    "## Plotting all features besides zip codes\n",
    "no_zips = model_params.drop(zipcode_cols)\n",
    "no_zips = no_zips.drop('const')\n",
    "\n",
    "plot_coefs(data = no_zips, kind = \"barh\", x_label = 'Features Other Than Zip Code',\n",
    "           y_label = 'Coefficient ($)', title= 'House Feature Effect on Price',\n",
    "          figsize = (10,15));"
   ]
  },
  {
   "cell_type": "markdown",
   "metadata": {},
   "source": [
    "# 🚿 **Instantiating Pipeline**"
   ]
  },
  {
   "cell_type": "markdown",
   "metadata": {},
   "source": [
    "## Non-Scaled Pipeline"
   ]
  },
  {
   "cell_type": "code",
   "execution_count": null,
   "metadata": {
    "ExecuteTime": {
     "end_time": "2021-07-15T21:41:36.729924Z",
     "start_time": "2021-07-15T21:41:35.972Z"
    }
   },
   "outputs": [],
   "source": [
    "## Creating full pipeline with ColumnTransformer and LinearRegression\n",
    "reg_pipe = Pipeline(steps=[('preprocessor', preprocessor),\n",
    "                      ('regressor', LinearRegression())])"
   ]
  },
  {
   "cell_type": "code",
   "execution_count": null,
   "metadata": {
    "ExecuteTime": {
     "end_time": "2021-07-15T21:41:36.730925Z",
     "start_time": "2021-07-15T21:41:35.977Z"
    },
    "scrolled": false
   },
   "outputs": [],
   "source": [
    "## Fitting pipeline to the training data\n",
    "reg_pipe.fit(X_train, y_train)\n",
    "\n",
    "## Evaluating model performance\n",
    "eval_perf_total(reg_pipe, X_train, y_train, X_test, y_test)"
   ]
  },
  {
   "cell_type": "markdown",
   "metadata": {
    "id": "HnP7OWpnsq2i"
   },
   "source": [
    "# ✨ ✅ Verifying Lin Reg Assumptions ✨"
   ]
  },
  {
   "cell_type": "code",
   "execution_count": null,
   "metadata": {
    "ExecuteTime": {
     "end_time": "2021-07-15T21:41:36.731925Z",
     "start_time": "2021-07-15T21:41:35.982Z"
    }
   },
   "outputs": [],
   "source": [
    "y_test_pred = reg_pipe.predict(X_test)"
   ]
  },
  {
   "cell_type": "code",
   "execution_count": null,
   "metadata": {
    "ExecuteTime": {
     "end_time": "2021-07-15T21:41:36.740924Z",
     "start_time": "2021-07-15T21:41:36.042Z"
    },
    "id": "OFnElN0Rsq2i",
    "outputId": "ee26d375-8ed7-43ab-cabe-c1b9b3e9315b"
   },
   "outputs": [],
   "source": [
    "## Determining residuals\n",
    "residuals = (y_test - y_test_pred)\n",
    "residuals"
   ]
  },
  {
   "cell_type": "code",
   "execution_count": null,
   "metadata": {
    "ExecuteTime": {
     "end_time": "2021-07-15T21:41:36.742927Z",
     "start_time": "2021-07-15T21:41:36.048Z"
    },
    "id": "DTQ2Xg_6sq2i",
    "outputId": "077a363d-27d8-462a-9bf5-718857b37f96"
   },
   "outputs": [],
   "source": [
    "## Plotting to test for normality\n",
    "sns.histplot(data=residuals);"
   ]
  },
  {
   "cell_type": "code",
   "execution_count": null,
   "metadata": {
    "ExecuteTime": {
     "end_time": "2021-07-15T21:41:36.751926Z",
     "start_time": "2021-07-15T21:41:36.053Z"
    },
    "id": "-XvKdUZ8sq2i",
    "outputId": "a5d0fd55-9b9b-416d-9c9a-a9cf108cade0",
    "scrolled": true
   },
   "outputs": [],
   "source": [
    "## Checking the homoscedasticity of the new model\n",
    "sns.residplot(x=y_test, y=residuals, lowess=True, color=\"g\");"
   ]
  },
  {
   "cell_type": "markdown",
   "metadata": {},
   "source": [
    "### Visualizing  Non-Scaled Results"
   ]
  },
  {
   "cell_type": "code",
   "execution_count": null,
   "metadata": {
    "ExecuteTime": {
     "end_time": "2021-07-15T21:41:36.734924Z",
     "start_time": "2021-07-15T21:41:35.999Z"
    }
   },
   "outputs": [],
   "source": [
    "reg_pipe_coefs = get_model_coefs(reg_pipe, final_cols)\n",
    "only_zips = model_params[zipcode_cols]\n",
    "\n",
    "reg_zips = reg_pipe_coefs[zipcode_cols]\n",
    "reg_no_zips = reg_pipe_coefs.drop(zipcode_cols)\n",
    "reg_no_zips = reg_no_zips.drop('intercept')"
   ]
  },
  {
   "cell_type": "code",
   "execution_count": null,
   "metadata": {
    "ExecuteTime": {
     "end_time": "2021-07-15T21:41:36.735926Z",
     "start_time": "2021-07-15T21:41:36.011Z"
    },
    "scrolled": false
   },
   "outputs": [],
   "source": [
    "plot_coefs(data = reg_zips, kind = \"barh\", figsize=(15,20), x_label = 'Zip Codes',\n",
    "           y_label = 'Coefficient ($)', title= 'Effects of Zip Codes on Price')\n",
    "\n",
    "plt.show()\n",
    "\n",
    "plot_coefs(data = reg_no_zips, kind = \"barh\", figsize=(15,15), x_label = 'Features Other Than Zip Code',\n",
    "           y_label = 'Coefficient ($)', title= 'Effects of House Features on Price');"
   ]
  },
  {
   "cell_type": "markdown",
   "metadata": {},
   "source": [
    "## Scaled Pipeline"
   ]
  },
  {
   "cell_type": "code",
   "execution_count": null,
   "metadata": {
    "ExecuteTime": {
     "end_time": "2021-07-15T21:41:36.736930Z",
     "start_time": "2021-07-15T21:41:36.022Z"
    }
   },
   "outputs": [],
   "source": [
    "## Creating full pipeline with ColumnTransformer, StandardScaler and LinearRegression\n",
    "reg_pipe_scaled = Pipeline(steps=[('preprocessor', preprocessor),\n",
    "                           ('scaler', StandardScaler()),\n",
    "                      ('regressor', LinearRegression())])"
   ]
  },
  {
   "cell_type": "code",
   "execution_count": null,
   "metadata": {
    "ExecuteTime": {
     "end_time": "2021-07-15T21:41:36.738926Z",
     "start_time": "2021-07-15T21:41:36.028Z"
    },
    "scrolled": false
   },
   "outputs": [],
   "source": [
    "## Fittng pipeline to the training data\n",
    "reg_pipe_scaled.fit(X_train, y_train)\n",
    "\n",
    "## Ensuring same results as prior pipeline\n",
    "eval_perf_total(reg_pipe, X_train, y_train, X_test, y_test)"
   ]
  },
  {
   "cell_type": "markdown",
   "metadata": {
    "id": "HnP7OWpnsq2i"
   },
   "source": [
    "# ✨ ✅ Verifying Lin Reg Assumptions ✨"
   ]
  },
  {
   "cell_type": "code",
   "execution_count": null,
   "metadata": {
    "ExecuteTime": {
     "end_time": "2021-07-15T21:41:36.739923Z",
     "start_time": "2021-07-15T21:41:36.036Z"
    }
   },
   "outputs": [],
   "source": [
    "y_test_pred = reg_pipe_scaled.predict(X_test)"
   ]
  },
  {
   "cell_type": "code",
   "execution_count": null,
   "metadata": {
    "ExecuteTime": {
     "end_time": "2021-07-15T21:41:36.740924Z",
     "start_time": "2021-07-15T21:41:36.042Z"
    },
    "id": "OFnElN0Rsq2i",
    "outputId": "ee26d375-8ed7-43ab-cabe-c1b9b3e9315b"
   },
   "outputs": [],
   "source": [
    "## Determining residuals\n",
    "residuals = (y_test - y_test_pred)\n",
    "residuals"
   ]
  },
  {
   "cell_type": "code",
   "execution_count": null,
   "metadata": {
    "ExecuteTime": {
     "end_time": "2021-07-15T21:41:36.742927Z",
     "start_time": "2021-07-15T21:41:36.048Z"
    },
    "id": "DTQ2Xg_6sq2i",
    "outputId": "077a363d-27d8-462a-9bf5-718857b37f96"
   },
   "outputs": [],
   "source": [
    "## Plotting to test for normality\n",
    "sns.histplot(data=residuals);"
   ]
  },
  {
   "cell_type": "code",
   "execution_count": null,
   "metadata": {
    "ExecuteTime": {
     "end_time": "2021-07-15T21:41:36.751926Z",
     "start_time": "2021-07-15T21:41:36.053Z"
    },
    "id": "-XvKdUZ8sq2i",
    "outputId": "a5d0fd55-9b9b-416d-9c9a-a9cf108cade0",
    "scrolled": true
   },
   "outputs": [],
   "source": [
    "## Checking the homoscedasticity of the new model\n",
    "sns.residplot(x=y_test, y=residuals, lowess=True, color=\"g\");"
   ]
  },
  {
   "cell_type": "markdown",
   "metadata": {},
   "source": [
    "### Visualizing Scaled Results"
   ]
  },
  {
   "cell_type": "code",
   "execution_count": null,
   "metadata": {
    "ExecuteTime": {
     "end_time": "2021-07-15T21:41:36.752927Z",
     "start_time": "2021-07-15T21:41:36.059Z"
    }
   },
   "outputs": [],
   "source": [
    "## Pulling model coefficients for visualizations\n",
    "\n",
    "reg_pipe_scaled_coefs = get_model_coefs(reg_pipe_scaled, final_cols)\n",
    "\n",
    "reg_scaled_zips = reg_pipe_scaled_coefs[zipcode_cols]\n",
    "\n",
    "reg_scaled_no_zips = reg_pipe_scaled_coefs.drop(zipcode_cols)\n",
    "reg_scaled_no_zips = reg_scaled_no_zips.drop('intercept')"
   ]
  },
  {
   "cell_type": "code",
   "execution_count": null,
   "metadata": {
    "ExecuteTime": {
     "end_time": "2021-07-15T21:41:36.754926Z",
     "start_time": "2021-07-15T21:41:36.063Z"
    },
    "scrolled": false
   },
   "outputs": [],
   "source": [
    "## Plotting coefficients\n",
    "\n",
    "plot_coefs(data = reg_scaled_zips, kind = \"barh\", figsize=(20,25), x_label = 'Zip Codes',\n",
    "           y_label = 'Zip Codes', title= 'Zip Code Effect on Price ($)')\n",
    "\n",
    "plt.show()\n",
    "\n",
    "plot_coefs(data = reg_scaled_no_zips, kind = \"barh\", figsize=(20,20), x_label = 'Features Other Than Zip Code',\n",
    "           y_label = 'Features', title= 'Effects of House Features on Price ($)');"
   ]
  },
  {
   "cell_type": "code",
   "execution_count": null,
   "metadata": {},
   "outputs": [],
   "source": []
  },
  {
   "cell_type": "markdown",
   "metadata": {
    "id": "6oXGAE6Wsq2Y"
   },
   "source": [
    "## Recommendations Based on Modeling"
   ]
  },
  {
   "cell_type": "markdown",
   "metadata": {
    "id": "8bdHGFCCsq2Y"
   },
   "source": [
    "If a homeowner is interested in renovating their house, I would recommend the following improvements based on the high coefficients from my model.\n",
    "\n",
    "* Add bathrooms\n",
    "* Also consider adding bedrooms\n",
    "* Use high-quality materials in renovations\n",
    "\n",
    "While it is outside of the homeowner's ability to change, the zip code for a house's location also has a large impact on the price. A prospective buyer should keep the zip code of the area in mind to help determine the prices of the homes there."
   ]
  },
  {
   "cell_type": "code",
   "execution_count": null,
   "metadata": {
    "ExecuteTime": {
     "end_time": "2021-07-15T21:41:36.755924Z",
     "start_time": "2021-07-15T21:41:36.070Z"
    },
    "id": "qsZS96CYsq2Y",
    "outputId": "39c4ec85-108f-471a-ec32-8a744974ff48"
   },
   "outputs": [],
   "source": [
    "## Visualizing the impact of number of bathrooms on price\n",
    "sns.regplot(data=df_clean, x=\"bathrooms\", y='price')\n",
    "plt.suptitle('Impact of Number of Bathrooms on Price')\n",
    "plt.xlabel('Number of Bathrooms')\n",
    "plt.ylabel('Price ($)');"
   ]
  },
  {
   "cell_type": "code",
   "execution_count": null,
   "metadata": {
    "ExecuteTime": {
     "end_time": "2021-07-15T21:41:36.757925Z",
     "start_time": "2021-07-15T21:41:36.074Z"
    },
    "id": "asT9x0w_sq2Z",
    "outputId": "f7abd67e-df96-4273-e692-287f9fa6833d"
   },
   "outputs": [],
   "source": [
    "## Visualizing impact of number of bedrooms on price\n",
    "sns.regplot(data=df_clean, x=\"bedrooms\", y='price')\n",
    "plt.suptitle('Impact of Number of Bedrooms on Price')\n",
    "plt.xlabel('Number of Bedrooms')\n",
    "plt.ylabel('Price ($)');"
   ]
  },
  {
   "cell_type": "code",
   "execution_count": null,
   "metadata": {
    "ExecuteTime": {
     "end_time": "2021-07-15T21:41:36.758924Z",
     "start_time": "2021-07-15T21:41:36.078Z"
    },
    "id": "BWraZ1qbsq2Z",
    "outputId": "38a2d3d7-a999-4a6f-9d52-ec2980b36679"
   },
   "outputs": [],
   "source": [
    "## Visualizing impact of the grade of construction materials on price\n",
    "sns.regplot(data=df_clean, x=\"grade\", y='price')\n",
    "plt.suptitle('Impact of Grade of Materials on Price')\n",
    "plt.xlabel('Grade of Materials')\n",
    "plt.ylabel('Price ($)');"
   ]
  },
  {
   "cell_type": "code",
   "execution_count": null,
   "metadata": {
    "ExecuteTime": {
     "end_time": "2021-07-15T21:41:36.760928Z",
     "start_time": "2021-07-15T21:41:36.081Z"
    },
    "id": "p4bKXY8Qsq2Z",
    "outputId": "05dae25b-fc6f-4742-a21f-9b8b7c6d1a45",
    "scrolled": false
   },
   "outputs": [],
   "source": [
    "## Representing the diversity of prices based on zip codes\n",
    "\n",
    "fg = sns.catplot(data=df_clean, x=\"zipcode\", y='price', aspect=2.75, height=5)\n",
    "fg.ax.set_xticklabels(fg.ax.get_xticklabels(), rotation=45, ha='right')\n",
    "plt.suptitle('Impact of Zip Code on Price')\n",
    "plt.xlabel('Zip Code')\n",
    "plt.ylabel('Price ($)');"
   ]
  },
  {
   "cell_type": "markdown",
   "metadata": {},
   "source": [
    "# ❌ **RAISE EXCEPTION** ❌"
   ]
  },
  {
   "cell_type": "markdown",
   "metadata": {
    "id": "HGls8iMDsq2i"
   },
   "source": [
    "### Interpretation of Model Results"
   ]
  },
  {
   "cell_type": "markdown",
   "metadata": {
    "id": "oQio8WsZsq2j"
   },
   "source": [
    "The model does a great job of explaining the variance between our selected features, with an r-squared value of .79/1.\n",
    "\n",
    "The RMSE for both the training and test sets are below our target of 200,000! Additionally, the difference between the two is within an acceptable range.\n",
    "\n",
    "The assumption tests confirm the assumptions that our residuals would be normally distributed and homoscedastic."
   ]
  },
  {
   "cell_type": "markdown",
   "metadata": {
    "id": "wag43Q9Osq2t"
   },
   "source": [
    "# 🥒 **Pickling the Model for Reuse**"
   ]
  },
  {
   "cell_type": "code",
   "execution_count": null,
   "metadata": {
    "ExecuteTime": {
     "end_time": "2021-07-15T21:41:36.762925Z",
     "start_time": "2021-07-15T21:41:36.088Z"
    },
    "id": "4GN7b92Bsq2t"
   },
   "outputs": [],
   "source": [
    "# ## Setting coefficients and target\n",
    "# X = df[['was_renovated','waterfront', 'zipcode',\n",
    "#             'yrs_since_reno', 'bedrooms', 'bathrooms', 'condition','grade']].copy()\n",
    "# y = df['price'].copy()"
   ]
  },
  {
   "cell_type": "code",
   "execution_count": null,
   "metadata": {
    "ExecuteTime": {
     "end_time": "2021-07-15T21:41:36.765931Z",
     "start_time": "2021-07-15T21:41:36.091Z"
    },
    "id": "aAaWB2p-sq2u"
   },
   "outputs": [],
   "source": [
    "# ## Create list of categorical variables\n",
    "# cat_feats = ['condition','grade', 'zipcode']\n",
    "\n",
    "# ## Create the OHE without \"drop='first\" as it would throw an error in this case\n",
    "# ohe = OneHotEncoder(handle_unknown = 'ignore', sparse=False)\n",
    "\n",
    "# ## Using OHE on our categorical variables for training (NOT testing)\n",
    "# final_ohe = ohe.fit_transform(X[cat_feats])"
   ]
  },
  {
   "cell_type": "code",
   "execution_count": null,
   "metadata": {
    "ExecuteTime": {
     "end_time": "2021-07-15T21:41:36.766927Z",
     "start_time": "2021-07-15T21:41:36.095Z"
    },
    "id": "K4ZlDVedsq2u"
   },
   "outputs": [],
   "source": [
    "# ## Getting feature names from our list of categories\n",
    "# feat_col_name = ohe.get_feature_names(cat_feats)"
   ]
  },
  {
   "cell_type": "code",
   "execution_count": null,
   "metadata": {
    "ExecuteTime": {
     "end_time": "2021-07-15T21:41:36.768927Z",
     "start_time": "2021-07-15T21:41:36.098Z"
    },
    "id": "N-PMoCc9sq2u"
   },
   "outputs": [],
   "source": [
    "# ## Creating DF of final results\n",
    "# penultimate_ohe_df = pd.DataFrame(final_ohe, columns=feat_col_name, index=X.index)"
   ]
  },
  {
   "cell_type": "code",
   "execution_count": null,
   "metadata": {
    "ExecuteTime": {
     "end_time": "2021-07-15T21:41:36.770937Z",
     "start_time": "2021-07-15T21:41:36.102Z"
    },
    "id": "gbBUH7sesq2u"
   },
   "outputs": [],
   "source": [
    "# ## Updating final DF\n",
    "# final_ohe_df = pd.concat([X.drop(cat_feats, axis=1), penultimate_ohe_df], axis=1)"
   ]
  },
  {
   "cell_type": "code",
   "execution_count": null,
   "metadata": {
    "ExecuteTime": {
     "end_time": "2021-07-15T21:41:36.771926Z",
     "start_time": "2021-07-15T21:41:36.106Z"
    },
    "id": "xeejWre2sq2u"
   },
   "outputs": [],
   "source": [
    "# ## Instantiating and fitting the regression\n",
    "# lr_final = LinearRegression()\n",
    "\n",
    "# lr_final = lr_final.fit(final_ohe_df, y)"
   ]
  },
  {
   "cell_type": "code",
   "execution_count": null,
   "metadata": {
    "ExecuteTime": {
     "end_time": "2021-07-15T21:41:36.773939Z",
     "start_time": "2021-07-15T21:41:36.109Z"
    },
    "id": "oI59t6jLsq2u"
   },
   "outputs": [],
   "source": [
    "# # Generating predictions\n",
    "# final_pred = lr_final.predict(final_ohe_df)"
   ]
  },
  {
   "cell_type": "code",
   "execution_count": null,
   "metadata": {
    "ExecuteTime": {
     "end_time": "2021-07-15T21:41:36.775926Z",
     "start_time": "2021-07-15T21:41:36.113Z"
    },
    "id": "S0i9fViVsq2v",
    "outputId": "62cdf02d-fcfe-4d89-f573-6fc99ebcae01"
   },
   "outputs": [],
   "source": [
    "# ## Confirming predictions work\n",
    "# display(final_pred)"
   ]
  },
  {
   "cell_type": "code",
   "execution_count": null,
   "metadata": {
    "ExecuteTime": {
     "end_time": "2021-07-15T21:41:36.776924Z",
     "start_time": "2021-07-15T21:41:36.116Z"
    },
    "id": "BLGZNG78sq2v"
   },
   "outputs": [],
   "source": [
    "# # Saving model to .pickle file\n",
    "# import pickle\n",
    "\n",
    "# pickle_out = open(\"final_model.pickle\",\"wb\")\n",
    "# pickle.dump(lr_final, pickle_out)\n",
    "# pickle_out.close()"
   ]
  }
 ],
 "metadata": {
  "colab": {
   "collapsed_sections": [],
   "name": "P2Pv2_wb.ipynb",
   "provenance": [],
   "toc_visible": true
  },
  "kernelspec": {
   "display_name": "Python (learn-env-bmc)",
   "language": "python",
   "name": "learn-env-bmc"
  },
  "language_info": {
   "codemirror_mode": {
    "name": "ipython",
    "version": 3
   },
   "file_extension": ".py",
   "mimetype": "text/x-python",
   "name": "python",
   "nbconvert_exporter": "python",
   "pygments_lexer": "ipython3",
   "version": "3.8.5"
  },
  "toc": {
   "base_numbering": 1,
   "nav_menu": {},
   "number_sections": true,
   "sideBar": true,
   "skip_h1_title": false,
   "title_cell": "Table of Contents",
   "title_sidebar": "Contents",
   "toc_cell": true,
   "toc_position": {
    "height": "757px",
    "left": "35px",
    "top": "110px",
    "width": "275.875px"
   },
   "toc_section_display": true,
   "toc_window_display": true
  }
 },
 "nbformat": 4,
 "nbformat_minor": 1
}
