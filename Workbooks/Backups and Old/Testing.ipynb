{
 "cells": [
  {
   "cell_type": "markdown",
   "metadata": {},
   "source": [
    "---\n",
    "> **[Return to Workflow](#return)**\n",
    "\n",
    "---"
   ]
  },
  {
   "cell_type": "markdown",
   "metadata": {},
   "source": [
    "# 📋 **To-Do's** 📋"
   ]
  },
  {
   "cell_type": "markdown",
   "metadata": {},
   "source": [
    "---\n",
    "**Priority**\n",
    "\n",
    "\n",
    "- [ ] [WIP - Keep or delete](#wip) (will raise error!)\n",
    "---\n",
    "**Pending**\n",
    "- [ ] Fix [guiding questions](#td-questions)\n",
    "- [ ] Add links to each section addressing the rubric\n",
    "\n",
    "---\n",
    "**Reach Goals**\n",
    "- [ ] Use GridSearchCV for hyperparameter tuning\n",
    "- [ ] H2: add VIF to pipeline?\n",
    "- [ ] Feature Engine: OHE\n",
    "- [ ] Lasso Reg in pipeline\n",
    "\n",
    "---\n",
    "**Done**\n",
    "- [x] Modularize functions - incl. H2 read/inspect notes\n",
    "- [x] Create 'report_df\" function\n",
    "- [x] [Functionize get_model_coef](#get_model_coefs)\n",
    "- [x] [Question for James](#questions)\n",
    "---\n",
    "\n"
   ]
  },
  {
   "cell_type": "markdown",
   "metadata": {},
   "source": [
    "**Questions** <a name='questions'></a>\n",
    "\n",
    "- SM OLS model still needed?\n",
    "- Still need to test preprocessor?\n"
   ]
  },
  {
   "cell_type": "markdown",
   "metadata": {
    "id": "cj2TboyMuoQe"
   },
   "source": [
    "# 📊 Phase 2 Project - DSC 060721 📊 "
   ]
  },
  {
   "cell_type": "markdown",
   "metadata": {},
   "source": [
    "Author: Ben McCarty\n",
    "\n",
    "Date: 7/12/21\n",
    "\n",
    "Contact: bmccarty505@gmail.com"
   ]
  },
  {
   "cell_type": "markdown",
   "metadata": {
    "toc": true
   },
   "source": [
    "<h1>Table of Contents<span class=\"tocSkip\"></span></h1>\n",
    "<div class=\"toc\"><ul class=\"toc-item\"><li><span><a href=\"#📋-To-Do's-📋\" data-toc-modified-id=\"📋-To-Do's-📋-1\"><span class=\"toc-item-num\">1&nbsp;&nbsp;</span>📋 <strong>To-Do's</strong> 📋</a></span></li><li><span><a href=\"#📊-Phase-2-Project---DSC-060721-📊\" data-toc-modified-id=\"📊-Phase-2-Project---DSC-060721-📊-2\"><span class=\"toc-item-num\">2&nbsp;&nbsp;</span>📊 Phase 2 Project - DSC 060721 📊</a></span></li><li><span><a href=\"#📃-Rubric-\" data-toc-modified-id=\"📃-Rubric--3\"><span class=\"toc-item-num\">3&nbsp;&nbsp;</span>📃 Rubric <a name=\"rubric\"></a></a></span></li><li><span><a href=\"#🏡-(Re)Selling-Seattle:-Determining-House-Sell-Prices-🏡-\" data-toc-modified-id=\"🏡-(Re)Selling-Seattle:-Determining-House-Sell-Prices-🏡--4\"><span class=\"toc-item-num\">4&nbsp;&nbsp;</span>🏡 <strong>(Re)Selling Seattle: Determining House Sell Prices</strong> 🏡 <a name=\"title\"></a></a></span></li><li><span><a href=\"#❌-BEN---FIX-THIS!-❌\" data-toc-modified-id=\"❌-BEN---FIX-THIS!-❌-5\"><span class=\"toc-item-num\">5&nbsp;&nbsp;</span>❌ BEN - FIX THIS! ❌</a></span></li><li><span><a href=\"#📂-Setting-Up-the-Tools-and-Data\" data-toc-modified-id=\"📂-Setting-Up-the-Tools-and-Data-6\"><span class=\"toc-item-num\">6&nbsp;&nbsp;</span>📂 <strong>Setting Up the Tools and Data</strong></a></span><ul class=\"toc-item\"><li><span><a href=\"#Imports\" data-toc-modified-id=\"Imports-6.1\"><span class=\"toc-item-num\">6.1&nbsp;&nbsp;</span>Imports</a></span></li><li><span><a href=\"#Importing-Personal-Functions\" data-toc-modified-id=\"Importing-Personal-Functions-6.2\"><span class=\"toc-item-num\">6.2&nbsp;&nbsp;</span>Importing Personal Functions</a></span></li><li><span><a href=\"#Reading-Data\" data-toc-modified-id=\"Reading-Data-6.3\"><span class=\"toc-item-num\">6.3&nbsp;&nbsp;</span>Reading Data</a></span></li></ul></li><li><span><a href=\"#🪓-Performing-Train/Test-Split\" data-toc-modified-id=\"🪓-Performing-Train/Test-Split-7\"><span class=\"toc-item-num\">7&nbsp;&nbsp;</span>🪓 <strong>Performing Train/Test Split</strong></a></span><ul class=\"toc-item\"><li><span><a href=\"#Create-Train/Test-Split\" data-toc-modified-id=\"Create-Train/Test-Split-7.1\"><span class=\"toc-item-num\">7.1&nbsp;&nbsp;</span>Create Train/Test Split</a></span></li></ul></li><li><span><a href=\"#🔮-Exploring-Fresh-Data\" data-toc-modified-id=\"🔮-Exploring-Fresh-Data-8\"><span class=\"toc-item-num\">8&nbsp;&nbsp;</span>🔮 <strong>Exploring Fresh Data</strong></a></span><ul class=\"toc-item\"><li><span><a href=\"#Data-Cleaning-and-Processing\" data-toc-modified-id=\"Data-Cleaning-and-Processing-8.1\"><span class=\"toc-item-num\">8.1&nbsp;&nbsp;</span>Data Cleaning and Processing</a></span></li><li><span><a href=\"#Preprocessing-Data-Via-ColumnTransformer\" data-toc-modified-id=\"Preprocessing-Data-Via-ColumnTransformer-8.2\"><span class=\"toc-item-num\">8.2&nbsp;&nbsp;</span>Preprocessing Data Via ColumnTransformer</a></span></li></ul></li><li><span><a href=\"#🚿-Instantiating-Pipeline\" data-toc-modified-id=\"🚿-Instantiating-Pipeline-9\"><span class=\"toc-item-num\">9&nbsp;&nbsp;</span>🚿 <strong>Instantiating Pipeline</strong></a></span><ul class=\"toc-item\"><li><span><a href=\"#Non-Scaled-Pipeline\" data-toc-modified-id=\"Non-Scaled-Pipeline-9.1\"><span class=\"toc-item-num\">9.1&nbsp;&nbsp;</span>Non-Scaled Pipeline</a></span></li></ul></li><li><span><a href=\"#🛠-Feature-Engineering\" data-toc-modified-id=\"🛠-Feature-Engineering-10\"><span class=\"toc-item-num\">10&nbsp;&nbsp;</span>🛠 <strong>Feature Engineering</strong></a></span><ul class=\"toc-item\"><li><span><a href=\"#'yrs_old_sold'\" data-toc-modified-id=\"'yrs_old_sold'-10.1\"><span class=\"toc-item-num\">10.1&nbsp;&nbsp;</span><code>'yrs_old_sold'</code></a></span><ul class=\"toc-item\"><li><span><a href=\"#Determine-'year_sold'\" data-toc-modified-id=\"Determine-'year_sold'-10.1.1\"><span class=\"toc-item-num\">10.1.1&nbsp;&nbsp;</span>Determine <code>'year_sold'</code></a></span></li><li><span><a href=\"#Calculate-'y_old_sold'\" data-toc-modified-id=\"Calculate-'y_old_sold'-10.1.2\"><span class=\"toc-item-num\">10.1.2&nbsp;&nbsp;</span>Calculate <code>'y_old_sold'</code></a></span></li></ul></li><li><span><a href=\"#'was_renovated'\" data-toc-modified-id=\"'was_renovated'-10.2\"><span class=\"toc-item-num\">10.2&nbsp;&nbsp;</span><code>'was_renovated'</code></a></span></li><li><span><a href=\"#&quot;yrs_since_reno&quot;\" data-toc-modified-id=\"&quot;yrs_since_reno&quot;-10.3\"><span class=\"toc-item-num\">10.3&nbsp;&nbsp;</span><code>\"yrs_since_reno\"</code></a></span></li><li><span><a href=\"#&quot;has_bsmnt&quot;\" data-toc-modified-id=\"&quot;has_bsmnt&quot;-10.4\"><span class=\"toc-item-num\">10.4&nbsp;&nbsp;</span>\"<code>has_bsmnt</code>\"</a></span></li></ul></li><li><span><a href=\"#🪓-Performing-Train/Test-Split\" data-toc-modified-id=\"🪓-Performing-Train/Test-Split-11\"><span class=\"toc-item-num\">11&nbsp;&nbsp;</span>🪓 <strong>Performing Train/Test Split</strong></a></span><ul class=\"toc-item\"><li><span><a href=\"#Create-Train/Test-Split\" data-toc-modified-id=\"Create-Train/Test-Split-11.1\"><span class=\"toc-item-num\">11.1&nbsp;&nbsp;</span>Create Train/Test Split</a></span></li></ul></li><li><span><a href=\"#📊-Creating-Baseline-Model\" data-toc-modified-id=\"📊-Creating-Baseline-Model-12\"><span class=\"toc-item-num\">12&nbsp;&nbsp;</span>📊 <strong>Creating Baseline Model</strong></a></span></li><li><span><a href=\"#🚿-Creating-Pipeline-for-Modeling\" data-toc-modified-id=\"🚿-Creating-Pipeline-for-Modeling-13\"><span class=\"toc-item-num\">13&nbsp;&nbsp;</span>🚿 <strong>Creating Pipeline for Modeling</strong></a></span><ul class=\"toc-item\"><li><span><a href=\"#Preprocessing-Data-Via-ColumnTransformer\" data-toc-modified-id=\"Preprocessing-Data-Via-ColumnTransformer-13.1\"><span class=\"toc-item-num\">13.1&nbsp;&nbsp;</span>Preprocessing Data Via ColumnTransformer</a></span></li></ul></li><li><span><a href=\"#🚿-Instantiating-Pipeline\" data-toc-modified-id=\"🚿-Instantiating-Pipeline-14\"><span class=\"toc-item-num\">14&nbsp;&nbsp;</span>🚿 <strong>Instantiating Pipeline</strong></a></span><ul class=\"toc-item\"><li><span><a href=\"#Non-Scaled-Pipeline\" data-toc-modified-id=\"Non-Scaled-Pipeline-14.1\"><span class=\"toc-item-num\">14.1&nbsp;&nbsp;</span>Non-Scaled Pipeline</a></span></li><li><span><a href=\"#Scaled-Pipeline\" data-toc-modified-id=\"Scaled-Pipeline-14.2\"><span class=\"toc-item-num\">14.2&nbsp;&nbsp;</span>Scaled Pipeline</a></span></li></ul></li><li><span><a href=\"#❌-RAISE-EXCEPTION-❌\" data-toc-modified-id=\"❌-RAISE-EXCEPTION-❌-15\"><span class=\"toc-item-num\">15&nbsp;&nbsp;</span>❌ <strong>RAISE EXCEPTION</strong> ❌</a></span></li><li><span><a href=\"#🔍-Creating-GridSearchCV\" data-toc-modified-id=\"🔍-Creating-GridSearchCV-16\"><span class=\"toc-item-num\">16&nbsp;&nbsp;</span>🔍 <strong>Creating GridSearchCV</strong></a></span><ul class=\"toc-item\"><li><span><a href=\"#Preprocessing-Data-Via-ColumnTransformer\" data-toc-modified-id=\"Preprocessing-Data-Via-ColumnTransformer-16.1\"><span class=\"toc-item-num\">16.1&nbsp;&nbsp;</span>Preprocessing Data Via ColumnTransformer</a></span></li></ul></li><li><span><a href=\"#🔎-Recursive-Feature-Elimination\" data-toc-modified-id=\"🔎-Recursive-Feature-Elimination-17\"><span class=\"toc-item-num\">17&nbsp;&nbsp;</span>🔎 <strong>Recursive Feature Elimination</strong></a></span></li><li><span><a href=\"#Creating-the-(First)-Pipeline\" data-toc-modified-id=\"Creating-the-(First)-Pipeline-18\"><span class=\"toc-item-num\">18&nbsp;&nbsp;</span>Creating the (First) Pipeline</a></span></li><li><span><a href=\"#🥒-Pickling-the-Model-for-Reuse\" data-toc-modified-id=\"🥒-Pickling-the-Model-for-Reuse-19\"><span class=\"toc-item-num\">19&nbsp;&nbsp;</span>🥒 <strong>Pickling the Model for Reuse</strong></a></span></li></ul></div>"
   ]
  },
  {
   "cell_type": "markdown",
   "metadata": {},
   "source": [
    "# 📃 Rubric <a name=\"rubric\"></a>"
   ]
  },
  {
   "cell_type": "markdown",
   "metadata": {},
   "source": [
    "---\n",
    "**Business Understanding:** [Business Understanding](#bizund)\n",
    "\n",
    "- [ ] Notebook clearly explains the project's value for helping a specific stakeholder solve a real-world problem.\n",
    "\n",
    "\n",
    "- [ ] Introduction explains the real-world problem the project aims to solve\n",
    "\n",
    "\n",
    "- [ ] Introduction identifies stakeholders who could use the project and how they would use it\n",
    "\n",
    "\n",
    "- [ ] Conclusion summarizes implications of the project for the real-world problem and stakeholders\n",
    "\n",
    "---\n",
    "**Data Understanding:**\n",
    "- [ ] Notebook clearly describes the source and properties of the data to show how useful the data are for solving the problem of interest.\n",
    "\n",
    "\n",
    "- [ ] Describe the data sources and explain why the data are suitable for the project\n",
    "\n",
    "\n",
    "- [x] Present the size of the dataset and descriptive statistics for all features used in the analysis\n",
    "\n",
    "\n",
    "- [x] Justify the inclusion of features based on their properties and relevance for the project\n",
    "\n",
    "\n",
    "- [ ] Identify any limitations of the data that have implications for the project\n",
    "\n",
    "---\n",
    "**Data Preparation:** \n",
    "- [ ] Notebook shows how you prepare your data and explains why by including…\n",
    "\n",
    "\n",
    "- [x] Instructions or code needed to get and prepare the raw data for analysis\n",
    "\n",
    "\n",
    "- [x] Code comments and text to explain what your data preparation code does\n",
    "\n",
    "\n",
    "- [ ] Valid justifications for why the steps you took are appropriate for the problem you are solving\n",
    "\n",
    "---\n",
    "**Modeling:**\n",
    "- [x] Notebook demonstrates an iterative approach to model building.\n",
    "\n",
    "\n",
    "- [] Runs and interprets a simple, baseline model for comparison\n",
    "\n",
    "\n",
    "- [ ] Introduces new models that improve on prior models and interprets their results\n",
    "\n",
    "\n",
    "- [ ] Explicitly justifies model changes based on the results of prior models and the problem context\n",
    "\n",
    "\n",
    "- [ ] Explicitly describes any improvements found from running new models\n",
    "\n",
    "---\n",
    "**Regression Results:**\n",
    "- [ ] Notebook clearly presents two features with strong relationships to sale prices\n",
    "\n",
    "\n",
    "- [ ] Explicitly identify the features and interpret their coefficients in plain language\n",
    "\n",
    "\n",
    "- [ ] Explain the implications of results for the real-world problem the project aims to address\n",
    "\n",
    "\n",
    "- [ ] Identify specific actions that stakeholders should take to leverage these results\n",
    "\n",
    "---\n",
    "**Visualization:**\n",
    "- [ ] Notebook includes three relevant and polished visualizations of findings that…\n",
    "\n",
    "\n",
    "- [ ] Help the project stakeholder understand the value or success of the project\n",
    "\n",
    "\n",
    "- [ ] Have text and marks to aid reader interpretation, such as graph and axis titles, axis ticks and labels, or legend (varies by visualization type)\n",
    "\n",
    "\n",
    "- [ ] Use color, size, and/or location to appropriately facilitate comparisons\n",
    "\n",
    "\n",
    "- [ ] Are not cluttered, dense, or illegible\n",
    "\n",
    "---\n",
    "**Code Quality:**\n",
    "- [ ] Code in notebook and related files meets professional standards (e.g. PEP 8)\n",
    "\n",
    "\n",
    "- [ ] Code is easy to read, using comments, spacing, variable names, and function docstrings\n",
    "\n",
    "\n",
    "- [ ] All code runs and no code or comments are included that are not needed for the project\n",
    "\n",
    "\n",
    "- [ ] Code minimizes repetition, using loops, functions, and classes\n",
    "\n",
    "\n",
    "- [ ] Code adapted from others is properly cited with author names and location of the cited material\n",
    "---"
   ]
  },
  {
   "cell_type": "markdown",
   "metadata": {
    "id": "9zh5kWAlsq1k"
   },
   "source": [
    "# 🏡 **(Re)Selling Seattle: Determining House Sell Prices** 🏡 <a name=\"title\"></a>"
   ]
  },
  {
   "cell_type": "markdown",
   "metadata": {
    "id": "76jtLj8Gsq1n"
   },
   "source": [
    "<a name='bizund'></a>\n",
    "\n",
    "**<p style=\"text-align: center;\">If you are considering selling your house, one of the highest priorities is getting the best price for it.</p>**\n",
    "\n",
    "You want to make sure that the hedges are trimmed; that the basement isn't leaking; and that new coat of paint is covering up all of the \"art\" covering the walls from your kids.\n",
    "\n",
    "*But what else can do you?* Would that extra bathroom under the stairs be a worthwhile addition? What about that addition you always talked about building?\n",
    "\n",
    "---\n",
    "**<p style=\"text-align: center;\">When you are exploring the option of selling, you may ask such questions as:</p>**\n",
    "\n",
    ">* How do the different aspects of your house impact the price?\n",
    ">\n",
    ">\n",
    ">* What can you do to improve the house's value?\n",
    "\n",
    "\n",
    "---\n",
    "You may have some ideas already (and if you don't, watch a few episodes of \"This Old House\" and you will have *plenty* of inspiration).\n",
    "\n",
    "But how do you *really* know what features are best? How can you be sure that your intuition or expectations are based on fact and not assumptions? **Turn to the data for answers!**\n",
    "\n",
    "---\n",
    "**<p style=\"text-align: center;\">Revisiting King County</p>**\n",
    "\n",
    "My [prior exploration](https://github.com/BenJMcCarty/Phase_2_Project_Final) of the King County House Sales dataset yielded some recommendations, but I wanted to see if I can improve them. I am revisiting the data with new techniques and approaches to see how much I can improve the results.\n",
    "\n",
    "---"
   ]
  },
  {
   "cell_type": "markdown",
   "metadata": {},
   "source": [
    "# ❌ BEN - FIX THIS! ❌"
   ]
  },
  {
   "cell_type": "markdown",
   "metadata": {
    "id": "76jtLj8Gsq1n"
   },
   "source": [
    "**WHAT QUESTIONS ARE IMPORTANT FROM THE BUSINESS PERSPECTIVE? WHAT QUESTIONS DID I USE TO GUIDE MY EXPLORATION?** \n",
    "\n",
    "My project used data from house sales in King County, WA. to determine some of the top features determining the sell price of a home.\n",
    "\n",
    "* **First, I explored the data using the Pandas package to review the data itself.** I reviewed the different features included in my dataset and their respective values; the descriptive statistics for the numerical data; and the overall size and shape of the data (how many rows and columns).\n",
    "\n",
    "* **Then, I used Seaborn to plot the data and a fitted linear regression model for each feature against the sell price.** These visualizations helped differentiate which features to treat as *categorical* variables (e.g. features that would be one of a select number of options) versus *continuous* variables (which would have less of a rigid range of values).\n",
    "\n",
    "* **In order to give more depth to my data, I engineered four new features based on the original features and data.** I determined the age of each house at sale; whether or not a home was renovated; how many years since a renovation; and whether or not a house had a basement.\n",
    "\n",
    "* **I wanted to make sure all of the features and their data were relevant to apply to my future model.** I performed correlational comparisons to determine which features were too closely related (indicating multicollinearity), which would affect my modeling process later on.\n",
    "\n",
    "* **To test my assumptions that certain features would have a statistically significant impact on the price, I performed a few statistical tests.** I performed an ANOVA test on our \"condition\" feature (comparing each ranking of condition against the others) and I ran a two-sample t-test on the \"waterfront\" and \"was_renovated\" features as well.\n",
    "\n",
    "* **LReg for Inferences**"
   ]
  },
  {
   "cell_type": "markdown",
   "metadata": {
    "id": "AQQLR7ANsq1o"
   },
   "source": [
    "# 📂 **Setting Up the Tools and Data**"
   ]
  },
  {
   "cell_type": "markdown",
   "metadata": {
    "id": "bl8Y9RaXsq1o"
   },
   "source": [
    "## Imports"
   ]
  },
  {
   "cell_type": "code",
   "execution_count": 1,
   "metadata": {
    "ExecuteTime": {
     "end_time": "2021-07-15T19:26:24.259047Z",
     "start_time": "2021-07-15T19:26:22.238616Z"
    },
    "id": "fwxtrzBMsq1p"
   },
   "outputs": [],
   "source": [
    "# Data Handling\n",
    "import pandas as pd\n",
    "import numpy as np\n",
    "from scipy import stats\n",
    "\n",
    "# Visualizations\n",
    "import matplotlib.pyplot as plt\n",
    "import seaborn as sns\n",
    "import matplotlib as mpl\n",
    "\n",
    "# Modeling - Statsmodels\n",
    "import statsmodels.formula.api as smf\n",
    "import statsmodels.api as sms\n",
    "\n",
    "# Modeling - SKLearn\n",
    "from sklearn import metrics\n",
    "from sklearn.linear_model import LinearRegression\n",
    "from sklearn.metrics import mean_squared_error\n",
    "from sklearn.preprocessing import PolynomialFeatures, StandardScaler, FunctionTransformer\n",
    "from sklearn.model_selection import train_test_split, GridSearchCV\n",
    "from sklearn.feature_selection import RFECV\n",
    "from sklearn.impute import SimpleImputer, KNNImputer\n",
    "from sklearn.compose import ColumnTransformer\n",
    "from sklearn.pipeline import Pipeline\n",
    "from sklearn.dummy import DummyRegressor\n",
    "from sklearn import set_config\n",
    "from sklearn.experimental import enable_iterative_imputer\n",
    "from sklearn.impute import IterativeImputer\n",
    "\n",
    "from feature_engine.encoding import DecisionTreeEncoder, OneHotEncoder\n",
    "\n",
    "\n",
    "# Settings\n",
    "%matplotlib inline\n",
    "plt.style.use('seaborn-talk')\n",
    "pd.set_option('display.max_columns', None)\n",
    "pd.set_option('display.float_format', lambda x: f'{x:,.2f}')\n",
    "set_config(display='diagram')"
   ]
  },
  {
   "cell_type": "markdown",
   "metadata": {},
   "source": [
    "## Importing Personal Functions"
   ]
  },
  {
   "cell_type": "markdown",
   "metadata": {},
   "source": [
    "I created several functions specific to this project and saved them in an external file. The file is available from the main directory."
   ]
  },
  {
   "cell_type": "code",
   "execution_count": 2,
   "metadata": {
    "ExecuteTime": {
     "end_time": "2021-07-15T19:26:24.370496Z",
     "start_time": "2021-07-15T19:26:24.261906Z"
    }
   },
   "outputs": [],
   "source": [
    "%load_ext autoreload\n",
    "%autoreload 2\n",
    "\n",
    "from p2pr_functions.functions import *\n",
    "import p2pr_functions.functions as pf"
   ]
  },
  {
   "cell_type": "code",
   "execution_count": 3,
   "metadata": {
    "ExecuteTime": {
     "end_time": "2021-07-15T19:26:24.477674Z",
     "start_time": "2021-07-15T19:26:24.372496Z"
    },
    "scrolled": false
   },
   "outputs": [],
   "source": [
    "## Uncomment cell to review contents of module\n",
    "# help(pf)"
   ]
  },
  {
   "cell_type": "markdown",
   "metadata": {
    "id": "z6WjRioGsq12"
   },
   "source": [
    "## Reading Data"
   ]
  },
  {
   "cell_type": "code",
   "execution_count": 4,
   "metadata": {
    "ExecuteTime": {
     "end_time": "2021-07-15T19:26:24.679317Z",
     "start_time": "2021-07-15T19:26:24.480602Z"
    },
    "id": "O0NN2C4ysq12"
   },
   "outputs": [],
   "source": [
    "## Reading in data as DataFrame\n",
    "local_data = 'data/kc_house_data.csv'\n",
    "\n",
    "df = pd.read_csv(local_data, index_col=0)"
   ]
  },
  {
   "cell_type": "code",
   "execution_count": null,
   "metadata": {},
   "outputs": [],
   "source": []
  },
  {
   "cell_type": "markdown",
   "metadata": {},
   "source": [
    "# 🪓 **Performing Train/Test Split**"
   ]
  },
  {
   "cell_type": "code",
   "execution_count": 5,
   "metadata": {
    "ExecuteTime": {
     "end_time": "2021-07-15T19:26:24.805988Z",
     "start_time": "2021-07-15T19:26:24.681308Z"
    },
    "id": "OU4PKAM1sq2l"
   },
   "outputs": [],
   "source": [
    "## Creating features matrix minus target variable\n",
    "X = df.drop('price', axis = 1).copy()"
   ]
  },
  {
   "cell_type": "code",
   "execution_count": 6,
   "metadata": {
    "ExecuteTime": {
     "end_time": "2021-07-15T19:26:24.915956Z",
     "start_time": "2021-07-15T19:26:24.808972Z"
    },
    "id": "me9QULf1sq2l"
   },
   "outputs": [],
   "source": [
    "## Creating the y values by setting them equal to the 'price' values from the dataframe\n",
    "y = df['price'].copy()"
   ]
  },
  {
   "cell_type": "code",
   "execution_count": 7,
   "metadata": {
    "ExecuteTime": {
     "end_time": "2021-07-15T19:26:25.025771Z",
     "start_time": "2021-07-15T19:26:24.918839Z"
    },
    "id": "gdxlPa7fsq2l",
    "outputId": "94e25dd6-f2e6-455e-9e64-0b38ccc9ab09"
   },
   "outputs": [
    {
     "data": {
      "text/plain": [
       "True"
      ]
     },
     "execution_count": 7,
     "metadata": {},
     "output_type": "execute_result"
    }
   ],
   "source": [
    "## Verifying the two groups are of equal length\n",
    "X.shape[0] == y.shape[0]"
   ]
  },
  {
   "cell_type": "markdown",
   "metadata": {
    "id": "8uXAq1o9sq2m"
   },
   "source": [
    "## Create Train/Test Split"
   ]
  },
  {
   "cell_type": "markdown",
   "metadata": {
    "id": "mwP6qaTEsq2m"
   },
   "source": [
    "Now I will split the data into the train/test groups. Then, I will run the first linear regression on the \"train\" data, then another regression on the \"test\" data."
   ]
  },
  {
   "cell_type": "code",
   "execution_count": 8,
   "metadata": {
    "ExecuteTime": {
     "end_time": "2021-07-15T19:26:25.151681Z",
     "start_time": "2021-07-15T19:26:25.027791Z"
    },
    "id": "VfB9_nl0sq2m"
   },
   "outputs": [],
   "source": [
    "## Establishing the train and test data before doing anything else\n",
    "\n",
    "X_train, X_test, y_train, y_test = train_test_split(X, y, test_size=0.25,\n",
    "                                                    random_state=505)"
   ]
  },
  {
   "cell_type": "markdown",
   "metadata": {
    "id": "Nd8bcFoVsq12"
   },
   "source": [
    "# 🔮 **Exploring Fresh Data**"
   ]
  },
  {
   "cell_type": "markdown",
   "metadata": {
    "id": "wOmmqD7koDQi"
   },
   "source": [
    "## Data Cleaning and Processing"
   ]
  },
  {
   "cell_type": "code",
   "execution_count": 17,
   "metadata": {
    "ExecuteTime": {
     "end_time": "2021-07-15T19:29:00.764175Z",
     "start_time": "2021-07-15T19:29:00.647296Z"
    },
    "colab": {
     "base_uri": "https://localhost:8080/"
    },
    "id": "NK_VFrBh6-Q1",
    "outputId": "5cfa8293-6e19-435c-ddf8-84aa3ca622d7"
   },
   "outputs": [
    {
     "data": {
      "text/plain": [
       "id\n",
       "3577300040    1430352000000000000\n",
       "6728700075    1400544000000000000\n",
       "3797002160    1406160000000000000\n",
       "1796360340    1405987200000000000\n",
       "4172100200    1416528000000000000\n",
       "                     ...         \n",
       "6647400250    1406073600000000000\n",
       "7889000160    1426550400000000000\n",
       "5292200010    1421366400000000000\n",
       "7974200776    1417737600000000000\n",
       "1541700170    1402272000000000000\n",
       "Name: date, Length: 16197, dtype: int64"
      ]
     },
     "execution_count": 17,
     "metadata": {},
     "output_type": "execute_result"
    }
   ],
   "source": [
    "X_train = X_train.drop('date', axis=1).copyX_train = X_train.drop('date', axis=1).copy("
   ]
  },
  {
   "cell_type": "code",
   "execution_count": 18,
   "metadata": {
    "ExecuteTime": {
     "end_time": "2021-07-15T19:29:20.697946Z",
     "start_time": "2021-07-15T19:29:20.584047Z"
    },
    "colab": {
     "base_uri": "https://localhost:8080/"
    },
    "id": "dBgOkFsVChMH",
    "outputId": "966e713c-4e28-44ee-bbab-129181812a3d"
   },
   "outputs": [],
   "source": [
    "## Converting 'sqft_basement' to numeric and filling any null values with zero\n",
    "\n",
    "X_train.loc[:,'sqft_basement'] = pd.to_numeric(X_train.loc[:,'sqft_basement'], errors='coerce')\n",
    "# df['sqft_basement']"
   ]
  },
  {
   "cell_type": "code",
   "execution_count": 19,
   "metadata": {
    "ExecuteTime": {
     "end_time": "2021-07-15T19:29:24.364312Z",
     "start_time": "2021-07-15T19:29:24.183271Z"
    },
    "scrolled": true
   },
   "outputs": [
    {
     "name": "stdout",
     "output_type": "stream",
     "text": [
      "(16197, 19)\n"
     ]
    },
    {
     "data": {
      "text/html": [
       "<div>\n",
       "<style scoped>\n",
       "    .dataframe tbody tr th:only-of-type {\n",
       "        vertical-align: middle;\n",
       "    }\n",
       "\n",
       "    .dataframe tbody tr th {\n",
       "        vertical-align: top;\n",
       "    }\n",
       "\n",
       "    .dataframe thead th {\n",
       "        text-align: right;\n",
       "    }\n",
       "</style>\n",
       "<table border=\"1\" class=\"dataframe\">\n",
       "  <thead>\n",
       "    <tr style=\"text-align: right;\">\n",
       "      <th></th>\n",
       "      <th>datatypes</th>\n",
       "      <th>num_unique</th>\n",
       "      <th>null_sum</th>\n",
       "      <th>null_pct</th>\n",
       "      <th>count</th>\n",
       "      <th>mean</th>\n",
       "      <th>std</th>\n",
       "      <th>min</th>\n",
       "      <th>25%</th>\n",
       "      <th>50%</th>\n",
       "      <th>75%</th>\n",
       "      <th>max</th>\n",
       "    </tr>\n",
       "  </thead>\n",
       "  <tbody>\n",
       "    <tr>\n",
       "      <th>date</th>\n",
       "      <td>int64</td>\n",
       "      <td>369</td>\n",
       "      <td>0</td>\n",
       "      <td>0.00</td>\n",
       "      <td>16,197.00</td>\n",
       "      <td>1,414,596,959,733,283,840.00</td>\n",
       "      <td>9,773,651,803,692,374.00</td>\n",
       "      <td>1,398,988,800,000,000,000.00</td>\n",
       "      <td>1,405,900,800,000,000,000.00</td>\n",
       "      <td>1,413,504,000,000,000,000.00</td>\n",
       "      <td>1,424,217,600,000,000,000.00</td>\n",
       "      <td>1,432,684,800,000,000,000.00</td>\n",
       "    </tr>\n",
       "    <tr>\n",
       "      <th>bedrooms</th>\n",
       "      <td>int64</td>\n",
       "      <td>10</td>\n",
       "      <td>0</td>\n",
       "      <td>0.00</td>\n",
       "      <td>16,197.00</td>\n",
       "      <td>3.37</td>\n",
       "      <td>0.91</td>\n",
       "      <td>1.00</td>\n",
       "      <td>3.00</td>\n",
       "      <td>3.00</td>\n",
       "      <td>4.00</td>\n",
       "      <td>10.00</td>\n",
       "    </tr>\n",
       "    <tr>\n",
       "      <th>bathrooms</th>\n",
       "      <td>float64</td>\n",
       "      <td>29</td>\n",
       "      <td>0</td>\n",
       "      <td>0.00</td>\n",
       "      <td>16,197.00</td>\n",
       "      <td>2.11</td>\n",
       "      <td>0.77</td>\n",
       "      <td>0.50</td>\n",
       "      <td>1.50</td>\n",
       "      <td>2.25</td>\n",
       "      <td>2.50</td>\n",
       "      <td>8.00</td>\n",
       "    </tr>\n",
       "    <tr>\n",
       "      <th>sqft_living</th>\n",
       "      <td>int64</td>\n",
       "      <td>915</td>\n",
       "      <td>0</td>\n",
       "      <td>0.00</td>\n",
       "      <td>16,197.00</td>\n",
       "      <td>2,080.78</td>\n",
       "      <td>912.15</td>\n",
       "      <td>380.00</td>\n",
       "      <td>1,430.00</td>\n",
       "      <td>1,920.00</td>\n",
       "      <td>2,550.00</td>\n",
       "      <td>12,050.00</td>\n",
       "    </tr>\n",
       "    <tr>\n",
       "      <th>sqft_lot</th>\n",
       "      <td>int64</td>\n",
       "      <td>8053</td>\n",
       "      <td>0</td>\n",
       "      <td>0.00</td>\n",
       "      <td>16,197.00</td>\n",
       "      <td>14,924.30</td>\n",
       "      <td>41,700.79</td>\n",
       "      <td>520.00</td>\n",
       "      <td>5,075.00</td>\n",
       "      <td>7,650.00</td>\n",
       "      <td>10,695.00</td>\n",
       "      <td>1,651,359.00</td>\n",
       "    </tr>\n",
       "    <tr>\n",
       "      <th>floors</th>\n",
       "      <td>float64</td>\n",
       "      <td>6</td>\n",
       "      <td>0</td>\n",
       "      <td>0.00</td>\n",
       "      <td>16,197.00</td>\n",
       "      <td>1.49</td>\n",
       "      <td>0.54</td>\n",
       "      <td>1.00</td>\n",
       "      <td>1.00</td>\n",
       "      <td>1.50</td>\n",
       "      <td>2.00</td>\n",
       "      <td>3.50</td>\n",
       "    </tr>\n",
       "    <tr>\n",
       "      <th>waterfront</th>\n",
       "      <td>float64</td>\n",
       "      <td>2</td>\n",
       "      <td>1787</td>\n",
       "      <td>0.11</td>\n",
       "      <td>14,410.00</td>\n",
       "      <td>0.01</td>\n",
       "      <td>0.08</td>\n",
       "      <td>0.00</td>\n",
       "      <td>0.00</td>\n",
       "      <td>0.00</td>\n",
       "      <td>0.00</td>\n",
       "      <td>1.00</td>\n",
       "    </tr>\n",
       "    <tr>\n",
       "      <th>view</th>\n",
       "      <td>float64</td>\n",
       "      <td>5</td>\n",
       "      <td>47</td>\n",
       "      <td>0.00</td>\n",
       "      <td>16,150.00</td>\n",
       "      <td>0.23</td>\n",
       "      <td>0.76</td>\n",
       "      <td>0.00</td>\n",
       "      <td>0.00</td>\n",
       "      <td>0.00</td>\n",
       "      <td>0.00</td>\n",
       "      <td>4.00</td>\n",
       "    </tr>\n",
       "    <tr>\n",
       "      <th>condition</th>\n",
       "      <td>int64</td>\n",
       "      <td>5</td>\n",
       "      <td>0</td>\n",
       "      <td>0.00</td>\n",
       "      <td>16,197.00</td>\n",
       "      <td>3.41</td>\n",
       "      <td>0.65</td>\n",
       "      <td>1.00</td>\n",
       "      <td>3.00</td>\n",
       "      <td>3.00</td>\n",
       "      <td>4.00</td>\n",
       "      <td>5.00</td>\n",
       "    </tr>\n",
       "    <tr>\n",
       "      <th>grade</th>\n",
       "      <td>int64</td>\n",
       "      <td>11</td>\n",
       "      <td>0</td>\n",
       "      <td>0.00</td>\n",
       "      <td>16,197.00</td>\n",
       "      <td>7.66</td>\n",
       "      <td>1.17</td>\n",
       "      <td>3.00</td>\n",
       "      <td>7.00</td>\n",
       "      <td>7.00</td>\n",
       "      <td>8.00</td>\n",
       "      <td>13.00</td>\n",
       "    </tr>\n",
       "    <tr>\n",
       "      <th>sqft_above</th>\n",
       "      <td>int64</td>\n",
       "      <td>836</td>\n",
       "      <td>0</td>\n",
       "      <td>0.00</td>\n",
       "      <td>16,197.00</td>\n",
       "      <td>1,788.76</td>\n",
       "      <td>825.21</td>\n",
       "      <td>380.00</td>\n",
       "      <td>1,190.00</td>\n",
       "      <td>1,560.00</td>\n",
       "      <td>2,220.00</td>\n",
       "      <td>8,860.00</td>\n",
       "    </tr>\n",
       "    <tr>\n",
       "      <th>sqft_basement</th>\n",
       "      <td>float64</td>\n",
       "      <td>285</td>\n",
       "      <td>339</td>\n",
       "      <td>0.02</td>\n",
       "      <td>15,858.00</td>\n",
       "      <td>292.74</td>\n",
       "      <td>442.84</td>\n",
       "      <td>0.00</td>\n",
       "      <td>0.00</td>\n",
       "      <td>0.00</td>\n",
       "      <td>570.00</td>\n",
       "      <td>4,820.00</td>\n",
       "    </tr>\n",
       "    <tr>\n",
       "      <th>yr_built</th>\n",
       "      <td>int64</td>\n",
       "      <td>116</td>\n",
       "      <td>0</td>\n",
       "      <td>0.00</td>\n",
       "      <td>16,197.00</td>\n",
       "      <td>1,970.97</td>\n",
       "      <td>29.29</td>\n",
       "      <td>1,900.00</td>\n",
       "      <td>1,951.00</td>\n",
       "      <td>1,975.00</td>\n",
       "      <td>1,997.00</td>\n",
       "      <td>2,015.00</td>\n",
       "    </tr>\n",
       "    <tr>\n",
       "      <th>yr_renovated</th>\n",
       "      <td>float64</td>\n",
       "      <td>68</td>\n",
       "      <td>2889</td>\n",
       "      <td>0.18</td>\n",
       "      <td>13,308.00</td>\n",
       "      <td>87.29</td>\n",
       "      <td>408.21</td>\n",
       "      <td>0.00</td>\n",
       "      <td>0.00</td>\n",
       "      <td>0.00</td>\n",
       "      <td>0.00</td>\n",
       "      <td>2,015.00</td>\n",
       "    </tr>\n",
       "    <tr>\n",
       "      <th>zipcode</th>\n",
       "      <td>int64</td>\n",
       "      <td>70</td>\n",
       "      <td>0</td>\n",
       "      <td>0.00</td>\n",
       "      <td>16,197.00</td>\n",
       "      <td>98,077.84</td>\n",
       "      <td>53.60</td>\n",
       "      <td>98,001.00</td>\n",
       "      <td>98,033.00</td>\n",
       "      <td>98,065.00</td>\n",
       "      <td>98,118.00</td>\n",
       "      <td>98,199.00</td>\n",
       "    </tr>\n",
       "    <tr>\n",
       "      <th>lat</th>\n",
       "      <td>float64</td>\n",
       "      <td>4774</td>\n",
       "      <td>0</td>\n",
       "      <td>0.00</td>\n",
       "      <td>16,197.00</td>\n",
       "      <td>47.56</td>\n",
       "      <td>0.14</td>\n",
       "      <td>47.16</td>\n",
       "      <td>47.47</td>\n",
       "      <td>47.57</td>\n",
       "      <td>47.68</td>\n",
       "      <td>47.78</td>\n",
       "    </tr>\n",
       "    <tr>\n",
       "      <th>long</th>\n",
       "      <td>float64</td>\n",
       "      <td>710</td>\n",
       "      <td>0</td>\n",
       "      <td>0.00</td>\n",
       "      <td>16,197.00</td>\n",
       "      <td>-122.21</td>\n",
       "      <td>0.14</td>\n",
       "      <td>-122.52</td>\n",
       "      <td>-122.33</td>\n",
       "      <td>-122.23</td>\n",
       "      <td>-122.12</td>\n",
       "      <td>-121.31</td>\n",
       "    </tr>\n",
       "    <tr>\n",
       "      <th>sqft_living15</th>\n",
       "      <td>int64</td>\n",
       "      <td>700</td>\n",
       "      <td>0</td>\n",
       "      <td>0.00</td>\n",
       "      <td>16,197.00</td>\n",
       "      <td>1,987.05</td>\n",
       "      <td>681.32</td>\n",
       "      <td>460.00</td>\n",
       "      <td>1,490.00</td>\n",
       "      <td>1,840.00</td>\n",
       "      <td>2,360.00</td>\n",
       "      <td>6,210.00</td>\n",
       "    </tr>\n",
       "    <tr>\n",
       "      <th>sqft_lot15</th>\n",
       "      <td>int64</td>\n",
       "      <td>7249</td>\n",
       "      <td>0</td>\n",
       "      <td>0.00</td>\n",
       "      <td>16,197.00</td>\n",
       "      <td>12,584.88</td>\n",
       "      <td>26,504.82</td>\n",
       "      <td>651.00</td>\n",
       "      <td>5,110.00</td>\n",
       "      <td>7,642.00</td>\n",
       "      <td>10,114.00</td>\n",
       "      <td>858,132.00</td>\n",
       "    </tr>\n",
       "  </tbody>\n",
       "</table>\n",
       "</div>"
      ],
      "text/plain": [
       "              datatypes  num_unique  null_sum  null_pct     count  \\\n",
       "date              int64         369         0      0.00 16,197.00   \n",
       "bedrooms          int64          10         0      0.00 16,197.00   \n",
       "bathrooms       float64          29         0      0.00 16,197.00   \n",
       "sqft_living       int64         915         0      0.00 16,197.00   \n",
       "sqft_lot          int64        8053         0      0.00 16,197.00   \n",
       "floors          float64           6         0      0.00 16,197.00   \n",
       "waterfront      float64           2      1787      0.11 14,410.00   \n",
       "view            float64           5        47      0.00 16,150.00   \n",
       "condition         int64           5         0      0.00 16,197.00   \n",
       "grade             int64          11         0      0.00 16,197.00   \n",
       "sqft_above        int64         836         0      0.00 16,197.00   \n",
       "sqft_basement   float64         285       339      0.02 15,858.00   \n",
       "yr_built          int64         116         0      0.00 16,197.00   \n",
       "yr_renovated    float64          68      2889      0.18 13,308.00   \n",
       "zipcode           int64          70         0      0.00 16,197.00   \n",
       "lat             float64        4774         0      0.00 16,197.00   \n",
       "long            float64         710         0      0.00 16,197.00   \n",
       "sqft_living15     int64         700         0      0.00 16,197.00   \n",
       "sqft_lot15        int64        7249         0      0.00 16,197.00   \n",
       "\n",
       "                                      mean                      std  \\\n",
       "date          1,414,596,959,733,283,840.00 9,773,651,803,692,374.00   \n",
       "bedrooms                              3.37                     0.91   \n",
       "bathrooms                             2.11                     0.77   \n",
       "sqft_living                       2,080.78                   912.15   \n",
       "sqft_lot                         14,924.30                41,700.79   \n",
       "floors                                1.49                     0.54   \n",
       "waterfront                            0.01                     0.08   \n",
       "view                                  0.23                     0.76   \n",
       "condition                             3.41                     0.65   \n",
       "grade                                 7.66                     1.17   \n",
       "sqft_above                        1,788.76                   825.21   \n",
       "sqft_basement                       292.74                   442.84   \n",
       "yr_built                          1,970.97                    29.29   \n",
       "yr_renovated                         87.29                   408.21   \n",
       "zipcode                          98,077.84                    53.60   \n",
       "lat                                  47.56                     0.14   \n",
       "long                               -122.21                     0.14   \n",
       "sqft_living15                     1,987.05                   681.32   \n",
       "sqft_lot15                       12,584.88                26,504.82   \n",
       "\n",
       "                                       min                          25%  \\\n",
       "date          1,398,988,800,000,000,000.00 1,405,900,800,000,000,000.00   \n",
       "bedrooms                              1.00                         3.00   \n",
       "bathrooms                             0.50                         1.50   \n",
       "sqft_living                         380.00                     1,430.00   \n",
       "sqft_lot                            520.00                     5,075.00   \n",
       "floors                                1.00                         1.00   \n",
       "waterfront                            0.00                         0.00   \n",
       "view                                  0.00                         0.00   \n",
       "condition                             1.00                         3.00   \n",
       "grade                                 3.00                         7.00   \n",
       "sqft_above                          380.00                     1,190.00   \n",
       "sqft_basement                         0.00                         0.00   \n",
       "yr_built                          1,900.00                     1,951.00   \n",
       "yr_renovated                          0.00                         0.00   \n",
       "zipcode                          98,001.00                    98,033.00   \n",
       "lat                                  47.16                        47.47   \n",
       "long                               -122.52                      -122.33   \n",
       "sqft_living15                       460.00                     1,490.00   \n",
       "sqft_lot15                          651.00                     5,110.00   \n",
       "\n",
       "                                       50%                          75%  \\\n",
       "date          1,413,504,000,000,000,000.00 1,424,217,600,000,000,000.00   \n",
       "bedrooms                              3.00                         4.00   \n",
       "bathrooms                             2.25                         2.50   \n",
       "sqft_living                       1,920.00                     2,550.00   \n",
       "sqft_lot                          7,650.00                    10,695.00   \n",
       "floors                                1.50                         2.00   \n",
       "waterfront                            0.00                         0.00   \n",
       "view                                  0.00                         0.00   \n",
       "condition                             3.00                         4.00   \n",
       "grade                                 7.00                         8.00   \n",
       "sqft_above                        1,560.00                     2,220.00   \n",
       "sqft_basement                         0.00                       570.00   \n",
       "yr_built                          1,975.00                     1,997.00   \n",
       "yr_renovated                          0.00                         0.00   \n",
       "zipcode                          98,065.00                    98,118.00   \n",
       "lat                                  47.57                        47.68   \n",
       "long                               -122.23                      -122.12   \n",
       "sqft_living15                     1,840.00                     2,360.00   \n",
       "sqft_lot15                        7,642.00                    10,114.00   \n",
       "\n",
       "                                       max  \n",
       "date          1,432,684,800,000,000,000.00  \n",
       "bedrooms                             10.00  \n",
       "bathrooms                             8.00  \n",
       "sqft_living                      12,050.00  \n",
       "sqft_lot                      1,651,359.00  \n",
       "floors                                3.50  \n",
       "waterfront                            1.00  \n",
       "view                                  4.00  \n",
       "condition                             5.00  \n",
       "grade                                13.00  \n",
       "sqft_above                        8,860.00  \n",
       "sqft_basement                     4,820.00  \n",
       "yr_built                          2,015.00  \n",
       "yr_renovated                      2,015.00  \n",
       "zipcode                          98,199.00  \n",
       "lat                                  47.78  \n",
       "long                               -121.31  \n",
       "sqft_living15                     6,210.00  \n",
       "sqft_lot15                      858,132.00  "
      ]
     },
     "execution_count": 19,
     "metadata": {},
     "output_type": "execute_result"
    }
   ],
   "source": [
    "report_df(X_train)"
   ]
  },
  {
   "cell_type": "code",
   "execution_count": null,
   "metadata": {
    "ExecuteTime": {
     "end_time": "2021-07-15T19:25:52.018878Z",
     "start_time": "2021-07-15T19:25:51.912587Z"
    }
   },
   "outputs": [],
   "source": [
    "cat_feats = ['bedrooms', 'bathrooms', 'floors', 'waterfront', 'view', 'condition','grade', 'zipcode']"
   ]
  },
  {
   "cell_type": "markdown",
   "metadata": {},
   "source": [
    "## Preprocessing Data Via ColumnTransformer"
   ]
  },
  {
   "cell_type": "code",
   "execution_count": null,
   "metadata": {
    "ExecuteTime": {
     "end_time": "2021-07-15T19:23:32.393726Z",
     "start_time": "2021-07-15T19:23:32.256064Z"
    }
   },
   "outputs": [],
   "source": [
    "## Specifying features for each transformer (below)\n",
    "\n",
    "\n",
    "imp_cat = ['bedrooms', 'bathrooms', 'floors', 'waterfront', 'view', 'condition','grade', 'zipcode']\n",
    "imp_cont = [i for i in X_train.columns if i not in imp_cat]\n",
    "\n",
    "cont_transformer = SimpleImputer(strategy='constant', fill_value=0)\n",
    "\n",
    "cat_transformer = SimpleImputer(strategy='most_frequent')\n"
   ]
  },
  {
   "cell_type": "code",
   "execution_count": null,
   "metadata": {
    "ExecuteTime": {
     "end_time": "2021-07-15T19:24:46.295867Z",
     "start_time": "2021-07-15T19:24:46.183931Z"
    },
    "scrolled": false
   },
   "outputs": [],
   "source": [
    "## Instantiating the ColumnTransformer and including all transformers\n",
    "preprocessor = ColumnTransformer(\n",
    "    transformers=[\n",
    "        ('cont', cont_transformer, imp_cont),\n",
    "        ('cat', cat_transformer, imp_cat)], remainder='passthrough')\n",
    "\n",
    "preprocessor"
   ]
  },
  {
   "cell_type": "code",
   "execution_count": null,
   "metadata": {
    "ExecuteTime": {
     "end_time": "2021-07-15T19:24:49.643994Z",
     "start_time": "2021-07-15T19:24:49.527765Z"
    }
   },
   "outputs": [],
   "source": [
    "X.date"
   ]
  },
  {
   "cell_type": "markdown",
   "metadata": {},
   "source": [
    "# 🚿 **Instantiating Pipeline**"
   ]
  },
  {
   "cell_type": "markdown",
   "metadata": {},
   "source": [
    "## Non-Scaled Pipeline"
   ]
  },
  {
   "cell_type": "code",
   "execution_count": null,
   "metadata": {
    "ExecuteTime": {
     "end_time": "2021-07-15T19:23:42.311852Z",
     "start_time": "2021-07-15T19:23:42.199423Z"
    }
   },
   "outputs": [],
   "source": [
    "## Creating full pipeline with ColumnTransformer and LinearRegression\n",
    "reg_pipe = Pipeline(steps=[('preprocessor', preprocessor),\n",
    "                      ('regressor', LinearRegression())])"
   ]
  },
  {
   "cell_type": "code",
   "execution_count": null,
   "metadata": {
    "ExecuteTime": {
     "end_time": "2021-07-15T19:23:43.405277Z",
     "start_time": "2021-07-15T19:23:42.699639Z"
    },
    "scrolled": true
   },
   "outputs": [],
   "source": [
    "## Fitting pipeline to the training data\n",
    "reg_pipe.fit(X_train, y_train)\n",
    "\n",
    "## Evaluating model performance\n",
    "eval_perf_total(reg_pipe, X_train, y_train, X_test, y_test)"
   ]
  },
  {
   "cell_type": "code",
   "execution_count": null,
   "metadata": {
    "ExecuteTime": {
     "end_time": "2021-07-15T19:23:43.407810Z",
     "start_time": "2021-07-15T19:23:43.142Z"
    }
   },
   "outputs": [],
   "source": [
    "param_grid = {'scaler__strategy': ['mean','median','most_frequent', 'constant']}\n",
    "\n",
    "gs_imp_rmse = GridSearchCV(reg_pipe, param_grid, verbose=True,\n",
    "                   scoring='neg_root_mean_squared_error')\n",
    "gs_imp_rmse.fit(X_train, y_train)\n",
    "display(gs_imp_rmse.best_score_, reg.best_params_)"
   ]
  },
  {
   "cell_type": "markdown",
   "metadata": {
    "id": "0RzFYbgcsq2F"
   },
   "source": [
    "# 🛠 **Feature Engineering**"
   ]
  },
  {
   "cell_type": "markdown",
   "metadata": {
    "id": "8mpimDh2sq2F"
   },
   "source": [
    "## `'yrs_old_sold'`"
   ]
  },
  {
   "cell_type": "markdown",
   "metadata": {
    "id": "HmU0Rwyjsq2F"
   },
   "source": [
    "I create this feature to differentiate between houses that were built recently versus older houses.\n",
    "\n",
    "In order to determine this feature, I need to determine the year the house was sold first."
   ]
  },
  {
   "cell_type": "markdown",
   "metadata": {
    "id": "lgTdOjJnsq2F"
   },
   "source": [
    "### Determine `'year_sold'`"
   ]
  },
  {
   "cell_type": "code",
   "execution_count": null,
   "metadata": {
    "ExecuteTime": {
     "end_time": "2021-07-15T18:14:37.137577Z",
     "start_time": "2021-07-15T18:14:37.012565Z"
    },
    "id": "ltoQKbEFsq2G",
    "scrolled": false
   },
   "outputs": [],
   "source": [
    "## Pull the year from the \"date\" column\n",
    "df['year_sold'] = pd.DatetimeIndex(df['date']).year\n",
    "\n",
    "## Review the values to ensure data integrity\n",
    "df['year_sold'].value_counts()"
   ]
  },
  {
   "cell_type": "markdown",
   "metadata": {
    "id": "M9dY6ryUsq2G"
   },
   "source": [
    "### Calculate `'y_old_sold'`"
   ]
  },
  {
   "cell_type": "code",
   "execution_count": null,
   "metadata": {
    "ExecuteTime": {
     "end_time": "2021-07-15T18:14:37.481606Z",
     "start_time": "2021-07-15T18:14:37.350605Z"
    },
    "id": "EjI_PHB0sq2G",
    "outputId": "f8199020-11ed-4252-80af-ee86afb89a78",
    "scrolled": false
   },
   "outputs": [],
   "source": [
    "## Calculating the age of the house at the time of sale\n",
    "df['y_old_sold'] = df['year_sold'] - df['yr_built']\n",
    "\n",
    "## Minimum age is -1 due to a house being sold before it was finished being built\n",
    "display(df['y_old_sold'].value_counts().sort_index(), df['y_old_sold'].describe())"
   ]
  },
  {
   "cell_type": "markdown",
   "metadata": {},
   "source": [
    ">**Results:** Half of the homes sold fall between the ages of 18 and 63 years old, with the average age of 43 years. Our min and max ages indicate a house was sold before it was built, while another house was 115 years old."
   ]
  },
  {
   "cell_type": "markdown",
   "metadata": {
    "id": "Gzl5f2Ktsq2H"
   },
   "source": [
    "## `'was_renovated'`"
   ]
  },
  {
   "cell_type": "markdown",
   "metadata": {
    "id": "vL3j33BYsq2H"
   },
   "source": [
    "What impact would a renovation have on the price?"
   ]
  },
  {
   "cell_type": "code",
   "execution_count": null,
   "metadata": {
    "ExecuteTime": {
     "end_time": "2021-07-15T18:14:38.137279Z",
     "start_time": "2021-07-15T18:14:38.004274Z"
    },
    "id": "X7QoQoBLsq2I"
   },
   "outputs": [],
   "source": [
    "## Using the year that the home was renovated to deterine whether or not the home was renovated\n",
    "reno_y_n = np.where(df['yr_renovated']>0, 1, 0 )\n",
    "df = df.assign(was_renovated = reno_y_n)\n",
    "df.head(5)"
   ]
  },
  {
   "cell_type": "code",
   "execution_count": null,
   "metadata": {
    "ExecuteTime": {
     "end_time": "2021-07-15T18:14:38.310297Z",
     "start_time": "2021-07-15T18:14:38.184266Z"
    },
    "id": "kltnwNfIsq2I",
    "outputId": "caaada13-58e0-4c08-cf62-7b8fbeedf911"
   },
   "outputs": [],
   "source": [
    "## Checking values\n",
    "df['was_renovated'].value_counts()"
   ]
  },
  {
   "cell_type": "markdown",
   "metadata": {},
   "source": [
    ">**Results:** Most of the houses were not renovated at the time of sale. This feature may not have a significant impact on determining the sale price due to the small number of renovated houses."
   ]
  },
  {
   "cell_type": "markdown",
   "metadata": {
    "id": "fb2ISg5Xsq2I"
   },
   "source": [
    "## `\"yrs_since_reno\"`"
   ]
  },
  {
   "cell_type": "markdown",
   "metadata": {
    "id": "lFYYV9xCsq2I"
   },
   "source": [
    "If a house was renovated, how long ago was the renovation? Would more newly-renovated houses increase price?"
   ]
  },
  {
   "cell_type": "code",
   "execution_count": null,
   "metadata": {
    "ExecuteTime": {
     "end_time": "2021-07-15T18:14:38.997263Z",
     "start_time": "2021-07-15T18:14:38.866277Z"
    }
   },
   "outputs": [],
   "source": [
    "## Ensuring there are no null values in the new feature and replacing any with zeroes\n",
    "\n",
    "df['yrs_since_reno'] = np.where((df['was_renovated']==1),\n",
    "                                (df['year_sold'] - df['yr_renovated']), 0)\n",
    "\n",
    "display(df['yrs_since_reno'].describe(),df['yrs_since_reno'].value_counts(ascending=False))"
   ]
  },
  {
   "cell_type": "code",
   "execution_count": null,
   "metadata": {
    "ExecuteTime": {
     "end_time": "2021-07-15T18:14:39.170259Z",
     "start_time": "2021-07-15T18:14:39.046261Z"
    },
    "scrolled": true
   },
   "outputs": [],
   "source": [
    "## Checking for which properties show a renovation year post-sale\n",
    "\n",
    "df[df['year_sold'] < df['yr_renovated']]"
   ]
  },
  {
   "cell_type": "code",
   "execution_count": null,
   "metadata": {
    "ExecuteTime": {
     "end_time": "2021-07-15T18:14:39.341060Z",
     "start_time": "2021-07-15T18:14:39.220204Z"
    }
   },
   "outputs": [],
   "source": [
    "## Reviewing stats for those houses that were renovated\n",
    "\n",
    "yrs_and_reno = df[df['yrs_since_reno'] > 0]\n",
    "yrs_and_reno['yrs_since_reno'].describe()"
   ]
  },
  {
   "cell_type": "markdown",
   "metadata": {},
   "source": [
    ">**Results:** As expected, most of the houses were not renovated (indicated by the number of years being zero). \n",
    ">\n",
    ">\n",
    ">Of those renovated, half of the homes had between 9 and 28 years between the years sold and renovated, with an average ages of roughly 20 years old.\n",
    ">\n",
    ">\n",
    ">Interestingly, this dataset also shows *six records for which the renovation is shown to be post-sale.* While this may be an error, I am leaving it in the dataset since I cannot confidently rule it out. \n",
    ">\n",
    ">\n",
    ">If this feature does not show statistical significance, I may drops these values and reevaluate the significance."
   ]
  },
  {
   "cell_type": "markdown",
   "metadata": {
    "id": "G6TwLd00sq2J"
   },
   "source": [
    "## \"`has_bsmnt`\""
   ]
  },
  {
   "cell_type": "markdown",
   "metadata": {
    "id": "fl4Yn656sq2J"
   },
   "source": [
    "I noticed that there were fewer houses with a value for \"sqft_basement\" during my data exploration. I am curious if the presence or absence of a basement would have any impact."
   ]
  },
  {
   "cell_type": "code",
   "execution_count": null,
   "metadata": {
    "ExecuteTime": {
     "end_time": "2021-07-15T18:14:40.230868Z",
     "start_time": "2021-07-15T18:14:40.115838Z"
    },
    "id": "lWHPc64-sq2J",
    "outputId": "1b48b91d-ebaf-4cdb-be5d-811fa8334a21",
    "scrolled": true
   },
   "outputs": [],
   "source": [
    "## Determining whether or not a house has a basement based on the square footage\n",
    "df['has_bsmnt'] = np.where(df['sqft_basement'] > 0, 1, 0)\n",
    "\n",
    "# Reviewing the results\n",
    "display(df['has_bsmnt'].describe(), df['has_bsmnt'].value_counts())"
   ]
  },
  {
   "cell_type": "markdown",
   "metadata": {},
   "source": [
    "# 🪓 **Performing Train/Test Split**"
   ]
  },
  {
   "cell_type": "code",
   "execution_count": null,
   "metadata": {
    "ExecuteTime": {
     "end_time": "2021-07-15T18:14:52.321999Z",
     "start_time": "2021-07-15T18:14:52.198861Z"
    },
    "id": "OU4PKAM1sq2l"
   },
   "outputs": [],
   "source": [
    "## Creating features matrix minus target variable\n",
    "X = df.drop('price', axis = 1).copy()"
   ]
  },
  {
   "cell_type": "code",
   "execution_count": null,
   "metadata": {
    "ExecuteTime": {
     "end_time": "2021-07-15T18:14:52.810212Z",
     "start_time": "2021-07-15T18:14:52.708070Z"
    },
    "id": "me9QULf1sq2l"
   },
   "outputs": [],
   "source": [
    "## Creating the y values by setting them equal to the 'price' values from the dataframe\n",
    "y = df['price'].copy()"
   ]
  },
  {
   "cell_type": "code",
   "execution_count": null,
   "metadata": {
    "ExecuteTime": {
     "end_time": "2021-07-15T18:14:53.278151Z",
     "start_time": "2021-07-15T18:14:53.159151Z"
    },
    "id": "gdxlPa7fsq2l",
    "outputId": "94e25dd6-f2e6-455e-9e64-0b38ccc9ab09"
   },
   "outputs": [],
   "source": [
    "## Verifying the two groups are of equal length\n",
    "X.shape[0] == y.shape[0]"
   ]
  },
  {
   "cell_type": "markdown",
   "metadata": {
    "id": "8uXAq1o9sq2m"
   },
   "source": [
    "## Create Train/Test Split"
   ]
  },
  {
   "cell_type": "markdown",
   "metadata": {
    "id": "mwP6qaTEsq2m"
   },
   "source": [
    "Now I will split the data into the train/test groups. Then, I will run the first linear regression on the \"train\" data, then another regression on the \"test\" data."
   ]
  },
  {
   "cell_type": "code",
   "execution_count": null,
   "metadata": {
    "ExecuteTime": {
     "end_time": "2021-07-15T18:14:54.593572Z",
     "start_time": "2021-07-15T18:14:54.482407Z"
    },
    "id": "VfB9_nl0sq2m"
   },
   "outputs": [],
   "source": [
    "## Establishing the train and test data before doing anything else\n",
    "\n",
    "X_train, X_test, y_train, y_test = train_test_split(X, y, test_size=0.25,\n",
    "                                                    random_state=505)"
   ]
  },
  {
   "cell_type": "markdown",
   "metadata": {},
   "source": [
    "# 📊 **Creating Baseline Model**"
   ]
  },
  {
   "cell_type": "code",
   "execution_count": null,
   "metadata": {
    "ExecuteTime": {
     "end_time": "2021-07-15T18:14:56.029870Z",
     "start_time": "2021-07-15T18:14:55.905902Z"
    }
   },
   "outputs": [],
   "source": [
    "baseline = DummyRegressor()\n",
    "\n",
    "baseline.fit(X, y)\n",
    "print(f'The baseline r^2 score is: {baseline.score(X, y):.2f}')"
   ]
  },
  {
   "cell_type": "markdown",
   "metadata": {},
   "source": [
    "<!-- Do not delete this cell! It has anchors for other links -->\n",
    "\n",
    "<a name=\"eod\"></a>\n",
    "<a name=\"pipeline_2\"></a>"
   ]
  },
  {
   "cell_type": "markdown",
   "metadata": {},
   "source": [
    "# 🚿 **Creating Pipeline for Modeling**"
   ]
  },
  {
   "cell_type": "markdown",
   "metadata": {},
   "source": [
    "**For original code:** [Click here](#pipeline_1)"
   ]
  },
  {
   "cell_type": "markdown",
   "metadata": {},
   "source": [
    "## Preprocessing Data Via ColumnTransformer"
   ]
  },
  {
   "cell_type": "code",
   "execution_count": null,
   "metadata": {
    "ExecuteTime": {
     "end_time": "2021-07-15T18:14:58.133339Z",
     "start_time": "2021-07-15T18:14:58.005632Z"
    }
   },
   "outputs": [],
   "source": [
    "## Specifying features for each transformer (below)\n",
    "\n",
    "imp_zero_cols = ['sqft_basement']\n",
    "imp_mode_cols = ['view','waterfront','yr_renovated']\n",
    "ohe_cols = ['condition','grade', 'zipcode']\n",
    "\n",
    "xf_cols = [*imp_zero_cols, *imp_mode_cols, *ohe_cols]\n",
    "\n",
    "remaining_cols = [i for i in X.drop('date', axis=1).columns if i not in xf_cols]\n",
    "\n",
    "imp_zero_cols.extend(remaining_cols)"
   ]
  },
  {
   "cell_type": "code",
   "execution_count": null,
   "metadata": {
    "ExecuteTime": {
     "end_time": "2021-07-15T18:14:58.661595Z",
     "start_time": "2021-07-15T18:14:58.547577Z"
    },
    "scrolled": false
   },
   "outputs": [],
   "source": [
    "## Encoding categoricals - handling errors to prevent issues w/ test set\n",
    "categorical_transformer = OneHotEncoder(handle_unknown='ignore', sparse=False)\n",
    "\n",
    "## Instantiating the ColumnTransformer and including all transformers\n",
    "preprocessor = ColumnTransformer(\n",
    "    transformers=[\n",
    "        ('zero', zero_transformer, imp_zero_cols),\n",
    "        ('mode', mode_transformer, imp_mode_cols),\n",
    "        ('cats', categorical_transformer, ohe_cols)],)\n",
    "\n",
    "preprocessor"
   ]
  },
  {
   "cell_type": "code",
   "execution_count": null,
   "metadata": {
    "ExecuteTime": {
     "end_time": "2021-07-15T18:15:06.015213Z",
     "start_time": "2021-07-15T18:15:05.860246Z"
    }
   },
   "outputs": [],
   "source": [
    "## Fit and transform the data via the ColumnTransformer\n",
    "X_train_tf = preprocessor.fit_transform(X_train)"
   ]
  },
  {
   "cell_type": "markdown",
   "metadata": {},
   "source": [
    "# 🚿 **Instantiating Pipeline**"
   ]
  },
  {
   "cell_type": "markdown",
   "metadata": {},
   "source": [
    "## Non-Scaled Pipeline"
   ]
  },
  {
   "cell_type": "code",
   "execution_count": null,
   "metadata": {
    "ExecuteTime": {
     "end_time": "2021-07-15T18:15:16.265060Z",
     "start_time": "2021-07-15T18:15:16.149073Z"
    }
   },
   "outputs": [],
   "source": [
    "## Creating full pipeline with ColumnTransformer and LinearRegression\n",
    "reg_pipe = Pipeline(steps=[('preprocessor', preprocessor),\n",
    "                      ('regressor', LinearRegression())])"
   ]
  },
  {
   "cell_type": "code",
   "execution_count": null,
   "metadata": {
    "ExecuteTime": {
     "end_time": "2021-07-15T18:15:16.919056Z",
     "start_time": "2021-07-15T18:15:16.581087Z"
    },
    "scrolled": true
   },
   "outputs": [],
   "source": [
    "## Fitting pipeline to the training data\n",
    "reg_pipe.fit(X_train, y_train)\n",
    "\n",
    "## Evaluating model performance\n",
    "eval_perf_total(reg_pipe, X_train, y_train, X_test, y_test)"
   ]
  },
  {
   "cell_type": "markdown",
   "metadata": {},
   "source": [
    "## Scaled Pipeline"
   ]
  },
  {
   "cell_type": "code",
   "execution_count": null,
   "metadata": {
    "ExecuteTime": {
     "end_time": "2021-07-15T18:15:52.572499Z",
     "start_time": "2021-07-15T18:15:52.450502Z"
    }
   },
   "outputs": [],
   "source": [
    "## Creating full pipeline with ColumnTransformer, StandardScaler and LinearRegression\n",
    "reg_pipe_scaled = Pipeline(steps=[('preprocessor', preprocessor),\n",
    "                           ('scaler', StandardScaler()),\n",
    "                      ('regressor', LinearRegression())])"
   ]
  },
  {
   "cell_type": "code",
   "execution_count": null,
   "metadata": {
    "ExecuteTime": {
     "end_time": "2021-07-15T18:15:52.968495Z",
     "start_time": "2021-07-15T18:15:52.574499Z"
    },
    "scrolled": true
   },
   "outputs": [],
   "source": [
    "## Fittng pipeline to the training data\n",
    "reg_pipe_scaled.fit(X_train, y_train)\n",
    "\n",
    "## Ensuring same results as prior pipeline\n",
    "eval_perf_total(reg_pipe, X_train, y_train, X_test, y_test)"
   ]
  },
  {
   "cell_type": "code",
   "execution_count": null,
   "metadata": {},
   "outputs": [],
   "source": []
  },
  {
   "cell_type": "markdown",
   "metadata": {},
   "source": [
    "# ❌ **RAISE EXCEPTION** ❌"
   ]
  },
  {
   "cell_type": "code",
   "execution_count": null,
   "metadata": {
    "ExecuteTime": {
     "end_time": "2021-07-15T18:03:31.945063Z",
     "start_time": "2021-07-15T18:03:31.393071Z"
    },
    "scrolled": true
   },
   "outputs": [],
   "source": [
    "raise Exception('\\n\\n--- Main modeling stops here --- \\n\\n Work-in-Progress')"
   ]
  },
  {
   "cell_type": "markdown",
   "metadata": {},
   "source": [
    "**WIP - KEEP OR DELETE** <a name='wip'></a>"
   ]
  },
  {
   "cell_type": "markdown",
   "metadata": {},
   "source": [
    "# 🔍 **Creating GridSearchCV**"
   ]
  },
  {
   "cell_type": "markdown",
   "metadata": {},
   "source": [
    "## Preprocessing Data Via ColumnTransformer"
   ]
  },
  {
   "cell_type": "code",
   "execution_count": null,
   "metadata": {
    "ExecuteTime": {
     "end_time": "2021-07-15T18:16:12.643348Z",
     "start_time": "2021-07-15T18:16:12.532720Z"
    }
   },
   "outputs": [],
   "source": [
    "## Specifying features for each transformer (below)\n",
    "\n",
    "imp_zero_cols = ['sqft_basement']\n",
    "imp_mode_cols = ['view','waterfront','yr_renovated']\n",
    "ohe_cols = ['condition','grade', 'zipcode']\n",
    "\n",
    "xf_cols = [*imp_zero_cols, *imp_mode_cols, *ohe_cols]\n",
    "\n",
    "remaining_cols = [i for i in X.drop('date', axis=1).columns if i not in xf_cols]\n",
    "\n",
    "imp_zero_cols.extend(remaining_cols)"
   ]
  },
  {
   "cell_type": "code",
   "execution_count": null,
   "metadata": {
    "ExecuteTime": {
     "end_time": "2021-07-15T18:16:13.220950Z",
     "start_time": "2021-07-15T18:16:13.107953Z"
    },
    "scrolled": true
   },
   "outputs": [],
   "source": [
    "## Creating ColumnTransformer and sub-transformers\n",
    "\n",
    "\n",
    "# Adding zeroes for missing values in sqft_basement\n",
    "zero_transformer = SimpleImputer(strategy='constant', fill_value=0)\n",
    "\n",
    "## Adding the mode value to view, waterfront, and yr_renovated missing values \n",
    "mode_transformer = SimpleImputer(strategy='most_frequent')\n",
    "\n",
    "## Encoding categoricals - handling errors to prevent issues w/ test set\n",
    "categorical_transformer = OneHotEncoder(handle_unknown='ignore', sparse=False)\n",
    "\n",
    "## Instantiating the ColumnTransformer and including all transformers\n",
    "preprocessor = ColumnTransformer(\n",
    "    transformers=[\n",
    "        ('zero', zero_transformer, imp_zero_cols),\n",
    "        ('mode', mode_transformer, imp_mode_cols),\n",
    "        ('cats', categorical_transformer, ohe_cols)],)\n",
    "\n",
    "preprocessor"
   ]
  },
  {
   "cell_type": "code",
   "execution_count": null,
   "metadata": {
    "ExecuteTime": {
     "end_time": "2021-07-15T18:41:37.745676Z",
     "start_time": "2021-07-15T18:41:37.630619Z"
    }
   },
   "outputs": [],
   "source": [
    "## Creating full pipeline with ColumnTransformer and LinearRegression\n",
    "reg_pipe = Pipeline(steps=[('preprocessor', preprocessor),\n",
    "                      ('regressor', LinearRegression())])"
   ]
  },
  {
   "cell_type": "code",
   "execution_count": null,
   "metadata": {
    "ExecuteTime": {
     "end_time": "2021-07-15T18:41:39.100617Z",
     "start_time": "2021-07-15T18:41:38.765355Z"
    },
    "scrolled": true
   },
   "outputs": [],
   "source": [
    "## Fitting pipeline to the training data\n",
    "reg_pipe.fit(X_train, y_train)\n",
    "\n",
    "## Evaluating model performance\n",
    "eval_perf_total(reg_pipe, X_train, y_train, X_test, y_test)"
   ]
  },
  {
   "cell_type": "code",
   "execution_count": null,
   "metadata": {
    "ExecuteTime": {
     "end_time": "2021-07-15T18:04:18.664386Z",
     "start_time": "2021-07-15T18:04:18.464405Z"
    }
   },
   "outputs": [],
   "source": [
    "## Running gridsearch on pipeline\n",
    "\n",
    "param_grid = {'preprocessor__mode__imp_mode__strategy': ['mean','median',\n",
    "                                                        'most_frequent'],\n",
    "             'max_iter': [1000, 3000, 5000]}\n",
    "gs_imp_rmse = GridSearchCV(reg_pipe, param_grid, verbose=True,\n",
    "                   scoring='neg_root_mean_squared_error')\n",
    "gs_imp_rmse.fit(X_train, y_train)\n",
    "display(gs_imp_rmse.best_score_, reg.best_params_)"
   ]
  },
  {
   "cell_type": "code",
   "execution_count": null,
   "metadata": {
    "ExecuteTime": {
     "end_time": "2021-07-15T14:48:32.969508Z",
     "start_time": "2021-07-15T14:47:42.349Z"
    }
   },
   "outputs": [],
   "source": [
    "## Results in a DF format\n",
    "# pd.DataFrame(reg.cv_results_).T"
   ]
  },
  {
   "cell_type": "code",
   "execution_count": null,
   "metadata": {
    "ExecuteTime": {
     "end_time": "2021-07-15T14:48:32.970508Z",
     "start_time": "2021-07-15T14:47:42.355Z"
    }
   },
   "outputs": [],
   "source": [
    "## Performing GSCV on test data\n",
    "y_hat_test = ex_grid.predict(X_test_tf_df)\n",
    "y_hat_test"
   ]
  },
  {
   "cell_type": "code",
   "execution_count": null,
   "metadata": {
    "ExecuteTime": {
     "end_time": "2021-07-15T14:48:32.976598Z",
     "start_time": "2021-07-15T14:47:42.372Z"
    },
    "scrolled": false
   },
   "outputs": [],
   "source": [
    "eval_perf_train(gs_imp_rmse, X_train, y_train)"
   ]
  },
  {
   "cell_type": "code",
   "execution_count": null,
   "metadata": {
    "ExecuteTime": {
     "end_time": "2021-07-15T14:48:32.977598Z",
     "start_time": "2021-07-15T14:47:42.378Z"
    }
   },
   "outputs": [],
   "source": [
    "eval_perf_test(gs_imp_rmse, X_test, y_test)"
   ]
  },
  {
   "cell_type": "code",
   "execution_count": null,
   "metadata": {
    "ExecuteTime": {
     "end_time": "2021-07-15T14:48:32.979598Z",
     "start_time": "2021-07-15T14:47:42.383Z"
    }
   },
   "outputs": [],
   "source": [
    "## Running gridsearch on pipeline\n",
    "\n",
    "param_grid = {'preprocessor__mode__imp_mode__strategy': ['mean','median',\n",
    "                                                        'most_frequent']}\n",
    "gs_imp_r2 = GridSearchCV(reg_pipe, param_grid, verbose=True,\n",
    "                   scoring='r2')\n",
    "gs_imp_r2.fit(X_train, y_train)\n",
    "display(gs_imp_r2.best_score_)\n",
    "display(gs_imp_r2.best_params_)"
   ]
  },
  {
   "cell_type": "code",
   "execution_count": null,
   "metadata": {
    "ExecuteTime": {
     "end_time": "2021-07-15T14:48:32.981612Z",
     "start_time": "2021-07-15T14:47:42.389Z"
    }
   },
   "outputs": [],
   "source": [
    "eval_perf_train(gs_imp_r2, X_train, y_train)"
   ]
  },
  {
   "cell_type": "code",
   "execution_count": null,
   "metadata": {
    "ExecuteTime": {
     "end_time": "2021-07-15T14:48:32.983601Z",
     "start_time": "2021-07-15T14:47:42.398Z"
    }
   },
   "outputs": [],
   "source": [
    "eval_perf_test(gs_imp_r2, X_test, y_test)"
   ]
  },
  {
   "cell_type": "code",
   "execution_count": null,
   "metadata": {
    "ExecuteTime": {
     "end_time": "2021-07-15T14:48:32.984598Z",
     "start_time": "2021-07-15T14:47:42.405Z"
    },
    "scrolled": false
   },
   "outputs": [],
   "source": [
    "pd.DataFrame(gs_imp_r2.cv_results_)"
   ]
  },
  {
   "cell_type": "markdown",
   "metadata": {
    "id": "oiRay-fwsq2j"
   },
   "source": [
    "# 🔎 **Recursive Feature Elimination**"
   ]
  },
  {
   "cell_type": "markdown",
   "metadata": {
    "id": "9LfXmFl4sq2j"
   },
   "source": [
    "I have a good model created above, but I'd like to see if changing the features would have an impact for me.\n",
    "\n",
    "**I will use the Recursive Feature Elimination method with Cross Validation to determine another selection of features.**"
   ]
  },
  {
   "cell_type": "code",
   "execution_count": null,
   "metadata": {
    "ExecuteTime": {
     "end_time": "2021-07-15T14:48:32.998104Z",
     "start_time": "2021-07-15T14:47:42.478Z"
    },
    "id": "Bna-FQfgsq2j"
   },
   "outputs": [],
   "source": [
    "# ## Creating the settings for the selector\n",
    "# selector = RFECV(estimator=lr, step=2, cv=3, scoring='neg_mean_squared_error', n_jobs=-1, verbose=1)"
   ]
  },
  {
   "cell_type": "code",
   "execution_count": null,
   "metadata": {
    "ExecuteTime": {
     "end_time": "2021-07-15T14:48:33.000100Z",
     "start_time": "2021-07-15T14:47:42.488Z"
    },
    "id": "-Y7RgkKFsq2j",
    "outputId": "b438b66b-75a9-4f88-dfea-0c7d1019aa3f"
   },
   "outputs": [],
   "source": [
    "# ## Running it on our training data\n",
    "# selector.fit(X_train_ohe, y_train)"
   ]
  },
  {
   "cell_type": "code",
   "execution_count": null,
   "metadata": {
    "ExecuteTime": {
     "end_time": "2021-07-15T14:48:33.002100Z",
     "start_time": "2021-07-15T14:47:42.495Z"
    },
    "id": "WQB4Bpw4sq2k"
   },
   "outputs": [],
   "source": [
    "# ## Dividing the data into two separate variables for inspection\n",
    "# selected_columns = X_train_ohe.columns[selector.get_support()]\n",
    "# removed_columns = X_train_ohe.columns[~selector.get_support()]"
   ]
  },
  {
   "cell_type": "code",
   "execution_count": null,
   "metadata": {
    "ExecuteTime": {
     "end_time": "2021-07-15T14:48:33.003101Z",
     "start_time": "2021-07-15T14:47:42.502Z"
    },
    "id": "qo9isA03sq2k",
    "outputId": "032ebecf-95a3-4f0e-fda3-ddd8ec7fe913"
   },
   "outputs": [],
   "source": [
    "# ## Inspecting the columns with the greatest impact according to the RSECV method\n",
    "# list(selected_columns.values)"
   ]
  },
  {
   "cell_type": "code",
   "execution_count": null,
   "metadata": {
    "ExecuteTime": {
     "end_time": "2021-07-15T14:48:33.004100Z",
     "start_time": "2021-07-15T14:47:42.511Z"
    },
    "id": "BiuOJmKNsq2k",
    "outputId": "f8a77711-f4da-4a33-a8e4-5d7703f933e6"
   },
   "outputs": [],
   "source": [
    "# ## Testing the new list of columns\n",
    "\n",
    "# ## Instantiating a new regression model\n",
    "# lr_rfe = LinearRegression()\n",
    "\n",
    "# ## Fitting the model to the new data\n",
    "# lr_rfe.fit(X_train_ohe[selected_columns], y_train)\n",
    "\n",
    "# # Using the model to create new predictions\n",
    "# y_rfe = lr_rfe.predict(X_train_ohe[selected_columns])\n",
    "\n",
    "# # Determining RMSE for new list of columns and TRAIN data\n",
    "# trainRFE_rmse = np.sqrt(metrics.mean_squared_error(y_train, y_rfe))\n",
    "\n",
    "# print(f'Training Root Mean Squared Error: {trainRFE_rmse:,.2f}')\n",
    "\n",
    "# # Determining RMSE for new list of columns and TEST data\n",
    "# y_pred_rfe = lr_rfe.predict(X_test_ohe[selected_columns])\n",
    "\n",
    "# testRFE_rmse = np.sqrt(metrics.mean_squared_error(y_test, y_pred_rfe))\n",
    "\n",
    "# print(f'Testing Root Mean Squared Error: {testRFE_rmse:,.2f}')\n",
    "\n",
    "# diff2 = trainRFE_rmse - testRFE_rmse\n",
    "# print()\n",
    "# print(f'The difference in RMSE between our training and test sets is {diff2:,.2f}.')"
   ]
  },
  {
   "cell_type": "code",
   "execution_count": null,
   "metadata": {
    "ExecuteTime": {
     "end_time": "2021-07-15T14:48:33.006019Z",
     "start_time": "2021-07-15T14:47:42.518Z"
    },
    "id": "1yb5B-SDsq2k",
    "outputId": "9604652f-53a4-46b4-9e7e-e8c13e5a21fb"
   },
   "outputs": [],
   "source": [
    "# test_rsq = lr_rfe.score(X_test_ohe[selected_columns], y_test)\n",
    "# print(f'R-Square value for testing data after RFECV is {round(test_rsq,2)}.')"
   ]
  },
  {
   "cell_type": "markdown",
   "metadata": {},
   "source": [
    "# Creating the (First) Pipeline"
   ]
  },
  {
   "cell_type": "markdown",
   "metadata": {},
   "source": [
    "<a name='pipeline_1'></a>\n",
    "This is the first version of my pipeline - NOT FOR RELEASE\n",
    "\n",
    "**[NEW PIPELINE](#pipeline_2)**"
   ]
  },
  {
   "cell_type": "code",
   "execution_count": null,
   "metadata": {
    "ExecuteTime": {
     "end_time": "2021-07-15T14:48:33.022028Z",
     "start_time": "2021-07-15T14:47:42.662Z"
    }
   },
   "outputs": [],
   "source": [
    "## Instantiate an imputer to add zeroes\n",
    "\n",
    "imp_zero = SimpleImputer(strategy='constant', fill_value=0)"
   ]
  },
  {
   "cell_type": "code",
   "execution_count": null,
   "metadata": {
    "ExecuteTime": {
     "end_time": "2021-07-15T14:48:33.023017Z",
     "start_time": "2021-07-15T14:47:42.670Z"
    }
   },
   "outputs": [],
   "source": [
    "## Instantiate an imputer to fill values with the mode value\n",
    "\n",
    "imp_mode = SimpleImputer(strategy='most_frequent')"
   ]
  },
  {
   "cell_type": "code",
   "execution_count": null,
   "metadata": {
    "ExecuteTime": {
     "end_time": "2021-07-15T14:48:33.024023Z",
     "start_time": "2021-07-15T14:47:42.677Z"
    }
   },
   "outputs": [],
   "source": [
    "## Instantiate a OneHotEncoder for categorical variables\n",
    "\n",
    "ohe = OneHotEncoder(drop='first', sparse=False)"
   ]
  },
  {
   "cell_type": "code",
   "execution_count": null,
   "metadata": {
    "ExecuteTime": {
     "end_time": "2021-07-15T14:48:33.026017Z",
     "start_time": "2021-07-15T14:47:42.683Z"
    },
    "scrolled": true
   },
   "outputs": [],
   "source": [
    "## Setting up the individual transformers and then the ColumnTransformer\n",
    "\n",
    "## Adding zeroes for missing values in sqft_basement\n",
    "imp_zero_cols = ['sqft_basement']\n",
    "zero_transformer = Pipeline(steps=[\n",
    "    ('imp_zero',SimpleImputer(strategy='constant', fill_value=0))])\n",
    "\n",
    "\n",
    "## Adding the mode value to view, waterfront, and yr_renovated missing values \n",
    "imp_mode_cols = ['view','waterfront','yr_renovated']\n",
    "mode_transformer = Pipeline(steps=[\n",
    "    ('imp_mode',SimpleImputer(strategy='most_frequent'))])\n",
    "\n",
    "\n",
    "# ## Removed this code due to errors encountered b/t train, test categoricals\n",
    "# ohe_cols = ['condition','grade', 'zipcode']\n",
    "# categorical_transformer = OneHotEncoder(drop='first', sparse=False)\n",
    "\n",
    "\n",
    "## Encoding categoricals - handling errors to prevent issues w/ test set\n",
    "ohe_cols = ['condition','grade', 'zipcode']\n",
    "categorical_transformer = OneHotEncoder(handle_unknown='ignore', sparse=False)\n",
    "\n",
    "\n",
    "## Instantiating the ColumnTransformer to handle the missing values for ea.col.\n",
    "preprocessor = ColumnTransformer(\n",
    "    transformers=[\n",
    "        ('zero', zero_transformer, imp_zero_cols),\n",
    "        ('mode', mode_transformer, imp_mode_cols),\n",
    "        ('cats', categorical_transformer, ohe_cols)])\n",
    "\n",
    "preprocessor"
   ]
  },
  {
   "cell_type": "code",
   "execution_count": null,
   "metadata": {
    "ExecuteTime": {
     "end_time": "2021-07-15T14:48:33.028019Z",
     "start_time": "2021-07-15T14:47:42.690Z"
    }
   },
   "outputs": [],
   "source": [
    "## Fit and transform the data via the ColumnTransformer\n",
    "X_train_tf = preprocessor.fit_transform(X_train)"
   ]
  },
  {
   "cell_type": "code",
   "execution_count": null,
   "metadata": {
    "ExecuteTime": {
     "end_time": "2021-07-15T14:48:33.029029Z",
     "start_time": "2021-07-15T14:47:42.696Z"
    }
   },
   "outputs": [],
   "source": [
    "## Getting feature names from OHE\n",
    "ohe_cat_names = preprocessor.named_transformers_['cats'].get_feature_names(ohe_cols)\n",
    "ohe_cat_names"
   ]
  },
  {
   "cell_type": "code",
   "execution_count": null,
   "metadata": {
    "ExecuteTime": {
     "end_time": "2021-07-15T14:48:33.030017Z",
     "start_time": "2021-07-15T14:47:42.702Z"
    }
   },
   "outputs": [],
   "source": [
    "## Generating list for column index\n",
    "final_cols = [*imp_zero_cols, *imp_mode_cols, *ohe_cat_names]"
   ]
  },
  {
   "cell_type": "code",
   "execution_count": null,
   "metadata": {
    "ExecuteTime": {
     "end_time": "2021-07-15T14:48:33.032016Z",
     "start_time": "2021-07-15T14:47:42.709Z"
    }
   },
   "outputs": [],
   "source": [
    "## Instantiating a DF storing the resulting transformed training data\n",
    "X_train_tf_df = pd.DataFrame(X_train_tf, columns=final_cols, index=X_train.index)\n",
    "X_train_tf_df"
   ]
  },
  {
   "cell_type": "code",
   "execution_count": null,
   "metadata": {
    "ExecuteTime": {
     "end_time": "2021-07-15T14:48:33.033016Z",
     "start_time": "2021-07-15T14:47:42.716Z"
    }
   },
   "outputs": [],
   "source": [
    "## Transforming the test set\n",
    "X_test_tf = preprocessor.transform(X_test)\n",
    "X_test_tf"
   ]
  },
  {
   "cell_type": "code",
   "execution_count": null,
   "metadata": {
    "ExecuteTime": {
     "end_time": "2021-07-15T14:48:33.035017Z",
     "start_time": "2021-07-15T14:47:42.724Z"
    },
    "scrolled": true
   },
   "outputs": [],
   "source": [
    "## Creating DF for test data\n",
    "X_test_tf_df = pd.DataFrame(X_test_tf, columns=final_cols, index=X_test.index)\n",
    "X_test_tf_df"
   ]
  },
  {
   "cell_type": "code",
   "execution_count": null,
   "metadata": {
    "ExecuteTime": {
     "end_time": "2021-07-15T14:48:33.036017Z",
     "start_time": "2021-07-15T14:47:42.730Z"
    }
   },
   "outputs": [],
   "source": [
    "sm_reg = sms.OLS(y_train, X_train_tf_df).fit()\n",
    "sm_reg.summary()"
   ]
  },
  {
   "cell_type": "code",
   "execution_count": null,
   "metadata": {
    "ExecuteTime": {
     "end_time": "2021-07-15T14:48:33.037017Z",
     "start_time": "2021-07-15T14:47:42.738Z"
    }
   },
   "outputs": [],
   "source": [
    "sm_reg.params"
   ]
  },
  {
   "cell_type": "code",
   "execution_count": null,
   "metadata": {
    "ExecuteTime": {
     "end_time": "2021-07-15T14:48:33.039020Z",
     "start_time": "2021-07-15T14:47:42.744Z"
    }
   },
   "outputs": [],
   "source": [
    "## Creating full pipeline with ColumnTransformer and LinearRegression\n",
    "reg_pipe = Pipeline(steps=[('preprocessor', preprocessor),\n",
    "                      ('regressor', LinearRegression(fit_intercept=True))])"
   ]
  },
  {
   "cell_type": "code",
   "execution_count": null,
   "metadata": {
    "ExecuteTime": {
     "end_time": "2021-07-15T14:48:33.039020Z",
     "start_time": "2021-07-15T14:47:42.751Z"
    }
   },
   "outputs": [],
   "source": [
    "## Fittng pipeline to the training data\n",
    "reg_pipe.fit(X_train, y_train)"
   ]
  },
  {
   "cell_type": "code",
   "execution_count": null,
   "metadata": {
    "ExecuteTime": {
     "end_time": "2021-07-15T14:48:33.041019Z",
     "start_time": "2021-07-15T14:47:42.758Z"
    }
   },
   "outputs": [],
   "source": [
    "## Running the pipeline on the training data\n",
    "y_hat_train = reg_pipe.predict(X_train)\n",
    "y_hat_train"
   ]
  },
  {
   "cell_type": "code",
   "execution_count": null,
   "metadata": {
    "ExecuteTime": {
     "end_time": "2021-07-15T14:48:33.042019Z",
     "start_time": "2021-07-15T14:47:42.766Z"
    }
   },
   "outputs": [],
   "source": [
    "## Running the pipeline on the testing data\n",
    "y_hat_test = reg_pipe.predict(X_test)\n",
    "y_hat_test"
   ]
  },
  {
   "cell_type": "code",
   "execution_count": null,
   "metadata": {
    "ExecuteTime": {
     "end_time": "2021-07-15T14:48:33.043019Z",
     "start_time": "2021-07-15T14:47:42.774Z"
    }
   },
   "outputs": [],
   "source": [
    "reg_pipe['regressor'].intercept_"
   ]
  },
  {
   "cell_type": "code",
   "execution_count": null,
   "metadata": {
    "ExecuteTime": {
     "end_time": "2021-07-15T14:48:33.045026Z",
     "start_time": "2021-07-15T14:47:42.780Z"
    }
   },
   "outputs": [],
   "source": [
    "pd.set_option('display.float_format', lambda x: f'{x:,.2f}')"
   ]
  },
  {
   "cell_type": "code",
   "execution_count": null,
   "metadata": {
    "ExecuteTime": {
     "end_time": "2021-07-15T14:48:33.046020Z",
     "start_time": "2021-07-15T14:47:42.787Z"
    }
   },
   "outputs": [],
   "source": [
    "pipe_coefs = pd.Series(reg_pipe['regressor'].coef_, index=final_cols)\n",
    "pipe_coefs['intercept'] = reg_pipe['regressor'].intercept_\n",
    "pipe_coefs.head(20)"
   ]
  },
  {
   "cell_type": "code",
   "execution_count": null,
   "metadata": {
    "ExecuteTime": {
     "end_time": "2021-07-15T14:48:33.048020Z",
     "start_time": "2021-07-15T14:47:42.794Z"
    },
    "scrolled": true
   },
   "outputs": [],
   "source": [
    "eval_perf_train(reg_pipe, X_train, y_train)"
   ]
  },
  {
   "cell_type": "code",
   "execution_count": null,
   "metadata": {
    "ExecuteTime": {
     "end_time": "2021-07-15T14:48:33.050020Z",
     "start_time": "2021-07-15T14:47:42.802Z"
    }
   },
   "outputs": [],
   "source": [
    "eval_perf_test(reg_pipe, X_test, y_test)"
   ]
  },
  {
   "cell_type": "code",
   "execution_count": null,
   "metadata": {
    "ExecuteTime": {
     "end_time": "2021-07-15T14:48:33.051019Z",
     "start_time": "2021-07-15T14:47:42.811Z"
    }
   },
   "outputs": [],
   "source": [
    "# Creating first GridSearchCV to determine best parameters for LinReg\n",
    "\n",
    "param_grid = {'fit_intercept': [True, False]}\n",
    "ex_grid = GridSearchCV(LinearRegression(), param_grid, verbose=True,\n",
    "                   scoring='r2')\n",
    "ex_grid.fit(X_train_tf_df, y_train)\n",
    "display(ex_grid.best_params_)\n",
    "display(ex_grid.best_score_)\n",
    "display(ex_grid.best_estimator_)\n",
    "display(ex_grid.get_params())"
   ]
  },
  {
   "cell_type": "code",
   "execution_count": null,
   "metadata": {
    "ExecuteTime": {
     "end_time": "2021-07-15T14:48:33.052019Z",
     "start_time": "2021-07-15T14:47:42.818Z"
    }
   },
   "outputs": [],
   "source": [
    "## Results in a DF format\n",
    "# pd.DataFrame(reg.cv_results_).T"
   ]
  },
  {
   "cell_type": "code",
   "execution_count": null,
   "metadata": {
    "ExecuteTime": {
     "end_time": "2021-07-15T14:48:33.054017Z",
     "start_time": "2021-07-15T14:47:42.825Z"
    }
   },
   "outputs": [],
   "source": [
    "## Performing GSCV on test data\n",
    "y_hat_test = ex_grid.predict(X_test_tf_df)\n",
    "y_hat_test"
   ]
  },
  {
   "cell_type": "code",
   "execution_count": null,
   "metadata": {
    "ExecuteTime": {
     "end_time": "2021-07-15T14:48:33.055959Z",
     "start_time": "2021-07-15T14:47:42.833Z"
    }
   },
   "outputs": [],
   "source": [
    "eval_perf_test(ex_grid, X_test, y_test)"
   ]
  },
  {
   "cell_type": "code",
   "execution_count": null,
   "metadata": {
    "ExecuteTime": {
     "end_time": "2021-07-15T14:48:33.056959Z",
     "start_time": "2021-07-15T14:47:42.842Z"
    }
   },
   "outputs": [],
   "source": [
    "## Running gridsearch on pipeline\n",
    "\n",
    "param_grid = {'preprocessor__mode__imp_mode__strategy': ['mean','median',\n",
    "                                                        'most_frequent']}\n",
    "gs_imp_rmse = GridSearchCV(reg_pipe, param_grid, verbose=True,\n",
    "                   scoring='neg_root_mean_squared_error')\n",
    "gs_imp_rmse.fit(X_train, y_train)\n",
    "display(gs_imp_rmse.best_score_, reg.best_params_)"
   ]
  },
  {
   "cell_type": "code",
   "execution_count": null,
   "metadata": {
    "ExecuteTime": {
     "end_time": "2021-07-15T14:48:33.057959Z",
     "start_time": "2021-07-15T14:47:42.849Z"
    },
    "scrolled": false
   },
   "outputs": [],
   "source": [
    "eval_perf_train(gs_imp_rmse, X_train, y_train)"
   ]
  },
  {
   "cell_type": "code",
   "execution_count": null,
   "metadata": {
    "ExecuteTime": {
     "end_time": "2021-07-15T14:48:33.059960Z",
     "start_time": "2021-07-15T14:47:42.856Z"
    }
   },
   "outputs": [],
   "source": [
    "eval_perf_test(gs_imp_rmse, X_test, y_test)"
   ]
  },
  {
   "cell_type": "code",
   "execution_count": null,
   "metadata": {
    "ExecuteTime": {
     "end_time": "2021-07-15T14:48:33.060960Z",
     "start_time": "2021-07-15T14:47:42.864Z"
    }
   },
   "outputs": [],
   "source": [
    "## Running gridsearch on pipeline\n",
    "\n",
    "param_grid = {'preprocessor__mode__imp_mode__strategy': ['mean','median',\n",
    "                                                        'most_frequent']}\n",
    "gs_imp_r2 = GridSearchCV(reg_pipe, param_grid, verbose=True,\n",
    "                   scoring='r2')\n",
    "gs_imp_r2.fit(X_train, y_train)\n",
    "display(gs_imp_r2.best_score_)\n",
    "display(gs_imp_r2.best_params_)"
   ]
  },
  {
   "cell_type": "code",
   "execution_count": null,
   "metadata": {
    "ExecuteTime": {
     "end_time": "2021-07-15T14:48:33.061961Z",
     "start_time": "2021-07-15T14:47:42.872Z"
    }
   },
   "outputs": [],
   "source": [
    "eval_perf_train(gs_imp_r2, X_train, y_train)"
   ]
  },
  {
   "cell_type": "code",
   "execution_count": null,
   "metadata": {
    "ExecuteTime": {
     "end_time": "2021-07-15T14:48:33.062958Z",
     "start_time": "2021-07-15T14:47:42.880Z"
    }
   },
   "outputs": [],
   "source": [
    "eval_perf_test(gs_imp_r2, X_test, y_test)"
   ]
  },
  {
   "cell_type": "code",
   "execution_count": null,
   "metadata": {
    "ExecuteTime": {
     "end_time": "2021-07-15T14:48:33.064979Z",
     "start_time": "2021-07-15T14:47:42.886Z"
    },
    "scrolled": false
   },
   "outputs": [],
   "source": [
    "pd.DataFrame(gs_imp_r2.cv_results_)"
   ]
  },
  {
   "cell_type": "markdown",
   "metadata": {
    "id": "wag43Q9Osq2t"
   },
   "source": [
    "# 🥒 **Pickling the Model for Reuse**"
   ]
  },
  {
   "cell_type": "code",
   "execution_count": null,
   "metadata": {
    "ExecuteTime": {
     "end_time": "2021-07-15T14:48:33.065979Z",
     "start_time": "2021-07-15T14:47:42.896Z"
    },
    "id": "4GN7b92Bsq2t"
   },
   "outputs": [],
   "source": [
    "# ## Setting coefficients and target\n",
    "# X = df[['was_renovated','waterfront', 'zipcode',\n",
    "#             'yrs_since_reno', 'bedrooms', 'bathrooms', 'condition','grade']].copy()\n",
    "# y = df['price'].copy()"
   ]
  },
  {
   "cell_type": "code",
   "execution_count": null,
   "metadata": {
    "ExecuteTime": {
     "end_time": "2021-07-15T14:48:33.066980Z",
     "start_time": "2021-07-15T14:47:42.906Z"
    },
    "id": "aAaWB2p-sq2u"
   },
   "outputs": [],
   "source": [
    "# ## Create list of categorical variables\n",
    "# cat_feats = ['condition','grade', 'zipcode']\n",
    "\n",
    "# ## Create the OHE without \"drop='first\" as it would throw an error in this case\n",
    "# ohe = OneHotEncoder(handle_unknown = 'ignore', sparse=False)\n",
    "\n",
    "# ## Using OHE on our categorical variables for training (NOT testing)\n",
    "# final_ohe = ohe.fit_transform(X[cat_feats])"
   ]
  },
  {
   "cell_type": "code",
   "execution_count": null,
   "metadata": {
    "ExecuteTime": {
     "end_time": "2021-07-15T14:48:33.068980Z",
     "start_time": "2021-07-15T14:47:42.915Z"
    },
    "id": "K4ZlDVedsq2u"
   },
   "outputs": [],
   "source": [
    "# ## Getting feature names from our list of categories\n",
    "# feat_col_name = ohe.get_feature_names(cat_feats)"
   ]
  },
  {
   "cell_type": "code",
   "execution_count": null,
   "metadata": {
    "ExecuteTime": {
     "end_time": "2021-07-15T14:48:33.069977Z",
     "start_time": "2021-07-15T14:47:42.924Z"
    },
    "id": "N-PMoCc9sq2u"
   },
   "outputs": [],
   "source": [
    "# ## Creating DF of final results\n",
    "# penultimate_ohe_df = pd.DataFrame(final_ohe, columns=feat_col_name, index=X.index)"
   ]
  },
  {
   "cell_type": "code",
   "execution_count": null,
   "metadata": {
    "ExecuteTime": {
     "end_time": "2021-07-15T14:48:33.071980Z",
     "start_time": "2021-07-15T14:47:42.935Z"
    },
    "id": "gbBUH7sesq2u"
   },
   "outputs": [],
   "source": [
    "# ## Updating final DF\n",
    "# final_ohe_df = pd.concat([X.drop(cat_feats, axis=1), penultimate_ohe_df], axis=1)"
   ]
  },
  {
   "cell_type": "code",
   "execution_count": null,
   "metadata": {
    "ExecuteTime": {
     "end_time": "2021-07-15T14:48:33.072980Z",
     "start_time": "2021-07-15T14:47:42.944Z"
    },
    "id": "xeejWre2sq2u"
   },
   "outputs": [],
   "source": [
    "# ## Instantiating and fitting the regression\n",
    "# lr_final = LinearRegression()\n",
    "\n",
    "# lr_final = lr_final.fit(final_ohe_df, y)"
   ]
  },
  {
   "cell_type": "code",
   "execution_count": null,
   "metadata": {
    "ExecuteTime": {
     "end_time": "2021-07-15T14:48:33.073980Z",
     "start_time": "2021-07-15T14:47:42.950Z"
    },
    "id": "oI59t6jLsq2u"
   },
   "outputs": [],
   "source": [
    "# # Generating predictions\n",
    "# final_pred = lr_final.predict(final_ohe_df)"
   ]
  },
  {
   "cell_type": "code",
   "execution_count": null,
   "metadata": {
    "ExecuteTime": {
     "end_time": "2021-07-15T14:48:33.074980Z",
     "start_time": "2021-07-15T14:47:42.969Z"
    },
    "id": "S0i9fViVsq2v",
    "outputId": "62cdf02d-fcfe-4d89-f573-6fc99ebcae01"
   },
   "outputs": [],
   "source": [
    "# ## Confirming predictions work\n",
    "# display(final_pred)"
   ]
  },
  {
   "cell_type": "code",
   "execution_count": null,
   "metadata": {
    "ExecuteTime": {
     "end_time": "2021-07-15T14:48:33.075979Z",
     "start_time": "2021-07-15T14:47:42.975Z"
    },
    "id": "BLGZNG78sq2v"
   },
   "outputs": [],
   "source": [
    "# # Saving model to .pickle file\n",
    "# import pickle\n",
    "\n",
    "# pickle_out = open(\"final_model.pickle\",\"wb\")\n",
    "# pickle.dump(lr_final, pickle_out)\n",
    "# pickle_out.close()"
   ]
  }
 ],
 "metadata": {
  "colab": {
   "collapsed_sections": [],
   "name": "P2Pv2_wb.ipynb",
   "provenance": [],
   "toc_visible": true
  },
  "kernelspec": {
   "display_name": "Python (learn-env-bmc)",
   "language": "python",
   "name": "learn-env-bmc"
  },
  "language_info": {
   "codemirror_mode": {
    "name": "ipython",
    "version": 3
   },
   "file_extension": ".py",
   "mimetype": "text/x-python",
   "name": "python",
   "nbconvert_exporter": "python",
   "pygments_lexer": "ipython3",
   "version": "3.8.5"
  },
  "toc": {
   "base_numbering": 1,
   "nav_menu": {},
   "number_sections": true,
   "sideBar": true,
   "skip_h1_title": false,
   "title_cell": "Table of Contents",
   "title_sidebar": "Contents",
   "toc_cell": true,
   "toc_position": {
    "height": "757px",
    "left": "35px",
    "top": "110px",
    "width": "275.866px"
   },
   "toc_section_display": true,
   "toc_window_display": true
  }
 },
 "nbformat": 4,
 "nbformat_minor": 1
}
