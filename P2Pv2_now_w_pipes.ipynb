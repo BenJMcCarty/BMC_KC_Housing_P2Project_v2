{
 "cells": [
  {
   "cell_type": "markdown",
   "metadata": {
    "heading_collapsed": true
   },
   "source": [
    "# [Return to Workflow](#eod)"
   ]
  },
  {
   "cell_type": "markdown",
   "metadata": {
    "heading_collapsed": true,
    "id": "cj2TboyMuoQe"
   },
   "source": [
    "# Phase 2 Project - DSC 060721 <a name=\"top\"></a>"
   ]
  },
  {
   "cell_type": "markdown",
   "metadata": {
    "hidden": true
   },
   "source": [
    "Author: Ben McCarty\n",
    "\n",
    "Date: 7/12/21\n",
    "\n",
    "Contact: bmccarty505@gmail.com"
   ]
  },
  {
   "cell_type": "markdown",
   "metadata": {
    "ExecuteTime": {
     "end_time": "2021-07-13T14:57:18.686886Z",
     "start_time": "2021-07-13T14:57:18.648884Z"
    }
   },
   "source": [
    "# 🧾 Table of Contents: <a name=\"toc\"></a>\n",
    "\n",
    "- ☑ [To-Do's](#todo)\n",
    "- 📃 [Rubric](#Rubric)\n",
    "- 🏡 [Title](#title)\n",
    "\n",
    "\n",
    "- 📂 [Setup](#setup)\n",
    "- 🔮 [Exploring Data](#explore)\n",
    "- 🛠 [Feature Engineering](#eng)\n",
    "- 🔗 [Correlations](#correlations)\n",
    "\n",
    "\n",
    "- 🚿 [Pipeline_1](#pipeline_1)\n",
    "- 🚿 [Pipeline_2](#pipeline_2)\n",
    "\n",
    "\n",
    "- 🥒 [Pickling](#pickle)"
   ]
  },
  {
   "cell_type": "markdown",
   "metadata": {},
   "source": [
    "# **☑** **To-Do's** **☑** <a name='todo'></a>\n",
    "\n",
    "- [ ] Fix [guiding questions](#td-questions)\n",
    "- [x] Modularize functions - incl. H2 read/inspect notes\n",
    "- [x] Create 'report_df\" function\n",
    "- [ ] Add links to each section addressing the rubric\n",
    "- [ ] Use pipeline for inferential and predictive steps\n",
    "- [ ] Use GridSearchCV for hyperparameter tuning\n",
    "- [ ] H2: add VIF to pipeline?\n",
    "- [ ] Feature Engine: OHE\n",
    "- [ ] Lasso Reg in pipeline"
   ]
  },
  {
   "cell_type": "markdown",
   "metadata": {
    "heading_collapsed": true
   },
   "source": [
    "# 📃 Rubric <a name=\"rubric\"></a>"
   ]
  },
  {
   "cell_type": "markdown",
   "metadata": {
    "hidden": true
   },
   "source": [
    "---\n",
    "**Business Understanding:** [Business Understanding](#bizund)\n",
    "\n",
    "- [ ] Notebook clearly explains the project's value for helping a specific stakeholder solve a real-world problem.\n",
    "\n",
    "\n",
    "- [ ] Introduction explains the real-world problem the project aims to solve\n",
    "\n",
    "\n",
    "- [ ] Introduction identifies stakeholders who could use the project and how they would use it\n",
    "\n",
    "\n",
    "- [ ] Conclusion summarizes implications of the project for the real-world problem and stakeholders\n",
    "\n",
    "---\n",
    "**Data Understanding:**\n",
    "- [ ] Notebook clearly describes the source and properties of the data to show how useful the data are for solving the problem of interest.\n",
    "\n",
    "\n",
    "- [ ] Describe the data sources and explain why the data are suitable for the project\n",
    "\n",
    "\n",
    "- [ ] Present the size of the dataset and descriptive statistics for all features used in the analysis\n",
    "\n",
    "\n",
    "- [ ] Justify the inclusion of features based on their properties and relevance for the project\n",
    "\n",
    "\n",
    "- [ ] Identify any limitations of the data that have implications for the project\n",
    "\n",
    "---\n",
    "**Data Preparation:** \n",
    "- [ ] Notebook shows how you prepare your data and explains why by including…\n",
    "\n",
    "\n",
    "- [ ] Instructions or code needed to get and prepare the raw data for analysis\n",
    "\n",
    "\n",
    "- [ ] Code comments and text to explain what your data preparation code does\n",
    "\n",
    "\n",
    "- [ ] Valid justifications for why the steps you took are appropriate for the problem you are solving\n",
    "\n",
    "---\n",
    "**Modeling:**\n",
    "- [ ] Notebook demonstrates an iterative approach to model building.\n",
    "\n",
    "\n",
    "- [ ] Runs and interprets a simple, baseline model for comparison\n",
    "\n",
    "\n",
    "- [ ] Introduces new models that improve on prior models and interprets their results\n",
    "\n",
    "\n",
    "- [ ] Explicitly justifies model changes based on the results of prior models and the problem context\n",
    "\n",
    "\n",
    "- [ ] Explicitly describes any improvements found from running new models\n",
    "\n",
    "---\n",
    "**Regression Results:**\n",
    "- [ ] Notebook clearly presents two features with strong relationships to sale prices\n",
    "\n",
    "\n",
    "- [ ] Explicitly identify the features and interpret their coefficients in plain language\n",
    "\n",
    "\n",
    "- [ ] Explain the implications of results for the real-world problem the project aims to address\n",
    "\n",
    "\n",
    "- [ ] Identify specific actions that stakeholders should take to leverage these results\n",
    "\n",
    "---\n",
    "**Visualization:**\n",
    "- [ ] Notebook includes three relevant and polished visualizations of findings that…\n",
    "\n",
    "\n",
    "- [ ] Help the project stakeholder understand the value or success of the project\n",
    "\n",
    "\n",
    "- [ ] Have text and marks to aid reader interpretation, such as graph and axis titles, axis ticks and labels, or legend (varies by visualization type)\n",
    "\n",
    "\n",
    "- [ ] Use color, size, and/or location to appropriately facilitate comparisons\n",
    "\n",
    "\n",
    "- [ ] Are not cluttered, dense, or illegible\n",
    "\n",
    "---\n",
    "**Code Quality:**\n",
    "- [ ] Code in notebook and related files meets professional standards (e.g. PEP 8)\n",
    "\n",
    "\n",
    "- [ ] Code is easy to read, using comments, spacing, variable names, and function docstrings\n",
    "\n",
    "\n",
    "- [ ] All code runs and no code or comments are included that are not needed for the project\n",
    "\n",
    "\n",
    "- [ ] Code minimizes repetition, using loops, functions, and classes\n",
    "\n",
    "\n",
    "- [ ] Code adapted from others is properly cited with author names and location of the cited material\n",
    "---"
   ]
  },
  {
   "cell_type": "markdown",
   "metadata": {
    "heading_collapsed": true,
    "id": "9zh5kWAlsq1k"
   },
   "source": [
    "# 🏡 **(Re)Selling Seattle: Determining House Sell Prices** 🏡 <a name=\"title\"></a>"
   ]
  },
  {
   "cell_type": "markdown",
   "metadata": {
    "hidden": true,
    "id": "76jtLj8Gsq1n"
   },
   "source": [
    "<a name='bizund'></a>\n",
    "\n",
    "**<p style=\"text-align: center;\">If you are considering selling your house, one of the highest priorities is getting the best price for it.</p>**\n",
    "\n",
    "You want to make sure that the hedges are trimmed; that the basement isn't leaking; and that new coat of paint is covering up all of the \"art\" covering the walls from your kids.\n",
    "\n",
    "*But what else can do you?* Would that extra bathroom under the stairs be a worthwhile addition? What about that addition you always talked about building?\n",
    "\n",
    "---\n",
    "**<p style=\"text-align: center;\">When you are exploring the option of selling, you may ask such questions as:</p>**\n",
    "\n",
    ">* How do the different aspects of your house impact the price?\n",
    ">\n",
    ">\n",
    ">* What would be a predicted sell price for your house as-is?\n",
    ">\n",
    ">\n",
    ">* What can you do to improve the house's value?\n",
    "\n",
    "---\n",
    "You may have some ideas already (and if you don't, watch a few episodes of \"This Old House\" and you will have *plenty* of inspiration).\n",
    "\n",
    "But how do you *really* know what features are best? How can you be sure that your intuition or expectations are based on fact and not assumptions? **Turn to the data for answers!**\n",
    "\n",
    "---\n",
    "**<p style=\"text-align: center;\">Revisiting King County</p>**\n",
    "\n",
    "My [prior exploration](https://github.com/BenJMcCarty/Phase_2_Project_Final) of the King County House Sales dataset yielded some recommendations, but I wanted to see if I can improve them. I am revisiting the data with new techniques and approaches to see how much I can improve the results.\n",
    "\n",
    "---"
   ]
  },
  {
   "cell_type": "markdown",
   "metadata": {
    "heading_collapsed": true
   },
   "source": [
    "# BEN - FIX THIS! <a name=\"td-questions\"></a>"
   ]
  },
  {
   "cell_type": "markdown",
   "metadata": {
    "hidden": true,
    "id": "76jtLj8Gsq1n"
   },
   "source": [
    "**WHAT QUESTIONS ARE IMPORTANT FROM THE BUSINESS PERSPECTIVE? WHAT QUESTIONS DID I USE TO GUIDE MY EXPLORATION?** \n",
    "\n",
    "My project used data from house sales in King County, WA. to determine some of the top features determining the sell price of a home.\n",
    "\n",
    "* **First, I explored the data using the Pandas package to review the data itself.** I reviewed the different features included in my dataset and their respective values; the descriptive statistics for the numerical data; and the overall size and shape of the data (how many rows and columns).\n",
    "\n",
    "* **Then, I used Seaborn to plot the data and a fitted linear regression model for each feature against the sell price.** These visualizations helped differentiate which features to treat as *categorical* variables (e.g. features that would be one of a select number of options) versus *continuous* variables (which would have less of a rigid range of values).\n",
    "\n",
    "* **In order to give more depth to my data, I engineered four new features based on the original features and data.** I determined the age of each house at sale; whether or not a home was renovated; how many years since a renovation; and whether or not a house had a basement.\n",
    "\n",
    "* **I wanted to make sure all of the features and their data were relevant to apply to my future model.** I performed correlational comparisons to determine which features were too closely related (indicating multicollinearity), which would affect my modeling process later on.\n",
    "\n",
    "* **To test my assumptions that certain features would have a statistically significant impact on the price, I performed a few statistical tests.** I performed an ANOVA test on our \"condition\" feature (comparing each ranking of condition against the others) and I ran a two-sample t-test on the \"waterfront\" and \"was_renovated\" features as well.\n",
    "\n",
    "* **LReg for Inferences**"
   ]
  },
  {
   "cell_type": "markdown",
   "metadata": {
    "heading_collapsed": true,
    "id": "AQQLR7ANsq1o"
   },
   "source": [
    "# **Setting Up the Tools and Data** <a name='setup'></a>"
   ]
  },
  {
   "cell_type": "markdown",
   "metadata": {
    "hidden": true,
    "id": "bl8Y9RaXsq1o"
   },
   "source": [
    "## Imports"
   ]
  },
  {
   "cell_type": "code",
   "execution_count": 19,
   "metadata": {
    "ExecuteTime": {
     "end_time": "2021-07-14T21:21:32.952157Z",
     "start_time": "2021-07-14T21:21:32.824160Z"
    },
    "hidden": true,
    "id": "fwxtrzBMsq1p"
   },
   "outputs": [],
   "source": [
    "# Data Handling\n",
    "import pandas as pd\n",
    "import numpy as np\n",
    "from scipy import stats\n",
    "\n",
    "# Visualizations\n",
    "import matplotlib.pyplot as plt\n",
    "import seaborn as sns\n",
    "\n",
    "# Modeling - Statsmodels\n",
    "import statsmodels.formula.api as smf\n",
    "import statsmodels.api as sms\n",
    "\n",
    "# Modeling - SKLearn\n",
    "from sklearn import metrics\n",
    "from sklearn.linear_model import LinearRegression\n",
    "from sklearn.metrics import mean_squared_error\n",
    "from sklearn.preprocessing import PolynomialFeatures, StandardScaler, OneHotEncoder, FunctionTransformer\n",
    "from sklearn.model_selection import train_test_split, cross_validate, GridSearchCV\n",
    "from sklearn.feature_selection import RFECV\n",
    "from sklearn.impute import SimpleImputer, KNNImputer\n",
    "from sklearn.compose import ColumnTransformer\n",
    "from sklearn.pipeline import Pipeline\n",
    "from sklearn import set_config\n",
    "\n",
    "# Settings\n",
    "%matplotlib inline\n",
    "plt.style.use('seaborn-talk')\n",
    "pd.set_option('display.max_columns', None)\n",
    "pd.set_option('display.float_format', lambda x: f'{x:,.2f}')\n",
    "set_config(display='diagram')"
   ]
  },
  {
   "cell_type": "markdown",
   "metadata": {
    "hidden": true
   },
   "source": [
    "## Importing Personal Functions"
   ]
  },
  {
   "cell_type": "markdown",
   "metadata": {
    "hidden": true
   },
   "source": [
    "I created several functions specific to this project and saved them in an external file. The file is available from the main directory."
   ]
  },
  {
   "cell_type": "code",
   "execution_count": 20,
   "metadata": {
    "ExecuteTime": {
     "end_time": "2021-07-14T21:21:33.619159Z",
     "start_time": "2021-07-14T21:21:33.356161Z"
    },
    "hidden": true
   },
   "outputs": [],
   "source": [
    "%reload_ext autoreload\n",
    "%autoreload 2"
   ]
  },
  {
   "cell_type": "code",
   "execution_count": 21,
   "metadata": {
    "ExecuteTime": {
     "end_time": "2021-07-14T21:21:34.257159Z",
     "start_time": "2021-07-14T21:21:34.011161Z"
    },
    "hidden": true
   },
   "outputs": [],
   "source": [
    "from p2pr_functions.functions import *"
   ]
  },
  {
   "cell_type": "markdown",
   "metadata": {
    "hidden": true,
    "id": "z6WjRioGsq12"
   },
   "source": [
    "## Reading Data"
   ]
  },
  {
   "cell_type": "code",
   "execution_count": 5,
   "metadata": {
    "ExecuteTime": {
     "end_time": "2021-07-14T21:15:38.301589Z",
     "start_time": "2021-07-14T21:15:38.174593Z"
    },
    "hidden": true,
    "id": "GJa2-z9iuCWF"
   },
   "outputs": [],
   "source": [
    "# old_data = 'https://raw.githubusercontent.com/BenJMcCarty/Phase_2_Project_Final/main/kc_house_data_train.csv'\n",
    "\n",
    "# new_data = 'https://raw.githubusercontent.com/BenJMcCarty/king_county_housing/main/data/kc_house_data.csv'\n",
    "\n",
    "local_data = 'data/kc_house_data.csv'"
   ]
  },
  {
   "cell_type": "code",
   "execution_count": 6,
   "metadata": {
    "ExecuteTime": {
     "end_time": "2021-07-14T21:15:39.125591Z",
     "start_time": "2021-07-14T21:15:38.885591Z"
    },
    "hidden": true,
    "id": "O0NN2C4ysq12"
   },
   "outputs": [],
   "source": [
    "data = pd.read_csv(local_data, index_col=0)"
   ]
  },
  {
   "cell_type": "markdown",
   "metadata": {
    "heading_collapsed": true,
    "id": "Nd8bcFoVsq12"
   },
   "source": [
    "# **Exploring Fresh Data**"
   ]
  },
  {
   "cell_type": "markdown",
   "metadata": {
    "heading_collapsed": true,
    "hidden": true,
    "id": "ABcBsWZusq12"
   },
   "source": [
    "## Basic Overviews"
   ]
  },
  {
   "cell_type": "markdown",
   "metadata": {
    "hidden": true,
    "id": "KViKvrsBsq12"
   },
   "source": [
    "The goal for this section is to get a broad idea of the data before I start any cleaning or feature engineering."
   ]
  },
  {
   "cell_type": "code",
   "execution_count": 7,
   "metadata": {
    "ExecuteTime": {
     "end_time": "2021-07-14T21:15:40.898594Z",
     "start_time": "2021-07-14T21:15:40.759595Z"
    },
    "hidden": true
   },
   "outputs": [],
   "source": [
    "## Copying dataframe to new dataframe (in case I need the original later)\n",
    "df = data"
   ]
  },
  {
   "cell_type": "code",
   "execution_count": 8,
   "metadata": {
    "ExecuteTime": {
     "end_time": "2021-07-14T21:15:41.662594Z",
     "start_time": "2021-07-14T21:15:41.525596Z"
    },
    "colab": {
     "base_uri": "https://localhost:8080/",
     "height": 255
    },
    "hidden": true,
    "id": "Ftg2a7Ivsq13",
    "outputId": "881da1ae-4997-4de2-87b8-42dc402f41a7"
   },
   "outputs": [
    {
     "data": {
      "text/html": [
       "<div>\n",
       "<style scoped>\n",
       "    .dataframe tbody tr th:only-of-type {\n",
       "        vertical-align: middle;\n",
       "    }\n",
       "\n",
       "    .dataframe tbody tr th {\n",
       "        vertical-align: top;\n",
       "    }\n",
       "\n",
       "    .dataframe thead th {\n",
       "        text-align: right;\n",
       "    }\n",
       "</style>\n",
       "<table border=\"1\" class=\"dataframe\">\n",
       "  <thead>\n",
       "    <tr style=\"text-align: right;\">\n",
       "      <th></th>\n",
       "      <th>date</th>\n",
       "      <th>price</th>\n",
       "      <th>bedrooms</th>\n",
       "      <th>bathrooms</th>\n",
       "      <th>sqft_living</th>\n",
       "      <th>sqft_lot</th>\n",
       "      <th>floors</th>\n",
       "      <th>waterfront</th>\n",
       "      <th>view</th>\n",
       "      <th>condition</th>\n",
       "      <th>grade</th>\n",
       "      <th>sqft_above</th>\n",
       "      <th>sqft_basement</th>\n",
       "      <th>yr_built</th>\n",
       "      <th>yr_renovated</th>\n",
       "      <th>zipcode</th>\n",
       "      <th>lat</th>\n",
       "      <th>long</th>\n",
       "      <th>sqft_living15</th>\n",
       "      <th>sqft_lot15</th>\n",
       "    </tr>\n",
       "    <tr>\n",
       "      <th>id</th>\n",
       "      <th></th>\n",
       "      <th></th>\n",
       "      <th></th>\n",
       "      <th></th>\n",
       "      <th></th>\n",
       "      <th></th>\n",
       "      <th></th>\n",
       "      <th></th>\n",
       "      <th></th>\n",
       "      <th></th>\n",
       "      <th></th>\n",
       "      <th></th>\n",
       "      <th></th>\n",
       "      <th></th>\n",
       "      <th></th>\n",
       "      <th></th>\n",
       "      <th></th>\n",
       "      <th></th>\n",
       "      <th></th>\n",
       "      <th></th>\n",
       "    </tr>\n",
       "  </thead>\n",
       "  <tbody>\n",
       "    <tr>\n",
       "      <th>7129300520</th>\n",
       "      <td>10/13/2014</td>\n",
       "      <td>221,900.00</td>\n",
       "      <td>3</td>\n",
       "      <td>1.00</td>\n",
       "      <td>1180</td>\n",
       "      <td>5650</td>\n",
       "      <td>1.00</td>\n",
       "      <td>nan</td>\n",
       "      <td>0.00</td>\n",
       "      <td>3</td>\n",
       "      <td>7</td>\n",
       "      <td>1180</td>\n",
       "      <td>0.0</td>\n",
       "      <td>1955</td>\n",
       "      <td>0.00</td>\n",
       "      <td>98178</td>\n",
       "      <td>47.51</td>\n",
       "      <td>-122.26</td>\n",
       "      <td>1340</td>\n",
       "      <td>5650</td>\n",
       "    </tr>\n",
       "    <tr>\n",
       "      <th>6414100192</th>\n",
       "      <td>12/9/2014</td>\n",
       "      <td>538,000.00</td>\n",
       "      <td>3</td>\n",
       "      <td>2.25</td>\n",
       "      <td>2570</td>\n",
       "      <td>7242</td>\n",
       "      <td>2.00</td>\n",
       "      <td>0.00</td>\n",
       "      <td>0.00</td>\n",
       "      <td>3</td>\n",
       "      <td>7</td>\n",
       "      <td>2170</td>\n",
       "      <td>400.0</td>\n",
       "      <td>1951</td>\n",
       "      <td>1,991.00</td>\n",
       "      <td>98125</td>\n",
       "      <td>47.72</td>\n",
       "      <td>-122.32</td>\n",
       "      <td>1690</td>\n",
       "      <td>7639</td>\n",
       "    </tr>\n",
       "    <tr>\n",
       "      <th>5631500400</th>\n",
       "      <td>2/25/2015</td>\n",
       "      <td>180,000.00</td>\n",
       "      <td>2</td>\n",
       "      <td>1.00</td>\n",
       "      <td>770</td>\n",
       "      <td>10000</td>\n",
       "      <td>1.00</td>\n",
       "      <td>0.00</td>\n",
       "      <td>0.00</td>\n",
       "      <td>3</td>\n",
       "      <td>6</td>\n",
       "      <td>770</td>\n",
       "      <td>0.0</td>\n",
       "      <td>1933</td>\n",
       "      <td>nan</td>\n",
       "      <td>98028</td>\n",
       "      <td>47.74</td>\n",
       "      <td>-122.23</td>\n",
       "      <td>2720</td>\n",
       "      <td>8062</td>\n",
       "    </tr>\n",
       "    <tr>\n",
       "      <th>2487200875</th>\n",
       "      <td>12/9/2014</td>\n",
       "      <td>604,000.00</td>\n",
       "      <td>4</td>\n",
       "      <td>3.00</td>\n",
       "      <td>1960</td>\n",
       "      <td>5000</td>\n",
       "      <td>1.00</td>\n",
       "      <td>0.00</td>\n",
       "      <td>0.00</td>\n",
       "      <td>5</td>\n",
       "      <td>7</td>\n",
       "      <td>1050</td>\n",
       "      <td>910.0</td>\n",
       "      <td>1965</td>\n",
       "      <td>0.00</td>\n",
       "      <td>98136</td>\n",
       "      <td>47.52</td>\n",
       "      <td>-122.39</td>\n",
       "      <td>1360</td>\n",
       "      <td>5000</td>\n",
       "    </tr>\n",
       "    <tr>\n",
       "      <th>1954400510</th>\n",
       "      <td>2/18/2015</td>\n",
       "      <td>510,000.00</td>\n",
       "      <td>3</td>\n",
       "      <td>2.00</td>\n",
       "      <td>1680</td>\n",
       "      <td>8080</td>\n",
       "      <td>1.00</td>\n",
       "      <td>0.00</td>\n",
       "      <td>0.00</td>\n",
       "      <td>3</td>\n",
       "      <td>8</td>\n",
       "      <td>1680</td>\n",
       "      <td>0.0</td>\n",
       "      <td>1987</td>\n",
       "      <td>0.00</td>\n",
       "      <td>98074</td>\n",
       "      <td>47.62</td>\n",
       "      <td>-122.05</td>\n",
       "      <td>1800</td>\n",
       "      <td>7503</td>\n",
       "    </tr>\n",
       "  </tbody>\n",
       "</table>\n",
       "</div>"
      ],
      "text/plain": [
       "                  date      price  bedrooms  bathrooms  sqft_living  sqft_lot  \\\n",
       "id                                                                              \n",
       "7129300520  10/13/2014 221,900.00         3       1.00         1180      5650   \n",
       "6414100192   12/9/2014 538,000.00         3       2.25         2570      7242   \n",
       "5631500400   2/25/2015 180,000.00         2       1.00          770     10000   \n",
       "2487200875   12/9/2014 604,000.00         4       3.00         1960      5000   \n",
       "1954400510   2/18/2015 510,000.00         3       2.00         1680      8080   \n",
       "\n",
       "            floors  waterfront  view  condition  grade  sqft_above  \\\n",
       "id                                                                   \n",
       "7129300520    1.00         nan  0.00          3      7        1180   \n",
       "6414100192    2.00        0.00  0.00          3      7        2170   \n",
       "5631500400    1.00        0.00  0.00          3      6         770   \n",
       "2487200875    1.00        0.00  0.00          5      7        1050   \n",
       "1954400510    1.00        0.00  0.00          3      8        1680   \n",
       "\n",
       "           sqft_basement  yr_built  yr_renovated  zipcode   lat    long  \\\n",
       "id                                                                        \n",
       "7129300520           0.0      1955          0.00    98178 47.51 -122.26   \n",
       "6414100192         400.0      1951      1,991.00    98125 47.72 -122.32   \n",
       "5631500400           0.0      1933           nan    98028 47.74 -122.23   \n",
       "2487200875         910.0      1965          0.00    98136 47.52 -122.39   \n",
       "1954400510           0.0      1987          0.00    98074 47.62 -122.05   \n",
       "\n",
       "            sqft_living15  sqft_lot15  \n",
       "id                                     \n",
       "7129300520           1340        5650  \n",
       "6414100192           1690        7639  \n",
       "5631500400           2720        8062  \n",
       "2487200875           1360        5000  \n",
       "1954400510           1800        7503  "
      ]
     },
     "execution_count": 8,
     "metadata": {},
     "output_type": "execute_result"
    }
   ],
   "source": [
    "df.head()"
   ]
  },
  {
   "cell_type": "code",
   "execution_count": 9,
   "metadata": {
    "ExecuteTime": {
     "end_time": "2021-07-14T21:15:42.488595Z",
     "start_time": "2021-07-14T21:15:42.268600Z"
    },
    "colab": {
     "background_save": true
    },
    "hidden": true,
    "id": "9KY_8DSasq13",
    "outputId": "c14f735d-e743-4955-f104-ae82bd334268"
   },
   "outputs": [
    {
     "name": "stdout",
     "output_type": "stream",
     "text": [
      "(21597, 20)\n"
     ]
    },
    {
     "data": {
      "text/html": [
       "<div>\n",
       "<style scoped>\n",
       "    .dataframe tbody tr th:only-of-type {\n",
       "        vertical-align: middle;\n",
       "    }\n",
       "\n",
       "    .dataframe tbody tr th {\n",
       "        vertical-align: top;\n",
       "    }\n",
       "\n",
       "    .dataframe thead th {\n",
       "        text-align: right;\n",
       "    }\n",
       "</style>\n",
       "<table border=\"1\" class=\"dataframe\">\n",
       "  <thead>\n",
       "    <tr style=\"text-align: right;\">\n",
       "      <th></th>\n",
       "      <th>datatypes</th>\n",
       "      <th>num_unique</th>\n",
       "      <th>null_sum</th>\n",
       "      <th>null_pct</th>\n",
       "      <th>count</th>\n",
       "      <th>mean</th>\n",
       "      <th>std</th>\n",
       "      <th>min</th>\n",
       "      <th>25%</th>\n",
       "      <th>50%</th>\n",
       "      <th>75%</th>\n",
       "      <th>max</th>\n",
       "    </tr>\n",
       "  </thead>\n",
       "  <tbody>\n",
       "    <tr>\n",
       "      <th>date</th>\n",
       "      <td>object</td>\n",
       "      <td>372</td>\n",
       "      <td>0</td>\n",
       "      <td>0.00</td>\n",
       "      <td>nan</td>\n",
       "      <td>nan</td>\n",
       "      <td>nan</td>\n",
       "      <td>nan</td>\n",
       "      <td>nan</td>\n",
       "      <td>nan</td>\n",
       "      <td>nan</td>\n",
       "      <td>nan</td>\n",
       "    </tr>\n",
       "    <tr>\n",
       "      <th>price</th>\n",
       "      <td>float64</td>\n",
       "      <td>3622</td>\n",
       "      <td>0</td>\n",
       "      <td>0.00</td>\n",
       "      <td>21,597.00</td>\n",
       "      <td>540,296.57</td>\n",
       "      <td>367,368.14</td>\n",
       "      <td>78,000.00</td>\n",
       "      <td>322,000.00</td>\n",
       "      <td>450,000.00</td>\n",
       "      <td>645,000.00</td>\n",
       "      <td>7,700,000.00</td>\n",
       "    </tr>\n",
       "    <tr>\n",
       "      <th>bedrooms</th>\n",
       "      <td>int64</td>\n",
       "      <td>12</td>\n",
       "      <td>0</td>\n",
       "      <td>0.00</td>\n",
       "      <td>21,597.00</td>\n",
       "      <td>3.37</td>\n",
       "      <td>0.93</td>\n",
       "      <td>1.00</td>\n",
       "      <td>3.00</td>\n",
       "      <td>3.00</td>\n",
       "      <td>4.00</td>\n",
       "      <td>33.00</td>\n",
       "    </tr>\n",
       "    <tr>\n",
       "      <th>bathrooms</th>\n",
       "      <td>float64</td>\n",
       "      <td>29</td>\n",
       "      <td>0</td>\n",
       "      <td>0.00</td>\n",
       "      <td>21,597.00</td>\n",
       "      <td>2.12</td>\n",
       "      <td>0.77</td>\n",
       "      <td>0.50</td>\n",
       "      <td>1.75</td>\n",
       "      <td>2.25</td>\n",
       "      <td>2.50</td>\n",
       "      <td>8.00</td>\n",
       "    </tr>\n",
       "    <tr>\n",
       "      <th>sqft_living</th>\n",
       "      <td>int64</td>\n",
       "      <td>1034</td>\n",
       "      <td>0</td>\n",
       "      <td>0.00</td>\n",
       "      <td>21,597.00</td>\n",
       "      <td>2,080.32</td>\n",
       "      <td>918.11</td>\n",
       "      <td>370.00</td>\n",
       "      <td>1,430.00</td>\n",
       "      <td>1,910.00</td>\n",
       "      <td>2,550.00</td>\n",
       "      <td>13,540.00</td>\n",
       "    </tr>\n",
       "    <tr>\n",
       "      <th>sqft_lot</th>\n",
       "      <td>int64</td>\n",
       "      <td>9776</td>\n",
       "      <td>0</td>\n",
       "      <td>0.00</td>\n",
       "      <td>21,597.00</td>\n",
       "      <td>15,099.41</td>\n",
       "      <td>41,412.64</td>\n",
       "      <td>520.00</td>\n",
       "      <td>5,040.00</td>\n",
       "      <td>7,618.00</td>\n",
       "      <td>10,685.00</td>\n",
       "      <td>1,651,359.00</td>\n",
       "    </tr>\n",
       "    <tr>\n",
       "      <th>floors</th>\n",
       "      <td>float64</td>\n",
       "      <td>6</td>\n",
       "      <td>0</td>\n",
       "      <td>0.00</td>\n",
       "      <td>21,597.00</td>\n",
       "      <td>1.49</td>\n",
       "      <td>0.54</td>\n",
       "      <td>1.00</td>\n",
       "      <td>1.00</td>\n",
       "      <td>1.50</td>\n",
       "      <td>2.00</td>\n",
       "      <td>3.50</td>\n",
       "    </tr>\n",
       "    <tr>\n",
       "      <th>waterfront</th>\n",
       "      <td>float64</td>\n",
       "      <td>2</td>\n",
       "      <td>2376</td>\n",
       "      <td>0.11</td>\n",
       "      <td>19,221.00</td>\n",
       "      <td>0.01</td>\n",
       "      <td>0.09</td>\n",
       "      <td>0.00</td>\n",
       "      <td>0.00</td>\n",
       "      <td>0.00</td>\n",
       "      <td>0.00</td>\n",
       "      <td>1.00</td>\n",
       "    </tr>\n",
       "    <tr>\n",
       "      <th>view</th>\n",
       "      <td>float64</td>\n",
       "      <td>5</td>\n",
       "      <td>63</td>\n",
       "      <td>0.00</td>\n",
       "      <td>21,534.00</td>\n",
       "      <td>0.23</td>\n",
       "      <td>0.77</td>\n",
       "      <td>0.00</td>\n",
       "      <td>0.00</td>\n",
       "      <td>0.00</td>\n",
       "      <td>0.00</td>\n",
       "      <td>4.00</td>\n",
       "    </tr>\n",
       "    <tr>\n",
       "      <th>condition</th>\n",
       "      <td>int64</td>\n",
       "      <td>5</td>\n",
       "      <td>0</td>\n",
       "      <td>0.00</td>\n",
       "      <td>21,597.00</td>\n",
       "      <td>3.41</td>\n",
       "      <td>0.65</td>\n",
       "      <td>1.00</td>\n",
       "      <td>3.00</td>\n",
       "      <td>3.00</td>\n",
       "      <td>4.00</td>\n",
       "      <td>5.00</td>\n",
       "    </tr>\n",
       "    <tr>\n",
       "      <th>grade</th>\n",
       "      <td>int64</td>\n",
       "      <td>11</td>\n",
       "      <td>0</td>\n",
       "      <td>0.00</td>\n",
       "      <td>21,597.00</td>\n",
       "      <td>7.66</td>\n",
       "      <td>1.17</td>\n",
       "      <td>3.00</td>\n",
       "      <td>7.00</td>\n",
       "      <td>7.00</td>\n",
       "      <td>8.00</td>\n",
       "      <td>13.00</td>\n",
       "    </tr>\n",
       "    <tr>\n",
       "      <th>sqft_above</th>\n",
       "      <td>int64</td>\n",
       "      <td>942</td>\n",
       "      <td>0</td>\n",
       "      <td>0.00</td>\n",
       "      <td>21,597.00</td>\n",
       "      <td>1,788.60</td>\n",
       "      <td>827.76</td>\n",
       "      <td>370.00</td>\n",
       "      <td>1,190.00</td>\n",
       "      <td>1,560.00</td>\n",
       "      <td>2,210.00</td>\n",
       "      <td>9,410.00</td>\n",
       "    </tr>\n",
       "    <tr>\n",
       "      <th>sqft_basement</th>\n",
       "      <td>object</td>\n",
       "      <td>304</td>\n",
       "      <td>0</td>\n",
       "      <td>0.00</td>\n",
       "      <td>nan</td>\n",
       "      <td>nan</td>\n",
       "      <td>nan</td>\n",
       "      <td>nan</td>\n",
       "      <td>nan</td>\n",
       "      <td>nan</td>\n",
       "      <td>nan</td>\n",
       "      <td>nan</td>\n",
       "    </tr>\n",
       "    <tr>\n",
       "      <th>yr_built</th>\n",
       "      <td>int64</td>\n",
       "      <td>116</td>\n",
       "      <td>0</td>\n",
       "      <td>0.00</td>\n",
       "      <td>21,597.00</td>\n",
       "      <td>1,971.00</td>\n",
       "      <td>29.38</td>\n",
       "      <td>1,900.00</td>\n",
       "      <td>1,951.00</td>\n",
       "      <td>1,975.00</td>\n",
       "      <td>1,997.00</td>\n",
       "      <td>2,015.00</td>\n",
       "    </tr>\n",
       "    <tr>\n",
       "      <th>yr_renovated</th>\n",
       "      <td>float64</td>\n",
       "      <td>70</td>\n",
       "      <td>3842</td>\n",
       "      <td>0.18</td>\n",
       "      <td>17,755.00</td>\n",
       "      <td>83.64</td>\n",
       "      <td>399.95</td>\n",
       "      <td>0.00</td>\n",
       "      <td>0.00</td>\n",
       "      <td>0.00</td>\n",
       "      <td>0.00</td>\n",
       "      <td>2,015.00</td>\n",
       "    </tr>\n",
       "    <tr>\n",
       "      <th>zipcode</th>\n",
       "      <td>int64</td>\n",
       "      <td>70</td>\n",
       "      <td>0</td>\n",
       "      <td>0.00</td>\n",
       "      <td>21,597.00</td>\n",
       "      <td>98,077.95</td>\n",
       "      <td>53.51</td>\n",
       "      <td>98,001.00</td>\n",
       "      <td>98,033.00</td>\n",
       "      <td>98,065.00</td>\n",
       "      <td>98,118.00</td>\n",
       "      <td>98,199.00</td>\n",
       "    </tr>\n",
       "    <tr>\n",
       "      <th>lat</th>\n",
       "      <td>float64</td>\n",
       "      <td>5033</td>\n",
       "      <td>0</td>\n",
       "      <td>0.00</td>\n",
       "      <td>21,597.00</td>\n",
       "      <td>47.56</td>\n",
       "      <td>0.14</td>\n",
       "      <td>47.16</td>\n",
       "      <td>47.47</td>\n",
       "      <td>47.57</td>\n",
       "      <td>47.68</td>\n",
       "      <td>47.78</td>\n",
       "    </tr>\n",
       "    <tr>\n",
       "      <th>long</th>\n",
       "      <td>float64</td>\n",
       "      <td>751</td>\n",
       "      <td>0</td>\n",
       "      <td>0.00</td>\n",
       "      <td>21,597.00</td>\n",
       "      <td>-122.21</td>\n",
       "      <td>0.14</td>\n",
       "      <td>-122.52</td>\n",
       "      <td>-122.33</td>\n",
       "      <td>-122.23</td>\n",
       "      <td>-122.12</td>\n",
       "      <td>-121.31</td>\n",
       "    </tr>\n",
       "    <tr>\n",
       "      <th>sqft_living15</th>\n",
       "      <td>int64</td>\n",
       "      <td>777</td>\n",
       "      <td>0</td>\n",
       "      <td>0.00</td>\n",
       "      <td>21,597.00</td>\n",
       "      <td>1,986.62</td>\n",
       "      <td>685.23</td>\n",
       "      <td>399.00</td>\n",
       "      <td>1,490.00</td>\n",
       "      <td>1,840.00</td>\n",
       "      <td>2,360.00</td>\n",
       "      <td>6,210.00</td>\n",
       "    </tr>\n",
       "    <tr>\n",
       "      <th>sqft_lot15</th>\n",
       "      <td>int64</td>\n",
       "      <td>8682</td>\n",
       "      <td>0</td>\n",
       "      <td>0.00</td>\n",
       "      <td>21,597.00</td>\n",
       "      <td>12,758.28</td>\n",
       "      <td>27,274.44</td>\n",
       "      <td>651.00</td>\n",
       "      <td>5,100.00</td>\n",
       "      <td>7,620.00</td>\n",
       "      <td>10,083.00</td>\n",
       "      <td>871,200.00</td>\n",
       "    </tr>\n",
       "  </tbody>\n",
       "</table>\n",
       "</div>"
      ],
      "text/plain": [
       "              datatypes  num_unique  null_sum  null_pct     count       mean  \\\n",
       "date             object         372         0      0.00       nan        nan   \n",
       "price           float64        3622         0      0.00 21,597.00 540,296.57   \n",
       "bedrooms          int64          12         0      0.00 21,597.00       3.37   \n",
       "bathrooms       float64          29         0      0.00 21,597.00       2.12   \n",
       "sqft_living       int64        1034         0      0.00 21,597.00   2,080.32   \n",
       "sqft_lot          int64        9776         0      0.00 21,597.00  15,099.41   \n",
       "floors          float64           6         0      0.00 21,597.00       1.49   \n",
       "waterfront      float64           2      2376      0.11 19,221.00       0.01   \n",
       "view            float64           5        63      0.00 21,534.00       0.23   \n",
       "condition         int64           5         0      0.00 21,597.00       3.41   \n",
       "grade             int64          11         0      0.00 21,597.00       7.66   \n",
       "sqft_above        int64         942         0      0.00 21,597.00   1,788.60   \n",
       "sqft_basement    object         304         0      0.00       nan        nan   \n",
       "yr_built          int64         116         0      0.00 21,597.00   1,971.00   \n",
       "yr_renovated    float64          70      3842      0.18 17,755.00      83.64   \n",
       "zipcode           int64          70         0      0.00 21,597.00  98,077.95   \n",
       "lat             float64        5033         0      0.00 21,597.00      47.56   \n",
       "long            float64         751         0      0.00 21,597.00    -122.21   \n",
       "sqft_living15     int64         777         0      0.00 21,597.00   1,986.62   \n",
       "sqft_lot15        int64        8682         0      0.00 21,597.00  12,758.28   \n",
       "\n",
       "                     std       min        25%        50%        75%  \\\n",
       "date                 nan       nan        nan        nan        nan   \n",
       "price         367,368.14 78,000.00 322,000.00 450,000.00 645,000.00   \n",
       "bedrooms            0.93      1.00       3.00       3.00       4.00   \n",
       "bathrooms           0.77      0.50       1.75       2.25       2.50   \n",
       "sqft_living       918.11    370.00   1,430.00   1,910.00   2,550.00   \n",
       "sqft_lot       41,412.64    520.00   5,040.00   7,618.00  10,685.00   \n",
       "floors              0.54      1.00       1.00       1.50       2.00   \n",
       "waterfront          0.09      0.00       0.00       0.00       0.00   \n",
       "view                0.77      0.00       0.00       0.00       0.00   \n",
       "condition           0.65      1.00       3.00       3.00       4.00   \n",
       "grade               1.17      3.00       7.00       7.00       8.00   \n",
       "sqft_above        827.76    370.00   1,190.00   1,560.00   2,210.00   \n",
       "sqft_basement        nan       nan        nan        nan        nan   \n",
       "yr_built           29.38  1,900.00   1,951.00   1,975.00   1,997.00   \n",
       "yr_renovated      399.95      0.00       0.00       0.00       0.00   \n",
       "zipcode            53.51 98,001.00  98,033.00  98,065.00  98,118.00   \n",
       "lat                 0.14     47.16      47.47      47.57      47.68   \n",
       "long                0.14   -122.52    -122.33    -122.23    -122.12   \n",
       "sqft_living15     685.23    399.00   1,490.00   1,840.00   2,360.00   \n",
       "sqft_lot15     27,274.44    651.00   5,100.00   7,620.00  10,083.00   \n",
       "\n",
       "                       max  \n",
       "date                   nan  \n",
       "price         7,700,000.00  \n",
       "bedrooms             33.00  \n",
       "bathrooms             8.00  \n",
       "sqft_living      13,540.00  \n",
       "sqft_lot      1,651,359.00  \n",
       "floors                3.50  \n",
       "waterfront            1.00  \n",
       "view                  4.00  \n",
       "condition             5.00  \n",
       "grade                13.00  \n",
       "sqft_above        9,410.00  \n",
       "sqft_basement          nan  \n",
       "yr_built          2,015.00  \n",
       "yr_renovated      2,015.00  \n",
       "zipcode          98,199.00  \n",
       "lat                  47.78  \n",
       "long               -121.31  \n",
       "sqft_living15     6,210.00  \n",
       "sqft_lot15      871,200.00  "
      ]
     },
     "execution_count": 9,
     "metadata": {},
     "output_type": "execute_result"
    }
   ],
   "source": [
    "## Review summary of dataframe details\n",
    "report_df(df)"
   ]
  },
  {
   "cell_type": "markdown",
   "metadata": {
    "heading_collapsed": true,
    "hidden": true,
    "id": "wOmmqD7koDQi"
   },
   "source": [
    "## Data Cleaning and Processing"
   ]
  },
  {
   "cell_type": "code",
   "execution_count": null,
   "metadata": {
    "ExecuteTime": {
     "end_time": "2021-07-14T19:53:13.482966Z",
     "start_time": "2021-07-14T19:53:13.268963Z"
    },
    "hidden": true
   },
   "outputs": [],
   "source": [
    "## Creating a pairplot instead of the individual plots below\n",
    "# sns.pairplot(data=df,corner=True)\n",
    "# plt.show()"
   ]
  },
  {
   "cell_type": "markdown",
   "metadata": {
    "hidden": true,
    "id": "81U2WYpRsq14"
   },
   "source": [
    "---\n",
    "**DF Columns to Convert**\n",
    "\n",
    "* 'date' to datetime; continuous variable\n",
    "\n",
    "\n",
    "Potential Changes:\n",
    "\n",
    ">* 'waterfront' to category; nominal/binary variable\n",
    ">* 'view' to category; ordinal\n",
    ">* 'condition' to category; ordinal variable\n",
    ">* 'grade' to category; ordinal variable\n",
    ">* 'zipcode' to category; nominal variable\n",
    "\n",
    "\n",
    "---\n",
    "**Null Values to Process**\n",
    "\n",
    "Columns with null values:\n",
    "* 'yr_renovated'\n",
    "* 'waterfront\n",
    "* 'view'\n",
    "\n",
    "Options:\n",
    ">* Fill with mean/median/mode\n",
    ">* Fill with zeroes\n",
    ">\n",
    ">\n",
    ">* **PIPELINES!!!**\n",
    ">    * SimpleImputer\n",
    ">    * IterativeImputer *(Experimental)*\n",
    ">    * GridSearchCV for hyperparameter tuning\n",
    "\n",
    "---"
   ]
  },
  {
   "cell_type": "code",
   "execution_count": 14,
   "metadata": {
    "ExecuteTime": {
     "end_time": "2021-07-14T21:17:04.644728Z",
     "start_time": "2021-07-14T21:17:04.485731Z"
    },
    "colab": {
     "base_uri": "https://localhost:8080/"
    },
    "hidden": true,
    "id": "NK_VFrBh6-Q1",
    "outputId": "5cfa8293-6e19-435c-ddf8-84aa3ca622d7"
   },
   "outputs": [
    {
     "data": {
      "text/plain": [
       "id\n",
       "7129300520   2014-10-13\n",
       "6414100192   2014-12-09\n",
       "5631500400   2015-02-25\n",
       "2487200875   2014-12-09\n",
       "1954400510   2015-02-18\n",
       "                ...    \n",
       "263000018    2014-05-21\n",
       "6600060120   2015-02-23\n",
       "1523300141   2014-06-23\n",
       "291310100    2015-01-16\n",
       "1523300157   2014-10-15\n",
       "Name: date, Length: 21597, dtype: datetime64[ns]"
      ]
     },
     "execution_count": 14,
     "metadata": {},
     "output_type": "execute_result"
    }
   ],
   "source": [
    "## Converting 'date' column to datetime\n",
    "\n",
    "df['date'] = pd.to_datetime(df['date'])\n",
    "df['date']"
   ]
  },
  {
   "cell_type": "code",
   "execution_count": 15,
   "metadata": {
    "ExecuteTime": {
     "end_time": "2021-07-14T21:17:04.863728Z",
     "start_time": "2021-07-14T21:17:04.744728Z"
    },
    "colab": {
     "base_uri": "https://localhost:8080/"
    },
    "hidden": true,
    "id": "dBgOkFsVChMH",
    "outputId": "966e713c-4e28-44ee-bbab-129181812a3d"
   },
   "outputs": [
    {
     "data": {
      "text/plain": [
       "id\n",
       "7129300520     0.00\n",
       "6414100192   400.00\n",
       "5631500400     0.00\n",
       "2487200875   910.00\n",
       "1954400510     0.00\n",
       "              ...  \n",
       "263000018      0.00\n",
       "6600060120     0.00\n",
       "1523300141     0.00\n",
       "291310100      0.00\n",
       "1523300157     0.00\n",
       "Name: sqft_basement, Length: 21597, dtype: float64"
      ]
     },
     "execution_count": 15,
     "metadata": {},
     "output_type": "execute_result"
    }
   ],
   "source": [
    "## Converting 'sqft_basement' to numeric and filling any null values with zero\n",
    "\n",
    "df['sqft_basement'] = pd.to_numeric(df['sqft_basement'], errors='coerce')\n",
    "df['sqft_basement']"
   ]
  },
  {
   "cell_type": "code",
   "execution_count": 16,
   "metadata": {
    "ExecuteTime": {
     "end_time": "2021-07-14T21:17:05.082729Z",
     "start_time": "2021-07-14T21:17:04.960729Z"
    },
    "colab": {
     "base_uri": "https://localhost:8080/"
    },
    "hidden": true,
    "id": "nRe-PxjkAlUj",
    "outputId": "436d4e4e-f2b3-44db-a970-0d9b9fd2a986"
   },
   "outputs": [
    {
     "data": {
      "text/plain": [
       "[]"
      ]
     },
     "execution_count": 16,
     "metadata": {},
     "output_type": "execute_result"
    }
   ],
   "source": [
    "df_na_col = []\n",
    "for col in df:\n",
    "    if df[col].isna().sum() > 0:\n",
    "        df_na_col.append(col)\n",
    "\n",
    "df_na_col"
   ]
  },
  {
   "cell_type": "code",
   "execution_count": 17,
   "metadata": {
    "ExecuteTime": {
     "end_time": "2021-07-14T21:17:06.101729Z",
     "start_time": "2021-07-14T21:17:05.989734Z"
    },
    "hidden": true,
    "id": "Qoi1NkHIA9Ac"
   },
   "outputs": [],
   "source": [
    "for i in df_na_col:\n",
    "    df[i].fillna(df[i].mode()[0], inplace=True)"
   ]
  },
  {
   "cell_type": "code",
   "execution_count": 18,
   "metadata": {
    "ExecuteTime": {
     "end_time": "2021-07-14T21:17:06.460730Z",
     "start_time": "2021-07-14T21:17:06.258732Z"
    },
    "colab": {
     "base_uri": "https://localhost:8080/"
    },
    "hidden": true,
    "id": "Alb_l0T3Bhha",
    "outputId": "39f6a342-034b-4756-835a-bb262c119940"
   },
   "outputs": [
    {
     "name": "stdout",
     "output_type": "stream",
     "text": [
      "(21597, 20)\n"
     ]
    },
    {
     "data": {
      "text/html": [
       "<div>\n",
       "<style scoped>\n",
       "    .dataframe tbody tr th:only-of-type {\n",
       "        vertical-align: middle;\n",
       "    }\n",
       "\n",
       "    .dataframe tbody tr th {\n",
       "        vertical-align: top;\n",
       "    }\n",
       "\n",
       "    .dataframe thead th {\n",
       "        text-align: right;\n",
       "    }\n",
       "</style>\n",
       "<table border=\"1\" class=\"dataframe\">\n",
       "  <thead>\n",
       "    <tr style=\"text-align: right;\">\n",
       "      <th></th>\n",
       "      <th>datatypes</th>\n",
       "      <th>num_unique</th>\n",
       "      <th>null_sum</th>\n",
       "      <th>null_pct</th>\n",
       "      <th>count</th>\n",
       "      <th>mean</th>\n",
       "      <th>std</th>\n",
       "      <th>min</th>\n",
       "      <th>25%</th>\n",
       "      <th>50%</th>\n",
       "      <th>75%</th>\n",
       "      <th>max</th>\n",
       "    </tr>\n",
       "  </thead>\n",
       "  <tbody>\n",
       "    <tr>\n",
       "      <th>date</th>\n",
       "      <td>datetime64[ns]</td>\n",
       "      <td>372</td>\n",
       "      <td>0</td>\n",
       "      <td>0.00</td>\n",
       "      <td>nan</td>\n",
       "      <td>nan</td>\n",
       "      <td>nan</td>\n",
       "      <td>nan</td>\n",
       "      <td>nan</td>\n",
       "      <td>nan</td>\n",
       "      <td>nan</td>\n",
       "      <td>nan</td>\n",
       "    </tr>\n",
       "    <tr>\n",
       "      <th>price</th>\n",
       "      <td>float64</td>\n",
       "      <td>3622</td>\n",
       "      <td>0</td>\n",
       "      <td>0.00</td>\n",
       "      <td>21,597.00</td>\n",
       "      <td>540,296.57</td>\n",
       "      <td>367,368.14</td>\n",
       "      <td>78,000.00</td>\n",
       "      <td>322,000.00</td>\n",
       "      <td>450,000.00</td>\n",
       "      <td>645,000.00</td>\n",
       "      <td>7,700,000.00</td>\n",
       "    </tr>\n",
       "    <tr>\n",
       "      <th>bedrooms</th>\n",
       "      <td>int64</td>\n",
       "      <td>12</td>\n",
       "      <td>0</td>\n",
       "      <td>0.00</td>\n",
       "      <td>21,597.00</td>\n",
       "      <td>3.37</td>\n",
       "      <td>0.93</td>\n",
       "      <td>1.00</td>\n",
       "      <td>3.00</td>\n",
       "      <td>3.00</td>\n",
       "      <td>4.00</td>\n",
       "      <td>33.00</td>\n",
       "    </tr>\n",
       "    <tr>\n",
       "      <th>bathrooms</th>\n",
       "      <td>float64</td>\n",
       "      <td>29</td>\n",
       "      <td>0</td>\n",
       "      <td>0.00</td>\n",
       "      <td>21,597.00</td>\n",
       "      <td>2.12</td>\n",
       "      <td>0.77</td>\n",
       "      <td>0.50</td>\n",
       "      <td>1.75</td>\n",
       "      <td>2.25</td>\n",
       "      <td>2.50</td>\n",
       "      <td>8.00</td>\n",
       "    </tr>\n",
       "    <tr>\n",
       "      <th>sqft_living</th>\n",
       "      <td>int64</td>\n",
       "      <td>1034</td>\n",
       "      <td>0</td>\n",
       "      <td>0.00</td>\n",
       "      <td>21,597.00</td>\n",
       "      <td>2,080.32</td>\n",
       "      <td>918.11</td>\n",
       "      <td>370.00</td>\n",
       "      <td>1,430.00</td>\n",
       "      <td>1,910.00</td>\n",
       "      <td>2,550.00</td>\n",
       "      <td>13,540.00</td>\n",
       "    </tr>\n",
       "    <tr>\n",
       "      <th>sqft_lot</th>\n",
       "      <td>int64</td>\n",
       "      <td>9776</td>\n",
       "      <td>0</td>\n",
       "      <td>0.00</td>\n",
       "      <td>21,597.00</td>\n",
       "      <td>15,099.41</td>\n",
       "      <td>41,412.64</td>\n",
       "      <td>520.00</td>\n",
       "      <td>5,040.00</td>\n",
       "      <td>7,618.00</td>\n",
       "      <td>10,685.00</td>\n",
       "      <td>1,651,359.00</td>\n",
       "    </tr>\n",
       "    <tr>\n",
       "      <th>floors</th>\n",
       "      <td>float64</td>\n",
       "      <td>6</td>\n",
       "      <td>0</td>\n",
       "      <td>0.00</td>\n",
       "      <td>21,597.00</td>\n",
       "      <td>1.49</td>\n",
       "      <td>0.54</td>\n",
       "      <td>1.00</td>\n",
       "      <td>1.00</td>\n",
       "      <td>1.50</td>\n",
       "      <td>2.00</td>\n",
       "      <td>3.50</td>\n",
       "    </tr>\n",
       "    <tr>\n",
       "      <th>waterfront</th>\n",
       "      <td>float64</td>\n",
       "      <td>2</td>\n",
       "      <td>0</td>\n",
       "      <td>0.00</td>\n",
       "      <td>21,597.00</td>\n",
       "      <td>0.01</td>\n",
       "      <td>0.08</td>\n",
       "      <td>0.00</td>\n",
       "      <td>0.00</td>\n",
       "      <td>0.00</td>\n",
       "      <td>0.00</td>\n",
       "      <td>1.00</td>\n",
       "    </tr>\n",
       "    <tr>\n",
       "      <th>view</th>\n",
       "      <td>float64</td>\n",
       "      <td>5</td>\n",
       "      <td>0</td>\n",
       "      <td>0.00</td>\n",
       "      <td>21,597.00</td>\n",
       "      <td>0.23</td>\n",
       "      <td>0.76</td>\n",
       "      <td>0.00</td>\n",
       "      <td>0.00</td>\n",
       "      <td>0.00</td>\n",
       "      <td>0.00</td>\n",
       "      <td>4.00</td>\n",
       "    </tr>\n",
       "    <tr>\n",
       "      <th>condition</th>\n",
       "      <td>int64</td>\n",
       "      <td>5</td>\n",
       "      <td>0</td>\n",
       "      <td>0.00</td>\n",
       "      <td>21,597.00</td>\n",
       "      <td>3.41</td>\n",
       "      <td>0.65</td>\n",
       "      <td>1.00</td>\n",
       "      <td>3.00</td>\n",
       "      <td>3.00</td>\n",
       "      <td>4.00</td>\n",
       "      <td>5.00</td>\n",
       "    </tr>\n",
       "    <tr>\n",
       "      <th>grade</th>\n",
       "      <td>int64</td>\n",
       "      <td>11</td>\n",
       "      <td>0</td>\n",
       "      <td>0.00</td>\n",
       "      <td>21,597.00</td>\n",
       "      <td>7.66</td>\n",
       "      <td>1.17</td>\n",
       "      <td>3.00</td>\n",
       "      <td>7.00</td>\n",
       "      <td>7.00</td>\n",
       "      <td>8.00</td>\n",
       "      <td>13.00</td>\n",
       "    </tr>\n",
       "    <tr>\n",
       "      <th>sqft_above</th>\n",
       "      <td>int64</td>\n",
       "      <td>942</td>\n",
       "      <td>0</td>\n",
       "      <td>0.00</td>\n",
       "      <td>21,597.00</td>\n",
       "      <td>1,788.60</td>\n",
       "      <td>827.76</td>\n",
       "      <td>370.00</td>\n",
       "      <td>1,190.00</td>\n",
       "      <td>1,560.00</td>\n",
       "      <td>2,210.00</td>\n",
       "      <td>9,410.00</td>\n",
       "    </tr>\n",
       "    <tr>\n",
       "      <th>sqft_basement</th>\n",
       "      <td>float64</td>\n",
       "      <td>303</td>\n",
       "      <td>0</td>\n",
       "      <td>0.00</td>\n",
       "      <td>21,597.00</td>\n",
       "      <td>285.72</td>\n",
       "      <td>439.82</td>\n",
       "      <td>0.00</td>\n",
       "      <td>0.00</td>\n",
       "      <td>0.00</td>\n",
       "      <td>550.00</td>\n",
       "      <td>4,820.00</td>\n",
       "    </tr>\n",
       "    <tr>\n",
       "      <th>yr_built</th>\n",
       "      <td>int64</td>\n",
       "      <td>116</td>\n",
       "      <td>0</td>\n",
       "      <td>0.00</td>\n",
       "      <td>21,597.00</td>\n",
       "      <td>1,971.00</td>\n",
       "      <td>29.38</td>\n",
       "      <td>1,900.00</td>\n",
       "      <td>1,951.00</td>\n",
       "      <td>1,975.00</td>\n",
       "      <td>1,997.00</td>\n",
       "      <td>2,015.00</td>\n",
       "    </tr>\n",
       "    <tr>\n",
       "      <th>yr_renovated</th>\n",
       "      <td>float64</td>\n",
       "      <td>70</td>\n",
       "      <td>0</td>\n",
       "      <td>0.00</td>\n",
       "      <td>21,597.00</td>\n",
       "      <td>68.76</td>\n",
       "      <td>364.04</td>\n",
       "      <td>0.00</td>\n",
       "      <td>0.00</td>\n",
       "      <td>0.00</td>\n",
       "      <td>0.00</td>\n",
       "      <td>2,015.00</td>\n",
       "    </tr>\n",
       "    <tr>\n",
       "      <th>zipcode</th>\n",
       "      <td>int64</td>\n",
       "      <td>70</td>\n",
       "      <td>0</td>\n",
       "      <td>0.00</td>\n",
       "      <td>21,597.00</td>\n",
       "      <td>98,077.95</td>\n",
       "      <td>53.51</td>\n",
       "      <td>98,001.00</td>\n",
       "      <td>98,033.00</td>\n",
       "      <td>98,065.00</td>\n",
       "      <td>98,118.00</td>\n",
       "      <td>98,199.00</td>\n",
       "    </tr>\n",
       "    <tr>\n",
       "      <th>lat</th>\n",
       "      <td>float64</td>\n",
       "      <td>5033</td>\n",
       "      <td>0</td>\n",
       "      <td>0.00</td>\n",
       "      <td>21,597.00</td>\n",
       "      <td>47.56</td>\n",
       "      <td>0.14</td>\n",
       "      <td>47.16</td>\n",
       "      <td>47.47</td>\n",
       "      <td>47.57</td>\n",
       "      <td>47.68</td>\n",
       "      <td>47.78</td>\n",
       "    </tr>\n",
       "    <tr>\n",
       "      <th>long</th>\n",
       "      <td>float64</td>\n",
       "      <td>751</td>\n",
       "      <td>0</td>\n",
       "      <td>0.00</td>\n",
       "      <td>21,597.00</td>\n",
       "      <td>-122.21</td>\n",
       "      <td>0.14</td>\n",
       "      <td>-122.52</td>\n",
       "      <td>-122.33</td>\n",
       "      <td>-122.23</td>\n",
       "      <td>-122.12</td>\n",
       "      <td>-121.31</td>\n",
       "    </tr>\n",
       "    <tr>\n",
       "      <th>sqft_living15</th>\n",
       "      <td>int64</td>\n",
       "      <td>777</td>\n",
       "      <td>0</td>\n",
       "      <td>0.00</td>\n",
       "      <td>21,597.00</td>\n",
       "      <td>1,986.62</td>\n",
       "      <td>685.23</td>\n",
       "      <td>399.00</td>\n",
       "      <td>1,490.00</td>\n",
       "      <td>1,840.00</td>\n",
       "      <td>2,360.00</td>\n",
       "      <td>6,210.00</td>\n",
       "    </tr>\n",
       "    <tr>\n",
       "      <th>sqft_lot15</th>\n",
       "      <td>int64</td>\n",
       "      <td>8682</td>\n",
       "      <td>0</td>\n",
       "      <td>0.00</td>\n",
       "      <td>21,597.00</td>\n",
       "      <td>12,758.28</td>\n",
       "      <td>27,274.44</td>\n",
       "      <td>651.00</td>\n",
       "      <td>5,100.00</td>\n",
       "      <td>7,620.00</td>\n",
       "      <td>10,083.00</td>\n",
       "      <td>871,200.00</td>\n",
       "    </tr>\n",
       "  </tbody>\n",
       "</table>\n",
       "</div>"
      ],
      "text/plain": [
       "                    datatypes  num_unique  null_sum  null_pct     count  \\\n",
       "date           datetime64[ns]         372         0      0.00       nan   \n",
       "price                 float64        3622         0      0.00 21,597.00   \n",
       "bedrooms                int64          12         0      0.00 21,597.00   \n",
       "bathrooms             float64          29         0      0.00 21,597.00   \n",
       "sqft_living             int64        1034         0      0.00 21,597.00   \n",
       "sqft_lot                int64        9776         0      0.00 21,597.00   \n",
       "floors                float64           6         0      0.00 21,597.00   \n",
       "waterfront            float64           2         0      0.00 21,597.00   \n",
       "view                  float64           5         0      0.00 21,597.00   \n",
       "condition               int64           5         0      0.00 21,597.00   \n",
       "grade                   int64          11         0      0.00 21,597.00   \n",
       "sqft_above              int64         942         0      0.00 21,597.00   \n",
       "sqft_basement         float64         303         0      0.00 21,597.00   \n",
       "yr_built                int64         116         0      0.00 21,597.00   \n",
       "yr_renovated          float64          70         0      0.00 21,597.00   \n",
       "zipcode                 int64          70         0      0.00 21,597.00   \n",
       "lat                   float64        5033         0      0.00 21,597.00   \n",
       "long                  float64         751         0      0.00 21,597.00   \n",
       "sqft_living15           int64         777         0      0.00 21,597.00   \n",
       "sqft_lot15              int64        8682         0      0.00 21,597.00   \n",
       "\n",
       "                    mean        std       min        25%        50%  \\\n",
       "date                 nan        nan       nan        nan        nan   \n",
       "price         540,296.57 367,368.14 78,000.00 322,000.00 450,000.00   \n",
       "bedrooms            3.37       0.93      1.00       3.00       3.00   \n",
       "bathrooms           2.12       0.77      0.50       1.75       2.25   \n",
       "sqft_living     2,080.32     918.11    370.00   1,430.00   1,910.00   \n",
       "sqft_lot       15,099.41  41,412.64    520.00   5,040.00   7,618.00   \n",
       "floors              1.49       0.54      1.00       1.00       1.50   \n",
       "waterfront          0.01       0.08      0.00       0.00       0.00   \n",
       "view                0.23       0.76      0.00       0.00       0.00   \n",
       "condition           3.41       0.65      1.00       3.00       3.00   \n",
       "grade               7.66       1.17      3.00       7.00       7.00   \n",
       "sqft_above      1,788.60     827.76    370.00   1,190.00   1,560.00   \n",
       "sqft_basement     285.72     439.82      0.00       0.00       0.00   \n",
       "yr_built        1,971.00      29.38  1,900.00   1,951.00   1,975.00   \n",
       "yr_renovated       68.76     364.04      0.00       0.00       0.00   \n",
       "zipcode        98,077.95      53.51 98,001.00  98,033.00  98,065.00   \n",
       "lat                47.56       0.14     47.16      47.47      47.57   \n",
       "long             -122.21       0.14   -122.52    -122.33    -122.23   \n",
       "sqft_living15   1,986.62     685.23    399.00   1,490.00   1,840.00   \n",
       "sqft_lot15     12,758.28  27,274.44    651.00   5,100.00   7,620.00   \n",
       "\n",
       "                     75%          max  \n",
       "date                 nan          nan  \n",
       "price         645,000.00 7,700,000.00  \n",
       "bedrooms            4.00        33.00  \n",
       "bathrooms           2.50         8.00  \n",
       "sqft_living     2,550.00    13,540.00  \n",
       "sqft_lot       10,685.00 1,651,359.00  \n",
       "floors              2.00         3.50  \n",
       "waterfront          0.00         1.00  \n",
       "view                0.00         4.00  \n",
       "condition           4.00         5.00  \n",
       "grade               8.00        13.00  \n",
       "sqft_above      2,210.00     9,410.00  \n",
       "sqft_basement     550.00     4,820.00  \n",
       "yr_built        1,997.00     2,015.00  \n",
       "yr_renovated        0.00     2,015.00  \n",
       "zipcode        98,118.00    98,199.00  \n",
       "lat                47.68        47.78  \n",
       "long             -122.12      -121.31  \n",
       "sqft_living15   2,360.00     6,210.00  \n",
       "sqft_lot15     10,083.00   871,200.00  "
      ]
     },
     "execution_count": 18,
     "metadata": {},
     "output_type": "execute_result"
    }
   ],
   "source": [
    "report_df(df)"
   ]
  },
  {
   "cell_type": "markdown",
   "metadata": {
    "heading_collapsed": true,
    "hidden": true,
    "id": "jxVD4Vyosq14"
   },
   "source": [
    "### Overview Summary"
   ]
  },
  {
   "cell_type": "markdown",
   "metadata": {
    "hidden": true,
    "id": "xFgxYi-Ysq14"
   },
   "source": [
    "The dataset contains 20 columns of data, most of which seem useful for evaluations and modeling.\n",
    "\n",
    "I manually fixed null values at this stage - I will start the pipeline later on.\n",
    "\n",
    "After processing, I do not have any null values and all of the datatypes are correct (I can convert some columns into the \"category\" datatype for analysis later, if needed)."
   ]
  },
  {
   "cell_type": "markdown",
   "metadata": {
    "heading_collapsed": true,
    "hidden": true,
    "id": "yr_BhpeHsq14"
   },
   "source": [
    "## Exploring Features"
   ]
  },
  {
   "cell_type": "markdown",
   "metadata": {
    "hidden": true,
    "id": "LMn26MgRsq14"
   },
   "source": [
    "Now I will be comparing each individual feature against \"price\" to determine if a feature is continuous or categorical.\n",
    "\n",
    "I will check the regressions and histograms for each feature; if a regression plot shows a flatter regression line or if the histogram is not a normal distribution, I will treat that feature as a categorical feature.\n",
    "\n",
    "As part of the function to create the plots, I include my function to ignore any outliers for the purpose of the visualizations. I will *not* change the data itself, though."
   ]
  },
  {
   "cell_type": "markdown",
   "metadata": {
    "hidden": true
   },
   "source": [
    "\n",
    "| Feature Names<a name='features'></a> | Feature Names  |\n",
    "| ------------ | ------------- |\n",
    "| [Bedrooms](#bedrooms)     | [Sqft_above](#above)    |\n",
    "| [Bathrooms](#bathrooms)    | [Sqft_basement](#base) |\n",
    "| [Sqft_living](#living)  | [Yr_built](#built)      |\n",
    "| [Sqft_lot](#lot)     | [Yr_renovated](#reno)  |\n",
    "| [Floors](#floors)       | [Zipcode](#zip)       |\n",
    "| [Waterfront](#wf)   | [Lat](#lat)           |\n",
    "| [View](#view)         | [Long](#long)          |\n",
    "| [Condition](#cond)    | [Sqft_living15](#living15)    |\n",
    "| [Grade](#grade)        | [Sqft_lot15](#lot15)    |"
   ]
  },
  {
   "cell_type": "markdown",
   "metadata": {
    "hidden": true,
    "id": "esH0MiIUsq14"
   },
   "source": [
    "**Bedrooms** <a name=\"bedrooms\"></a> [🔝](#features)"
   ]
  },
  {
   "cell_type": "code",
   "execution_count": null,
   "metadata": {
    "ExecuteTime": {
     "end_time": "2021-07-14T19:53:16.654971Z",
     "start_time": "2021-07-14T19:53:15.011979Z"
    },
    "hidden": true,
    "id": "71XLgj2isq15",
    "outputId": "935aaf0c-4523-4be1-e154-f9af9653bf40"
   },
   "outputs": [],
   "source": [
    "show_cleaned_vis(data=df,x='bedrooms', categorical=True, kde = False)"
   ]
  },
  {
   "cell_type": "markdown",
   "metadata": {
    "hidden": true,
    "id": "EIKLDVvVsq15"
   },
   "source": [
    "***\n",
    "**Observations**\n",
    ">* There is a slight linear regression between the number of bedrooms and the sell price, indicated by the positive slope of the regression line.\n",
    ">\n",
    ">\n",
    ">* The histogram slightly resembles a normal distribution, although the first and last bins are lower than I would expect for a normal distribution.\n",
    "\n",
    "***\n",
    "**TO-DO**\n",
    ">* Use `'bedrooms'` as a categorical variable.\n",
    "***"
   ]
  },
  {
   "cell_type": "markdown",
   "metadata": {
    "hidden": true,
    "id": "2PoQcwoMsq15"
   },
   "source": [
    "**Bathrooms** <a name=\"bathrooms\"></a> [🔝](#features)"
   ]
  },
  {
   "cell_type": "code",
   "execution_count": null,
   "metadata": {
    "ExecuteTime": {
     "end_time": "2021-07-14T19:53:18.278003Z",
     "start_time": "2021-07-14T19:53:16.656971Z"
    },
    "hidden": true,
    "id": "uTpdKmEQsq15",
    "outputId": "929c2b48-248b-4065-9153-364279aa73ac",
    "scrolled": false
   },
   "outputs": [],
   "source": [
    "show_cleaned_vis(df,\"bathrooms\", categorical=True, kde=False)"
   ]
  },
  {
   "cell_type": "markdown",
   "metadata": {
    "hidden": true,
    "id": "JqSGJlJXsq15"
   },
   "source": [
    "***\n",
    "**Observations**\n",
    ">* There is a clear linear relationship between bathrooms and price.\n",
    ">\n",
    ">\n",
    ">* The histogram/normal distribution isn't the strongest, particularly for the larger number of bathrooms.\n",
    "\n",
    "***\n",
    "**TO-DO**\n",
    ">\n",
    ">* Similar to bedrooms, the values for number of bathrooms are discrete and fall into specific values. This indicates that the feature is categorical.\n",
    "*** "
   ]
  },
  {
   "cell_type": "markdown",
   "metadata": {
    "hidden": true,
    "id": "yhXyxOvesq15"
   },
   "source": [
    "**Sqft_living** <a name=\"living\"></a> [🔝](#features)"
   ]
  },
  {
   "cell_type": "code",
   "execution_count": null,
   "metadata": {
    "ExecuteTime": {
     "end_time": "2021-07-14T19:53:20.132974Z",
     "start_time": "2021-07-14T19:53:18.279980Z"
    },
    "hidden": true,
    "id": "_2Cv_c8gsq16",
    "outputId": "ae5b0f3d-632a-46de-c90d-9bafc61a53e9"
   },
   "outputs": [],
   "source": [
    "show_cleaned_vis(df,\"sqft_living\")"
   ]
  },
  {
   "cell_type": "markdown",
   "metadata": {
    "hidden": true,
    "id": "rCamjs1Csq17"
   },
   "source": [
    "***\n",
    "**Observations**\n",
    "\n",
    ">* There is a clear linear relationship, although the distribution is slightly skewed to the right, indicating it's not a perfect normal distribution.\n",
    ">\n",
    ">\n",
    ">* As the values are spread across the whole range, this feature is clearly a continuous variable.\n",
    "\n",
    "***\n",
    "\n",
    "**To-Do**\n",
    "\n",
    ">* Use as continuous variable\n",
    "***\n"
   ]
  },
  {
   "cell_type": "markdown",
   "metadata": {
    "hidden": true,
    "id": "zSq414W9sq17"
   },
   "source": [
    "**Sqft_lot** <a name=\"lot\"></a>"
   ]
  },
  {
   "cell_type": "code",
   "execution_count": null,
   "metadata": {
    "ExecuteTime": {
     "end_time": "2021-07-14T19:53:21.833980Z",
     "start_time": "2021-07-14T19:53:20.134983Z"
    },
    "hidden": true,
    "id": "mt-YYo6Gsq17",
    "outputId": "c1ebdfcd-0cb6-452b-f3f2-3741dc4883d0"
   },
   "outputs": [],
   "source": [
    "show_cleaned_vis(df,\"sqft_lot\")"
   ]
  },
  {
   "cell_type": "markdown",
   "metadata": {
    "hidden": true,
    "id": "Ckn113g_sq17"
   },
   "source": [
    "***\n",
    "**Observations**\n",
    "\n",
    ">* Weak linear relationship with price; distribution skewed right.\n",
    "***\n",
    "\n",
    "**To-Do**\n",
    "\n",
    ">* Treat as continuous variable as the values are spread out across the whole range.\n",
    "\n",
    "***"
   ]
  },
  {
   "cell_type": "markdown",
   "metadata": {
    "hidden": true,
    "id": "KJN32UMQsq18"
   },
   "source": [
    "**Floors** <a name=\"floors\"></a> [🔝](#features)"
   ]
  },
  {
   "cell_type": "code",
   "execution_count": null,
   "metadata": {
    "ExecuteTime": {
     "end_time": "2021-07-14T19:53:23.589981Z",
     "start_time": "2021-07-14T19:53:21.835994Z"
    },
    "hidden": true,
    "id": "SX_3n2SHsq18",
    "outputId": "016730e9-f040-44df-b385-27583b677b6b"
   },
   "outputs": [],
   "source": [
    "show_cleaned_vis(df,\"floors\", kde=False)"
   ]
  },
  {
   "cell_type": "markdown",
   "metadata": {
    "hidden": true,
    "id": "1uS1Lb5tsq18"
   },
   "source": [
    "***\n",
    "**Observations**\n",
    "\n",
    ">* Linear relationship, but clearly categorical as the values fall into specific categories ranging from 1-3.5\n",
    ">\n",
    ">* Most homes had one or two floors.\n",
    "\n",
    "***\n",
    "**To-Do**\n",
    "\n",
    ">* Treat as categorical variable.\n",
    " \n",
    "***"
   ]
  },
  {
   "cell_type": "markdown",
   "metadata": {
    "hidden": true,
    "id": "uKYMc5wOsq19"
   },
   "source": [
    "**Waterfront** <a name=\"wf\"></a> [🔝](#features)"
   ]
  },
  {
   "cell_type": "code",
   "execution_count": null,
   "metadata": {
    "ExecuteTime": {
     "end_time": "2021-07-14T19:53:25.129984Z",
     "start_time": "2021-07-14T19:53:23.591986Z"
    },
    "hidden": true,
    "id": "YcdNRh3Csq19",
    "outputId": "58a2e2e3-e332-4e6c-b49e-39ccedd63c4e",
    "scrolled": false
   },
   "outputs": [],
   "source": [
    "feature_vis(df,\"waterfront\", categorical=True, kde=False)"
   ]
  },
  {
   "cell_type": "markdown",
   "metadata": {
    "hidden": true,
    "id": "WEdL6h4nsq19"
   },
   "source": [
    "***\n",
    "**Observations**\n",
    "\n",
    ">* Graphs are misleading - clearly binary variable with a slight linear relationship.\n",
    ">\n",
    ">\n",
    ">* Most properties are non-waterfront.\n",
    ">\n",
    ">\n",
    ">* Clear linear relationship, but not normally distributed\n",
    "\n",
    "***\n",
    "**To-Do**\n",
    "\n",
    ">* Treat as categorical - only two options (0 or 1).\n",
    " \n",
    "***"
   ]
  },
  {
   "cell_type": "markdown",
   "metadata": {
    "hidden": true,
    "id": "qCVzAq8esq19"
   },
   "source": [
    "**View** <a name=\"view\"></a> [🔝](#features)"
   ]
  },
  {
   "cell_type": "code",
   "execution_count": null,
   "metadata": {
    "ExecuteTime": {
     "end_time": "2021-07-14T19:53:26.673988Z",
     "start_time": "2021-07-14T19:53:25.131985Z"
    },
    "hidden": true,
    "id": "8iQdM8agsq19",
    "outputId": "ca94d504-1046-4a59-ce71-90fded2be326",
    "scrolled": false
   },
   "outputs": [],
   "source": [
    "feature_vis(df,\"view\", categorical=True, kde=False)"
   ]
  },
  {
   "cell_type": "markdown",
   "metadata": {
    "hidden": true,
    "id": "Dz1VgSkvsq1-"
   },
   "source": [
    "***\n",
    "**Observations**\n",
    "\n",
    ">* Slight linear relationship - higher \"view\" rating, higher price\n",
    ">\n",
    ">\n",
    ">* Most homes have '0' view\n",
    ">\n",
    ">\n",
    ">* A few extreme outliers in pricing (for values 2, 3, and 4s)\n",
    "\n",
    "***\n",
    "**To-Do**\n",
    "\n",
    ">* Treat as categorical\n",
    " \n",
    "***"
   ]
  },
  {
   "cell_type": "markdown",
   "metadata": {
    "hidden": true,
    "id": "OFK6Oe3Nsq1-"
   },
   "source": [
    "**Condition** <a name=\"cond\"></a> [🔝](#features)"
   ]
  },
  {
   "cell_type": "code",
   "execution_count": null,
   "metadata": {
    "ExecuteTime": {
     "end_time": "2021-07-14T19:53:28.492992Z",
     "start_time": "2021-07-14T19:53:26.675988Z"
    },
    "hidden": true,
    "id": "MfMn5q0esq1-",
    "outputId": "4f558c05-ac1f-4ee1-eaa9-739d6242757a",
    "scrolled": false
   },
   "outputs": [],
   "source": [
    "show_cleaned_vis(df,\"condition\", categorical=True, kde= False)"
   ]
  },
  {
   "cell_type": "markdown",
   "metadata": {
    "hidden": true,
    "id": "qgI1_0Umsq1-"
   },
   "source": [
    "***\n",
    "**Observations**\n",
    "\n",
    ">* Largest number of homes sold were in condition 3, followed by condition 4.\n",
    ">\n",
    ">\n",
    ">* Very few homes sold with conditions of 1s or 2s.\n",
    ">\n",
    ">\n",
    ">* Price outliers in 4.0 area, some slight outliers in 2 and 3\n",
    ">\n",
    ">\n",
    ">* No linear relationship, not normal distribution.\n",
    "\n",
    "***\n",
    "**TO-DO**\n",
    "\n",
    ">* Treat as categorical\n",
    " \n",
    "***"
   ]
  },
  {
   "cell_type": "markdown",
   "metadata": {
    "hidden": true,
    "id": "ShUVl0iisq1_"
   },
   "source": [
    "**Grade** <a name=\"grade\"></a> [🔝](#features)"
   ]
  },
  {
   "cell_type": "code",
   "execution_count": null,
   "metadata": {
    "ExecuteTime": {
     "end_time": "2021-07-14T19:53:30.221995Z",
     "start_time": "2021-07-14T19:53:28.496992Z"
    },
    "hidden": true,
    "id": "RfuwzUUfsq1_",
    "outputId": "e71c43ff-9fc2-4dad-9ae3-ccd7e3c4ad34",
    "scrolled": false
   },
   "outputs": [],
   "source": [
    "show_cleaned_vis(df,\"grade\", kde=False)"
   ]
  },
  {
   "cell_type": "markdown",
   "metadata": {
    "hidden": true,
    "id": "LA6v2PInsq1_"
   },
   "source": [
    "**Observations**\n",
    "\n",
    ">* Clear linear trend - as grade increases, so does price\n",
    ">\n",
    ">\n",
    ">* Grades range from 6-9\n",
    ">\n",
    ">\n",
    ">* Price outliers for grades 7 and 8\n",
    "\n",
    "---\n",
    "**To-Do**\n",
    "\n",
    ">* Treat as categorical variable\n"
   ]
  },
  {
   "cell_type": "markdown",
   "metadata": {
    "hidden": true,
    "id": "RR77jhqZsq2A"
   },
   "source": [
    "**Sqft_above** <a name=\"above\"></a> [🔝](#features)"
   ]
  },
  {
   "cell_type": "code",
   "execution_count": null,
   "metadata": {
    "ExecuteTime": {
     "end_time": "2021-07-14T19:53:32.390000Z",
     "start_time": "2021-07-14T19:53:30.225001Z"
    },
    "hidden": true,
    "id": "DHsYgwg8sq2A",
    "outputId": "795cfa4e-6c86-44a2-e12e-24b373d1d9de",
    "scrolled": false
   },
   "outputs": [],
   "source": [
    "show_cleaned_vis(df,\"sqft_above\")"
   ]
  },
  {
   "cell_type": "markdown",
   "metadata": {
    "hidden": true,
    "id": "Ceio_9Hxsq2A"
   },
   "source": [
    "---\n",
    "\n",
    "**Observations**\n",
    "\n",
    ">* Outliers impacting accuracy of linear regression, but still seems relatively linear.\n",
    ">\n",
    ">\n",
    ">* Distribution skewed right, but otherwise normal\n",
    "---\n",
    "**TO-DO**\n",
    "\n",
    ">* Treat as continuous\n",
    "---"
   ]
  },
  {
   "cell_type": "markdown",
   "metadata": {
    "hidden": true,
    "id": "mV_Ai-awsq2B"
   },
   "source": [
    "**Sqft_basement** <a name=\"base\"></a>[🔝](#features)"
   ]
  },
  {
   "cell_type": "code",
   "execution_count": null,
   "metadata": {
    "ExecuteTime": {
     "end_time": "2021-07-14T19:53:34.168031Z",
     "start_time": "2021-07-14T19:53:32.393000Z"
    },
    "hidden": true,
    "id": "AdhxJs8Dsq2B",
    "outputId": "65dc3e4a-deec-46e9-e0f8-63d9a5eb2a0b",
    "scrolled": false
   },
   "outputs": [],
   "source": [
    "show_cleaned_vis(df,\"sqft_basement\")"
   ]
  },
  {
   "cell_type": "markdown",
   "metadata": {
    "hidden": true,
    "id": "RtQWfKTNsq2B"
   },
   "source": [
    "---\n",
    "**Observations**\n",
    "\n",
    ">* There is a very large number of 0 ft$^2$ basements, indicating that these homes do not have a basement\n",
    ">\n",
    ">\n",
    ">* There are scattered outliers in pricing\n",
    ">\n",
    ">\n",
    ">* The regression is poor due to the large number of 0 values\n",
    "\n",
    "---\n",
    "**To-Do**\n",
    "\n",
    ">* Treat as a continuous variable\n",
    ">\n",
    ">\n",
    ">* Can create new categorical, binary variable to indicate whether or not a house has a basement to measure the impact on price.\n",
    "---"
   ]
  },
  {
   "cell_type": "markdown",
   "metadata": {
    "hidden": true,
    "id": "9rFbdTozsq2B"
   },
   "source": [
    "**Yr_built** <a name=\"built\"></a> [🔝](#features)"
   ]
  },
  {
   "cell_type": "code",
   "execution_count": null,
   "metadata": {
    "ExecuteTime": {
     "end_time": "2021-07-14T19:53:35.956004Z",
     "start_time": "2021-07-14T19:53:34.170003Z"
    },
    "hidden": true,
    "id": "gM1k8hcKsq2C",
    "outputId": "8760fecc-dc75-4bf1-ff0c-33232173dbd7",
    "scrolled": false
   },
   "outputs": [],
   "source": [
    "show_cleaned_vis(df,\"yr_built\")"
   ]
  },
  {
   "cell_type": "markdown",
   "metadata": {
    "hidden": true,
    "id": "2dMEm9GJsq2C"
   },
   "source": [
    "---\n",
    "**Observations**\n",
    "\n",
    ">* No linear trend from this regression plot\n",
    ">\n",
    ">* Seems like may houses built between 1940 - 1970, then major boom in early 2000s.\n",
    ">\n",
    ">* Some significant outliers in price, but not enough to  impact the regression\n",
    "---\n",
    "\n",
    "**To-Do**\n",
    "\n",
    ">* Compare year built to year sold - how old was the house at sale?\n",
    ">\n",
    ">\n",
    ">* Potentially discretize for analysis.\n",
    "---"
   ]
  },
  {
   "cell_type": "markdown",
   "metadata": {
    "hidden": true,
    "id": "ZSfdRI4Fsq2C"
   },
   "source": [
    "**Yr_renovated** <a name=\"reno\"></a> [🔝](#features)"
   ]
  },
  {
   "cell_type": "code",
   "execution_count": null,
   "metadata": {
    "ExecuteTime": {
     "end_time": "2021-07-14T19:53:37.641007Z",
     "start_time": "2021-07-14T19:53:35.958007Z"
    },
    "hidden": true,
    "id": "bzlSV8vTsq2C",
    "outputId": "45c0cf96-4296-45e9-a3ac-3764ec924fd3",
    "scrolled": false
   },
   "outputs": [],
   "source": [
    "feature_vis(df,'yr_renovated', kde=False)"
   ]
  },
  {
   "cell_type": "markdown",
   "metadata": {
    "hidden": true,
    "id": "1oGuuSiZsq2C"
   },
   "source": [
    "---\n",
    "**Observations**\n",
    "\n",
    ">* Number of houses not renovated significantly outweighs the number renovated\n",
    ">\n",
    ">\n",
    ">* Graphs indicate that an engineered feature for whether or not the house was renovated would be worthwhile.\n",
    "\n",
    "---\n",
    "**To-Do**\n",
    "\n",
    ">* Create new categorical feature - renovated or not\n",
    "---"
   ]
  },
  {
   "cell_type": "markdown",
   "metadata": {
    "hidden": true,
    "id": "x8HlMm5zsq2C"
   },
   "source": [
    "**Zipcode** <a name=\"zip\"></a> [🔝](#features)"
   ]
  },
  {
   "cell_type": "code",
   "execution_count": null,
   "metadata": {
    "ExecuteTime": {
     "end_time": "2021-07-14T19:53:39.698012Z",
     "start_time": "2021-07-14T19:53:37.643009Z"
    },
    "hidden": true,
    "id": "QE6O2kLnsq2C",
    "outputId": "3ec0d472-458f-445e-a323-333a62154e85",
    "scrolled": false
   },
   "outputs": [],
   "source": [
    "show_cleaned_vis(df,\"zipcode\", categorical=True, kde=False)"
   ]
  },
  {
   "cell_type": "markdown",
   "metadata": {
    "hidden": true,
    "id": "6-P7OXcasq2D"
   },
   "source": [
    "---\n",
    "**Observations**\n",
    "\n",
    ">* No linear relationship; not normally distributed\n",
    "---\n",
    "**TO-DO**\n",
    "\n",
    ">* Treat as categorical variable\n",
    ">\n",
    ">* Perform OneHotEncoding to create new features for modeling.\n",
    "---"
   ]
  },
  {
   "cell_type": "markdown",
   "metadata": {
    "hidden": true,
    "id": "wpeCeCCasq2D"
   },
   "source": [
    "**Lat** <a name=\"lat\"></a> [🔝](#features)"
   ]
  },
  {
   "cell_type": "code",
   "execution_count": null,
   "metadata": {
    "ExecuteTime": {
     "end_time": "2021-07-14T19:53:41.568047Z",
     "start_time": "2021-07-14T19:53:39.700013Z"
    },
    "hidden": true,
    "id": "Kc4AN0Rrsq2D",
    "outputId": "1fba4c7c-6084-406f-8f1e-5ba58313e1b4",
    "scrolled": false
   },
   "outputs": [],
   "source": [
    "show_cleaned_vis(df,\"lat\")"
   ]
  },
  {
   "cell_type": "markdown",
   "metadata": {
    "hidden": true,
    "id": "zFLAb-cQsq2D"
   },
   "source": [
    "---\n",
    "**Observations**\n",
    "\n",
    ">* Very weak linear relationship and not normally distributed.\n",
    ">\n",
    ">\n",
    ">* Outliers just slightly past 47.6 degrees latitude\n",
    "\n",
    "---\n",
    "**To-Do**\n",
    "\n",
    ">* Treat as categorical for modeling.\n",
    "---"
   ]
  },
  {
   "cell_type": "markdown",
   "metadata": {
    "hidden": true,
    "id": "kKBhksmKsq2D"
   },
   "source": [
    "**Long** <a name=\"long\"></a> [🔝](#features)"
   ]
  },
  {
   "cell_type": "code",
   "execution_count": null,
   "metadata": {
    "ExecuteTime": {
     "end_time": "2021-07-14T19:53:43.346021Z",
     "start_time": "2021-07-14T19:53:41.570029Z"
    },
    "hidden": true,
    "id": "bE3EPDPMsq2D",
    "outputId": "d707bf01-73d7-4fb7-f531-ddaa8d272aa5",
    "scrolled": false
   },
   "outputs": [],
   "source": [
    "show_cleaned_vis(df,\"long\")"
   ]
  },
  {
   "cell_type": "markdown",
   "metadata": {
    "hidden": true,
    "id": "_kj7xgYRsq2E"
   },
   "source": [
    "---\n",
    "**Observations**\n",
    "\n",
    ">* No linear relationship and not normally distributed.\n",
    ">\n",
    ">\n",
    ">* Outliers around -122.32ish and -122.25-ish degrees\n",
    "\n",
    "---\n",
    "**To-Do**\n",
    "\n",
    ">* Treat as continuous if used for modeling.\n",
    "---"
   ]
  },
  {
   "cell_type": "markdown",
   "metadata": {
    "hidden": true,
    "id": "WDv_3hS5sq2E"
   },
   "source": [
    "**Sqft_living15** <a name=\"living15\"></a> [🔝](#features)"
   ]
  },
  {
   "cell_type": "code",
   "execution_count": null,
   "metadata": {
    "ExecuteTime": {
     "end_time": "2021-07-14T19:53:45.093024Z",
     "start_time": "2021-07-14T19:53:43.348024Z"
    },
    "hidden": true,
    "id": "luLGHfCKsq2E",
    "outputId": "fb3be1d6-fd85-4530-94ed-86960a88b312",
    "scrolled": false
   },
   "outputs": [],
   "source": [
    "show_cleaned_vis(df,\"sqft_living15\")"
   ]
  },
  {
   "cell_type": "markdown",
   "metadata": {
    "hidden": true,
    "id": "QtVJ3AkLsq2E"
   },
   "source": [
    "---\n",
    "**Observations**\n",
    "\n",
    ">* Most properties sold between 1500/2000 ft$^2$ living space\n",
    ">\n",
    ">\n",
    ">* Price follows linear trend and is normally distributed, although skewed right.\n",
    ">\n",
    ">* Outliers between 2500-3500 ft$^2$ \n",
    "---\n",
    "**TO-DO**\n",
    "\n",
    ">* Treat as continuous variable\n",
    "---"
   ]
  },
  {
   "cell_type": "markdown",
   "metadata": {
    "hidden": true,
    "id": "MjQYCqAasq2E"
   },
   "source": [
    "**Sqft_lot15** <a name=\"lot15\"></a> [🔝](#features)"
   ]
  },
  {
   "cell_type": "code",
   "execution_count": null,
   "metadata": {
    "ExecuteTime": {
     "end_time": "2021-07-14T19:53:46.791056Z",
     "start_time": "2021-07-14T19:53:45.095024Z"
    },
    "hidden": true,
    "id": "2Wv8CQbrsq2F",
    "outputId": "5dd25e0c-e026-430d-e8c1-7090c01a67a5",
    "scrolled": false
   },
   "outputs": [],
   "source": [
    "show_cleaned_vis(df,\"sqft_lot15\")"
   ]
  },
  {
   "cell_type": "markdown",
   "metadata": {
    "hidden": true,
    "id": "eF1dX4Opsq2F"
   },
   "source": [
    "---\n",
    "**Observations**\n",
    "\n",
    ">* No clear linear trend\n",
    ">* Significant outlier at approx. 9000 ft$^2$\n",
    "\n",
    "---\n",
    "**TO-DO**\n",
    ">* Treat as continuous variable\n",
    "---"
   ]
  },
  {
   "cell_type": "markdown",
   "metadata": {
    "heading_collapsed": true,
    "id": "0RzFYbgcsq2F"
   },
   "source": [
    "# **Feature Engineering**"
   ]
  },
  {
   "cell_type": "markdown",
   "metadata": {
    "heading_collapsed": true,
    "hidden": true,
    "id": "8mpimDh2sq2F"
   },
   "source": [
    "## `'yrs_old_sold'`"
   ]
  },
  {
   "cell_type": "markdown",
   "metadata": {
    "hidden": true,
    "id": "HmU0Rwyjsq2F"
   },
   "source": [
    "I create this feature to differentiate between houses that were built recently versus older houses.\n",
    "\n",
    "In order to determine this feature, I need to determine the year the house was sold first."
   ]
  },
  {
   "cell_type": "markdown",
   "metadata": {
    "heading_collapsed": true,
    "hidden": true,
    "id": "lgTdOjJnsq2F"
   },
   "source": [
    "### Determine `'year_sold'`"
   ]
  },
  {
   "cell_type": "code",
   "execution_count": null,
   "metadata": {
    "ExecuteTime": {
     "end_time": "2021-07-14T19:53:47.010057Z",
     "start_time": "2021-07-14T19:53:46.794050Z"
    },
    "hidden": true,
    "id": "ltoQKbEFsq2G",
    "scrolled": false
   },
   "outputs": [],
   "source": [
    "## Pull the year from the \"date\" column\n",
    "df['year_sold'] = pd.DatetimeIndex(df['date']).year\n",
    "\n",
    "## Review the values to ensure data integrity\n",
    "df['year_sold'].value_counts()"
   ]
  },
  {
   "cell_type": "markdown",
   "metadata": {
    "heading_collapsed": true,
    "hidden": true,
    "id": "M9dY6ryUsq2G"
   },
   "source": [
    "### Calculate `'y_old_sold'`"
   ]
  },
  {
   "cell_type": "code",
   "execution_count": null,
   "metadata": {
    "ExecuteTime": {
     "end_time": "2021-07-14T19:53:47.242025Z",
     "start_time": "2021-07-14T19:53:47.012039Z"
    },
    "hidden": true,
    "id": "EjI_PHB0sq2G",
    "outputId": "f8199020-11ed-4252-80af-ee86afb89a78",
    "scrolled": false
   },
   "outputs": [],
   "source": [
    "## Calculating the age of the house at the time of sale\n",
    "df['y_old_sold'] = df['year_sold'] - df['yr_built']\n",
    "\n",
    "## Minimum age is -1 due to a house being sold before it was finished being built\n",
    "display(df['y_old_sold'].value_counts().sort_index(), df['y_old_sold'].describe())"
   ]
  },
  {
   "cell_type": "markdown",
   "metadata": {
    "hidden": true
   },
   "source": [
    ">**Results:** Half of the homes sold fall between the ages of 18 and 63 years old, with the average age of 43 years. Our min and max ages indicate a house was sold before it was built, while another house was 115 years old."
   ]
  },
  {
   "cell_type": "markdown",
   "metadata": {
    "heading_collapsed": true,
    "hidden": true,
    "id": "Gzl5f2Ktsq2H"
   },
   "source": [
    "## `'was_renovated'`"
   ]
  },
  {
   "cell_type": "markdown",
   "metadata": {
    "hidden": true,
    "id": "vL3j33BYsq2H"
   },
   "source": [
    "What impact would a renovation have on the price?"
   ]
  },
  {
   "cell_type": "code",
   "execution_count": null,
   "metadata": {
    "ExecuteTime": {
     "end_time": "2021-07-14T19:53:47.476060Z",
     "start_time": "2021-07-14T19:53:47.244027Z"
    },
    "hidden": true,
    "id": "X7QoQoBLsq2I"
   },
   "outputs": [],
   "source": [
    "## Using the year that the home was renovated to deterine whether or not the home was renovated\n",
    "reno_y_n = np.where(df['yr_renovated']>0, 1, 0 )\n",
    "df = df.assign(was_renovated = reno_y_n)\n",
    "df.head(5)"
   ]
  },
  {
   "cell_type": "code",
   "execution_count": null,
   "metadata": {
    "ExecuteTime": {
     "end_time": "2021-07-14T19:53:47.693058Z",
     "start_time": "2021-07-14T19:53:47.479028Z"
    },
    "hidden": true,
    "id": "kltnwNfIsq2I",
    "outputId": "caaada13-58e0-4c08-cf62-7b8fbeedf911"
   },
   "outputs": [],
   "source": [
    "## Checking values\n",
    "df['was_renovated'].value_counts()"
   ]
  },
  {
   "cell_type": "markdown",
   "metadata": {
    "hidden": true
   },
   "source": [
    ">**Results:** Most of the houses were not renovated at the time of sale. This feature may not have a significant impact on determining the sale price due to the small number of renovated houses."
   ]
  },
  {
   "cell_type": "markdown",
   "metadata": {
    "heading_collapsed": true,
    "hidden": true,
    "id": "fb2ISg5Xsq2I"
   },
   "source": [
    "## `\"yrs_since_reno\"`"
   ]
  },
  {
   "cell_type": "markdown",
   "metadata": {
    "hidden": true,
    "id": "lFYYV9xCsq2I"
   },
   "source": [
    "If a house was renovated, how long ago was the renovation? Would more newly-renovated houses increase price?"
   ]
  },
  {
   "cell_type": "code",
   "execution_count": null,
   "metadata": {
    "ExecuteTime": {
     "end_time": "2021-07-14T19:53:47.943030Z",
     "start_time": "2021-07-14T19:53:47.695031Z"
    },
    "hidden": true
   },
   "outputs": [],
   "source": [
    "## Ensuring there are no null values in the new feature and replacing any with zeroes\n",
    "\n",
    "df['yrs_since_reno'] = np.where((df['was_renovated']==1),\n",
    "                                (df['year_sold'] - df['yr_renovated']), 0)\n",
    "\n",
    "display(df['yrs_since_reno'].describe(),df['yrs_since_reno'].value_counts(ascending=False))"
   ]
  },
  {
   "cell_type": "code",
   "execution_count": null,
   "metadata": {
    "ExecuteTime": {
     "end_time": "2021-07-14T19:53:48.208044Z",
     "start_time": "2021-07-14T19:53:47.946030Z"
    },
    "hidden": true,
    "scrolled": true
   },
   "outputs": [],
   "source": [
    "## Checking for which properties show a renovation year post-sale\n",
    "\n",
    "df[df['year_sold'] < df['yr_renovated']]"
   ]
  },
  {
   "cell_type": "code",
   "execution_count": null,
   "metadata": {
    "ExecuteTime": {
     "end_time": "2021-07-14T19:53:48.505028Z",
     "start_time": "2021-07-14T19:53:48.221031Z"
    },
    "hidden": true
   },
   "outputs": [],
   "source": [
    "## Reviewing stats for those houses that were renovated\n",
    "\n",
    "yrs_and_reno = df[df['yrs_since_reno'] > 0]\n",
    "yrs_and_reno['yrs_since_reno'].describe()"
   ]
  },
  {
   "cell_type": "markdown",
   "metadata": {
    "hidden": true
   },
   "source": [
    ">**Results:** As expected, most of the houses were not renovated (indicated by the number of years being zero). \n",
    ">\n",
    ">\n",
    ">Of those renovated, half of the homes had between 9 and 28 years between the years sold and renovated, with an average ages of roughly 20 years old.\n",
    ">\n",
    ">\n",
    ">Interestingly, this dataset also shows *six records for which the renovation is shown to be post-sale.* While this may be an error, I am leaving it in the dataset since I cannot confidently rule it out. \n",
    ">\n",
    ">\n",
    ">If this feature does not show statistical significance, I may drops these values and reevaluate the significance."
   ]
  },
  {
   "cell_type": "markdown",
   "metadata": {
    "heading_collapsed": true,
    "hidden": true,
    "id": "G6TwLd00sq2J"
   },
   "source": [
    "## \"`has_bsmnt`\""
   ]
  },
  {
   "cell_type": "markdown",
   "metadata": {
    "hidden": true,
    "id": "fl4Yn656sq2J"
   },
   "source": [
    "I noticed that there were fewer houses with a value for \"sqft_basement\" during my data exploration. I am curious if the presence or absence of a basement would have any impact."
   ]
  },
  {
   "cell_type": "code",
   "execution_count": null,
   "metadata": {
    "ExecuteTime": {
     "end_time": "2021-07-14T19:53:48.708060Z",
     "start_time": "2021-07-14T19:53:48.507029Z"
    },
    "hidden": true,
    "id": "lWHPc64-sq2J",
    "outputId": "1b48b91d-ebaf-4cdb-be5d-811fa8334a21"
   },
   "outputs": [],
   "source": [
    "## Determining whether or not a house has a basement based on the square footage\n",
    "df['has_bsmnt'] = np.where(df['sqft_basement'] > 0, 1, 0)\n",
    "\n",
    "# Reviewing the results\n",
    "display(df['has_bsmnt'].describe(), df['has_bsmnt'].value_counts())"
   ]
  },
  {
   "cell_type": "markdown",
   "metadata": {
    "heading_collapsed": true,
    "id": "puQqlrLFsq2K"
   },
   "source": [
    "# **Correlations**"
   ]
  },
  {
   "cell_type": "markdown",
   "metadata": {
    "heading_collapsed": true,
    "hidden": true,
    "id": "Wf4tEuN1sq2K"
   },
   "source": [
    "## Determining Correlations with Price"
   ]
  },
  {
   "cell_type": "code",
   "execution_count": null,
   "metadata": {
    "ExecuteTime": {
     "end_time": "2021-07-14T19:53:49.003029Z",
     "start_time": "2021-07-14T19:53:48.711034Z"
    },
    "hidden": true,
    "id": "sOw4_jhVsq2K",
    "outputId": "90b78d09-3d7d-4737-c9ca-65c6967ccf66"
   },
   "outputs": [],
   "source": [
    "## Determining top five features most strongly correlated with price\n",
    "## (Considering absolute values for magnitude, not direction)\n",
    "\n",
    "df_corr = np.abs(df.drop(['price', 'lat','long', 'yr_renovated'], axis=1).corrwith(df['price']).sort_values(ascending=False))\n",
    "display(df_corr[0:5])"
   ]
  },
  {
   "cell_type": "markdown",
   "metadata": {
    "heading_collapsed": true,
    "hidden": true,
    "id": "Co8mLW6Zsq2K"
   },
   "source": [
    "## Determining Multicollinearity"
   ]
  },
  {
   "cell_type": "code",
   "execution_count": null,
   "metadata": {
    "ExecuteTime": {
     "end_time": "2021-07-14T19:53:49.317030Z",
     "start_time": "2021-07-14T19:53:49.006031Z"
    },
    "hidden": true,
    "id": "J4xPBDMMsq2K",
    "outputId": "5fe4aeb3-5af0-420f-dd5a-05fccfb95dbe"
   },
   "outputs": [],
   "source": [
    "## Get the correlation matrix for the data (without the target)\n",
    "corr = np.abs(df.drop('price',axis=1).corr())\n",
    "corr.round(2)"
   ]
  },
  {
   "cell_type": "code",
   "execution_count": null,
   "metadata": {
    "ExecuteTime": {
     "end_time": "2021-07-14T19:53:52.637036Z",
     "start_time": "2021-07-14T19:53:49.320032Z"
    },
    "hidden": true,
    "id": "6LjFop6Psq2L",
    "outputId": "bf3ad586-7fec-4f97-98a0-cfec0ca1ae72"
   },
   "outputs": [],
   "source": [
    "corr_val(df.drop(['price','yr_renovated'],axis=1), figsize=(20,20));"
   ]
  },
  {
   "cell_type": "code",
   "execution_count": null,
   "metadata": {
    "ExecuteTime": {
     "end_time": "2021-07-14T19:53:52.886068Z",
     "start_time": "2021-07-14T19:53:52.639038Z"
    },
    "hidden": true,
    "id": "FZyJieM6sq2L"
   },
   "outputs": [],
   "source": [
    "## Correlation results ignoring duplicate values \n",
    "## Except for \"was_renovated\", which shows a perfect relationship to itself\n",
    "\n",
    "df_corr_results = np.abs(df.drop(['price','yr_renovated'],axis=1).corr().unstack().sort_values(ascending=False).drop_duplicates())\n",
    "\n",
    "## Show strongest correlations\n",
    "df_corr_results[1:11]"
   ]
  },
  {
   "cell_type": "markdown",
   "metadata": {
    "ExecuteTime": {
     "end_time": "2021-07-14T17:49:34.296191Z",
     "start_time": "2021-07-14T17:49:34.176157Z"
    },
    "hidden": true
   },
   "source": [
    "**Results:** From the correlation matrix, I see that we have seven pairs of features that show a correlation over .75.\n",
    "\n",
    "I will drop 'sqft_living', 'was_renovated', and 'has_basement' due to their high correlations."
   ]
  },
  {
   "cell_type": "code",
   "execution_count": null,
   "metadata": {
    "ExecuteTime": {
     "end_time": "2021-07-14T19:54:15.033510Z",
     "start_time": "2021-07-14T19:54:14.749511Z"
    },
    "hidden": true,
    "id": "NX0PsIQmsq2L"
   },
   "outputs": [],
   "source": [
    "# Dropping columns to address multicollinearity (over .75)\n",
    "df_dropped = df.drop(['was_renovated', 'sqft_living','has_bsmnt'], axis=1)\n",
    "display(df_dropped)"
   ]
  },
  {
   "cell_type": "code",
   "execution_count": null,
   "metadata": {
    "ExecuteTime": {
     "end_time": "2021-07-14T19:54:21.741524Z",
     "start_time": "2021-07-14T19:54:19.055520Z"
    },
    "hidden": true,
    "id": "NfHwiihhsq2L",
    "outputId": "ba07fadc-541d-4a1b-f4ab-a0d279166b54"
   },
   "outputs": [],
   "source": [
    "# Rerunning model\n",
    "corr_val(df_dropped.drop('price',axis=1), figsize=(20,20));"
   ]
  },
  {
   "cell_type": "code",
   "execution_count": null,
   "metadata": {
    "ExecuteTime": {
     "end_time": "2021-07-14T20:04:48.530756Z",
     "start_time": "2021-07-14T20:04:48.241717Z"
    },
    "hidden": true,
    "id": "lz6NhZtDsq2M",
    "outputId": "9ceda911-5bc3-478a-ff30-4653b676a0b5",
    "scrolled": false
   },
   "outputs": [],
   "source": [
    "# Correlation results ignoring (most) duplicate values\n",
    "df_corr_results = df_dropped.drop('price',axis=1).corr().unstack().sort_values(ascending=False).drop_duplicates()\n",
    "\n",
    "## Show strongest correlations\n",
    "print(df_corr_results[1:11],'\\n\\n',df_corr_results[-11:-1])"
   ]
  },
  {
   "cell_type": "markdown",
   "metadata": {
    "heading_collapsed": true
   },
   "source": [
    "# 🌟 **Creating (Another) Pipeline for Modeling** 🌟 <a name=\"pipeline_2\"><a name='eod'></a> [🔝](#top)"
   ]
  },
  {
   "cell_type": "markdown",
   "metadata": {
    "hidden": true
   },
   "source": [
    "**For original code:** [Click here](#pipeline_1)"
   ]
  },
  {
   "cell_type": "markdown",
   "metadata": {
    "heading_collapsed": true,
    "hidden": true
   },
   "source": [
    "## Ex: Creating imputers, encode"
   ]
  },
  {
   "cell_type": "code",
   "execution_count": null,
   "metadata": {
    "ExecuteTime": {
     "end_time": "2021-07-14T13:42:53.569148Z",
     "start_time": "2021-07-14T13:42:53.557143Z"
    },
    "hidden": true
   },
   "outputs": [],
   "source": [
    "## Instantiate an imputer to add zeroes\n",
    "\n",
    "imp_zero = SimpleImputer(strategy='constant', fill_value=0)"
   ]
  },
  {
   "cell_type": "code",
   "execution_count": null,
   "metadata": {
    "ExecuteTime": {
     "end_time": "2021-07-14T13:42:53.585144Z",
     "start_time": "2021-07-14T13:42:53.572142Z"
    },
    "hidden": true
   },
   "outputs": [],
   "source": [
    "## Instantiate an imputer to fill values with the mode value\n",
    "\n",
    "imp_mode = SimpleImputer(strategy='most_frequent')"
   ]
  },
  {
   "cell_type": "code",
   "execution_count": null,
   "metadata": {
    "ExecuteTime": {
     "end_time": "2021-07-14T13:42:53.600142Z",
     "start_time": "2021-07-14T13:42:53.588146Z"
    },
    "hidden": true
   },
   "outputs": [],
   "source": [
    "## Instantiate a OneHotEncoder for categorical variables\n",
    "\n",
    "ohe = OneHotEncoder(drop='first', sparse=False)"
   ]
  },
  {
   "cell_type": "markdown",
   "metadata": {
    "heading_collapsed": true,
    "hidden": true
   },
   "source": [
    "## Creating ColumnTransformer"
   ]
  },
  {
   "cell_type": "code",
   "execution_count": null,
   "metadata": {
    "ExecuteTime": {
     "end_time": "2021-07-14T13:42:53.677146Z",
     "start_time": "2021-07-14T13:42:53.604148Z"
    },
    "hidden": true,
    "scrolled": true
   },
   "outputs": [],
   "source": [
    "## Setting up the individual transformers and then the ColumnTransformer\n",
    "\n",
    "## Adding zeroes for missing values in sqft_basement\n",
    "imp_zero_cols = ['sqft_basement']\n",
    "zero_transformer = Pipeline(steps=[\n",
    "    ('imp_zero',SimpleImputer(strategy='constant', fill_value=0))])\n",
    "\n",
    "\n",
    "## Adding the mode value to view, waterfront, and yr_renovated missing values \n",
    "imp_mode_cols = ['view','waterfront','yr_renovated']\n",
    "mode_transformer = Pipeline(steps=[\n",
    "    ('imp_mode',SimpleImputer(strategy='most_frequent'))])\n",
    "\n",
    "\n",
    "# ## Removed this code due to errors encountered b/t train, test categoricals\n",
    "# ohe_cols = ['condition','grade', 'zipcode']\n",
    "# categorical_transformer = OneHotEncoder(drop='first', sparse=False)\n",
    "\n",
    "\n",
    "## Encoding categoricals - handling errors to prevent issues w/ test set\n",
    "ohe_cols = ['condition','grade', 'zipcode']\n",
    "categorical_transformer = OneHotEncoder(handle_unknown='ignore', sparse=False)\n",
    "\n",
    "\n",
    "## Instantiating the ColumnTransformer to handle the missing values for ea.col.\n",
    "preprocessor = ColumnTransformer(\n",
    "    transformers=[\n",
    "        ('zero', zero_transformer, imp_zero_cols),\n",
    "        ('mode', mode_transformer, imp_mode_cols),\n",
    "        ('cats', categorical_transformer, ohe_cols)])\n",
    "\n",
    "preprocessor"
   ]
  },
  {
   "cell_type": "code",
   "execution_count": null,
   "metadata": {
    "ExecuteTime": {
     "end_time": "2021-07-14T13:42:53.739145Z",
     "start_time": "2021-07-14T13:42:53.680145Z"
    },
    "hidden": true
   },
   "outputs": [],
   "source": [
    "## Fit and transform the data via the ColumnTransformer\n",
    "X_train_tf = preprocessor.fit_transform(X_train)"
   ]
  },
  {
   "cell_type": "code",
   "execution_count": null,
   "metadata": {
    "ExecuteTime": {
     "end_time": "2021-07-14T13:42:53.755147Z",
     "start_time": "2021-07-14T13:42:53.742145Z"
    },
    "hidden": true
   },
   "outputs": [],
   "source": [
    "## Getting feature names from OHE\n",
    "ohe_cat_names = preprocessor.named_transformers_['cats'].get_feature_names(ohe_cols)\n",
    "ohe_cat_names"
   ]
  },
  {
   "cell_type": "code",
   "execution_count": null,
   "metadata": {
    "ExecuteTime": {
     "end_time": "2021-07-14T13:42:53.770149Z",
     "start_time": "2021-07-14T13:42:53.760147Z"
    },
    "hidden": true
   },
   "outputs": [],
   "source": [
    "## Generating list for column index\n",
    "final_cols = [*imp_zero_cols, *imp_mode_cols, *ohe_cat_names]"
   ]
  },
  {
   "cell_type": "code",
   "execution_count": null,
   "metadata": {
    "ExecuteTime": {
     "end_time": "2021-07-14T13:42:54.082153Z",
     "start_time": "2021-07-14T13:42:53.780147Z"
    },
    "hidden": true
   },
   "outputs": [],
   "source": [
    "## Instantiating a DF storing the resulting transformed training data\n",
    "X_train_tf_df = pd.DataFrame(X_train_tf, columns=final_cols, index=X_train.index)\n",
    "X_train_tf_df"
   ]
  },
  {
   "cell_type": "code",
   "execution_count": null,
   "metadata": {
    "ExecuteTime": {
     "end_time": "2021-07-14T13:42:54.128155Z",
     "start_time": "2021-07-14T13:42:54.085153Z"
    },
    "hidden": true
   },
   "outputs": [],
   "source": [
    "## Transforming the test set\n",
    "X_test_tf = preprocessor.transform(X_test)\n",
    "X_test_tf"
   ]
  },
  {
   "cell_type": "code",
   "execution_count": null,
   "metadata": {
    "ExecuteTime": {
     "end_time": "2021-07-14T13:42:54.473163Z",
     "start_time": "2021-07-14T13:42:54.132154Z"
    },
    "hidden": true,
    "scrolled": true
   },
   "outputs": [],
   "source": [
    "## Creating DF for test data\n",
    "X_test_tf_df = pd.DataFrame(X_test_tf, columns=final_cols, index=X_test.index)\n",
    "X_test_tf_df"
   ]
  },
  {
   "cell_type": "code",
   "execution_count": null,
   "metadata": {
    "ExecuteTime": {
     "end_time": "2021-07-14T13:42:55.016172Z",
     "start_time": "2021-07-14T13:42:54.476164Z"
    },
    "hidden": true
   },
   "outputs": [],
   "source": [
    "## Running a Statsmodels OLS model for verification of R2\n",
    "sm_reg = sms.OLS(y_train, X_train_tf_df).fit()\n",
    "sm_reg.summary()"
   ]
  },
  {
   "cell_type": "code",
   "execution_count": null,
   "metadata": {
    "ExecuteTime": {
     "end_time": "2021-07-14T13:42:55.031173Z",
     "start_time": "2021-07-14T13:42:55.019171Z"
    },
    "hidden": true
   },
   "outputs": [],
   "source": [
    "## Creating baseline parameters\n",
    "sm_reg.params"
   ]
  },
  {
   "cell_type": "markdown",
   "metadata": {
    "heading_collapsed": true,
    "hidden": true
   },
   "source": [
    "## Creating full pipeline"
   ]
  },
  {
   "cell_type": "code",
   "execution_count": null,
   "metadata": {
    "ExecuteTime": {
     "end_time": "2021-07-14T13:42:55.046171Z",
     "start_time": "2021-07-14T13:42:55.035174Z"
    },
    "hidden": true
   },
   "outputs": [],
   "source": [
    "## Creating full pipeline with ColumnTransformer and LinearRegression\n",
    "reg_pipe = Pipeline(steps=[('preprocessor', preprocessor),\n",
    "                      ('regressor', LinearRegression())])"
   ]
  },
  {
   "cell_type": "code",
   "execution_count": null,
   "metadata": {
    "ExecuteTime": {
     "end_time": "2021-07-14T13:42:55.577181Z",
     "start_time": "2021-07-14T13:42:55.050172Z"
    },
    "hidden": true
   },
   "outputs": [],
   "source": [
    "## Fittng pipeline to the training data\n",
    "reg_pipe.fit(X_train, y_train)"
   ]
  },
  {
   "cell_type": "code",
   "execution_count": null,
   "metadata": {
    "ExecuteTime": {
     "end_time": "2021-07-14T13:42:55.623178Z",
     "start_time": "2021-07-14T13:42:55.580183Z"
    },
    "hidden": true
   },
   "outputs": [],
   "source": [
    "## Running the pipeline on the training data\n",
    "y_hat_train = reg_pipe.predict(X_train)\n",
    "y_hat_train"
   ]
  },
  {
   "cell_type": "code",
   "execution_count": null,
   "metadata": {
    "ExecuteTime": {
     "end_time": "2021-07-14T13:42:55.669183Z",
     "start_time": "2021-07-14T13:42:55.626186Z"
    },
    "hidden": true
   },
   "outputs": [],
   "source": [
    "## Running the pipeline on the testing data\n",
    "y_hat_test = reg_pipe.predict(X_test)\n",
    "y_hat_test"
   ]
  },
  {
   "cell_type": "code",
   "execution_count": null,
   "metadata": {
    "ExecuteTime": {
     "end_time": "2021-07-14T13:42:55.685183Z",
     "start_time": "2021-07-14T13:42:55.673184Z"
    },
    "hidden": true
   },
   "outputs": [],
   "source": [
    "reg_pipe['regressor'].intercept_"
   ]
  },
  {
   "cell_type": "code",
   "execution_count": null,
   "metadata": {
    "ExecuteTime": {
     "end_time": "2021-07-14T13:42:55.717185Z",
     "start_time": "2021-07-14T13:42:55.704182Z"
    },
    "hidden": true
   },
   "outputs": [],
   "source": [
    "pipe_coefs = pd.Series(reg_pipe['regressor'].coef_, index=final_cols)\n",
    "pipe_coefs['intercept'] = reg_pipe['regressor'].intercept_\n",
    "pipe_coefs.head(20)"
   ]
  },
  {
   "cell_type": "code",
   "execution_count": null,
   "metadata": {
    "ExecuteTime": {
     "end_time": "2021-07-14T20:29:26.997697Z",
     "start_time": "2021-07-14T20:29:26.767695Z"
    },
    "hidden": true,
    "scrolled": true
   },
   "outputs": [],
   "source": [
    "eval_perf_train(reg_pipe, X_train, y_train)"
   ]
  },
  {
   "cell_type": "code",
   "execution_count": null,
   "metadata": {
    "ExecuteTime": {
     "end_time": "2021-07-14T20:29:27.451695Z",
     "start_time": "2021-07-14T20:29:27.208698Z"
    },
    "hidden": true
   },
   "outputs": [],
   "source": [
    "eval_perf_test(reg_pipe, X_test, y_test)"
   ]
  },
  {
   "cell_type": "code",
   "execution_count": null,
   "metadata": {
    "ExecuteTime": {
     "end_time": "2021-07-14T13:42:55.859186Z",
     "start_time": "2021-07-14T13:42:55.846189Z"
    },
    "hidden": true
   },
   "outputs": [],
   "source": [
    "# ## Evaluating performance of training model\n",
    "\n",
    "# train_mae = metrics.mean_absolute_error(y_train, y_hat_train)\n",
    "# train_mse = metrics.mean_squared_error(y_train, y_hat_train)\n",
    "# train_rmse = np.sqrt(metrics.mean_squared_error(y_train, y_hat_train))\n",
    "# train_r = metrics.r2_score(y_train, y_hat_train)\n",
    "\n",
    "# print('Evaluating performance of training data:\\n')\n",
    "# print(f'Mean Absolute Error: {train_mae:,.2f}')\n",
    "# print(f'Mean Squared Error:  {train_mse:,.2f}\\n')\n",
    "# print(f'Root Mean Squared Error: {train_rmse:,.2f}')\n",
    "# print(f'R-Square value for training data: {round(train_r,2)}')"
   ]
  },
  {
   "cell_type": "code",
   "execution_count": null,
   "metadata": {
    "ExecuteTime": {
     "end_time": "2021-07-14T13:42:55.889186Z",
     "start_time": "2021-07-14T13:42:55.863185Z"
    },
    "hidden": true
   },
   "outputs": [],
   "source": [
    "# ## Evaluating performance of testing model\n",
    "\n",
    "# test_mae = metrics.mean_absolute_error(y_test, y_hat_test)\n",
    "# test_mse = metrics.mean_squared_error(y_test, y_hat_test)\n",
    "# test_rmse = np.sqrt(metrics.mean_squared_error(y_test, y_hat_test))\n",
    "# test_r = metrics.r2_score(y_test, y_hat_test)\n",
    "\n",
    "# print('Evaluating performance of testing data:\\n')\n",
    "# print(f'Mean Absolute Error: {test_mae:,.2f}')\n",
    "# print(f'Mean Squared Error:  {test_mse:,.2f}\\n')\n",
    "# print(f'Root Mean Squared Error: {test_rmse:,.2f}')\n",
    "# print(f'R-Square value for testing data: {round(test_r,2)}')"
   ]
  },
  {
   "cell_type": "markdown",
   "metadata": {
    "heading_collapsed": true,
    "hidden": true
   },
   "source": [
    "## Creating Example GridSearchCV"
   ]
  },
  {
   "cell_type": "code",
   "execution_count": null,
   "metadata": {
    "ExecuteTime": {
     "end_time": "2021-07-14T13:42:57.423217Z",
     "start_time": "2021-07-14T13:42:55.892188Z"
    },
    "hidden": true
   },
   "outputs": [],
   "source": [
    "# Creating first GridSearchCV to determine best parameters for LinReg\n",
    "\n",
    "param_grid = {'fit_intercept': [True, False]}\n",
    "ex_grid = GridSearchCV(LinearRegression(), param_grid, verbose=True,\n",
    "                   scoring='r2')\n",
    "ex_grid.fit(X_train_tf_df, y_train)\n",
    "display(ex_grid.best_params_)\n",
    "display(ex_grid.best_score_)\n",
    "display(ex_grid.best_estimator_)\n",
    "display(ex_grid.get_params())"
   ]
  },
  {
   "cell_type": "code",
   "execution_count": null,
   "metadata": {
    "ExecuteTime": {
     "end_time": "2021-07-14T13:42:57.439217Z",
     "start_time": "2021-07-14T13:42:57.426218Z"
    },
    "hidden": true
   },
   "outputs": [],
   "source": [
    "## Results in a DF format\n",
    "# pd.DataFrame(reg.cv_results_).T"
   ]
  },
  {
   "cell_type": "code",
   "execution_count": null,
   "metadata": {
    "ExecuteTime": {
     "end_time": "2021-07-14T13:42:57.455220Z",
     "start_time": "2021-07-14T13:42:57.442217Z"
    },
    "hidden": true
   },
   "outputs": [],
   "source": [
    "## Performing GSCV on test data\n",
    "y_hat_test = ex_grid.predict(X_test_tf_df)\n",
    "y_hat_test"
   ]
  },
  {
   "cell_type": "code",
   "execution_count": null,
   "metadata": {
    "hidden": true
   },
   "outputs": [],
   "source": [
    "eval_perf_test(ex_grid, X_test, y_test)"
   ]
  },
  {
   "cell_type": "code",
   "execution_count": null,
   "metadata": {
    "ExecuteTime": {
     "end_time": "2021-07-14T13:42:57.486222Z",
     "start_time": "2021-07-14T13:42:57.458223Z"
    },
    "hidden": true
   },
   "outputs": [],
   "source": [
    "# ## Evaluating model peformance\n",
    "\n",
    "# test_mae = metrics.mean_absolute_error(y_test, y_hat_test)\n",
    "# test_mse = metrics.mean_squared_error(y_test, y_hat_test)\n",
    "# test_rmse = np.sqrt(metrics.mean_squared_error(y_test, y_hat_test))\n",
    "# test_r = metrics.r2_score(y_test, y_hat_test)\n",
    "\n",
    "# print('Evaluating performance of testing data.')\n",
    "# print()\n",
    "# print(f'Mean Absolute Error: {test_mae:,.2f}')\n",
    "# print(f'Mean Squared Error:  {test_mse:,.2f}')\n",
    "# print()\n",
    "# print(f'Root Mean Squared Error: {test_rmse:,.2f}')\n",
    "# print(f'R-Square value for testing data is {round(test_r,2)}.')"
   ]
  },
  {
   "cell_type": "code",
   "execution_count": null,
   "metadata": {
    "ExecuteTime": {
     "end_time": "2021-07-14T13:43:00.565276Z",
     "start_time": "2021-07-14T13:42:57.836224Z"
    },
    "hidden": true
   },
   "outputs": [],
   "source": [
    "## Running gridsearch on pipeline\n",
    "\n",
    "param_grid = {'preprocessor__mode__imp_mode__strategy': ['mean','median',\n",
    "                                                        'most_frequent']}\n",
    "gs_imp_rmse = GridSearchCV(reg_pipe, param_grid, verbose=True,\n",
    "                   scoring='neg_root_mean_squared_error')\n",
    "gs_imp_rmse.fit(X_train, y_train)\n",
    "display(gs_imp_rmse.best_score_, reg.best_params_)"
   ]
  },
  {
   "cell_type": "code",
   "execution_count": null,
   "metadata": {
    "ExecuteTime": {
     "end_time": "2021-07-14T13:43:00.629277Z",
     "start_time": "2021-07-14T13:43:00.569279Z"
    },
    "hidden": true,
    "scrolled": false
   },
   "outputs": [],
   "source": [
    "eval_perf_train(gs_imp_rmse, X_train, y_train)"
   ]
  },
  {
   "cell_type": "code",
   "execution_count": null,
   "metadata": {
    "ExecuteTime": {
     "end_time": "2021-07-14T13:43:00.675279Z",
     "start_time": "2021-07-14T13:43:00.632279Z"
    },
    "hidden": true
   },
   "outputs": [],
   "source": [
    "eval_perf_test(gs_imp_rmse, X_test, y_test)"
   ]
  },
  {
   "cell_type": "code",
   "execution_count": null,
   "metadata": {
    "ExecuteTime": {
     "end_time": "2021-07-14T13:43:03.336331Z",
     "start_time": "2021-07-14T13:43:00.678277Z"
    },
    "hidden": true
   },
   "outputs": [],
   "source": [
    "## Running gridsearch on pipeline\n",
    "\n",
    "param_grid = {'preprocessor__mode__imp_mode__strategy': ['mean','median',\n",
    "                                                        'most_frequent']}\n",
    "gs_imp_r2 = GridSearchCV(reg_pipe, param_grid, verbose=True,\n",
    "                   scoring='r2')\n",
    "gs_imp_r2.fit(X_train, y_train)\n",
    "display(gs_imp_r2.best_score_)\n",
    "display(gs_imp_r2.best_params_)"
   ]
  },
  {
   "cell_type": "code",
   "execution_count": null,
   "metadata": {
    "ExecuteTime": {
     "end_time": "2021-07-14T13:43:03.384334Z",
     "start_time": "2021-07-14T13:43:03.339331Z"
    },
    "hidden": true
   },
   "outputs": [],
   "source": [
    "eval_perf_train(gs_imp_r2, X_train, y_train)"
   ]
  },
  {
   "cell_type": "code",
   "execution_count": null,
   "metadata": {
    "ExecuteTime": {
     "end_time": "2021-07-14T13:43:03.416332Z",
     "start_time": "2021-07-14T13:43:03.388330Z"
    },
    "hidden": true
   },
   "outputs": [],
   "source": [
    "eval_perf_test(gs_imp_r2, X_test, y_test)"
   ]
  },
  {
   "cell_type": "code",
   "execution_count": null,
   "metadata": {
    "ExecuteTime": {
     "end_time": "2021-07-14T13:43:03.447335Z",
     "start_time": "2021-07-14T13:43:03.419331Z"
    },
    "hidden": true,
    "scrolled": false
   },
   "outputs": [],
   "source": [
    "pd.DataFrame(gs_imp_r2.cv_results_)"
   ]
  },
  {
   "cell_type": "markdown",
   "metadata": {
    "heading_collapsed": true
   },
   "source": [
    "# **Modeling with Statsmodels**"
   ]
  },
  {
   "cell_type": "markdown",
   "metadata": {
    "heading_collapsed": true,
    "hidden": true,
    "id": "osjaKwPusq2T"
   },
   "source": [
    "## Baseline Model with Raw Data"
   ]
  },
  {
   "cell_type": "markdown",
   "metadata": {
    "hidden": true,
    "id": "hcBMl7Szsq2T"
   },
   "source": [
    "Creating a baseline model using the raw dataset."
   ]
  },
  {
   "cell_type": "code",
   "execution_count": null,
   "metadata": {
    "ExecuteTime": {
     "end_time": "2021-07-14T20:23:55.837462Z",
     "start_time": "2021-07-14T20:23:55.571460Z"
    },
    "hidden": true,
    "id": "rdv6gEP0sq2T",
    "outputId": "091433ff-045a-4c95-b743-d9a266772e5d",
    "scrolled": true
   },
   "outputs": [],
   "source": [
    "## Reviewing feature names and their datatypes\n",
    "df.info()"
   ]
  },
  {
   "cell_type": "code",
   "execution_count": null,
   "metadata": {
    "ExecuteTime": {
     "end_time": "2021-07-14T20:23:56.085461Z",
     "start_time": "2021-07-14T20:23:55.839461Z"
    },
    "hidden": true,
    "id": "-MbOfyeYsq2T",
    "outputId": "8f8cb1a1-c364-4bb0-d28e-e592fbad16e4"
   },
   "outputs": [],
   "source": [
    "## Establishing the features for inferential modeling\n",
    "\n",
    "categorical_features = ['was_renovated','has_bsmnt', 'waterfront']\n",
    "\n",
    "continuous_features = ['yrs_since_reno', 'bedrooms', 'bathrooms',\n",
    "                       'condition','grade', 'floors']\n",
    "\n",
    "model_baseline = create_model(df,continuous_features,categorical_features);"
   ]
  },
  {
   "cell_type": "markdown",
   "metadata": {
    "hidden": true,
    "id": "hQULST8Vsq2U"
   },
   "source": [
    "---\n",
    "**Interpretation:**\n",
    "\n",
    ">* R^2: ~.6, less than target of .75\n",
    ">\n",
    ">* Residual plots show heteroscedasticity\n",
    ">\n",
    ">* Q-Q Plot shows non-normal residuals\n",
    ">\n",
    ">* Changes: remove outliers and retest\n",
    "---"
   ]
  },
  {
   "cell_type": "markdown",
   "metadata": {
    "heading_collapsed": true,
    "hidden": true,
    "id": "jM3a19FXsq2U"
   },
   "source": [
    "## Model without Outliers in 'Price'"
   ]
  },
  {
   "cell_type": "markdown",
   "metadata": {
    "hidden": true,
    "id": "H_pMiJLOsq2U"
   },
   "source": [
    "What would the model look like if we ignored the outliers?"
   ]
  },
  {
   "cell_type": "markdown",
   "metadata": {
    "heading_collapsed": true,
    "hidden": true,
    "id": "s4aSzcfIsq2U"
   },
   "source": [
    "### Removing Outliers from 'Price' Data"
   ]
  },
  {
   "cell_type": "code",
   "execution_count": null,
   "metadata": {
    "ExecuteTime": {
     "end_time": "2021-07-14T20:23:57.337464Z",
     "start_time": "2021-07-14T20:23:57.106466Z"
    },
    "hidden": true,
    "id": "tEZiZkRdsq2U",
    "outputId": "5f3eb837-895d-475a-dd6f-fa7459250164"
   },
   "outputs": [],
   "source": [
    "## Remove outliers from price \n",
    "idx_outs = find_outliers_z(df['price'])\n",
    "df_clean = df[~idx_outs].copy()\n",
    "df_clean"
   ]
  },
  {
   "cell_type": "code",
   "execution_count": null,
   "metadata": {
    "ExecuteTime": {
     "end_time": "2021-07-14T20:24:08.333485Z",
     "start_time": "2021-07-14T20:24:08.081489Z"
    },
    "hidden": true,
    "id": "1EQm3MNXsq2V",
    "outputId": "1f1fef5c-4176-4a07-c389-ab6172e44fc5"
   },
   "outputs": [],
   "source": [
    "## Remove outliers from bedrooms\n",
    "idx_outs = find_outliers_z(['bedrooms'])\n",
    "df_clean = df[~idx_outs].copy()\n",
    "\n",
    "df_clean"
   ]
  },
  {
   "cell_type": "code",
   "execution_count": null,
   "metadata": {
    "ExecuteTime": {
     "end_time": "2021-07-14T20:23:57.685465Z",
     "start_time": "2021-07-14T20:23:57.635Z"
    },
    "hidden": true,
    "id": "js_lW6Krsq2V",
    "outputId": "aa668c37-ae0b-4837-a2ac-b707e4fbe771"
   },
   "outputs": [],
   "source": [
    "df_clean.describe()"
   ]
  },
  {
   "cell_type": "code",
   "execution_count": null,
   "metadata": {
    "ExecuteTime": {
     "end_time": "2021-07-14T20:23:58.181465Z",
     "start_time": "2021-07-14T20:23:57.927468Z"
    },
    "hidden": true,
    "id": "nnUmjRNrsq2W",
    "outputId": "1e7e6dfe-c661-4118-8008-bb7ae16338d2"
   },
   "outputs": [],
   "source": [
    "## Redefining updated features and re-running model\n",
    "\n",
    "categorical_features = ['was_renovated','has_bsmnt', 'waterfront']\n",
    "\n",
    "continuous_features = ['yrs_since_reno', 'bedrooms', 'bathrooms',\n",
    "                       'condition','grade', 'floors']\n",
    "\n",
    "model_clean = create_model(df_clean,cont=continuous_features,cat=categorical_features);"
   ]
  },
  {
   "cell_type": "markdown",
   "metadata": {
    "hidden": true,
    "id": "rNMiPXvmsq2W"
   },
   "source": [
    "Interpretation:\n",
    "\n",
    "* R^2: ~.59, less than target of .75 (performed slightly worse)\n",
    "\n",
    "* Residual plots show somewhat increased homoscedasticity\n",
    "\n",
    "* Q-Q Plot shows more normal residuals (vs. earlier plot)\n",
    "\n",
    "* Changes: add zipcode "
   ]
  },
  {
   "cell_type": "markdown",
   "metadata": {
    "heading_collapsed": true,
    "hidden": true,
    "id": "z0ehm9Whsq2W"
   },
   "source": [
    "## Model (Clean) - w/ Zip Codes"
   ]
  },
  {
   "cell_type": "code",
   "execution_count": null,
   "metadata": {
    "ExecuteTime": {
     "end_time": "2021-07-14T16:04:52.992138Z",
     "start_time": "2021-07-14T16:04:51.712027Z"
    },
    "hidden": true,
    "id": "Oy6FlXRZsq2X",
    "outputId": "7254ed7b-3fdb-4342-ac61-781881f65d02"
   },
   "outputs": [],
   "source": [
    "## Adding zip codes as a categorical variable\n",
    "\n",
    "categorical_features = ['was_renovated','has_bsmnt', 'waterfront', 'zipcode']\n",
    "\n",
    "continuous_features = ['yrs_since_reno', 'bedrooms', 'bathrooms',\n",
    "                       'condition','grade', 'floors']\n",
    "\n",
    "model_w_zip = create_model(df_clean,continuous_features, categorical_features)"
   ]
  },
  {
   "cell_type": "markdown",
   "metadata": {
    "hidden": true,
    "id": "T4aVFVpYsq2X"
   },
   "source": [
    "Interpretation:\n",
    "\n",
    ">* Model is significant with an R-squared value over the threshold of .75 (result: .77)\n",
    ">\n",
    ">* Residual plots show somewhat homoscedasticity\n",
    ">\n",
    ">* Q-Q Plot shows more normal residuals (vs. earlier plot)\n",
    ">\n",
    ">* Changes: remove features with p-values higher than .05 (statistically insignificant values)"
   ]
  },
  {
   "cell_type": "code",
   "execution_count": null,
   "metadata": {
    "ExecuteTime": {
     "end_time": "2021-07-14T16:04:54.149137Z",
     "start_time": "2021-07-14T16:04:52.994104Z"
    },
    "hidden": true,
    "id": "fOyUpfaisq2X",
    "outputId": "d3b37c03-48ae-4078-8397-9cab8b5db5de",
    "scrolled": false
   },
   "outputs": [],
   "source": [
    "## Re-running model after removing 'has_bsmnt' and 'floors'\" due to high p-value\n",
    "categorical_features = ['was_renovated','waterfront', 'zipcode']\n",
    "\n",
    "continuous_features = ['yrs_since_reno', 'bedrooms', 'bathrooms',\n",
    "                       'condition','grade']\n",
    "\n",
    "model_clean = create_model(data=df_clean, cont=continuous_features, cat=categorical_features)"
   ]
  },
  {
   "cell_type": "code",
   "execution_count": null,
   "metadata": {
    "ExecuteTime": {
     "end_time": "2021-07-14T16:04:54.290864Z",
     "start_time": "2021-07-14T16:04:54.151147Z"
    },
    "hidden": true
   },
   "outputs": [],
   "source": [
    "type(model)"
   ]
  },
  {
   "cell_type": "markdown",
   "metadata": {
    "heading_collapsed": true,
    "hidden": true,
    "id": "6oXGAE6Wsq2Y"
   },
   "source": [
    "## Recommendations based on Inferential Modeling"
   ]
  },
  {
   "cell_type": "markdown",
   "metadata": {
    "hidden": true,
    "id": "8bdHGFCCsq2Y"
   },
   "source": [
    "If a homeowner is interested in renovating their house, I would recommend the following improvements based on the high coefficients from my model.\n",
    "\n",
    "* Add bathrooms\n",
    "* Also consider adding bedrooms\n",
    "* Use high-quality materials in renovations\n",
    "\n",
    "While it is outside of the homeowner's ability to change, the zip code for a house's location also has a large impact on the price. A prospective buyer should keep the zip code of the area in mind to help determine the prices of the homes there."
   ]
  },
  {
   "cell_type": "code",
   "execution_count": null,
   "metadata": {
    "ExecuteTime": {
     "end_time": "2021-07-14T13:42:26.659626Z",
     "start_time": "2021-07-14T13:42:23.443714Z"
    },
    "hidden": true,
    "id": "qsZS96CYsq2Y",
    "outputId": "39c4ec85-108f-471a-ec32-8a744974ff48"
   },
   "outputs": [],
   "source": [
    "## Visualizing the impact of number of bathrooms on price\n",
    "sns.regplot(data=df_clean, x=\"bathrooms\", y='price')\n",
    "plt.suptitle('Impact of Number of Bathrooms on Price')\n",
    "plt.xlabel('Number of Bathrooms')\n",
    "plt.ylabel('Price ($)');"
   ]
  },
  {
   "cell_type": "code",
   "execution_count": null,
   "metadata": {
    "ExecuteTime": {
     "end_time": "2021-07-14T13:42:29.126675Z",
     "start_time": "2021-07-14T13:42:26.662629Z"
    },
    "hidden": true,
    "id": "asT9x0w_sq2Z",
    "outputId": "f7abd67e-df96-4273-e692-287f9fa6833d"
   },
   "outputs": [],
   "source": [
    "## Visualizing impact of number of bedrooms on price\n",
    "sns.regplot(data=df_clean, x=\"bedrooms\", y='price')\n",
    "plt.suptitle('Impact of Number of Bedrooms on Price')\n",
    "plt.xlabel('Number of Bedrooms')\n",
    "plt.ylabel('Price ($)');"
   ]
  },
  {
   "cell_type": "code",
   "execution_count": null,
   "metadata": {
    "ExecuteTime": {
     "end_time": "2021-07-14T13:42:32.088730Z",
     "start_time": "2021-07-14T13:42:29.129675Z"
    },
    "hidden": true,
    "id": "BWraZ1qbsq2Z",
    "outputId": "38a2d3d7-a999-4a6f-9d52-ec2980b36679"
   },
   "outputs": [],
   "source": [
    "## Visualizing impact of the grade of construction materials on price\n",
    "sns.regplot(data=df_clean, x=\"grade\", y='price')\n",
    "plt.suptitle('Impact of Grade of Materials on Price')\n",
    "plt.xlabel('Grade of Materials')\n",
    "plt.ylabel('Price ($)');"
   ]
  },
  {
   "cell_type": "code",
   "execution_count": null,
   "metadata": {
    "ExecuteTime": {
     "end_time": "2021-07-14T13:42:38.153848Z",
     "start_time": "2021-07-14T13:42:32.090728Z"
    },
    "hidden": true,
    "id": "p4bKXY8Qsq2Z",
    "outputId": "05dae25b-fc6f-4742-a21f-9b8b7c6d1a45",
    "scrolled": false
   },
   "outputs": [],
   "source": [
    "## Representing the diversity of prices based on zip codes\n",
    "\n",
    "fg = sns.catplot(data=df_clean, x=\"zipcode\", y='price', aspect=2.75, height=5)\n",
    "fg.ax.set_xticklabels(fg.ax.get_xticklabels(), rotation=45, ha='right')\n",
    "plt.suptitle('Impact of Zip Code on Price')\n",
    "plt.xlabel('Zip Code')\n",
    "plt.ylabel('Price ($)');"
   ]
  },
  {
   "cell_type": "markdown",
   "metadata": {
    "heading_collapsed": true,
    "id": "gveTdOoZsq2a"
   },
   "source": [
    "# **(Old) Modeling with SKLearn**"
   ]
  },
  {
   "cell_type": "markdown",
   "metadata": {
    "hidden": true,
    "id": "xJ5wrQk5sq2a"
   },
   "source": [
    "Now that I have a working model, I want to go ahead and test it to see how well it works. I will split the data in a 75/25 split into two groups; train a model on the 75%; and then compare it against the remaining 25%. \n",
    "\n",
    "**My goal is to have a Root Mean Squared Error (RMSE) less than 200,000.**"
   ]
  },
  {
   "cell_type": "markdown",
   "metadata": {
    "heading_collapsed": true,
    "hidden": true,
    "id": "WR15-KmDsq2a"
   },
   "source": [
    "## ID Features, Target"
   ]
  },
  {
   "cell_type": "markdown",
   "metadata": {
    "hidden": true,
    "id": "u081atqUsq2a"
   },
   "source": [
    "First, I want to establish the features I want to use in my testing and my target variable (in this case, price)."
   ]
  },
  {
   "cell_type": "code",
   "execution_count": null,
   "metadata": {
    "ExecuteTime": {
     "end_time": "2021-07-14T20:25:41.222593Z",
     "start_time": "2021-07-14T20:25:41.008593Z"
    },
    "hidden": true,
    "id": "LdpaAR3osq2a"
   },
   "outputs": [],
   "source": [
    "# ## Save the features that we used previously - I will use these features \n",
    "# ## to fit my model.\n",
    "\n",
    "# X = df[['was_renovated','waterfront', 'zipcode',\n",
    "#             'yrs_since_reno', 'bedrooms', 'bathrooms', 'condition','grade']].copy()"
   ]
  },
  {
   "cell_type": "code",
   "execution_count": null,
   "metadata": {
    "ExecuteTime": {
     "end_time": "2021-07-14T20:25:41.503593Z",
     "start_time": "2021-07-14T20:25:41.286592Z"
    },
    "hidden": true,
    "id": "J_k1iObRsq2a"
   },
   "outputs": [],
   "source": [
    "# ## Creating the y values by setting them equal to the 'price' values from the dataframe\n",
    "\n",
    "# y = df['price'].copy()"
   ]
  },
  {
   "cell_type": "code",
   "execution_count": null,
   "metadata": {
    "ExecuteTime": {
     "end_time": "2021-07-14T20:25:44.933598Z",
     "start_time": "2021-07-14T20:25:44.703598Z"
    },
    "hidden": true,
    "id": "cZKZ4CKisq2b",
    "outputId": "d3a55f62-df0c-46c1-d4af-48cf8bbda1cd"
   },
   "outputs": [],
   "source": [
    "# ## Verifying the two groups are of equal length\n",
    "\n",
    "# print(X.shape[0] == y.shape[0])"
   ]
  },
  {
   "cell_type": "markdown",
   "metadata": {
    "heading_collapsed": true,
    "hidden": true,
    "id": "z3zhfDCMsq2b"
   },
   "source": [
    "## Create Train/Test Split"
   ]
  },
  {
   "cell_type": "markdown",
   "metadata": {
    "hidden": true,
    "id": "Ywgx91Sisq2b"
   },
   "source": [
    "Now I will split the data into the train/test groups. Then, I will run the first linear regression on the \"train\" data, then another regression on the \"test\" data."
   ]
  },
  {
   "cell_type": "code",
   "execution_count": null,
   "metadata": {
    "ExecuteTime": {
     "end_time": "2021-07-14T20:25:49.192618Z",
     "start_time": "2021-07-14T20:25:48.943638Z"
    },
    "hidden": true,
    "id": "1lMgryRqsq2b"
   },
   "outputs": [],
   "source": [
    "# ## Establishing the train and test data before doing anything else\n",
    "\n",
    "# X_train, X_test, y_train, y_test = train_test_split(X, y, test_size=0.25,\n",
    "#                                                     random_state=5)"
   ]
  },
  {
   "cell_type": "code",
   "execution_count": null,
   "metadata": {
    "ExecuteTime": {
     "end_time": "2021-07-14T20:25:53.227612Z",
     "start_time": "2021-07-14T20:25:52.993616Z"
    },
    "hidden": true,
    "id": "X6dWiRDNsq2b"
   },
   "outputs": [],
   "source": [
    "# ## Using OneHotEncoder to create columns for the categorical variables.\n",
    "\n",
    "# ## Create list of categorical variables\n",
    "# cat_feats = ['condition','grade', 'zipcode']\n",
    "\n",
    "# ## Create the OHE without \"drop='first\" as it would throw an error in this case\n",
    "# ohe = OneHotEncoder(handle_unknown = 'ignore', sparse=False)\n",
    "\n",
    "# ## Using OHE on our categorical variables for training (NOT testing)\n",
    "# train_ohe = ohe.fit_transform(X_train[cat_feats])\n",
    "# test_ohe = ohe.transform(X_test[cat_feats])"
   ]
  },
  {
   "cell_type": "code",
   "execution_count": null,
   "metadata": {
    "ExecuteTime": {
     "end_time": "2021-07-14T20:25:56.485616Z",
     "start_time": "2021-07-14T20:25:56.272625Z"
    },
    "hidden": true,
    "id": "Cv7nd8pgsq2b"
   },
   "outputs": [],
   "source": [
    "# ## Getting feature names from our list of categories\n",
    "# feat_col_name = ohe.get_feature_names(cat_feats)"
   ]
  },
  {
   "cell_type": "code",
   "execution_count": null,
   "metadata": {
    "ExecuteTime": {
     "end_time": "2021-07-14T13:42:38.307848Z",
     "start_time": "2021-07-14T13:42:38.295852Z"
    },
    "hidden": true,
    "id": "K7_nby2tsq2b"
   },
   "outputs": [],
   "source": [
    "# ## Creating dataframes from the results of our fit&transform and transform\n",
    "\n",
    "# train_ohe_df = pd.DataFrame(train_ohe, columns=feat_col_name, index=X_train.index)\n",
    "\n",
    "# test_ohe_df = pd.DataFrame(test_ohe, columns=feat_col_name, index=X_test.index)"
   ]
  },
  {
   "cell_type": "code",
   "execution_count": null,
   "metadata": {
    "ExecuteTime": {
     "end_time": "2021-07-14T13:42:38.495853Z",
     "start_time": "2021-07-14T13:42:38.309850Z"
    },
    "hidden": true,
    "id": "1UqkMFNvsq2d",
    "outputId": "e2e26798-5f70-4fc1-a208-fb852d597903"
   },
   "outputs": [],
   "source": [
    "# ## Reviewing one of the resulting dataframes\n",
    "# test_ohe_df"
   ]
  },
  {
   "cell_type": "code",
   "execution_count": null,
   "metadata": {
    "ExecuteTime": {
     "end_time": "2021-07-14T13:42:38.542853Z",
     "start_time": "2021-07-14T13:42:38.497853Z"
    },
    "hidden": true,
    "id": "0dkYNPEpsq2d",
    "outputId": "3d7ae6a8-0f7d-40ae-fb29-aa8fd86fb57c"
   },
   "outputs": [],
   "source": [
    "# ## Reviewing the training dataset\n",
    "# X_train"
   ]
  },
  {
   "cell_type": "code",
   "execution_count": null,
   "metadata": {
    "ExecuteTime": {
     "end_time": "2021-07-14T13:42:38.574856Z",
     "start_time": "2021-07-14T13:42:38.545854Z"
    },
    "hidden": true,
    "id": "jZpbJz5esq2e"
   },
   "outputs": [],
   "source": [
    "# ## Concatenating the two training dataframes after OHE\n",
    "# X_train_ohe = pd.concat([X_train.drop(cat_feats, axis=1), train_ohe_df], axis=1)"
   ]
  },
  {
   "cell_type": "code",
   "execution_count": null,
   "metadata": {
    "ExecuteTime": {
     "end_time": "2021-07-14T13:42:38.826860Z",
     "start_time": "2021-07-14T13:42:38.578864Z"
    },
    "hidden": true,
    "id": "PA-j80S_sq2e",
    "outputId": "a3cce813-49ab-452b-9fc8-af8f8a62cd6c"
   },
   "outputs": [],
   "source": [
    "# ## Concatenating the two test dataframes after OHE\n",
    "# X_test_ohe = pd.concat([X_test.drop(cat_feats, axis=1), test_ohe_df], axis=1)\n",
    "# X_test_ohe"
   ]
  },
  {
   "cell_type": "markdown",
   "metadata": {
    "heading_collapsed": true,
    "hidden": true,
    "id": "Sj0kz257sq2e"
   },
   "source": [
    "## Fitting the Model"
   ]
  },
  {
   "cell_type": "markdown",
   "metadata": {
    "hidden": true,
    "id": "I0cR-Z66sq2e"
   },
   "source": [
    "Now I will create the linear regression model."
   ]
  },
  {
   "cell_type": "code",
   "execution_count": null,
   "metadata": {
    "ExecuteTime": {
     "end_time": "2021-07-14T13:42:39.016864Z",
     "start_time": "2021-07-14T13:42:38.829859Z"
    },
    "hidden": true,
    "id": "J83jJJVRsq2e",
    "outputId": "9f7da6d8-be3b-46ab-dee0-3b8a4eb1fb3e"
   },
   "outputs": [],
   "source": [
    "# ## Instantiating the model and fitting it\n",
    "# lr = LinearRegression()\n",
    "\n",
    "# lr.fit(X_train_ohe, y_train)"
   ]
  },
  {
   "cell_type": "code",
   "execution_count": null,
   "metadata": {
    "ExecuteTime": {
     "end_time": "2021-07-14T13:42:39.079864Z",
     "start_time": "2021-07-14T13:42:39.019867Z"
    },
    "hidden": true,
    "id": "lAh3ti0usq2e",
    "outputId": "ba593559-654c-4531-d6f5-b04409ad0638"
   },
   "outputs": [],
   "source": [
    "# ## Checking the R^2 for train and test\n",
    "\n",
    "# train_r = lr.score(X_train_ohe, y_train)\n",
    "# print(f'R-Square value for training data is {round(train_r,3)}.')\n",
    "\n",
    "# test_r = lr.score(X_test_ohe, y_test)\n",
    "# print(f'R-Square value for test data is {round(test_r,3)}.')\n",
    "\n",
    "# ## Getting model coefficients\n",
    "# train_coef = pd.Series(lr.coef_, index=X_train_ohe.columns)\n",
    "# train_coef['intercept'] = lr.intercept_\n",
    "\n",
    "# ## Displaying resulting features and coefficients\n",
    "# train_coef.sort_values(ascending=False)#.plot(kind='barh');"
   ]
  },
  {
   "cell_type": "code",
   "execution_count": null,
   "metadata": {
    "ExecuteTime": {
     "end_time": "2021-07-14T13:42:39.110864Z",
     "start_time": "2021-07-14T13:42:39.082864Z"
    },
    "hidden": true,
    "id": "00phmaVcsq2f"
   },
   "outputs": [],
   "source": [
    "# ## Determining predictions for training data\n",
    "\n",
    "# y_train_pred = lr.predict(X_train_ohe)\n",
    "\n",
    "# ## Determining predictions for test data\n",
    "\n",
    "# y_test_pred = lr.predict(X_test_ohe)"
   ]
  },
  {
   "cell_type": "markdown",
   "metadata": {
    "heading_collapsed": true,
    "hidden": true,
    "id": "uC7TS-Ytsq2f"
   },
   "source": [
    "## Evaluate Performance"
   ]
  },
  {
   "cell_type": "markdown",
   "metadata": {
    "hidden": true,
    "id": "11EVLGXgsq2f"
   },
   "source": [
    "Let's see how it performed against the test dataset!"
   ]
  },
  {
   "cell_type": "code",
   "execution_count": null,
   "metadata": {
    "ExecuteTime": {
     "end_time": "2021-07-14T20:23:35.488422Z",
     "start_time": "2021-07-14T20:23:35.234425Z"
    },
    "hidden": true,
    "id": "up44Qsbasq2f",
    "outputId": "c9f02071-6a14-4394-c518-aac281b72c79"
   },
   "outputs": [],
   "source": [
    "# eval_perf_train(lr,X_train, y_train)"
   ]
  },
  {
   "cell_type": "code",
   "execution_count": null,
   "metadata": {
    "ExecuteTime": {
     "end_time": "2021-07-14T13:42:39.174864Z",
     "start_time": "2021-07-14T13:42:39.144866Z"
    },
    "hidden": true,
    "id": "hcFNM96ysq2f",
    "outputId": "2102dd56-1199-4eb2-b174-c2fd1a2cb6e6",
    "scrolled": true
   },
   "outputs": [],
   "source": [
    "# ## Calculating scores for test model\n",
    "\n",
    "# test_mae = metrics.mean_absolute_error(y_test, y_test_pred)\n",
    "# test_mse = metrics.mean_squared_error(y_test, y_test_pred)\n",
    "# test_rmse = np.sqrt(metrics.mean_squared_error(y_test, y_test_pred))\n",
    "\n",
    "# print(f'Mean Absolute Error: {test_mae:,.2f}')\n",
    "# print(f'Mean Squared Error: {test_mse:,.2f}')\n",
    "# print()\n",
    "# print(f'Root Mean Squared Error: {test_rmse:,.2f}')\n",
    "# test_r = lr.score(X_test_ohe, y_test)\n",
    "# print(f'R-Square value for test data is {round(test_r,2)}.')"
   ]
  },
  {
   "cell_type": "markdown",
   "metadata": {
    "heading_collapsed": true,
    "hidden": true,
    "id": "XBqd_9G3sq2f"
   },
   "source": [
    "## Comparing Results"
   ]
  },
  {
   "cell_type": "code",
   "execution_count": null,
   "metadata": {
    "ExecuteTime": {
     "end_time": "2021-07-14T13:42:39.190865Z",
     "start_time": "2021-07-14T13:42:39.177866Z"
    },
    "hidden": true,
    "id": "gurpyNr8sq2g",
    "outputId": "ed6c1bfe-1df1-42e3-cc3f-68f08bec65aa",
    "scrolled": true
   },
   "outputs": [],
   "source": [
    "# ## Calculating difference between RMSE(Training) and RMSE(Test)\n",
    "\n",
    "# print('Our RMSE values for each set:')\n",
    "# print(f'Train RMSE: {train_rmse:,.2f}')\n",
    "# print(f'Test RMSE: {test_rmse:,.2f}')\n",
    "\n",
    "# diff = train_rmse - test_rmse\n",
    "\n",
    "# print()\n",
    "# print(f'The difference in RMSE between our training and test sets is {diff:,.2f}.')"
   ]
  },
  {
   "cell_type": "markdown",
   "metadata": {
    "heading_collapsed": true,
    "hidden": true,
    "id": "HnP7OWpnsq2i"
   },
   "source": [
    "## ✨ Verifying Assumptions ✨"
   ]
  },
  {
   "cell_type": "code",
   "execution_count": null,
   "metadata": {
    "ExecuteTime": {
     "end_time": "2021-07-14T13:42:39.206866Z",
     "start_time": "2021-07-14T13:42:39.193868Z"
    },
    "hidden": true,
    "id": "OFnElN0Rsq2i",
    "outputId": "ee26d375-8ed7-43ab-cabe-c1b9b3e9315b"
   },
   "outputs": [],
   "source": [
    "# ## Determining residuals\n",
    "# residuals = (y_test - y_test_pred)\n",
    "# residuals"
   ]
  },
  {
   "cell_type": "code",
   "execution_count": null,
   "metadata": {
    "ExecuteTime": {
     "end_time": "2021-07-14T13:42:39.836878Z",
     "start_time": "2021-07-14T13:42:39.209868Z"
    },
    "hidden": true,
    "id": "DTQ2Xg_6sq2i",
    "outputId": "077a363d-27d8-462a-9bf5-718857b37f96"
   },
   "outputs": [],
   "source": [
    "# ## Plotting to test for normality\n",
    "# sns.histplot(data=residuals);"
   ]
  },
  {
   "cell_type": "code",
   "execution_count": null,
   "metadata": {
    "ExecuteTime": {
     "end_time": "2021-07-14T13:42:42.763935Z",
     "start_time": "2021-07-14T13:42:39.840879Z"
    },
    "hidden": true,
    "id": "-XvKdUZ8sq2i",
    "outputId": "a5d0fd55-9b9b-416d-9c9a-a9cf108cade0",
    "scrolled": true
   },
   "outputs": [],
   "source": [
    "# ## Checking the homoscedasticity of the new model\n",
    "# sns.residplot(x=y_test, y=residuals, lowess=True, color=\"g\");"
   ]
  },
  {
   "cell_type": "markdown",
   "metadata": {
    "heading_collapsed": true,
    "hidden": true,
    "id": "HGls8iMDsq2i"
   },
   "source": [
    "### Interpretation of Model Results"
   ]
  },
  {
   "cell_type": "markdown",
   "metadata": {
    "hidden": true,
    "id": "oQio8WsZsq2j"
   },
   "source": [
    "The model does a great job of explaining the variance between our selected features, with an r-squared value of .79/1.\n",
    "\n",
    "The RMSE for both the training and test sets are below our target of 200,000! Additionally, the difference between the two is within an acceptable range.\n",
    "\n",
    "The assumption tests confirm the assumptions that our residuals would be normally distributed and homoscedastic."
   ]
  },
  {
   "cell_type": "markdown",
   "metadata": {
    "heading_collapsed": true,
    "hidden": true,
    "id": "oiRay-fwsq2j"
   },
   "source": [
    "## Recursive Feature Elimination"
   ]
  },
  {
   "cell_type": "markdown",
   "metadata": {
    "hidden": true,
    "id": "9LfXmFl4sq2j"
   },
   "source": [
    "I have a good model created above, but I'd like to see if changing the features would have an impact for me.\n",
    "\n",
    "**I will use the Recursive Feature Elimination method with Cross Validation to determine another selection of features.**"
   ]
  },
  {
   "cell_type": "code",
   "execution_count": null,
   "metadata": {
    "ExecuteTime": {
     "end_time": "2021-07-14T13:42:42.779933Z",
     "start_time": "2021-07-14T13:42:42.766935Z"
    },
    "hidden": true,
    "id": "Bna-FQfgsq2j"
   },
   "outputs": [],
   "source": [
    "# ## Creating the settings for the selector\n",
    "# selector = RFECV(estimator=lr, step=2, cv=3, scoring='neg_mean_squared_error', n_jobs=-1, verbose=1)"
   ]
  },
  {
   "cell_type": "code",
   "execution_count": null,
   "metadata": {
    "ExecuteTime": {
     "end_time": "2021-07-14T13:42:52.978130Z",
     "start_time": "2021-07-14T13:42:42.782937Z"
    },
    "hidden": true,
    "id": "-Y7RgkKFsq2j",
    "outputId": "b438b66b-75a9-4f88-dfea-0c7d1019aa3f"
   },
   "outputs": [],
   "source": [
    "# ## Running it on our training data\n",
    "# selector.fit(X_train_ohe, y_train)"
   ]
  },
  {
   "cell_type": "code",
   "execution_count": null,
   "metadata": {
    "ExecuteTime": {
     "end_time": "2021-07-14T13:42:52.993132Z",
     "start_time": "2021-07-14T13:42:52.981131Z"
    },
    "hidden": true,
    "id": "WQB4Bpw4sq2k"
   },
   "outputs": [],
   "source": [
    "# ## Dividing the data into two separate variables for inspection\n",
    "# selected_columns = X_train_ohe.columns[selector.get_support()]\n",
    "# removed_columns = X_train_ohe.columns[~selector.get_support()]"
   ]
  },
  {
   "cell_type": "code",
   "execution_count": null,
   "metadata": {
    "ExecuteTime": {
     "end_time": "2021-07-14T13:42:53.008134Z",
     "start_time": "2021-07-14T13:42:52.996133Z"
    },
    "hidden": true,
    "id": "qo9isA03sq2k",
    "outputId": "032ebecf-95a3-4f0e-fda3-ddd8ec7fe913"
   },
   "outputs": [],
   "source": [
    "# ## Inspecting the columns with the greatest impact according to the RSECV method\n",
    "# list(selected_columns.values)"
   ]
  },
  {
   "cell_type": "code",
   "execution_count": null,
   "metadata": {
    "ExecuteTime": {
     "end_time": "2021-07-14T13:42:53.054131Z",
     "start_time": "2021-07-14T13:42:53.011131Z"
    },
    "hidden": true,
    "id": "BiuOJmKNsq2k",
    "outputId": "f8a77711-f4da-4a33-a8e4-5d7703f933e6"
   },
   "outputs": [],
   "source": [
    "# ## Testing the new list of columns\n",
    "\n",
    "# ## Instantiating a new regression model\n",
    "# lr_rfe = LinearRegression()\n",
    "\n",
    "# ## Fitting the model to the new data\n",
    "# lr_rfe.fit(X_train_ohe[selected_columns], y_train)\n",
    "\n",
    "# # Using the model to create new predictions\n",
    "# y_rfe = lr_rfe.predict(X_train_ohe[selected_columns])\n",
    "\n",
    "# # Determining RMSE for new list of columns and TRAIN data\n",
    "# trainRFE_rmse = np.sqrt(metrics.mean_squared_error(y_train, y_rfe))\n",
    "\n",
    "# print(f'Training Root Mean Squared Error: {trainRFE_rmse:,.2f}')\n",
    "\n",
    "# # Determining RMSE for new list of columns and TEST data\n",
    "# y_pred_rfe = lr_rfe.predict(X_test_ohe[selected_columns])\n",
    "\n",
    "# testRFE_rmse = np.sqrt(metrics.mean_squared_error(y_test, y_pred_rfe))\n",
    "\n",
    "# print(f'Testing Root Mean Squared Error: {testRFE_rmse:,.2f}')\n",
    "\n",
    "# diff2 = trainRFE_rmse - testRFE_rmse\n",
    "# print()\n",
    "# print(f'The difference in RMSE between our training and test sets is {diff2:,.2f}.')"
   ]
  },
  {
   "cell_type": "code",
   "execution_count": null,
   "metadata": {
    "ExecuteTime": {
     "end_time": "2021-07-14T13:42:53.069133Z",
     "start_time": "2021-07-14T13:42:53.057132Z"
    },
    "hidden": true,
    "id": "1yb5B-SDsq2k",
    "outputId": "9604652f-53a4-46b4-9e7e-e8c13e5a21fb"
   },
   "outputs": [],
   "source": [
    "# test_rsq = lr_rfe.score(X_test_ohe[selected_columns], y_test)\n",
    "# print(f'R-Square value for testing data after RFECV is {round(test_rsq,2)}.')"
   ]
  },
  {
   "cell_type": "markdown",
   "metadata": {
    "heading_collapsed": true,
    "hidden": true,
    "id": "TuQUz5_gsq2l"
   },
   "source": [
    "### Interpretation of Results of RFEVC"
   ]
  },
  {
   "cell_type": "markdown",
   "metadata": {
    "hidden": true,
    "id": "nIRmhQuOsq2l"
   },
   "source": [
    "---\n",
    "**Comparing RMSEs from original model to RFECV:**\n",
    "\n",
    "* **Pre-RFECV model results:**\n",
    "   * The R^2 value for both training and testing data was .79 (significant as it is over the .70 threshold).\n",
    "   * *Our RMSE values for each set:*\n",
    "        * Train RMSE: 117,679.79\n",
    "        * Test RMSE: 122,263.56\n",
    "    * The difference in RMSE between our training and test sets is **-4,583.77**.\n",
    "\n",
    "\n",
    " * **Post-RFECV model results:**\n",
    "     * The R^2 value for the test data is .48 (.31 lower than other model, and far below threshold).\n",
    "     * *Our RMSE values for each set:*\n",
    "         * Training Root Mean Squared Error: 182,158.41\n",
    "         * Testing Root Mean Squared Error: 191,360.88\n",
    "     * The difference in RMSE between our training and test sets is **-9,202.47**.\n",
    "\n",
    "---\n",
    "\n",
    "**Final Analysis of RFE method:** The RFE results produced a large decrease in model perfomance as determined by the lower R^2 and lower RMSE values. I will continue using the first model for future predictions.\n",
    "\n",
    "---"
   ]
  },
  {
   "cell_type": "markdown",
   "metadata": {
    "heading_collapsed": true,
    "hidden": true,
    "id": "ePzDV6dysq2l"
   },
   "source": [
    "## Model Testing - Original Data "
   ]
  },
  {
   "cell_type": "markdown",
   "metadata": {
    "hidden": true,
    "id": "-Ej5PdPAsq2l"
   },
   "source": [
    "The model produced above was based on data from which we removed any outliers. I am re-running the tests to determine if there is any difference in the results. \n",
    "\n",
    "**My goal is to have a Root Mean Squared Error (RMSE) less than 200,000.**"
   ]
  },
  {
   "cell_type": "code",
   "execution_count": null,
   "metadata": {
    "ExecuteTime": {
     "end_time": "2021-07-14T13:42:53.318136Z",
     "start_time": "2021-07-14T13:42:53.072134Z"
    },
    "hidden": true
   },
   "outputs": [],
   "source": [
    "# ## Load, recast dtypes\n",
    "\n",
    "# df= pd.read_csv(local_data,parse_dates = ['date'], index_col=0)\n",
    "# df.info()"
   ]
  },
  {
   "cell_type": "code",
   "execution_count": null,
   "metadata": {
    "ExecuteTime": {
     "end_time": "2021-07-14T13:42:53.350137Z",
     "start_time": "2021-07-14T13:42:53.321137Z"
    },
    "hidden": true
   },
   "outputs": [],
   "source": [
    "# df['sqft_basement'] = pd.to_numeric(df['sqft_basement'], errors='coerce')"
   ]
  },
  {
   "cell_type": "code",
   "execution_count": null,
   "metadata": {
    "ExecuteTime": {
     "end_time": "2021-07-14T13:42:53.382139Z",
     "start_time": "2021-07-14T13:42:53.353139Z"
    },
    "hidden": true
   },
   "outputs": [],
   "source": [
    "# df.info()"
   ]
  },
  {
   "cell_type": "markdown",
   "metadata": {
    "heading_collapsed": true,
    "hidden": true,
    "id": "0oIBr13Tsq2l"
   },
   "source": [
    "## ID Features, Target"
   ]
  },
  {
   "cell_type": "code",
   "execution_count": null,
   "metadata": {
    "ExecuteTime": {
     "end_time": "2021-07-14T13:42:53.398138Z",
     "start_time": "2021-07-14T13:42:53.385140Z"
    },
    "hidden": true
   },
   "outputs": [],
   "source": [
    "# cols = ['was_renovated','waterfront', 'zipcode',\n",
    "#             'yrs_since_reno', 'bedrooms', 'bathrooms', 'condition','grade']\n",
    "\n",
    "# [col for col in df.columns if col not in cols]"
   ]
  },
  {
   "cell_type": "code",
   "execution_count": null,
   "metadata": {
    "ExecuteTime": {
     "end_time": "2021-07-14T13:42:53.414140Z",
     "start_time": "2021-07-14T13:42:53.401142Z"
    },
    "hidden": true
   },
   "outputs": [],
   "source": [
    "# drop_cols = ['date', 'lat','long', 'price']"
   ]
  },
  {
   "cell_type": "code",
   "execution_count": null,
   "metadata": {
    "ExecuteTime": {
     "end_time": "2021-07-14T13:42:53.430139Z",
     "start_time": "2021-07-14T13:42:53.417144Z"
    },
    "hidden": true,
    "id": "OU4PKAM1sq2l"
   },
   "outputs": [],
   "source": [
    "# ## Saving the features that I used for inferential modeling - I will use these features \n",
    "# ## to fit my model.\n",
    "\n",
    "# X = df.drop(columns = drop_cols).copy()"
   ]
  },
  {
   "cell_type": "code",
   "execution_count": null,
   "metadata": {
    "ExecuteTime": {
     "end_time": "2021-07-14T13:42:53.476142Z",
     "start_time": "2021-07-14T13:42:53.433141Z"
    },
    "hidden": true
   },
   "outputs": [],
   "source": [
    "# X.head()"
   ]
  },
  {
   "cell_type": "code",
   "execution_count": null,
   "metadata": {
    "ExecuteTime": {
     "end_time": "2021-07-14T13:42:53.492141Z",
     "start_time": "2021-07-14T13:42:53.479141Z"
    },
    "hidden": true,
    "id": "me9QULf1sq2l"
   },
   "outputs": [],
   "source": [
    "# ## Creating the y values by setting them equal to the 'price' values from the dataframe\n",
    "\n",
    "# y = df['price'].copy()"
   ]
  },
  {
   "cell_type": "code",
   "execution_count": null,
   "metadata": {
    "ExecuteTime": {
     "end_time": "2021-07-14T13:42:53.507143Z",
     "start_time": "2021-07-14T13:42:53.495141Z"
    },
    "hidden": true,
    "id": "gdxlPa7fsq2l",
    "outputId": "94e25dd6-f2e6-455e-9e64-0b38ccc9ab09"
   },
   "outputs": [],
   "source": [
    "# ## Verifying the two groups are of equal length\n",
    "\n",
    "# print(X.shape[0] == y.shape[0])"
   ]
  },
  {
   "cell_type": "markdown",
   "metadata": {
    "heading_collapsed": true,
    "hidden": true,
    "id": "8uXAq1o9sq2m"
   },
   "source": [
    "## Create Train/Test Split"
   ]
  },
  {
   "cell_type": "markdown",
   "metadata": {
    "hidden": true,
    "id": "mwP6qaTEsq2m"
   },
   "source": [
    "Now I will split the data into the train/test groups. Then, I will run the first linear regression on the \"train\" data, then another regression on the \"test\" data."
   ]
  },
  {
   "cell_type": "code",
   "execution_count": null,
   "metadata": {
    "ExecuteTime": {
     "end_time": "2021-07-14T20:28:17.568571Z",
     "start_time": "2021-07-14T20:28:17.361570Z"
    },
    "hidden": true,
    "id": "VfB9_nl0sq2m"
   },
   "outputs": [],
   "source": [
    "# ## Establishing the train and test data before doing anything else\n",
    "\n",
    "# X_train, X_test, y_train, y_test = train_test_split(X, y, test_size=0.25,\n",
    "#                                                     random_state=5)"
   ]
  },
  {
   "cell_type": "code",
   "execution_count": null,
   "metadata": {
    "ExecuteTime": {
     "end_time": "2021-07-14T20:28:20.695575Z",
     "start_time": "2021-07-14T20:28:20.464577Z"
    },
    "hidden": true
   },
   "outputs": [],
   "source": [
    "# X_train.isna().sum()"
   ]
  },
  {
   "cell_type": "markdown",
   "metadata": {
    "heading_collapsed": true
   },
   "source": [
    "# 🌟 **Creating the Pipeline** 🌟 <a name='pipeline_1'></a> [🔝](#top)"
   ]
  },
  {
   "cell_type": "code",
   "execution_count": null,
   "metadata": {
    "ExecuteTime": {
     "end_time": "2021-07-14T13:42:53.569148Z",
     "start_time": "2021-07-14T13:42:53.557143Z"
    },
    "hidden": true
   },
   "outputs": [],
   "source": [
    "## Instantiate an imputer to add zeroes\n",
    "\n",
    "imp_zero = SimpleImputer(strategy='constant', fill_value=0)"
   ]
  },
  {
   "cell_type": "code",
   "execution_count": null,
   "metadata": {
    "ExecuteTime": {
     "end_time": "2021-07-14T13:42:53.585144Z",
     "start_time": "2021-07-14T13:42:53.572142Z"
    },
    "hidden": true
   },
   "outputs": [],
   "source": [
    "## Instantiate an imputer to fill values with the mode value\n",
    "\n",
    "imp_mode = SimpleImputer(strategy='most_frequent')"
   ]
  },
  {
   "cell_type": "code",
   "execution_count": null,
   "metadata": {
    "ExecuteTime": {
     "end_time": "2021-07-14T13:42:53.600142Z",
     "start_time": "2021-07-14T13:42:53.588146Z"
    },
    "hidden": true
   },
   "outputs": [],
   "source": [
    "## Instantiate a OneHotEncoder for categorical variables\n",
    "\n",
    "ohe = OneHotEncoder(drop='first', sparse=False)"
   ]
  },
  {
   "cell_type": "code",
   "execution_count": null,
   "metadata": {
    "ExecuteTime": {
     "end_time": "2021-07-14T13:42:53.677146Z",
     "start_time": "2021-07-14T13:42:53.604148Z"
    },
    "hidden": true,
    "scrolled": true
   },
   "outputs": [],
   "source": [
    "## Setting up the individual transformers and then the ColumnTransformer\n",
    "\n",
    "## Adding zeroes for missing values in sqft_basement\n",
    "imp_zero_cols = ['sqft_basement']\n",
    "zero_transformer = Pipeline(steps=[\n",
    "    ('imp_zero',SimpleImputer(strategy='constant', fill_value=0))])\n",
    "\n",
    "\n",
    "## Adding the mode value to view, waterfront, and yr_renovated missing values \n",
    "imp_mode_cols = ['view','waterfront','yr_renovated']\n",
    "mode_transformer = Pipeline(steps=[\n",
    "    ('imp_mode',SimpleImputer(strategy='most_frequent'))])\n",
    "\n",
    "\n",
    "# ## Removed this code due to errors encountered b/t train, test categoricals\n",
    "# ohe_cols = ['condition','grade', 'zipcode']\n",
    "# categorical_transformer = OneHotEncoder(drop='first', sparse=False)\n",
    "\n",
    "\n",
    "## Encoding categoricals - handling errors to prevent issues w/ test set\n",
    "ohe_cols = ['condition','grade', 'zipcode']\n",
    "categorical_transformer = OneHotEncoder(handle_unknown='ignore', sparse=False)\n",
    "\n",
    "\n",
    "## Instantiating the ColumnTransformer to handle the missing values for ea.col.\n",
    "preprocessor = ColumnTransformer(\n",
    "    transformers=[\n",
    "        ('zero', zero_transformer, imp_zero_cols),\n",
    "        ('mode', mode_transformer, imp_mode_cols),\n",
    "        ('cats', categorical_transformer, ohe_cols)])\n",
    "\n",
    "preprocessor"
   ]
  },
  {
   "cell_type": "code",
   "execution_count": null,
   "metadata": {
    "ExecuteTime": {
     "end_time": "2021-07-14T13:42:53.739145Z",
     "start_time": "2021-07-14T13:42:53.680145Z"
    },
    "hidden": true
   },
   "outputs": [],
   "source": [
    "## Fit and transform the data via the ColumnTransformer\n",
    "X_train_tf = preprocessor.fit_transform(X_train)"
   ]
  },
  {
   "cell_type": "code",
   "execution_count": null,
   "metadata": {
    "ExecuteTime": {
     "end_time": "2021-07-14T13:42:53.755147Z",
     "start_time": "2021-07-14T13:42:53.742145Z"
    },
    "hidden": true
   },
   "outputs": [],
   "source": [
    "## Getting feature names from OHE\n",
    "ohe_cat_names = preprocessor.named_transformers_['cats'].get_feature_names(ohe_cols)\n",
    "ohe_cat_names"
   ]
  },
  {
   "cell_type": "code",
   "execution_count": null,
   "metadata": {
    "ExecuteTime": {
     "end_time": "2021-07-14T13:42:53.770149Z",
     "start_time": "2021-07-14T13:42:53.760147Z"
    },
    "hidden": true
   },
   "outputs": [],
   "source": [
    "## Generating list for column index\n",
    "final_cols = [*imp_zero_cols, *imp_mode_cols, *ohe_cat_names]"
   ]
  },
  {
   "cell_type": "code",
   "execution_count": null,
   "metadata": {
    "ExecuteTime": {
     "end_time": "2021-07-14T13:42:54.082153Z",
     "start_time": "2021-07-14T13:42:53.780147Z"
    },
    "hidden": true
   },
   "outputs": [],
   "source": [
    "## Instantiating a DF storing the resulting transformed training data\n",
    "X_train_tf_df = pd.DataFrame(X_train_tf, columns=final_cols, index=X_train.index)\n",
    "X_train_tf_df"
   ]
  },
  {
   "cell_type": "code",
   "execution_count": null,
   "metadata": {
    "ExecuteTime": {
     "end_time": "2021-07-14T13:42:54.128155Z",
     "start_time": "2021-07-14T13:42:54.085153Z"
    },
    "hidden": true
   },
   "outputs": [],
   "source": [
    "## Transforming the test set\n",
    "X_test_tf = preprocessor.transform(X_test)\n",
    "X_test_tf"
   ]
  },
  {
   "cell_type": "code",
   "execution_count": null,
   "metadata": {
    "ExecuteTime": {
     "end_time": "2021-07-14T13:42:54.473163Z",
     "start_time": "2021-07-14T13:42:54.132154Z"
    },
    "hidden": true,
    "scrolled": true
   },
   "outputs": [],
   "source": [
    "## Creating DF for test data\n",
    "X_test_tf_df = pd.DataFrame(X_test_tf, columns=final_cols, index=X_test.index)\n",
    "X_test_tf_df"
   ]
  },
  {
   "cell_type": "code",
   "execution_count": null,
   "metadata": {
    "ExecuteTime": {
     "end_time": "2021-07-14T13:42:55.016172Z",
     "start_time": "2021-07-14T13:42:54.476164Z"
    },
    "hidden": true
   },
   "outputs": [],
   "source": [
    "sm_reg = sms.OLS(y_train, X_train_tf_df).fit()\n",
    "sm_reg.summary()"
   ]
  },
  {
   "cell_type": "code",
   "execution_count": null,
   "metadata": {
    "ExecuteTime": {
     "end_time": "2021-07-14T13:42:55.031173Z",
     "start_time": "2021-07-14T13:42:55.019171Z"
    },
    "hidden": true
   },
   "outputs": [],
   "source": [
    "sm_reg.params"
   ]
  },
  {
   "cell_type": "code",
   "execution_count": null,
   "metadata": {
    "ExecuteTime": {
     "end_time": "2021-07-14T13:42:55.046171Z",
     "start_time": "2021-07-14T13:42:55.035174Z"
    },
    "hidden": true
   },
   "outputs": [],
   "source": [
    "## Creating full pipeline with ColumnTransformer and LinearRegression\n",
    "reg_pipe = Pipeline(steps=[('preprocessor', preprocessor),\n",
    "                      ('regressor', LinearRegression(fit_intercept=True))])"
   ]
  },
  {
   "cell_type": "code",
   "execution_count": null,
   "metadata": {
    "ExecuteTime": {
     "end_time": "2021-07-14T13:42:55.577181Z",
     "start_time": "2021-07-14T13:42:55.050172Z"
    },
    "hidden": true
   },
   "outputs": [],
   "source": [
    "## Fittng pipeline to the training data\n",
    "reg_pipe.fit(X_train, y_train)"
   ]
  },
  {
   "cell_type": "code",
   "execution_count": null,
   "metadata": {
    "ExecuteTime": {
     "end_time": "2021-07-14T13:42:55.623178Z",
     "start_time": "2021-07-14T13:42:55.580183Z"
    },
    "hidden": true
   },
   "outputs": [],
   "source": [
    "## Running the pipeline on the training data\n",
    "y_hat_train = reg_pipe.predict(X_train)\n",
    "y_hat_train"
   ]
  },
  {
   "cell_type": "code",
   "execution_count": null,
   "metadata": {
    "ExecuteTime": {
     "end_time": "2021-07-14T13:42:55.669183Z",
     "start_time": "2021-07-14T13:42:55.626186Z"
    },
    "hidden": true
   },
   "outputs": [],
   "source": [
    "## Running the pipeline on the testing data\n",
    "y_hat_test = reg_pipe.predict(X_test)\n",
    "y_hat_test"
   ]
  },
  {
   "cell_type": "code",
   "execution_count": null,
   "metadata": {
    "ExecuteTime": {
     "end_time": "2021-07-14T13:42:55.685183Z",
     "start_time": "2021-07-14T13:42:55.673184Z"
    },
    "hidden": true
   },
   "outputs": [],
   "source": [
    "reg_pipe['regressor'].intercept_"
   ]
  },
  {
   "cell_type": "code",
   "execution_count": null,
   "metadata": {
    "ExecuteTime": {
     "end_time": "2021-07-14T13:42:55.701182Z",
     "start_time": "2021-07-14T13:42:55.688187Z"
    },
    "hidden": true
   },
   "outputs": [],
   "source": [
    "pd.set_option('display.float_format', lambda x: f'{x:,.2f}')"
   ]
  },
  {
   "cell_type": "code",
   "execution_count": null,
   "metadata": {
    "ExecuteTime": {
     "end_time": "2021-07-14T13:42:55.717185Z",
     "start_time": "2021-07-14T13:42:55.704182Z"
    },
    "hidden": true
   },
   "outputs": [],
   "source": [
    "pipe_coefs = pd.Series(reg_pipe['regressor'].coef_, index=final_cols)\n",
    "pipe_coefs['intercept'] = reg_pipe['regressor'].intercept_\n",
    "pipe_coefs.head(20)"
   ]
  },
  {
   "cell_type": "code",
   "execution_count": null,
   "metadata": {
    "ExecuteTime": {
     "end_time": "2021-07-14T20:29:26.997697Z",
     "start_time": "2021-07-14T20:29:26.767695Z"
    },
    "hidden": true,
    "scrolled": true
   },
   "outputs": [],
   "source": [
    "eval_perf_train(reg_pipe, X_train, y_train)"
   ]
  },
  {
   "cell_type": "code",
   "execution_count": null,
   "metadata": {
    "ExecuteTime": {
     "end_time": "2021-07-14T20:29:27.451695Z",
     "start_time": "2021-07-14T20:29:27.208698Z"
    },
    "hidden": true
   },
   "outputs": [],
   "source": [
    "eval_perf_test(reg_pipe, X_test, y_test)"
   ]
  },
  {
   "cell_type": "code",
   "execution_count": null,
   "metadata": {
    "ExecuteTime": {
     "end_time": "2021-07-14T13:42:55.859186Z",
     "start_time": "2021-07-14T13:42:55.846189Z"
    },
    "hidden": true
   },
   "outputs": [],
   "source": [
    "# ## Evaluating performance of training model\n",
    "\n",
    "# train_mae = metrics.mean_absolute_error(y_train, y_hat_train)\n",
    "# train_mse = metrics.mean_squared_error(y_train, y_hat_train)\n",
    "# train_rmse = np.sqrt(metrics.mean_squared_error(y_train, y_hat_train))\n",
    "# train_r = metrics.r2_score(y_train, y_hat_train)\n",
    "\n",
    "# print('Evaluating performance of training data:\\n')\n",
    "# print(f'Mean Absolute Error: {train_mae:,.2f}')\n",
    "# print(f'Mean Squared Error:  {train_mse:,.2f}\\n')\n",
    "# print(f'Root Mean Squared Error: {train_rmse:,.2f}')\n",
    "# print(f'R-Square value for training data: {round(train_r,2)}')"
   ]
  },
  {
   "cell_type": "code",
   "execution_count": null,
   "metadata": {
    "ExecuteTime": {
     "end_time": "2021-07-14T13:42:55.889186Z",
     "start_time": "2021-07-14T13:42:55.863185Z"
    },
    "hidden": true
   },
   "outputs": [],
   "source": [
    "# ## Evaluating performance of testing model\n",
    "\n",
    "# test_mae = metrics.mean_absolute_error(y_test, y_hat_test)\n",
    "# test_mse = metrics.mean_squared_error(y_test, y_hat_test)\n",
    "# test_rmse = np.sqrt(metrics.mean_squared_error(y_test, y_hat_test))\n",
    "# test_r = metrics.r2_score(y_test, y_hat_test)\n",
    "\n",
    "# print('Evaluating performance of testing data:\\n')\n",
    "# print(f'Mean Absolute Error: {test_mae:,.2f}')\n",
    "# print(f'Mean Squared Error:  {test_mse:,.2f}\\n')\n",
    "# print(f'Root Mean Squared Error: {test_rmse:,.2f}')\n",
    "# print(f'R-Square value for testing data: {round(test_r,2)}')"
   ]
  },
  {
   "cell_type": "code",
   "execution_count": null,
   "metadata": {
    "ExecuteTime": {
     "end_time": "2021-07-14T13:42:57.423217Z",
     "start_time": "2021-07-14T13:42:55.892188Z"
    },
    "hidden": true
   },
   "outputs": [],
   "source": [
    "# Creating first GridSearchCV to determine best parameters for LinReg\n",
    "\n",
    "param_grid = {'fit_intercept': [True, False]}\n",
    "ex_grid = GridSearchCV(LinearRegression(), param_grid, verbose=True,\n",
    "                   scoring='r2')\n",
    "ex_grid.fit(X_train_tf_df, y_train)\n",
    "display(ex_grid.best_params_)\n",
    "display(ex_grid.best_score_)\n",
    "display(ex_grid.best_estimator_)\n",
    "display(ex_grid.get_params())"
   ]
  },
  {
   "cell_type": "code",
   "execution_count": null,
   "metadata": {
    "ExecuteTime": {
     "end_time": "2021-07-14T13:42:57.439217Z",
     "start_time": "2021-07-14T13:42:57.426218Z"
    },
    "hidden": true
   },
   "outputs": [],
   "source": [
    "## Results in a DF format\n",
    "# pd.DataFrame(reg.cv_results_).T"
   ]
  },
  {
   "cell_type": "code",
   "execution_count": null,
   "metadata": {
    "ExecuteTime": {
     "end_time": "2021-07-14T13:42:57.455220Z",
     "start_time": "2021-07-14T13:42:57.442217Z"
    },
    "hidden": true
   },
   "outputs": [],
   "source": [
    "## Performing GSCV on test data\n",
    "y_hat_test = ex_grid.predict(X_test_tf_df)\n",
    "y_hat_test"
   ]
  },
  {
   "cell_type": "code",
   "execution_count": null,
   "metadata": {
    "hidden": true
   },
   "outputs": [],
   "source": [
    "eval_perf_test(ex_grid, X_test, y_test)"
   ]
  },
  {
   "cell_type": "code",
   "execution_count": null,
   "metadata": {
    "ExecuteTime": {
     "end_time": "2021-07-14T13:42:57.486222Z",
     "start_time": "2021-07-14T13:42:57.458223Z"
    },
    "hidden": true
   },
   "outputs": [],
   "source": [
    "# ## Evaluating model peformance\n",
    "\n",
    "# test_mae = metrics.mean_absolute_error(y_test, y_hat_test)\n",
    "# test_mse = metrics.mean_squared_error(y_test, y_hat_test)\n",
    "# test_rmse = np.sqrt(metrics.mean_squared_error(y_test, y_hat_test))\n",
    "# test_r = metrics.r2_score(y_test, y_hat_test)\n",
    "\n",
    "# print('Evaluating performance of testing data.')\n",
    "# print()\n",
    "# print(f'Mean Absolute Error: {test_mae:,.2f}')\n",
    "# print(f'Mean Squared Error:  {test_mse:,.2f}')\n",
    "# print()\n",
    "# print(f'Root Mean Squared Error: {test_rmse:,.2f}')\n",
    "# print(f'R-Square value for testing data is {round(test_r,2)}.')"
   ]
  },
  {
   "cell_type": "code",
   "execution_count": null,
   "metadata": {
    "ExecuteTime": {
     "end_time": "2021-07-14T13:43:00.565276Z",
     "start_time": "2021-07-14T13:42:57.836224Z"
    },
    "hidden": true
   },
   "outputs": [],
   "source": [
    "## Running gridsearch on pipeline\n",
    "\n",
    "param_grid = {'preprocessor__mode__imp_mode__strategy': ['mean','median',\n",
    "                                                        'most_frequent']}\n",
    "gs_imp_rmse = GridSearchCV(reg_pipe, param_grid, verbose=True,\n",
    "                   scoring='neg_root_mean_squared_error')\n",
    "gs_imp_rmse.fit(X_train, y_train)\n",
    "display(gs_imp_rmse.best_score_, reg.best_params_)"
   ]
  },
  {
   "cell_type": "code",
   "execution_count": null,
   "metadata": {
    "ExecuteTime": {
     "end_time": "2021-07-14T13:43:00.629277Z",
     "start_time": "2021-07-14T13:43:00.569279Z"
    },
    "hidden": true,
    "scrolled": false
   },
   "outputs": [],
   "source": [
    "eval_perf_train(gs_imp_rmse, X_train, y_train)"
   ]
  },
  {
   "cell_type": "code",
   "execution_count": null,
   "metadata": {
    "ExecuteTime": {
     "end_time": "2021-07-14T13:43:00.675279Z",
     "start_time": "2021-07-14T13:43:00.632279Z"
    },
    "hidden": true
   },
   "outputs": [],
   "source": [
    "eval_perf_test(gs_imp_rmse, X_test, y_test)"
   ]
  },
  {
   "cell_type": "code",
   "execution_count": null,
   "metadata": {
    "ExecuteTime": {
     "end_time": "2021-07-14T13:43:03.336331Z",
     "start_time": "2021-07-14T13:43:00.678277Z"
    },
    "hidden": true
   },
   "outputs": [],
   "source": [
    "## Running gridsearch on pipeline\n",
    "\n",
    "param_grid = {'preprocessor__mode__imp_mode__strategy': ['mean','median',\n",
    "                                                        'most_frequent']}\n",
    "gs_imp_r2 = GridSearchCV(reg_pipe, param_grid, verbose=True,\n",
    "                   scoring='r2')\n",
    "gs_imp_r2.fit(X_train, y_train)\n",
    "display(gs_imp_r2.best_score_)\n",
    "display(gs_imp_r2.best_params_)"
   ]
  },
  {
   "cell_type": "code",
   "execution_count": null,
   "metadata": {
    "ExecuteTime": {
     "end_time": "2021-07-14T13:43:03.384334Z",
     "start_time": "2021-07-14T13:43:03.339331Z"
    },
    "hidden": true
   },
   "outputs": [],
   "source": [
    "eval_perf_train(gs_imp_r2, X_train, y_train)"
   ]
  },
  {
   "cell_type": "code",
   "execution_count": null,
   "metadata": {
    "ExecuteTime": {
     "end_time": "2021-07-14T13:43:03.416332Z",
     "start_time": "2021-07-14T13:43:03.388330Z"
    },
    "hidden": true
   },
   "outputs": [],
   "source": [
    "eval_perf_test(gs_imp_r2, X_test, y_test)"
   ]
  },
  {
   "cell_type": "code",
   "execution_count": null,
   "metadata": {
    "ExecuteTime": {
     "end_time": "2021-07-14T13:43:03.447335Z",
     "start_time": "2021-07-14T13:43:03.419331Z"
    },
    "hidden": true,
    "scrolled": false
   },
   "outputs": [],
   "source": [
    "pd.DataFrame(gs_imp_r2.cv_results_)"
   ]
  },
  {
   "cell_type": "markdown",
   "metadata": {
    "heading_collapsed": true
   },
   "source": [
    "# Old Code"
   ]
  },
  {
   "cell_type": "code",
   "execution_count": null,
   "metadata": {
    "ExecuteTime": {
     "end_time": "2021-07-14T13:43:03.493335Z",
     "start_time": "2021-07-14T13:43:03.465333Z"
    },
    "hidden": true,
    "id": "db26Rknfsq2m"
   },
   "outputs": [],
   "source": [
    "# ## Using OneHotEncoder to create columns for the categorical variables.\n",
    "\n",
    "# ## Create list of categorical variables\n",
    "# cat_feats = ['condition','grade', 'zipcode']\n",
    "\n",
    "# ## Create the OHE without \"drop='first\" as it would throw an error in this case\n",
    "# ohe = OneHotEncoder(handle_unknown = 'ignore', sparse=False)\n",
    "\n",
    "# ## Using OHE on our categorical variables for training (NOT testing)\n",
    "# train_ohe = ohe.fit_transform(X_train[cat_feats])\n",
    "# test_ohe = ohe.transform(X_test[cat_feats])"
   ]
  },
  {
   "cell_type": "code",
   "execution_count": null,
   "metadata": {
    "ExecuteTime": {
     "end_time": "2021-07-14T13:43:03.508336Z",
     "start_time": "2021-07-14T13:43:03.496336Z"
    },
    "hidden": true,
    "id": "CjT47QZjsq2m"
   },
   "outputs": [],
   "source": [
    "# ## Getting feature names from our list of categories\n",
    "# feat_col_name = ohe.get_feature_names(cat_feats)"
   ]
  },
  {
   "cell_type": "code",
   "execution_count": null,
   "metadata": {
    "ExecuteTime": {
     "end_time": "2021-07-14T13:43:03.524335Z",
     "start_time": "2021-07-14T13:43:03.511334Z"
    },
    "hidden": true,
    "id": "Ra8XNLjhsq2m"
   },
   "outputs": [],
   "source": [
    "# ## Creating dataframes from the results of our fit&transform and transform\n",
    "\n",
    "# train_ohe_df = pd.DataFrame(train_ohe, columns=feat_col_name, index=X_train.index)\n",
    "\n",
    "# test_ohe_df = pd.DataFrame(test_ohe, columns=feat_col_name, index=X_test.index)"
   ]
  },
  {
   "cell_type": "code",
   "execution_count": null,
   "metadata": {
    "ExecuteTime": {
     "end_time": "2021-07-14T13:43:03.631336Z",
     "start_time": "2021-07-14T13:43:03.527335Z"
    },
    "hidden": true,
    "id": "XQSoFGn3sq2m",
    "outputId": "41e3ee77-7c5b-49c0-e712-2bd84b409e60"
   },
   "outputs": [],
   "source": [
    "# ## Reviewing one of the resulting dataframes\n",
    "# test_ohe_df"
   ]
  },
  {
   "cell_type": "code",
   "execution_count": null,
   "metadata": {
    "ExecuteTime": {
     "end_time": "2021-07-14T13:43:03.677335Z",
     "start_time": "2021-07-14T13:43:03.634335Z"
    },
    "hidden": true,
    "id": "_I0pLUtesq2n",
    "outputId": "dccc7c41-d17c-4fdb-aca8-7024cf45d8ae"
   },
   "outputs": [],
   "source": [
    "# X_train"
   ]
  },
  {
   "cell_type": "code",
   "execution_count": null,
   "metadata": {
    "ExecuteTime": {
     "end_time": "2021-07-14T13:43:03.708335Z",
     "start_time": "2021-07-14T13:43:03.680338Z"
    },
    "hidden": true,
    "id": "EkwUEb4Ysq2n"
   },
   "outputs": [],
   "source": [
    "# ## Combining the training dataframes after performing OHE\n",
    "# X_train_ohe = pd.concat([X_train.drop(cat_feats, axis=1), train_ohe_df], axis=1)"
   ]
  },
  {
   "cell_type": "code",
   "execution_count": null,
   "metadata": {
    "ExecuteTime": {
     "end_time": "2021-07-14T13:43:03.849339Z",
     "start_time": "2021-07-14T13:43:03.711337Z"
    },
    "hidden": true,
    "id": "iPBBWTbXsq2n",
    "outputId": "f36519b2-412a-45f6-e224-57ae64178155"
   },
   "outputs": [],
   "source": [
    "# ## Combining the testing dataframes after performing OHE\n",
    "# X_test_ohe = pd.concat([X_test.drop(cat_feats, axis=1), test_ohe_df], axis=1)\n",
    "# X_test_ohe"
   ]
  },
  {
   "cell_type": "markdown",
   "metadata": {
    "heading_collapsed": true,
    "hidden": true,
    "id": "eQJF4zwCsq2n"
   },
   "source": [
    "## Fitting the Model"
   ]
  },
  {
   "cell_type": "code",
   "execution_count": null,
   "metadata": {
    "ExecuteTime": {
     "end_time": "2021-07-14T13:43:04.743367Z",
     "start_time": "2021-07-14T13:43:03.852339Z"
    },
    "hidden": true,
    "id": "11Z6SSDqsq2o",
    "outputId": "95650380-d38a-4e85-b398-c2d1003960b3"
   },
   "outputs": [],
   "source": [
    "# ## Instantiating the model and fitting it\n",
    "# lr = LinearRegression()\n",
    "\n",
    "# lr.fit(X_train_ohe, y_train)"
   ]
  },
  {
   "cell_type": "code",
   "execution_count": null,
   "metadata": {
    "ExecuteTime": {
     "end_time": "2021-07-14T13:43:04.746359Z",
     "start_time": "2021-07-14T13:41:58.883Z"
    },
    "hidden": true,
    "id": "tHOCVnY6sq2o",
    "outputId": "228f846d-daca-4d01-f081-bd5cea1cb94a"
   },
   "outputs": [],
   "source": [
    "# ## Checking the R^2 for train and test\n",
    "\n",
    "# train_r = lr.score(X_train_ohe, y_train)\n",
    "# print(f'R-Square value for training data is {round(train_r,3)}.')\n",
    "\n",
    "# test_r = lr.score(X_test_ohe, y_test)\n",
    "# print(f'R-Square value for test data is {round(test_r,3)}.')\n",
    "\n",
    "# ## Getting model coefficients\n",
    "# train_coef = pd.Series(lr.coef_, index=X_train_ohe.columns)\n",
    "# train_coef['intercept'] = lr.intercept_\n",
    "\n",
    "# ## Displaying resulting features and coefficients\n",
    "# train_coef.sort_values(ascending=False)[:11]#.plot(kind='barh');"
   ]
  },
  {
   "cell_type": "code",
   "execution_count": null,
   "metadata": {
    "ExecuteTime": {
     "end_time": "2021-07-14T13:43:04.748360Z",
     "start_time": "2021-07-14T13:41:58.895Z"
    },
    "hidden": true,
    "id": "WK-62-cSsq2o"
   },
   "outputs": [],
   "source": [
    "# ## Determining predictions for training data\n",
    "\n",
    "# y_train_pred = lr.predict(X_train_ohe)\n",
    "\n",
    "\n",
    "# ## Determining predictions for test data\n",
    "\n",
    "# y_test_pred = lr.predict(X_test_ohe)\n"
   ]
  },
  {
   "cell_type": "markdown",
   "metadata": {
    "heading_collapsed": true,
    "hidden": true,
    "id": "c6ER9c6wsq2o"
   },
   "source": [
    "## Evaluate Performance"
   ]
  },
  {
   "cell_type": "code",
   "execution_count": null,
   "metadata": {
    "ExecuteTime": {
     "end_time": "2021-07-14T13:43:04.750357Z",
     "start_time": "2021-07-14T13:41:58.906Z"
    },
    "hidden": true,
    "id": "vmuL6AVVsq2o",
    "outputId": "7ad3a0b2-307e-4f59-e2b2-92a4d093652f"
   },
   "outputs": [],
   "source": [
    "# ## Calculating scores for training model\n",
    "\n",
    "# train_mae = metrics.mean_absolute_error(y_train, y_train_pred)\n",
    "# train_mse = metrics.mean_squared_error(y_train, y_train_pred)\n",
    "# train_rmse = np.sqrt(metrics.mean_squared_error(y_train, y_train_pred))\n",
    "\n",
    "# print('Evaluating performance of training data.')\n",
    "# print()\n",
    "# print(f'Mean Absolute Error: {train_mae:,.2f}')\n",
    "# print(f'Mean Squared Error:  {train_mse:,.2f}')\n",
    "# print()\n",
    "# print(f'Root Mean Squared Error: {train_rmse:,.2f}')\n",
    "# train_r = lr.score(X_train_ohe, y_train)\n",
    "# print(f'R-Square value for training data is {round(train_r,2)}.')"
   ]
  },
  {
   "cell_type": "code",
   "execution_count": null,
   "metadata": {
    "ExecuteTime": {
     "end_time": "2021-07-14T13:43:04.752362Z",
     "start_time": "2021-07-14T13:41:58.917Z"
    },
    "hidden": true,
    "id": "qh5WdxiSsq2p",
    "outputId": "8d151602-4bd1-4cff-a106-0fda4f9ce239"
   },
   "outputs": [],
   "source": [
    "# ## Calculating scores for test model\n",
    "\n",
    "# test_mae = metrics.mean_absolute_error(y_test, y_test_pred)\n",
    "# test_mse = metrics.mean_squared_error(y_test, y_test_pred)\n",
    "# test_rmse = np.sqrt(metrics.mean_squared_error(y_test, y_test_pred))\n",
    "\n",
    "# print(f'Mean Absolute Error: {test_mae:,.2f}')\n",
    "# print(f'Mean Squared Error: {test_mse:,.2f}')\n",
    "# print()\n",
    "# print(f'Root Mean Squared Error: {test_rmse:,.2f}')\n",
    "# test_r = lr.score(X_test_ohe, y_test)\n",
    "# print(f'R-Square value for test data is {round(test_r,2)}.')"
   ]
  },
  {
   "cell_type": "markdown",
   "metadata": {
    "heading_collapsed": true,
    "hidden": true,
    "id": "Iggd6QyBsq2p"
   },
   "source": [
    "## Comparing Results"
   ]
  },
  {
   "cell_type": "code",
   "execution_count": null,
   "metadata": {
    "ExecuteTime": {
     "end_time": "2021-07-14T13:43:04.754359Z",
     "start_time": "2021-07-14T13:41:58.928Z"
    },
    "hidden": true,
    "id": "N4Zwe3w1sq2p",
    "outputId": "fd579ecd-94a5-497c-cf01-20906e21f2a7"
   },
   "outputs": [],
   "source": [
    "# ## Calculating difference between RMSE(Training) and RMSE(Test)\n",
    "\n",
    "# print('Our RMSE values for each set:')\n",
    "# print(f'Train RMSE: {train_rmse:,.2f}')\n",
    "# print(f'Test RMSE: {test_rmse:,.2f}')\n",
    "\n",
    "# diff = train_rmse - test_rmse\n",
    "\n",
    "# print()\n",
    "# print(f'The difference in RMSE between our training and test sets is {diff:,.2f}.')"
   ]
  },
  {
   "cell_type": "markdown",
   "metadata": {
    "heading_collapsed": true,
    "hidden": true,
    "id": "N8gXWxkwsq2p"
   },
   "source": [
    "## Testing Assumptions"
   ]
  },
  {
   "cell_type": "code",
   "execution_count": null,
   "metadata": {
    "ExecuteTime": {
     "end_time": "2021-07-14T13:43:04.756358Z",
     "start_time": "2021-07-14T13:41:58.943Z"
    },
    "hidden": true,
    "id": "RK1I3BjNsq2p",
    "outputId": "8f65df47-f769-4ab2-db0e-0a8b8393bb93"
   },
   "outputs": [],
   "source": [
    "## Determining residuals\n",
    "residuals = (y_test - y_test_pred)\n",
    "residuals"
   ]
  },
  {
   "cell_type": "code",
   "execution_count": null,
   "metadata": {
    "ExecuteTime": {
     "end_time": "2021-07-14T13:43:04.758360Z",
     "start_time": "2021-07-14T13:41:58.950Z"
    },
    "hidden": true,
    "id": "8Ki7jgWOsq2q",
    "outputId": "d107272f-03ff-4ec8-c089-2e3f8e62ab38"
   },
   "outputs": [],
   "source": [
    "## Plotting to test for normality\n",
    "sns.histplot(data=residuals);"
   ]
  },
  {
   "cell_type": "code",
   "execution_count": null,
   "metadata": {
    "ExecuteTime": {
     "end_time": "2021-07-14T13:43:04.760358Z",
     "start_time": "2021-07-14T13:41:58.957Z"
    },
    "hidden": true,
    "id": "a_xcXzy0sq2q",
    "outputId": "2411638a-ad62-4290-fa15-923c33b6edc2",
    "scrolled": false
   },
   "outputs": [],
   "source": [
    "## Checking the homoscedasticity of the new model\n",
    "sns.residplot(x=y_test, y=residuals, lowess=True, color=\"g\");"
   ]
  },
  {
   "cell_type": "markdown",
   "metadata": {
    "heading_collapsed": true,
    "hidden": true,
    "id": "PRDdiLI5sq2q"
   },
   "source": [
    "### Interpretation of Model Results"
   ]
  },
  {
   "cell_type": "markdown",
   "metadata": {
    "hidden": true,
    "id": "mWmdMLABsq2q"
   },
   "source": [
    "The model continues to do a job of explaining the variance between our selected features, with an r-squared value of .79/1.\n",
    "\n",
    "The RMSE for both the training and test sets are below our target of 200,000, but higher than our model without the outliers. The difference between the two RMSEs did increase, indicating area for improvement.\n",
    "\n",
    "The assumption tests confirm the assumptions that our residuals would be normally distributed and homoscedastic."
   ]
  },
  {
   "cell_type": "markdown",
   "metadata": {
    "heading_collapsed": true,
    "hidden": true,
    "id": "LO9JgvYJsq2r"
   },
   "source": [
    "## Recursive Feature Elimination"
   ]
  },
  {
   "cell_type": "markdown",
   "metadata": {
    "hidden": true,
    "id": "TBOLHVIrsq2r"
   },
   "source": [
    "The model using the original data performed worse in terms of RMSE, but maintained the R^2 value of .79.\n",
    "\n",
    "Let's see if the RFECV has any impact this time."
   ]
  },
  {
   "cell_type": "code",
   "execution_count": null,
   "metadata": {
    "ExecuteTime": {
     "end_time": "2021-07-14T13:43:04.762358Z",
     "start_time": "2021-07-14T13:41:58.971Z"
    },
    "hidden": true,
    "id": "g6S_oHNKsq2r"
   },
   "outputs": [],
   "source": [
    "# ## Creating the settings for the selector\n",
    "# selector = RFECV(estimator=lr, step=2, cv=3, scoring='neg_mean_squared_error', n_jobs=-1, verbose=1)"
   ]
  },
  {
   "cell_type": "code",
   "execution_count": null,
   "metadata": {
    "ExecuteTime": {
     "end_time": "2021-07-14T13:43:04.764359Z",
     "start_time": "2021-07-14T13:41:58.978Z"
    },
    "hidden": true,
    "id": "7Z3EjlQPsq2r",
    "outputId": "6f936a35-02a9-41cb-e783-ac00f513165e"
   },
   "outputs": [],
   "source": [
    "# ## Running it on our training data\n",
    "# selector.fit(X_train_ohe, y_train)"
   ]
  },
  {
   "cell_type": "code",
   "execution_count": null,
   "metadata": {
    "ExecuteTime": {
     "end_time": "2021-07-14T13:43:04.766357Z",
     "start_time": "2021-07-14T13:41:58.987Z"
    },
    "hidden": true,
    "id": "3PWeGts9sq2r"
   },
   "outputs": [],
   "source": [
    "# ## Dividing the data into two separate variables for inspection\n",
    "# selected_columns = X_train_ohe.columns[selector.get_support()]\n",
    "# removed_columns = X_train_ohe.columns[~selector.get_support()]"
   ]
  },
  {
   "cell_type": "code",
   "execution_count": null,
   "metadata": {
    "ExecuteTime": {
     "end_time": "2021-07-14T13:43:04.768358Z",
     "start_time": "2021-07-14T13:41:58.994Z"
    },
    "hidden": true,
    "id": "olE8MJqHsq2s",
    "outputId": "66c2f970-16f4-474f-f265-637d6386e328"
   },
   "outputs": [],
   "source": [
    "# ## Inspecting the columns with the greatest impact according to the RSECV method\n",
    "# list(selected_columns.values)"
   ]
  },
  {
   "cell_type": "code",
   "execution_count": null,
   "metadata": {
    "ExecuteTime": {
     "end_time": "2021-07-14T13:43:04.770358Z",
     "start_time": "2021-07-14T13:41:59.004Z"
    },
    "hidden": true,
    "id": "jKJQfUXtsq2s",
    "outputId": "33c67b46-0d77-40ea-80fb-c30837f80b43"
   },
   "outputs": [],
   "source": [
    "# ## Testing the new list of columns\n",
    "\n",
    "# ## Instantiating a new regression model\n",
    "# lr_rfe = LinearRegression()\n",
    "\n",
    "# ## Fitting the model to the new data\n",
    "# lr_rfe.fit(X_train_ohe[selected_columns], y_train)\n",
    "\n",
    "# # Using the model to create new predictions\n",
    "# y_rfe = lr_rfe.predict(X_train_ohe[selected_columns])\n",
    "\n",
    "# # Determining RMSE for new list of columns and TRAIN data\n",
    "# trainRFE_rmse = np.sqrt(metrics.mean_squared_error(y_train, y_rfe))\n",
    "\n",
    "# print(f'Training Root Mean Squared Error: {trainRFE_rmse:,.2f}')\n",
    "\n",
    "# # Determining RMSE for new list of columns and TEST data\n",
    "# y_pred_rfe = lr_rfe.predict(X_test_ohe[selected_columns])\n",
    "\n",
    "# testRFE_rmse = np.sqrt(metrics.mean_squared_error(y_test, y_pred_rfe))\n",
    "\n",
    "# print(f'Testing Root Mean Squared Error: {testRFE_rmse:,.2f}')\n",
    "\n",
    "# diff2 = trainRFE_rmse - testRFE_rmse\n",
    "# print()\n",
    "# print(f'The difference in RMSE between our training and test sets is {diff2:,.2f}.')"
   ]
  },
  {
   "cell_type": "code",
   "execution_count": null,
   "metadata": {
    "ExecuteTime": {
     "end_time": "2021-07-14T13:43:04.772357Z",
     "start_time": "2021-07-14T13:41:59.011Z"
    },
    "hidden": true,
    "id": "FeFZGzAOsq2s",
    "outputId": "745d755e-2470-4c64-f415-f34cc9be5daf"
   },
   "outputs": [],
   "source": [
    "# test_rsq = lr_rfe.score(X_test_ohe[selected_columns], y_test)\n",
    "# print(f'R-Square value for testing data after RFECV is {round(test_rsq,2)}.')"
   ]
  },
  {
   "cell_type": "markdown",
   "metadata": {
    "hidden": true,
    "id": "ZusOwnj-sq2t"
   },
   "source": [
    "---\n",
    "**Comparing RMSEs from original to RFECV:**\n",
    "\n",
    "* **Pre-RFECV model results:**\n",
    "   * The R^2 value for both training and testing data was .79 (significant as it is over the .70 threshold).\n",
    "   * *Our RMSE values for each set:*\n",
    "        * Train RMSE: 117,679.79\n",
    "        * Test RMSE: 122,263.56\n",
    "    * The difference in RMSE between our training and test sets is **-4,583.77**.\n",
    "\n",
    "\n",
    " * **Post-RFECV model results:**\n",
    "     * The R^2 value for the test data is .48 (.31 lower than other model, and far below threshold).\n",
    "     * *Our RMSE values for each set:*\n",
    "         * Training Root Mean Squared Error: 182,158.41\n",
    "         * Testing Root Mean Squared Error: 191,360.88\n",
    "     * The difference in RMSE between our training and test sets is **-9,202.47**.\n",
    "\n",
    "---\n",
    "\n",
    "**Final Analysis of RFE method:** The RFE results produced a large decrease in model perfomance as determined by the lower R^2 and lower RMSE values. I will continue with the first model for future predictions.\n",
    "\n",
    "---"
   ]
  },
  {
   "cell_type": "markdown",
   "metadata": {
    "heading_collapsed": true,
    "id": "wag43Q9Osq2t"
   },
   "source": [
    "# **Pickling the Model for Reuse**"
   ]
  },
  {
   "cell_type": "code",
   "execution_count": null,
   "metadata": {
    "ExecuteTime": {
     "end_time": "2021-07-14T13:43:04.773356Z",
     "start_time": "2021-07-14T13:41:59.027Z"
    },
    "hidden": true,
    "id": "4GN7b92Bsq2t"
   },
   "outputs": [],
   "source": [
    "# ## Setting coefficients and target\n",
    "# X = df[['was_renovated','waterfront', 'zipcode',\n",
    "#             'yrs_since_reno', 'bedrooms', 'bathrooms', 'condition','grade']].copy()\n",
    "# y = df['price'].copy()"
   ]
  },
  {
   "cell_type": "code",
   "execution_count": null,
   "metadata": {
    "ExecuteTime": {
     "end_time": "2021-07-14T13:43:04.775358Z",
     "start_time": "2021-07-14T13:41:59.037Z"
    },
    "hidden": true,
    "id": "aAaWB2p-sq2u"
   },
   "outputs": [],
   "source": [
    "# ## Create list of categorical variables\n",
    "# cat_feats = ['condition','grade', 'zipcode']\n",
    "\n",
    "# ## Create the OHE without \"drop='first\" as it would throw an error in this case\n",
    "# ohe = OneHotEncoder(handle_unknown = 'ignore', sparse=False)\n",
    "\n",
    "# ## Using OHE on our categorical variables for training (NOT testing)\n",
    "# final_ohe = ohe.fit_transform(X[cat_feats])"
   ]
  },
  {
   "cell_type": "code",
   "execution_count": null,
   "metadata": {
    "ExecuteTime": {
     "end_time": "2021-07-14T13:43:04.778358Z",
     "start_time": "2021-07-14T13:41:59.048Z"
    },
    "hidden": true,
    "id": "K4ZlDVedsq2u"
   },
   "outputs": [],
   "source": [
    "# ## Getting feature names from our list of categories\n",
    "# feat_col_name = ohe.get_feature_names(cat_feats)"
   ]
  },
  {
   "cell_type": "code",
   "execution_count": null,
   "metadata": {
    "ExecuteTime": {
     "end_time": "2021-07-14T13:43:04.780359Z",
     "start_time": "2021-07-14T13:41:59.056Z"
    },
    "hidden": true,
    "id": "N-PMoCc9sq2u"
   },
   "outputs": [],
   "source": [
    "# ## Creating DF of final results\n",
    "# penultimate_ohe_df = pd.DataFrame(final_ohe, columns=feat_col_name, index=X.index)"
   ]
  },
  {
   "cell_type": "code",
   "execution_count": null,
   "metadata": {
    "ExecuteTime": {
     "end_time": "2021-07-14T13:43:04.781356Z",
     "start_time": "2021-07-14T13:41:59.064Z"
    },
    "hidden": true,
    "id": "gbBUH7sesq2u"
   },
   "outputs": [],
   "source": [
    "# ## Updating final DF\n",
    "# final_ohe_df = pd.concat([X.drop(cat_feats, axis=1), penultimate_ohe_df], axis=1)"
   ]
  },
  {
   "cell_type": "code",
   "execution_count": null,
   "metadata": {
    "ExecuteTime": {
     "end_time": "2021-07-14T13:43:04.783357Z",
     "start_time": "2021-07-14T13:41:59.071Z"
    },
    "hidden": true,
    "id": "xeejWre2sq2u"
   },
   "outputs": [],
   "source": [
    "# ## Instantiating and fitting the regression\n",
    "# lr_final = LinearRegression()\n",
    "\n",
    "# lr_final = lr_final.fit(final_ohe_df, y)"
   ]
  },
  {
   "cell_type": "code",
   "execution_count": null,
   "metadata": {
    "ExecuteTime": {
     "end_time": "2021-07-14T13:43:04.785358Z",
     "start_time": "2021-07-14T13:41:59.080Z"
    },
    "hidden": true,
    "id": "oI59t6jLsq2u"
   },
   "outputs": [],
   "source": [
    "# # Generating predictions\n",
    "# final_pred = lr_final.predict(final_ohe_df)"
   ]
  },
  {
   "cell_type": "code",
   "execution_count": null,
   "metadata": {
    "ExecuteTime": {
     "end_time": "2021-07-14T13:43:04.787358Z",
     "start_time": "2021-07-14T13:41:59.088Z"
    },
    "hidden": true,
    "id": "S0i9fViVsq2v",
    "outputId": "62cdf02d-fcfe-4d89-f573-6fc99ebcae01"
   },
   "outputs": [],
   "source": [
    "# ## Confirming predictions work\n",
    "# display(final_pred)"
   ]
  },
  {
   "cell_type": "code",
   "execution_count": null,
   "metadata": {
    "ExecuteTime": {
     "end_time": "2021-07-14T13:43:04.790362Z",
     "start_time": "2021-07-14T13:41:59.096Z"
    },
    "hidden": true,
    "id": "BLGZNG78sq2v"
   },
   "outputs": [],
   "source": [
    "# # Saving model to .pickle file\n",
    "# import pickle\n",
    "\n",
    "# pickle_out = open(\"final_model.pickle\",\"wb\")\n",
    "# pickle.dump(lr_final, pickle_out)\n",
    "# pickle_out.close()"
   ]
  }
 ],
 "metadata": {
  "colab": {
   "collapsed_sections": [],
   "name": "P2Pv2_wb.ipynb",
   "provenance": [],
   "toc_visible": true
  },
  "kernelspec": {
   "display_name": "Python (learn-env-bmc)",
   "language": "python",
   "name": "learn-env-bmc"
  },
  "language_info": {
   "codemirror_mode": {
    "name": "ipython",
    "version": 3
   },
   "file_extension": ".py",
   "mimetype": "text/x-python",
   "name": "python",
   "nbconvert_exporter": "python",
   "pygments_lexer": "ipython3",
   "version": "3.8.5"
  },
  "toc": {
   "base_numbering": 1,
   "nav_menu": {},
   "number_sections": true,
   "sideBar": true,
   "skip_h1_title": false,
   "title_cell": "Table of Contents",
   "title_sidebar": "Contents",
   "toc_cell": false,
   "toc_position": {
    "height": "757px",
    "left": "35px",
    "top": "110px",
    "width": "257.884px"
   },
   "toc_section_display": true,
   "toc_window_display": true
  }
 },
 "nbformat": 4,
 "nbformat_minor": 1
}
